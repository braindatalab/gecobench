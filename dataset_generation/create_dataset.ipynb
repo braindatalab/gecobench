{
 "cells": [
  {
   "cell_type": "code",
   "execution_count": 1,
   "id": "9f7df40d",
   "metadata": {
    "id": "9f7df40d"
   },
   "outputs": [],
   "source": [
    "import pandas as pd\n",
    "import numpy as np\n",
    "import random\n",
    "import pickle\n",
    "import os\n",
    "\n",
    "SEED = 1234\n",
    "random.seed(SEED)\n",
    "np.random.seed(SEED)\n",
    "\n",
    "DATA_PATH = \"./data\""
   ]
  },
  {
   "cell_type": "code",
   "execution_count": 2,
   "id": "1fd4fdc8",
   "metadata": {
    "id": "1fd4fdc8"
   },
   "outputs": [
    {
     "name": "stderr",
     "output_type": "stream",
     "text": [
      "/home/hjall/anaconda3/lib/python3.11/site-packages/openpyxl/worksheet/_read_only.py:79: UserWarning: Unknown extension is not supported and will be removed\n",
      "  for idx, row in parser.parse():\n"
     ]
    }
   ],
   "source": [
    "# Start from the labeled phrases\n",
    "df_original = pd.read_excel(os.path.join(DATA_PATH, \"all_phrases.xlsx\"), index_col=None, header=None)"
   ]
  },
  {
   "cell_type": "code",
   "execution_count": 3,
   "id": "194cd17f",
   "metadata": {
    "colab": {
     "base_uri": "https://localhost:8080/"
    },
    "id": "194cd17f",
    "outputId": "1f3a4c90-1305-4a6c-a4c6-c50f5b9d5b99"
   },
   "outputs": [],
   "source": [
    "df = df_original.copy()\n",
    "df = df[df[0].isna()]  # here I deleted all the phrases that should be checked\n",
    "\n",
    "original_phrases = (\n",
    "    df[df[2] == \"Original\"]\n",
    "    .drop([0, 1, 2], axis=1)\n",
    "    .reset_index()\n",
    "    .drop([\"index\"], axis=1)\n",
    ")\n",
    "\n",
    "# ground_truths\n",
    "all_female_phrases_gt = (\n",
    "    df[df[2] == \"All Female\"]\n",
    "    .drop([0, 1, 2], axis=1)\n",
    "    .reset_index()\n",
    "    .drop([\"index\"], axis=1)\n",
    ")\n",
    "\n",
    "all_male_phrases_gt = (\n",
    "    df[df[2] == \"All Male\"]\n",
    "    .drop([0, 1, 2], axis=1)\n",
    "    .reset_index()\n",
    "    .drop([\"index\"], axis=1)\n",
    ")\n",
    "\n",
    "female_sub_phrases_gt = (\n",
    "    df[df[2] == \"Subject Female\"]\n",
    "    .drop([0, 1, 2], axis=1)\n",
    "    .reset_index()\n",
    "    .drop([\"index\"], axis=1)\n",
    ")\n",
    "\n",
    "male_sub_phrases_gt = (\n",
    "    df[df[2] == \"Subject Male\"]\n",
    "    .drop([0, 1, 2], axis=1)\n",
    "    .reset_index()\n",
    "    .drop([\"index\"], axis=1)\n",
    ")"
   ]
  },
  {
   "cell_type": "markdown",
   "id": "r0ZXW2jJwVBp",
   "metadata": {
    "id": "r0ZXW2jJwVBp"
   },
   "source": [
    "# ===================\n"
   ]
  },
  {
   "cell_type": "code",
   "execution_count": 4,
   "id": "7fa1e870",
   "metadata": {
    "id": "7fa1e870"
   },
   "outputs": [],
   "source": [
    "def change_words(original_phrase, ground_truth):\n",
    "    \"\"\"\n",
    "    Replaces the words in the original phrase with the words in the ground truth\n",
    "    \"\"\"\n",
    "\n",
    "    new_phrase = original_phrase.copy()\n",
    "    for j in list(ground_truth.index):\n",
    "        if not pd.isna(ground_truth.loc[j]):\n",
    "            new_phrase.loc[j] = ground_truth.loc[j]\n",
    "\n",
    "    return list(new_phrase)"
   ]
  },
  {
   "cell_type": "code",
   "execution_count": 5,
   "id": "85372cea",
   "metadata": {
    "id": "85372cea"
   },
   "outputs": [],
   "source": [
    "all_fem = []\n",
    "all_male = []\n",
    "subj_fem = []\n",
    "subj_male = []\n",
    "for idx in list(original_phrases.index):\n",
    "    all_fem_phrase = change_words(\n",
    "        original_phrases.loc[idx], all_female_phrases_gt.loc[idx]\n",
    "    )\n",
    "    all_fem.append(all_fem_phrase)\n",
    "\n",
    "    all_male_phrase = change_words(\n",
    "        original_phrases.loc[idx], all_male_phrases_gt.loc[idx]\n",
    "    )\n",
    "    all_male.append(all_male_phrase)\n",
    "\n",
    "    subj_fem_phrase = change_words(\n",
    "        original_phrases.loc[idx], female_sub_phrases_gt.loc[idx]\n",
    "    )\n",
    "    subj_fem.append(subj_fem_phrase)\n",
    "\n",
    "    subj_male_phrase = change_words(\n",
    "        original_phrases.loc[idx], male_sub_phrases_gt.loc[idx]\n",
    "    )\n",
    "    subj_male.append(subj_male_phrase)\n",
    "\n",
    "all_fem = pd.DataFrame(all_fem)\n",
    "all_male = pd.DataFrame(all_male)\n",
    "subj_fem = pd.DataFrame(subj_fem)\n",
    "subj_male = pd.DataFrame(subj_male)"
   ]
  },
  {
   "cell_type": "code",
   "execution_count": 6,
   "metadata": {},
   "outputs": [
    {
     "data": {
      "text/html": [
       "<div>\n",
       "<style scoped>\n",
       "    .dataframe tbody tr th:only-of-type {\n",
       "        vertical-align: middle;\n",
       "    }\n",
       "\n",
       "    .dataframe tbody tr th {\n",
       "        vertical-align: top;\n",
       "    }\n",
       "\n",
       "    .dataframe thead th {\n",
       "        text-align: right;\n",
       "    }\n",
       "</style>\n",
       "<table border=\"1\" class=\"dataframe\">\n",
       "  <thead>\n",
       "    <tr style=\"text-align: right;\">\n",
       "      <th></th>\n",
       "      <th>0</th>\n",
       "      <th>1</th>\n",
       "      <th>2</th>\n",
       "      <th>3</th>\n",
       "      <th>4</th>\n",
       "      <th>5</th>\n",
       "      <th>6</th>\n",
       "      <th>7</th>\n",
       "      <th>8</th>\n",
       "      <th>9</th>\n",
       "      <th>...</th>\n",
       "      <th>19</th>\n",
       "      <th>20</th>\n",
       "      <th>21</th>\n",
       "      <th>22</th>\n",
       "      <th>23</th>\n",
       "      <th>24</th>\n",
       "      <th>25</th>\n",
       "      <th>26</th>\n",
       "      <th>27</th>\n",
       "      <th>28</th>\n",
       "    </tr>\n",
       "  </thead>\n",
       "  <tbody>\n",
       "    <tr>\n",
       "      <th>Original Phrase</th>\n",
       "      <td>Shortly</td>\n",
       "      <td>afterwards</td>\n",
       "      <td>,</td>\n",
       "      <td>he</td>\n",
       "      <td>visits</td>\n",
       "      <td>Netherfield</td>\n",
       "      <td>,</td>\n",
       "      <td>Mr.</td>\n",
       "      <td>Bingley</td>\n",
       "      <td>'s</td>\n",
       "      <td>...</td>\n",
       "      <td>.</td>\n",
       "      <td>NaN</td>\n",
       "      <td>NaN</td>\n",
       "      <td>NaN</td>\n",
       "      <td>NaN</td>\n",
       "      <td>NaN</td>\n",
       "      <td>NaN</td>\n",
       "      <td>NaN</td>\n",
       "      <td>NaN</td>\n",
       "      <td>NaN</td>\n",
       "    </tr>\n",
       "    <tr>\n",
       "      <th>+ Female All Ground Truth</th>\n",
       "      <td>NaN</td>\n",
       "      <td>NaN</td>\n",
       "      <td>NaN</td>\n",
       "      <td>she</td>\n",
       "      <td>NaN</td>\n",
       "      <td>NaN</td>\n",
       "      <td>NaN</td>\n",
       "      <td>Mrs.</td>\n",
       "      <td>surname_1</td>\n",
       "      <td>NaN</td>\n",
       "      <td>...</td>\n",
       "      <td>NaN</td>\n",
       "      <td>NaN</td>\n",
       "      <td>NaN</td>\n",
       "      <td>NaN</td>\n",
       "      <td>NaN</td>\n",
       "      <td>NaN</td>\n",
       "      <td>NaN</td>\n",
       "      <td>NaN</td>\n",
       "      <td>NaN</td>\n",
       "      <td>NaN</td>\n",
       "    </tr>\n",
       "    <tr>\n",
       "      <th>= Female Phrase</th>\n",
       "      <td>Shortly</td>\n",
       "      <td>afterwards</td>\n",
       "      <td>,</td>\n",
       "      <td>she</td>\n",
       "      <td>visits</td>\n",
       "      <td>Netherfield</td>\n",
       "      <td>,</td>\n",
       "      <td>Mrs.</td>\n",
       "      <td>surname_1</td>\n",
       "      <td>'s</td>\n",
       "      <td>...</td>\n",
       "      <td>.</td>\n",
       "      <td>NaN</td>\n",
       "      <td>NaN</td>\n",
       "      <td>NaN</td>\n",
       "      <td>NaN</td>\n",
       "      <td>NaN</td>\n",
       "      <td>NaN</td>\n",
       "      <td>NaN</td>\n",
       "      <td>NaN</td>\n",
       "      <td>NaN</td>\n",
       "    </tr>\n",
       "  </tbody>\n",
       "</table>\n",
       "<p>3 rows × 29 columns</p>\n",
       "</div>"
      ],
      "text/plain": [
       "                                0           1    2    3       4            5   \\\n",
       "Original Phrase            Shortly  afterwards    ,   he  visits  Netherfield   \n",
       "+ Female All Ground Truth      NaN         NaN  NaN  she     NaN          NaN   \n",
       "= Female Phrase            Shortly  afterwards    ,  she  visits  Netherfield   \n",
       "\n",
       "                            6     7          8    9   ...   19  20  21  22  \\\n",
       "Original Phrase              ,   Mr.    Bingley   's  ...    . NaN NaN NaN   \n",
       "+ Female All Ground Truth  NaN  Mrs.  surname_1  NaN  ...  NaN NaN NaN NaN   \n",
       "= Female Phrase              ,  Mrs.  surname_1   's  ...    . NaN NaN NaN   \n",
       "\n",
       "                           23  24  25  26  27  28  \n",
       "Original Phrase           NaN NaN NaN NaN NaN NaN  \n",
       "+ Female All Ground Truth NaN NaN NaN NaN NaN NaN  \n",
       "= Female Phrase           NaN NaN NaN NaN NaN NaN  \n",
       "\n",
       "[3 rows x 29 columns]"
      ]
     },
     "execution_count": 6,
     "metadata": {},
     "output_type": "execute_result"
    }
   ],
   "source": [
    "# Example how the phrases look like\n",
    "\n",
    "example_df = pd.DataFrame(\n",
    "    [\n",
    "        list(original_phrases.loc[0]),\n",
    "        list(all_female_phrases_gt.loc[0]),\n",
    "        list(all_fem.loc[0]),\n",
    "    ],\n",
    "    index=[\"Original Phrase\", \"+ Female All Ground Truth\", \"= Female Phrase\"],\n",
    ")\n",
    "\n",
    "example_df"
   ]
  },
  {
   "cell_type": "markdown",
   "id": "ac7fbb53",
   "metadata": {
    "id": "ac7fbb53"
   },
   "source": [
    "## Changes to the names and surnames\n",
    "+ for the surnames I deleted the ones that had \"'\" such as O'brain (that's why there are only 248 surnames and not 250)\n",
    "+ for both I deleted the (sur)names that ended in \"s\""
   ]
  },
  {
   "cell_type": "code",
   "execution_count": 9,
   "id": "b4b40206",
   "metadata": {
    "colab": {
     "base_uri": "https://localhost:8080/"
    },
    "id": "b4b40206",
    "outputId": "0dfe9b46-28ef-4475-b252-d75e577682b1"
   },
   "outputs": [
    {
     "name": "stdout",
     "output_type": "stream",
     "text": [
      "(250, 1) (250, 1) (248, 1)\n"
     ]
    }
   ],
   "source": [
    "female_names = pd.read_csv(os.path.join(DATA_PATH, 'Top250Female1996-2019.txt'), lineterminator=\"\\n\", header=None)\n",
    "male_names = pd.read_csv(os.path.join(DATA_PATH, 'Top250Male1996-2019.txt'), lineterminator=\"\\n\", header=None)\n",
    "surnames = pd.read_csv(os.path.join(DATA_PATH, 'Top250Surnames1991-2000.txt'), lineterminator=\"\\n\", header=None) \n",
    "\n",
    "print(female_names.shape,male_names.shape,surnames.shape)"
   ]
  },
  {
   "cell_type": "code",
   "execution_count": 10,
   "id": "1bfddab1",
   "metadata": {
    "colab": {
     "base_uri": "https://localhost:8080/"
    },
    "id": "1bfddab1",
    "outputId": "bdbe1cf4-fb0b-405d-aa04-aeeddef2e33e"
   },
   "outputs": [
    {
     "name": "stdout",
     "output_type": "stream",
     "text": [
      "245 231 193\n"
     ]
    }
   ],
   "source": [
    "female_names = pd.DataFrame([name for name in list(female_names[0]) if name[-1] != \"s\"])\n",
    "male_names = pd.DataFrame([name for name in list(male_names[0]) if name[-1] != \"s\"])\n",
    "surnames = pd.DataFrame(\n",
    "    [name for name in list(surnames[0]) if (name[-1] != \"s\" or name.find(\"'\") != -1)]\n",
    ")\n",
    "\n",
    "female_names = list(name[0] for name in female_names.values)\n",
    "male_names = list(name[0] for name in male_names.values)\n",
    "surnames = list(name[0] for name in surnames.values)\n",
    "\n",
    "print(len(female_names), len(male_names), len(surnames))"
   ]
  },
  {
   "cell_type": "code",
   "execution_count": 11,
   "id": "76960d18",
   "metadata": {
    "id": "76960d18"
   },
   "outputs": [],
   "source": [
    "def change_names(phrase):\n",
    "    \"\"\"\n",
    "    Replace \"name_male_1\", \"name_female_1\" and \"surname_1\" / \"surname_1_pl\" with random names from the lists.\n",
    "\n",
    "    The number determines the index of the name in the list and \"surname_1_pl\" is the plural form of the surname.\n",
    "    \"\"\"\n",
    "    p = phrase.copy()\n",
    "\n",
    "    for word_idx in list(p.index):\n",
    "        if str(p.loc[word_idx]).startswith(\"name_male\"):\n",
    "            # Replace male name\n",
    "            idx = int(p.loc[word_idx][-1]) - 1\n",
    "            p.loc[word_idx] = male_names[idx]\n",
    "        elif str(p.loc[word_idx]).startswith(\"name_female\"):\n",
    "            # Replace female name\n",
    "            idx = int(p.loc[word_idx][-1]) - 1\n",
    "            p.loc[word_idx] = female_names[idx]\n",
    "        elif str(p.loc[word_idx]).startswith(\"surname\"):\n",
    "            if p.loc[word_idx][-2:] == \"pl\":\n",
    "                # Replace plural surname\n",
    "                idx = int(p.loc[word_idx][-4]) - 1\n",
    "                p.loc[word_idx] = surnames[idx] + \"s\"\n",
    "            else:\n",
    "                # Replace singular surname\n",
    "                idx = int(p.loc[word_idx][-1]) - 1\n",
    "                p.loc[word_idx] = surnames[idx]\n",
    "    return p"
   ]
  },
  {
   "cell_type": "code",
   "execution_count": 12,
   "id": "c3f675fa",
   "metadata": {
    "id": "c3f675fa"
   },
   "outputs": [],
   "source": [
    "final_all_fem = []\n",
    "final_all_male = []\n",
    "final_subj_fem = []\n",
    "final_subj_male = []\n",
    "for idx in all_fem.index:\n",
    "    random.shuffle(female_names)\n",
    "    random.shuffle(male_names)\n",
    "    random.shuffle(surnames)\n",
    "\n",
    "    phrase1 = change_names(all_fem.iloc[idx])\n",
    "    final_all_fem.append(phrase1)\n",
    "\n",
    "    phrase2 = change_names(all_male.iloc[idx])\n",
    "    final_all_male.append(phrase2)\n",
    "\n",
    "    phrase3 = change_names(subj_fem.iloc[idx])\n",
    "    final_subj_fem.append(phrase3)\n",
    "\n",
    "    phrase4 = change_names(subj_male.iloc[idx])\n",
    "    final_subj_male.append(phrase4)"
   ]
  },
  {
   "cell_type": "code",
   "execution_count": 13,
   "id": "3c2d35ca",
   "metadata": {
    "id": "3c2d35ca"
   },
   "outputs": [],
   "source": [
    "final_all_fem = pd.DataFrame(final_all_fem)\n",
    "final_all_male = pd.DataFrame(final_all_male)\n",
    "final_subj_fem = pd.DataFrame(final_subj_fem)\n",
    "final_subj_male = pd.DataFrame(final_subj_male)"
   ]
  },
  {
   "cell_type": "code",
   "execution_count": 14,
   "id": "4efa9f5c",
   "metadata": {
    "id": "4efa9f5c"
   },
   "outputs": [],
   "source": [
    "def create_train_val_datasets(final_male, final_female):\n",
    "    SEED = 1234\n",
    "    random.seed(SEED)\n",
    "    frac = 0.8\n",
    "\n",
    "    # creating training and validation indexes\n",
    "    indexes = list(final_male.index)\n",
    "    train_idx = random.sample(indexes, k=int(len(indexes) * frac))\n",
    "    val_idx = [i for i in list(range(len(final_male))) if i not in train_idx]\n",
    "\n",
    "    # trianing dataset\n",
    "    # selects the lines for the training dataset\n",
    "    # these are two datasets that will then be used to choose between female and male after\n",
    "    df_training_male = final_male.iloc[train_idx]\n",
    "    df_training_female = final_female.iloc[train_idx]\n",
    "\n",
    "    # creating training dataset\n",
    "    indexes_male = random.sample(\n",
    "        list(df_training_male.index), k=int(len(list(df_training_male.index)) / 2)\n",
    "    )\n",
    "    indexes_female = [i for i in train_idx if i not in indexes_male]\n",
    "\n",
    "    # selects the lines that are female or male from the training datasets\n",
    "    df_male = df_training_male.loc[indexes_male]\n",
    "    df_female = df_training_female.loc[indexes_female]\n",
    "\n",
    "    df_male.insert(0, \"target\", 1)\n",
    "    df_female.insert(0, \"target\", 0)\n",
    "\n",
    "    # concatenate dataframes to create dataset\n",
    "    training_df = pd.concat([df_male, df_female]).sort_index()\n",
    "\n",
    "    # validation dataset\n",
    "    # selects the lines for the validation dataset\n",
    "    df_validation_male = final_male.iloc[val_idx]\n",
    "    df_validation_female = final_female.iloc[val_idx]\n",
    "\n",
    "    df_validation_male.insert(0, \"target\", np.ones(len(df_validation_male)))\n",
    "    df_validation_female.insert(0, \"target\", np.zeros(len(df_validation_female)))\n",
    "\n",
    "    return training_df, df_validation_male, df_validation_female, val_idx, train_idx"
   ]
  },
  {
   "cell_type": "code",
   "execution_count": 15,
   "id": "a4c7d55d",
   "metadata": {
    "id": "a4c7d55d"
   },
   "outputs": [],
   "source": [
    "(\n",
    "    training_df_all,\n",
    "    df_validation_male_all,\n",
    "    df_validation_female_all,\n",
    "    val_idx_all,\n",
    "    train_idx_all,\n",
    ") = create_train_val_datasets(final_all_male, final_all_fem)\n",
    "\n",
    "(\n",
    "    training_df_subj,\n",
    "    df_validation_male_subj,\n",
    "    df_validation_female_subj,\n",
    "    val_idx_subj,\n",
    "    train_idx_subj,\n",
    ") = create_train_val_datasets(final_subj_male, final_subj_fem)"
   ]
  },
  {
   "cell_type": "code",
   "execution_count": 16,
   "id": "9e875f38",
   "metadata": {
    "id": "9e875f38"
   },
   "outputs": [],
   "source": [
    "files = {\n",
    "    \"training_df_all.pkl\": training_df_all,\n",
    "    \"df_validation_male_all.pkl\": df_validation_male_all,\n",
    "    \"df_validation_female_all.pkl\": df_validation_female_all,\n",
    "    \"training_df_subj.pkl\": training_df_subj,\n",
    "    \"df_validation_male_subj.pkl\": df_validation_male_subj,\n",
    "    \"df_validation_female_subj.pkl\": df_validation_female_subj\n",
    "}\n",
    "\n",
    "for filename, df in files.items():\n",
    "    with open(os.path.join(DATA_PATH, filename), \"wb\") as f:\n",
    "        pickle.dump(df, f)"
   ]
  },
  {
   "cell_type": "code",
   "execution_count": 17,
   "metadata": {},
   "outputs": [],
   "source": [
    "def create_gt(original_phrases, female_gt, male_gt):\n",
    "    gt_out = pd.DataFrame(np.zeros(female_sub_phrases_gt.shape))\n",
    "\n",
    "    for i in range(len(original_phrases)):\n",
    "        phrase_f = female_gt.iloc[i]\n",
    "        phrase_m = male_gt.iloc[i]\n",
    "\n",
    "        for word_idx in range(len(phrase_f)):\n",
    "            word_idx += 3\n",
    "            if str(phrase_f[word_idx]) != str(phrase_m[word_idx]):\n",
    "                gt_out.iloc[i][word_idx] = 1\n",
    "    \n",
    "    return gt_out\n",
    "\n",
    "\n",
    "# Ground truth for change type \"all\"\n",
    "gt_all = create_gt(original_phrases, all_female_phrases_gt, all_male_phrases_gt)\n",
    "gt_all_val = gt_all.loc[val_idx_all]\n",
    "gt_all_train = gt_all.loc[train_idx_all]\n",
    "\n",
    "\n",
    "# Ground truth for change type \"subj\"\n",
    "gt_subj = create_gt(original_phrases, female_sub_phrases_gt, male_sub_phrases_gt)\n",
    "gt_subj_val = gt_subj.loc[val_idx_subj]\n",
    "gt_subj_train = gt_subj.loc[train_idx_subj]"
   ]
  },
  {
   "cell_type": "code",
   "execution_count": 18,
   "id": "afAqTBtDFtKc",
   "metadata": {
    "id": "afAqTBtDFtKc"
   },
   "outputs": [],
   "source": [
    "gt_files = {\n",
    "    \"gt_subj_val.pkl\": gt_subj_val,\n",
    "    \"gt_subj_train.pkl\": gt_subj_train,\n",
    "    \"gt_all_val.pkl\": gt_all_val,\n",
    "    \"gt_all_train.pkl\": gt_all_train\n",
    "}\n",
    "\n",
    "for filename, df in gt_files.items():\n",
    "    with open(os.path.join(DATA_PATH, filename), \"wb\") as f:\n",
    "        pickle.dump(df, f)"
   ]
  }
 ],
 "metadata": {
  "colab": {
   "provenance": []
  },
  "kernelspec": {
   "display_name": "Python 3 (ipykernel)",
   "language": "python",
   "name": "python3"
  },
  "language_info": {
   "codemirror_mode": {
    "name": "ipython",
    "version": 3
   },
   "file_extension": ".py",
   "mimetype": "text/x-python",
   "name": "python",
   "nbconvert_exporter": "python",
   "pygments_lexer": "ipython3",
   "version": "3.11.3"
  }
 },
 "nbformat": 4,
 "nbformat_minor": 5
}

{
 "cells": [
  {
   "cell_type": "code",
   "execution_count": 2,
   "metadata": {},
   "outputs": [],
   "source": [
    "%load_ext autoreload\n",
    "%autoreload 2"
   ]
  },
  {
   "cell_type": "code",
   "execution_count": 3,
   "metadata": {},
   "outputs": [],
   "source": [
    "import sys\n",
    "sys.path.append('..')"
   ]
  },
  {
   "cell_type": "code",
   "execution_count": 4,
   "metadata": {},
   "outputs": [],
   "source": [
    "import pickle\n",
    "path = \"../artifacts/xai-nlp-benchmark-2024-04-23-21-20-02/evaluation_gender_no_sub_samp/evaluation_records.pkl\"\n",
    "with open(path, \"rb\") as f:\n",
    "    data = pickle.load(f)"
   ]
  },
  {
   "cell_type": "code",
   "execution_count": 7,
   "metadata": {},
   "outputs": [
    {
     "name": "stdout",
     "output_type": "stream",
     "text": [
      "Model name: bert_only_classification\n",
      "99.2 $\\pm$ 0.2 & 89.7 $\\pm$ 0.8\n",
      "Model name: bert_randomly_init_embedding_classification\n",
      "98.7 $\\pm$ 0.9 & 86.3 $\\pm$ 1.3\n",
      "Model name: bert_only_embedding_classification\n",
      "98.0 $\\pm$ 1.0 & 86.6 $\\pm$ 3.3\n",
      "Model name: bert_all\n",
      "99.4 $\\pm$ 0.3 & 98.1 $\\pm$ 0.3\n",
      "Model name: one_layer_attention_classification\n",
      "95.7 $\\pm$ 2.7 & 77.7 $\\pm$ 0.4\n"
     ]
    }
   ],
   "source": [
    "import pandas as pd\n",
    "import numpy as np\n",
    "df = pd.DataFrame(data.model_results)\n",
    "\n",
    "df = df[df[\"model_version\"] == \"best\"]\n",
    "\n",
    "model_names = [\n",
    "    'bert_only_classification',\n",
    "    'bert_randomly_init_embedding_classification',\n",
    "    'bert_only_embedding_classification',\n",
    "    'bert_all',\n",
    "    'one_layer_attention_classification',\n",
    "]\n",
    "\n",
    "for model_name in model_names:\n",
    "    group = df[df[\"model_name\"] == model_name]\n",
    "\n",
    "    df_all = group[group[\"dataset_type\"] == \"gender_all\"][\"accuracy\"]\n",
    "    df_subj = group[group[\"dataset_type\"] == \"gender_subj\"][\"accuracy\"]\n",
    "    mean_ = lambda x: np.round(x.mean() * 100, 1)\n",
    "    std_ = lambda x: np.round(x.std() * 100, 1)\n",
    "\n",
    "    num_decimals = 2\n",
    "    print(f\"Model name: {model_name}\")\n",
    "    print(f\"{mean_(df_all)} $\\pm$ {std_(df_all)} & {mean_(df_subj)} $\\pm$ {std_(df_subj)}\")"
   ]
  }
 ],
 "metadata": {
  "kernelspec": {
   "display_name": ".venv",
   "language": "python",
   "name": "python3"
  },
  "language_info": {
   "codemirror_mode": {
    "name": "ipython",
    "version": 3
   },
   "file_extension": ".py",
   "mimetype": "text/x-python",
   "name": "python",
   "nbconvert_exporter": "python",
   "pygments_lexer": "ipython3",
   "version": "3.11.5"
  }
 },
 "nbformat": 4,
 "nbformat_minor": 2
}

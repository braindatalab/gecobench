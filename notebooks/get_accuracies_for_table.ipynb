{
 "cells": [
  {
   "cell_type": "code",
   "execution_count": 34,
   "metadata": {
    "ExecuteTime": {
     "end_time": "2024-12-03T10:32:58.823537Z",
     "start_time": "2024-12-03T10:32:58.812468Z"
    }
   },
   "outputs": [
    {
     "name": "stdout",
     "output_type": "stream",
     "text": [
      "The autoreload extension is already loaded. To reload it, use:\n",
      "  %reload_ext autoreload\n"
     ]
    }
   ],
   "source": [
    "%load_ext autoreload\n",
    "%autoreload 2"
   ]
  },
  {
   "cell_type": "code",
   "execution_count": 35,
   "metadata": {
    "ExecuteTime": {
     "end_time": "2024-12-03T10:33:01.627492Z",
     "start_time": "2024-12-03T10:33:01.615727Z"
    },
    "tags": []
   },
   "outputs": [],
   "source": [
    "import sys\n",
    "sys.path.append('..')"
   ]
  },
  {
   "cell_type": "code",
   "execution_count": 36,
   "metadata": {
    "ExecuteTime": {
     "end_time": "2024-12-03T10:33:03.201942Z",
     "start_time": "2024-12-03T10:33:03.171192Z"
    },
    "tags": []
   },
   "outputs": [],
   "source": [
    "import pickle\n",
    "path = \"../artifacts/xai-nlp-benchmark-2024-11-21-11-13-39/evaluation_gender/evaluation_records.pkl\"\n",
    "with open(path, \"rb\") as f:\n",
    "    data = pickle.load(f)"
   ]
  },
  {
   "cell_type": "code",
   "execution_count": 39,
   "metadata": {
    "tags": []
   },
   "outputs": [
    {
     "name": "stdout",
     "output_type": "stream",
     "text": [
      "Model name: bert_only_classification\n",
      "99.4 $\\pm$ 0.1 & 90.1 $\\pm$ 1.0\n",
      "Model name: bert_randomly_init_embedding_classification\n",
      "99.8 $\\pm$ 0.1 & 97.6 $\\pm$ 0.4\n",
      "Model name: bert_only_embedding_classification\n",
      "99.8 $\\pm$ 0.0 & 98.3 $\\pm$ 0.4\n",
      "Model name: bert_all\n",
      "99.8 $\\pm$ 0.1 & 98.9 $\\pm$ 0.2\n",
      "Model name: bert_zero_shot\n",
      "84.8 $\\pm$ 0.0 & 73.8 $\\pm$ 0.0\n",
      "Model name: one_layer_attention_classification\n",
      "99.5 $\\pm$ 0.1 & 92.9 $\\pm$ 1.1\n"
     ]
    }
   ],
   "source": [
    "import pandas as pd\n",
    "import numpy as np\n",
    "df = pd.DataFrame(data.model_results)\n",
    "\n",
    "df = df[df[\"model_version\"] == \"best\"]\n",
    "\n",
    "model_names = [\n",
    "    'bert_only_classification',\n",
    "    'bert_randomly_init_embedding_classification',\n",
    "    'bert_only_embedding_classification',\n",
    "    'bert_all',\n",
    "    'bert_zero_shot',\n",
    "    'one_layer_attention_classification',\n",
    "]\n",
    "\n",
    "for model_name in model_names:\n",
    "    group = df[df[\"model_name\"] == model_name]\n",
    "\n",
    "    df_all = group[group[\"dataset_type\"] == \"binary_gender_all\"][\"accuracy\"]\n",
    "    df_subj = group[group[\"dataset_type\"] == \"binary_gender_subj\"][\"accuracy\"]\n",
    "    mean_ = lambda x: np.round(x.mean() * 100, 1)\n",
    "    std_ = lambda x: np.round(x.std() * 100, 1)\n",
    "\n",
    "    num_decimals = 2\n",
    "    print(f\"Model name: {model_name}\")\n",
    "    print(f\"{mean_(df_all)} $\\pm$ {std_(df_all)} & {mean_(df_subj)} $\\pm$ {std_(df_subj)}\")"
   ]
  }
 ],
 "metadata": {
  "kernelspec": {
   "display_name": "Python 3 (ipykernel)",
   "language": "python",
   "name": "python3"
  },
  "language_info": {
   "codemirror_mode": {
    "name": "ipython",
    "version": 3
   },
   "file_extension": ".py",
   "mimetype": "text/x-python",
   "name": "python",
   "nbconvert_exporter": "python",
   "pygments_lexer": "ipython3",
   "version": "3.10.14"
  }
 },
 "nbformat": 4,
 "nbformat_minor": 4
}

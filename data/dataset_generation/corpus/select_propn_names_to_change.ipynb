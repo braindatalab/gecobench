{
 "cells": [
  {
   "cell_type": "code",
   "execution_count": 1,
   "metadata": {},
   "outputs": [],
   "source": [
    "import os\n",
    "import pickle\n",
    "\n",
    "DATA_PATH = \"../data/corpus_data\"\n",
    "os.makedirs(DATA_PATH, exist_ok=True)\n",
    "\n",
    "with open(os.path.join(DATA_PATH, 'nouns_keep.pkl'), 'rb') as f:\n",
    "    nouns_keep = pickle.load(f)\n",
    "\n",
    "with open(os.path.join(DATA_PATH, 'PROPN_keep.pkl'), 'rb') as f:\n",
    "    PROPN_keep=pickle.load(f)\n",
    "\n",
    "with open(os.path.join(DATA_PATH, 'pronouns_keep.pkl'), 'rb') as f:\n",
    "    pronouns_keep=pickle.load(f)"
   ]
  },
  {
   "cell_type": "code",
   "execution_count": 2,
   "metadata": {},
   "outputs": [],
   "source": [
    "def get_propn(doc):\n",
    "    #doc is a spacy doc sentence \n",
    "    propns=[]\n",
    "    propns_text=[]\n",
    "    for token in doc:\n",
    "        if token.pos_=='PROPN':\n",
    "            propns.append(token)\n",
    "            propns_text.append(token.text)\n",
    "    return [propns,propns_text]"
   ]
  },
  {
   "cell_type": "markdown",
   "metadata": {},
   "source": [
    "Adding all the proper nouns of the three sentence lists to a list."
   ]
  },
  {
   "cell_type": "code",
   "execution_count": 3,
   "metadata": {},
   "outputs": [
    {
     "data": {
      "text/plain": [
       "[[[], []],\n",
       " [[Alice], ['Alice']],\n",
       " [[Jazz, Age], ['Jazz', 'Age']],\n",
       " [[Gatsby, Henry, Gatz], ['Gatsby', 'Henry', 'Gatz']],\n",
       " [[London, Dover], ['London', 'Dover']],\n",
       " [[], []],\n",
       " [[Nora], ['Nora']],\n",
       " [[Elijah, Ishmael, Queequeg, Ahab],\n",
       "  ['Elijah', 'Ishmael', 'Queequeg', 'Ahab']],\n",
       " [[], []],\n",
       " [[], []]]"
      ]
     },
     "execution_count": 3,
     "metadata": {},
     "output_type": "execute_result"
    }
   ],
   "source": [
    "pn=[]\n",
    "for i in nouns_keep:\n",
    "    pn.append(get_propn(i))\n",
    "\n",
    "for i in PROPN_keep:\n",
    "    pn.append(get_propn(i))\n",
    "\n",
    "for i in pronouns_keep:\n",
    "    pn.append(get_propn(i))\n",
    "\n",
    "pn[:10]"
   ]
  },
  {
   "cell_type": "markdown",
   "metadata": {},
   "source": [
    "Deleting those that are repeated"
   ]
  },
  {
   "cell_type": "code",
   "execution_count": 4,
   "metadata": {},
   "outputs": [],
   "source": [
    "#pn_str=[name.text for name in pn]\n",
    "pn_str=[name[1] for name in pn]\n",
    "\n",
    "# Flatten list of lists\n",
    "pn_str = [item for sublist in pn_str for item in sublist]"
   ]
  },
  {
   "cell_type": "code",
   "execution_count": 5,
   "metadata": {},
   "outputs": [
    {
     "data": {
      "text/plain": [
       "3429"
      ]
     },
     "execution_count": 5,
     "metadata": {},
     "output_type": "execute_result"
    }
   ],
   "source": [
    "len(pn_str)"
   ]
  },
  {
   "cell_type": "code",
   "execution_count": 6,
   "metadata": {},
   "outputs": [],
   "source": [
    "pn_str_dif=list(set(pn_str)) #names that are not repeated"
   ]
  },
  {
   "cell_type": "code",
   "execution_count": 7,
   "metadata": {},
   "outputs": [
    {
     "name": "stdout",
     "output_type": "stream",
     "text": [
      "['Villaseñor', 'Elinor', 'Gargery', 'Tagalog', 'Ulysses', 'Seward', 'Inn', 'Henrietta', 'Jesus', 'Bounderby', 'Mormons', 'Guevarra', 'Katrina', 'fright', 'Cesare', 'Isabella', 'Hands', 'Insulted', 'Simon', 'Bridge', 'Rank', 'Harthouse', 'Hobbes', 'Scarecrow', 'Bhaer', 'Cid', 'Lagoon', 'Estella', 'Herbert', 'Eumaeus', 'Laurence', 'Ona', 'Thérien', 'Universidad', 'Sowerberrys', 'Pyotr', 'Achaean', 'Doolittle', 'Charming', 'Waterloo', 'Alec', 'Trojans', 'Bingley', 'Isle', 'god', 'Pierre', 'Belle', 'Thornton', 'Enitharmon', 'Italy', 'Arkadyevna', 'Vane', 'Utterson', 'Stone', 'Young', 'Omaha', 'Scotland', 'America', 'Calypso', 'mimicry', 'Virgil', 'Topsy', 'Demodocus', 'Albert', 'overwhelmed', 'Baskervilles', 'Equator', 'Raskolnikov', 'Sophia', 'Petya', 'Milly', 'W.', 'Gateshead', 'Manhattan', 'Acuña', 'Sancho', 'Hawkins', 'Twins', 'inn', 'Mademoiselle', 'Sissy', 'Queen', 'Netherfield', 'Pacific', 'Dover', 'Rodion', 'Fantine', 'Pontellier', 'Tiger', 'Hispaniola', 'September', 'Socialist', 'Kellynch', 'Martha', 'Zamyotov', 'Expectations', 'Rostovs', 'Sunday', 'Natasha', 'Knave', 'Bellingham', 'Laguna', 'Briseis', 'Neverland', 'Alyosha', 'Lodge', 'Woodman', 'Cairo', 'Hearts', 'Heights', 'Kensington', 'Augustine', 'Frank', 'Taylor', 'Elizabethan', 'Beelzebub', 'Lydia', 'Leibniz', 'Gulf', 'Emerald', 'Razumikhin', 'Hamet', 'American', 'Dunya', 'Departing', 'Ohio', 'Sikes', 'Compeyson', 'Petersburg', 'Bay', 'Copperfield', 'Hollow', 'Christian', 'Orlick', 'Enderby', 'Carr', 'Bird', 'Gloucester', 'Charpentier', 'Holmwood', 'Angered', 'Clarriker', 'M.', 'Father', 'Derbyshire', 'Budapest', 'Svidrigaïlov', 'Pharaon', 'Phaeacians', 'Westons', 'Thénardiers', 'Ethics', 'Revolution', 'Lucy', 'Mullingar', 'ivory', 'Sarah', 'Javert', 'Cassy', 'Vrazumíkhin', 'Convent', 'Lucas', 'Boys', 'Red', 'Richmond', 'Musgrove', 'Orlando', 'Andrei', 'Lake', 'María', 'Tales', 'Lorry', 'Mme', 'Biddy', 'Siddhartha', 'Meg', 'France', 'Hermes', 'XV', 'Daniel', 'Tellson', 'Éponine', 'Bedford', 'Francesco', 'Dracula', 'Lowood', 'Purefoy', 'Helsing', 'Alcée', 'Szgany', 'Andrés', 'Joseph', 'Smee', 'Winged', 'Thrushcross', 'Valentine', 'Azelma', 'Antinous', 'Devils', 'Amy', 'London', 'Eugénie', 'Wittgenstein', 'Field', 'Rand', 'Ferrars', 'Madrid', 'Fanny', 'Freemasons', 'Apollo', 'Devil', 'Bridgewater', 'Bezanson', 'Astyanax', 'Dmitri', 'Fagin', 'Lestrade', 'Heaven', 'Ares', 'Rochester', 'Myrtle', 'Becky', 'Dolokhov', 'Giroflée', 'Egypt', 'Clare', 'Mountains', 'Ishmael', 'Pequod', 'Blackpool', 'Equality', 'Captain', 'Ernest', 'Septimius', 'Stanhope', 'Romanovitch', 'Clytemnestra', 'Sleary', 'Oliver', 'Montolieu', 'Doctorow', 'Patroclus', 'Maimie', 'Mulligan', 'Charlotte', 'Francisco', 'Bates', 'naïve', 'Luvah', 'Governor', 'Hastie', 'Brent', 'Spain', 'Stephen', 'Navy', 'English', 'Mermaids', 'Penelope', 'Hindley', 'Lady', 'Nibs', 'Australia', 'Hyde', 'George', 'Kolya', 'Creakle', 'Liberia', 'Romanovich', 'Manila', 'hell', 'Age', 'Katerina', 'Lily', 'Cohen', 'Monkeys', 'Arthur', 'Crane', 'Jerry', 'Curly', 'Louisa', 'Semyon', 'Urizen', 'Edwin', 'National', 'Sagpang', 'Florentino', 'Veslovsky', 'Kapitán', 'Conrad', 'Museum', 'Danvers', 'Scholarship', 'Overwhelmed', 'III', 'Pride', 'Starbuck', 'Caderousse', 'James', 'Munchkin', 'Hook', 'Puritans', 'Bath', 'street', 'Scully', 'Luxembourg', 'Annie', 'Thornfield', 'Los', 'Washington', 'Samsa', 'Wuthering', 'Oye', 'Reynolds', 'Pap', 'Jack', 'Coketown', 'God', 'Arkady', 'England', 'Kamala', 'Toto', 'Ivan', 'Barrio', 'Anne', 'Bertuccio', 'Tootles', 'Prejudice', 'Jo', 'Hayter', 'Dulcinea', 'Mr', 'Lucie', 'Adèle', 'Phemius', 'Laurie', 'Bennet', 'Locke', 'February', 'Padre', 'Kong', 'Freemason', 'Joe', 'John', 'Hélène', 'Ithaca', 'Varens', 'Rostov', 'Van', 'Faustus', 'Myrmidons', 'Karenina', 'Burton', 'Island', 'father', 'Drebber', 'Em', 'Gospel', 'Cratchit', 'Ben', 'Churchill', 'White', 'Jekyll', 'Ibarras', 'Brother', 'Gardiner', 'Rudy', 'Throwaway', 'Cornelia', 'ill', 'Darkness', 'Patron', 'Oz', 'Pross', 'Tweedledee', 'T.', 'Maylies', 'Rachael', 'Bedwin', 'Golden', 'Sanders', 'Reisz', 'Kenny', 'David', 'Collins', 'Troy', 'Alcinous', 'Édouard', 'Rebellion', 'Fan', 'Lieutenant', 'Lizaveta', 'Chillingworth', 'Carton', 'Charley', 'Linares', 'Lark', 'Croft', 'Morris', 'Tin', 'Yahoo', 'Americans', 'Council', 'Adeimantus', 'Mrs', 'Convention', 'Napoleon', 'Havisham', 'Darling', 'Achaeans', 'Hareton', 'Calvinist', 'Thénardier', 'Renaissance', 'Little', 'Crisóstomo', 'Spencer', 'Borgia', 'Tempest', 'March', 'Bloom', 'Telemachus', 'Magarshack', 'Fauchelevent', 'Emily', 'Walter', 'Startop', 'Lachaise', 'Dashwood', 'Sawyer', 'Riborg', 'Elton', 'Lilliput', 'Fedallah', 'Bumbles', 'Suitors', 'Yard', 'Drummle', 'Emmeline', 'Philip', 'Israel', 'Grace', 'Gables', 'King', 'Nick', 'Grand', 'Day', 'Sparsit', 'Weatherstaff', 'Pedro', 'Lucifer', 'Grete', 'Manor', 'Battle', 'Jane', 'Dorian', 'Blanche', 'Wentworth', 'Jackson', 'Harry', 'Andersdatter', 'Defarge', 'Busoni', 'Nancy', 'Kamaswami', 'Luzhin', 'Ilyusha', 'Gilbert', 'Europe', 'Orleans', 'Smith', 'Sensibility', 'Alcott', 'Quixano', 'Brownlow', 'Holmes', 'Diego', 'Theatine', 'Bromion', 'New', 'Longbourn', 'Petrified', 'Injun', 'Hills', 'Renfield', 'Bell', 'Hong', 'Shaw', 'Pan', 'Throne', 'Watson', 'Marseille', 'Sibyl', 'Sleepy', 'Musgroves', 'Election', 'O.', 'Orthodox', 'West', '1938:34', 'Eibarramendia', 'Marlow', 'Alice', 'Douglass', 'Misselthwaite', 'Big', 'Medlock', 'Gregson', 'Kristine', 'Bitzer', 'Purgatory', 'Anatole', 'Lilias', 'Vronsky', 'Tassel', 'Glinda', 'Andrea', 'Booker', 'Northern', 'Barsad', 'Silver', 'Bracknell', 'Wright', 'Buck', 'Flint', 'Norcom', 'Disney', 'Chicago', 'Frenchman', 'Thetis', 'Catherine', 'Jondrettes', 'Ophelia', 'Pasig', 'Wicked', 'Daisy', 'Nora', 'Carew', 'Moncrieff', 'Russia', 'Eurycleia', 'Mina', 'Kansas', 'Quiroga', 'Panther', 'Nikolai', 'Civilisation', 'Minette', 'Agnes', 'Liverpool', 'Charles', 'Lizzie', 'Siberia', 'Enfield', 'Engeli', 'Shelby', 'Nestor', 'Gradgrind', 'Cristo', 'Hummels', 'Nantucket', 'Rose', 'Nature', 'Mocha', 'Cemetery', 'Anastacio', 'Moors', 'Bible', 'Mephistophilis', 'Metamorphosis', 'Massachusetts', 'Abbé', 'Wiltshire', 'Edward', 'Matilda', 'Peggotty', 'Huck', 'Marooners', 'Ilyich', 'Blue', 'Salt', 'Dorothy', 'Nathaniel', 'Don', 'Hill', 'II', 'Polydamas', 'Montfermeil', 'Greece', 'Country', 'Hester', 'Eloi', 'Elijah', 'Glaucon', 'Quaker', 'disillusioned', 'Hotel', 'Crown', 'Lanyon', 'Dante', 'Fyodor', 'Colin', 'Dr.', 'Cathy', 'San', 'Deasy', 'Steele', 'Freddy', 'Alps', 'Native', 'Brooke', 'Ravished', 'European', 'Myriel', 'Maria', 'Ken', 'Mycenae', 'Edna', 'Thatcher', 'Plaza', 'Dickens', 'Dick', 'Tashkent', 'Toledo', 'Xanthos', 'EAT', 'Gunn', 'Elder', 'Stiva', 'Peter', 'Zosima', 'Fred', 'Molly', 'Borodino', 'French', 'Darcy', 'Poor', 'Southwark', 'Svidrigailov', 'Heartbroken', 'Thesprotia', 'Kentucky', 'Sowerby', 'Gwendolen', 'Andersen', 'Jaggers', 'Professor', 'Ibarra', 'Spaniard', 'World', 'Barrie', 'Garrett', 'iconoclast', 'Potter', 'serviam', 'Porfiry', 'Scholars', 'Treatises', 'Marmeladovs', 'Jurgis', 'Morlocks', 'Friedrich', 'de', 'Maximilien', 'Dámaso', 'Karenin', 'Eyre', 'Ichabod', 'summum', 'Diomedes', 'Mary', 'Leeford', 'Marianne', 'Lost', 'Green', 'Brothers', 'Harriet', 'Connor', 'Edmond', 'Gardens', 'Women', 'York', 'Tolstoy', 'Aunt', 'Bryant', 'Hall', 'Grushenka', 'Achilles', 'Richard', 'Jordan', 'Book', 'Horse', 'Fierabras', 'Harris', 'Magwitch', 'Menelaus', 'Stangerson', 'Uncle', 'Poole', 'Samuel', 'Petrovich', 'ego', 'Separation', 'Dublin', 'Villefort', 'Kirillovich', 'Russian', 'Baños', 'Uppercross', 'sir', 'Sir', 'Houyhnhnms', 'Gray', 'Schoolhouse', 'Tassels', 'Aphrodite', 'Crime', 'African', 'Marches', 'Grinnel', 'Cornelius', 'Clara', 'Gardiners', 'Seine', 'City', 'Saint', 'Quixote', 'Vassa', 'Elizabeth', 'Ellmann', 'Evangeline', 'Bildad', 'Street', 'Lyons', 'Bantam', 'Ten', 'Canada', 'Willis', 'Reed', 'Peleg', 'Loo', 'Dr', 'Joyce', 'Irene', 'Isagani', 'Elba', 'Micomicona', 'Vasudeva', 'Dantès', 'Bella', 'Tashtego', 'Plato', 'Montgomery', 'Princess', 'December', 'Robert', 'Clares', 'Hound', 'Henry', 'Alfred', 'Sherlock', 'Witch', 'Blefuscu', 'Mendez', 'Eliza', 'Basilio', 'Sofya', 'Guinea', 'Jazz', 'Milne', 'Marquis', 'Marija', 'Craven', 'Williams', 'Pearl', 'Legree', 'Acushnet', 'Library', 'Robyns', 'Georgiana', 'epic', 'Mrs.', 'General', '!', 'Beatrice', 'Cap', 'Sonya', 'Satan', 'Monte', 'St.', 'Parker', 'Thames', 'Duke', 'January', 'Queequeg', 'Athena', 'Part', 'Pocket', 'Salem', 'Barnard', 'Beth', 'Basil', 'Eynsford', 'Expeditionary', 'Śamaṇa', 'Muff', 'Maud', 'Mr.', 'Rebuffed', 'L.', 'Boston', 'Maylie', 'Socrates', 'Gervais', 'Prometheus', 'heaven', 'Superintendent', \"'\", 'Ahab', 'Dodger', 'Powers', 'Versailles', 'Blight', 'Weena', 'Severus', 'Resurrection', 'Inferno', 'Central', 'Darnay', 'Odysseus', 'swineherd', 'House', 'Marmee', 'Champmathieu', 'Manette', 'Ratignolle', 'Orléans', 'Sargent', 'Cape', 'Salví', 'Seryozha', 'Knightley', 'Eboe', 'Bumble', 'Platon', 'parish', 'Tiago', 'Carpathian', 'Finn', 'Brandon', 'Arete', 'Jacobs', 'Tiny', 'wall', 'Luggnagg', 'Twain', 'Jim', 'Agamemnon', 'Daggoo', 'Brocklehurst', 'Count', 'Gregor', 'Pavlovich', 'Edgar', 'Tim', 'Cervantes', 'Oxford', 'Harker', 'Cosette', 'Pocock', 'Forces', 'Irregulars', 'Cave', 'Bois', 'Natives', 'Kent', 'Marmeladov', 'Phelpses', 'Torvald', 'Crete', 'Dimmesdale', 'Zakharovich', 'Homer', 'Woking', 'Burns', 'Cavalcanti', 'Carroll', 'Philippines', 'Abraham', 'Tweedledum', 'Thomas', 'Charlie', 'Prince', 'Plumet', 'Rue', 'Christ', 'Ivanovna', 'Machiavelli', 'Jonathan', 'Père', 'Kurtz', 'disguise', 'Moscow', 'Bernardo', 'Anloague', 'Christmas', 'Trojan', 'Pip', 'Carmody', 'Helen', 'Piccaninny', 'Butt', 'War', 'Gryphon', 'Party', 'Shakespeare', 'Levin', 'Steerforth', 'Leeds', 'Yorkshire', 'Kitty', 'Heathcliff', 'Hector', 'Marie', 'Liberty', 'XII', 'Josiah', 'Lockwood', 'Weston', 'Gatsby', 'Ocean', 'skeleton', 'Boq', 'Great', 'Russell', 'Poovey', 'Aristotle', 'cabeza', 'Lazarus', 'William', 'Martin', 'Louisiana', 'Saffron', 'Minnesota', 'Linda', 'Nelly', 'Enjolras', 'Pooh', 'Pond', 'Higgins', 'Chryseis', 'Tinker', 'Capitán', 'Wilde', 'Africa', 'Jefferson', 'Eva', 'Simoun', 'Smerdyakov', 'Whitby', 'Zeus', 'Switzerland', 'Gulliver', 'Winkie', 'Krogstad', 'Man', 'Swift', 'Tom', 'Carolinas', 'Mercédès', 'Huckleberry', 'Satis', 'Valjean', 'Valdes', 'Grange', 'Moby', 'Du', 'Austen', 'Non', 'Wickham', 'Nicomachean', 'Danglars', 'Lion', 'bore', 'Paris', 'Wagner', 'Guicciardini', 'Hope', 'Avery', 'Emma', 'Faria', 'Blake', 'Willoughby', 'Marius', 'Rock', 'Gavroche', 'Ireland', 'Gatz', 'Ashbee', 'Private', 'Scrooge', 'Poseidon', 'Anna', 'Innocents', 'Rivers', 'Dostoevsky', 'Alexei', 'Andromache', 'Dimitri', 'Voigt', 'Karataev', 'Quincey', 'Tiani', 'India', 'Roger', 'River', 'Miss', 'Punishment', 'McDougal', 'Frederick', 'Anthony', 'Horn', 'Karamazov', 'd', 'J.', 'Baker', 'Hell', 'Eve', 'Elías', 'Diana', 'Bruce', 'Madame', 'Candide', 'Lebrun', 'Unconquered', 'Polish', 'Yankee', 'Mark', 'Garden', 'Bentley', 'Murdstone', 'Marshalsea', 'Melville', 'Wendy', 'goat', 'Mexico', 'Ivanovich', 'Hecuba', 'Gabriel', 'Wemmick', 'Priam', 'Monks', 'Bashee']\n"
     ]
    }
   ],
   "source": [
    "print(pn_str_dif)"
   ]
  },
  {
   "cell_type": "markdown",
   "metadata": {},
   "source": [
    "goddess"
   ]
  },
  {
   "cell_type": "code",
   "execution_count": 8,
   "metadata": {},
   "outputs": [],
   "source": [
    "names= [\"Alice\",\"Eliza\",\"Nora\",\"Hester\",\"Edna\",\"Mercedes\",\"Lilias\",\"Rachael\",\"Mary\",\"Martha\",\"Emily\",\"Lydia\",\"Sophia\",\"Kamala\",\"Diana\",\"Georgiana\",\"Lizaveta\",\"Jennie\",\"Eliza\",\"George\",\"Chopin\",\"Seryozha\",\"Arete\",\"Micomicona\",\"Weena\",\"Sofya\",\"Jerry\",\"Sibyl\",\"Rudy\",\"Hélène\",\"Hera\",\"Mercédès\",\"Helen\",\"Isagani\",\n",
    "\"Alice\",\"Quiroga\",\"Tiani\",\"Fanny\",\"Agnes\",\"Louisa\",\"Harthouse\",\"Sissy\",\"Emma\",\"Harriet\",\"Stiva\",\"Ona\",\"Marija\",\"Isabella\",\"Cathy\",\"Irene\",\"Eliza\",\"Eva\",\"Topsy\",\"Kapitán\",\"María\",\"Clara\",\"Nancy\",\"Henry\",\"Eliza\",\"Alfred\",\"Thornton\",\"Rose\",\"Cornelia\",\"Lucy\",\"Katrina\",\"Ichabod\",\"Marianne\",\"Hope\",\"Ophelia\",\n",
    "\"Emmeline\",\"Cassy\",\"Eva\",\"Charlotte\",\"Annie\",\"Edgar\",\"Catherine\",\"Karenina\",\"Arkadyevna\",\"Anna\",\"Charlotte\",\"Penelope\",\"Clytemnestra\",\"Lily\",\"Valentine\",\"Myriel\",\"Grushenka\",\"Cosette\",\"Éponine\",\"Marilla\",\"Athena\",\"Calypso\",\"Anne\",\"Alyosha\",\"Katerina\",\"Beth\",\"Lizzie\",\"Fan\",\"Em\",\"Marmee\",\"Laurie\",\"Beth\",\n",
    "\"Meg\",\"Jo\",\"Amy\",\"Dorothy\",\"Jane\",\"Maimie\",\"Eugénie\",\"Lucie\",\"Kristine\",\"Mina\",\"Molly\",\"Dunya\",\"Gwendolen\",\"Biddy\",\"Hester\",\"Sonya\",\"Katerina\",\"Rachel\",\"Lucy\",\"Myrtle\",\"Daisy\",\"Chriseis\",\"Briseis\",\"Éponine\",\"Eurycleia\",\"Louisa\",\"Clara\",\"Elizabeth\",\"Marie\",\"Riborg\",\"Louisa\",\"Sissy\",\"Penelope\",\"Fanny\",\n",
    "\"Elinor\",\"Azelma\",\"Fantine\",\"Cosette\",\"Anna\",\"Mikhaylovna\",\"Natalya\",\"Natasha\",\"Thetis\",\"Anna\",\"Athena\",\"Eva\",\"Adèle\",\"Kitty\",\"Edna\",\"Frank\",\"Pearl\",\"Grete\",\"Sally\",\"Blake\",\"Milly\",\"Gerty\",\"Mina\",\"Maria\",\"Petya\",\"Chryseis\",\"Briseis\",\"Athena\",\"Wendy\",\"Hélène\",\"Natasha\",\"Sonya\",\"Hecuba\",\"Bella\",\"Lucy\",\n",
    "\"Estella\",\"Grace\",\"Jane\",\"Sarah\",\"Blanche\",\"Henry\",\"Nestor\",\"Hector\",\"Fagin\",\"Gabriel\",\"James\",\"Jefferson\",\"Pedro\",\"Ben\",\"Tommy\",\"Siddhartha\",\"William\",\"Scharff\",\"Giroflée\",\"Scully\",\"Connor\",\"Leibniz\",\"Abbé\",\"Pete\",\"Thornton\",\"Hal\",\"Buck\",\"Charles\",\"Oliver\",\"Hans\",\"Alcée\",\"Colin\",\"Charles\",\"Friedrich\",\n",
    "\"Gervais\",\"Enjolras\",\"Léonce\",\"Alexei\",\"Anastacio\",\"Kirillovich\",\"Gavroche\",\"Eumaeus\",\"Odysseus\",\"Phemius\",\"Alcinous\",\"Fyodor\",\"Ivan\",\"Fauchelevent\",\"Israel\",\"Flint\",\"Ben\",\"Cratchit\",\"Tin\",\"Florentino\",\"Semyon\",\"Roger\",\"Dimmesdale\",\"Jim\",\"Zakharovich\",\"Bantam\",\"Hester\",\"Alec\",\"Patroclus\",\"Petya\",\"Walden\",\n",
    "\"Pyotr\",\"Throwaway\",\"Garrett\",\"John\",\"Capitán\",\"Basil\",\"Herbert\",\"Renfield\",\"Dracula\",\"Dorian\",\"David\",\"James\",\"Josiah\",\"Bitzer\",\"Junior\",\"Thomas\",\"Jurgis\",\"Connor\",\"Jack\",\"Antinous\",\"Hindley\",\"Hareton\",\"Thrushcross\",\"George\",\"Crisóstomo\",\"Bernardo\",\"Elías\",\"Fagin\",\"Freddy\",\"Pickering\",\"Buck\",\"Spitz\",\n",
    "\"Faustus\",\"Edward\",\"Brandon\",\"Drebber\",\"Cornelius\",\"Lucifer\",\"Beelzebub\",\"Mephistophilis\",\"Nathaniel\",\"Grinnel\",\"Oliver\",\"Pedro\",\"Jacobs\",\"Basilio\",\"Pedro\",\"Padre\",\"Arthur\",\"Harry\",\"Heathcliff\",\"Robert\",\"MaJavert\",\"Fyodor\",\"Zosima\",\"Telemachus\",\"Odysseus\",\"Demodocus\",\"Don\",\"Dulcinea\",\"Nestor\",\"Rocinante\",\n",
    "\"Andrés\",\"Mentes\",\"Gilbert\",\"Quixano\",\"Alyosha\",\"Kolya\",\"Ilyusha\",\"Maximilien\",\"Fred\",\"Ivan\",\"Alyosha\",\"Dmitri\",\"Fyodor\",\"Marius\",\"Becky\",\"Huckleberry\",\"Jim\",\"Muff\",\"Injun\",\"John\",\"Alcott\",\"Henry\",\"Boq\",\"Andrea\",\"Albert\",\"Danglars\",\"Caderousse\",\"Bertuccio\",\"Richard\",\"Tootles\",\"Nibs\",\"Edmond\",\"Slightly\",\n",
    "\"Curly\",\"Poole\",\"Tinker\",\"Joe\",\"Orlick\",\"Herbert\",\"Huck\",\"Jack\",\"Algernon\",\"Ernest\",\"Clarriker\",\"Marlow\",\"Romanovich\",\"Porfiry\",\"Rodion\",\"Gregor\",\"Startop\",\"Pip\",\"Herbert\",\"Bentley\",\"John\",\"Hastie\",\"Oliver\",\"Jordan\",\"Carton\",\"Samuel\",\"Daggoo\",\"James\",\"Dorian\",\"Bildad\",\"Queequeg\",\"Peleg\",\"Ishmael\",\"Charley\",\n",
    "\"Artful\",\"Nick\",\"Henry\",\"Brandon\",\"David\",\"Stephen\",\"Charles\",\"Edwin\",\"Bernard\",\"John\",\"Edward\",\"William\",\"Buck\",\"Polydamas\",\"Dantès\",\"Booker\",\"Pierre\",\"Pyotr\",\"Andrei\",\"Platon\",\"Achilles\",\"Homer\",\"Peter\",\"Odysseus\",\"Pandaros\",\"Menelaus\",\"Polydamas\",\"Hector\",\"Achilles\",\"Hermes\",\"Priam\",\"Patroclus\",\"Apollo\",\n",
    "\"Anatole\",\"Nikolai\",\"Napoleon\",\"Andrei\",\"Marius\",\"Frederick\",\"T.\",\"Ken\",\"Arkady\",\"Huck\",\"Jim\",\"Stephen\",\"Boris\",\"Andrei\",\"Anatole\",\"Apollo\",\"Achilles\",\"Patroclus\",\"Tom\",\"Simon\",\"Harry\",\"Elías\",\"Crisóstomo\",\"George\",\"Léonce\",\"Robert\",\"Ares\",\"Zeus\",\"Diomedes\",\"Agamemnon\",\"James\",\"Silas\",\"Ivanovich\",\"Torvald\",\n",
    "\"Tashtego\",\"Kurtz\",\"Gregor\",\"Ahab\",\"Marlow\",\"Fedallah\",\"Abraham\",\"Danvers\",\"Pip\",\"Joe\"]\n",
    "\n",
    "surname=['Gatsby','Gatz','Twist' ,'Raskolnikov','Williams','Sowerby','Weatherstaff' ,'Vasudeva' ,'Walter' ,'Elliot' ,'Croft' ,'Steerforth','Kamaswami' ,'Traddles' ,\n",
    "'Candide' ,'Copperfield'  ,'Steerforth'   ,'Craven' ,'Medlock' ,'Drebber' ,'Stangerson' ,'Hope' ,'Faria','Busoni','Russell','Benwick','Darcy','Woodman','Hands'  ,'Louis','Taylor' ,\n",
    "'Weston' ,'Vronsky','Tashkent','Harris'     ,'Gunn' ,'Bhaer','Pavlovich'  ,'Dimitri' ,'Ivanovna' ,'Wickham' ,'Chillingworth','Marmeladov' ,'Watson' ,'Lazarus','Deasy','Clifford',\n",
    "'Stanhope','Versailles'  ,'Villefort' ,'Priam','Darling'  ,'Thérien' ,'Pond'  ,'Lyons','Ilyich'   ,'Raskolnikov'   ,'Vane' ,'Gray' ,'Burns' ,'Pocket' ,'Hallward','Midwesterner' ,\n",
    "'Marquis','Pross'   ,'Wickham' ,'Simoun' ,'Basilio' ,'Leeds'  ,'Salví' ,'Dickon','Wentworth'  ,'Musgrove','Hayter','Smith' ,'Benwick'  ,'Wentworth'  ,'Gummidge','Micawbers'  ,\n",
    "'Peggotty' ,'Wickfield' ,'Bounderby','Creakle'  ,'Pooh' ,'Gradgrind' ,'Sleary' ,'Duane','Sparsit','Harthouse'   ,'Blackpool' ,'Sparsit' ,'Gradgrind' ,'Vronsky','Lockwood',\n",
    "'Grange' ,'Wiltshire' ,'Shelby','Tiago' ,'Salví' ,'Dámaso' ,'Gulliver','Lilliputians','Blefuscudians','Glubbdubdrib','Valdes','Holmes','Charpentier' , 'Crane' ,'Steele' ,\n",
    "'Willoughby'  ,'Wagner' ,'Parker' ,'Willis' ,'Balnibarbi' ,'Bruce' ,'Houyhnhnms'    ,'Brownlow','Bedwin' ,'Doolittle' ,'Pearce' ,'Maylie' ,'Higgins'  ,'Sowerberrys' ,\n",
    "'Eibarramendia'   ,'Loker' ,'Legree'   ,'Martin','Knightley'  ,'Elton' ,'Westons' ,'Ratignolle' ,'Reisz' ,'Lebrun' ,'Bhaer','Hummels','Pavlovich','Quixote','Sancho', 'Cardenio'  ,\n",
    "'Smerdyakov' ,'Samsonov' ,'Karamazov'  ,'Ivanovna' ,'Potter','Finn','Gillenormand'  , 'Javert'  ,'Thatcher' ,'Joe' ,'Cavalcanti','Laurence' , 'Villefort' ,'Brooke'  ,'Barsad',\n",
    "'Defarge','Lanyon','Pan','Smee' ,'Dantès' , 'Hook' ,'Mannering' ,'Bell' ,'Richmond','Magwitch','Dimmesdale','Samsa','Twain' ,'Bracknell' ,'Raskolnikov','Luzhin' ,'Zamyotov',\n",
    "'Ivanovna'  , 'Petrovich','Razumikhin'   ,'Marmeladov'  ,'Raskolnikov'  ,'Wemmick','Varens' ,'Eyre'  ,'Brocklehurst' ,'Gargery' ,'Compeyson'  ,'Jaggers' ,'Havisham' ,\n",
    "'Enfield','Drummle' ,'Rank','Enderby','Harker' ,'Quincey' ,'Holmwood' ,'Dracula'  ,'Starbuck'  ,'Krogstad'  ,'Collins','Darcy','Baker','Darnay'  ,'Pross','Lorry','Manette' ,\n",
    "'Bloom'  ,'Purefoy' ,'Rostov' ,'Dolokhov','Rostovs' ,'Karataev'    ,'Buchanan','Kirilovich' , 'Bezukhov' ,'Lucas' ,'Gardiner'  ,'Phelps','Bates','Dodger','Higgins','Jekyll',\n",
    " 'Brownlow','Gradgrind','Bounderby','Peggotty','Andersen' ,'Bennet' ,'Bingley' ,'Musgroves' ,'Voigt' ,'Andersdatter'    ,'Murdstone'  ,'Watson' ,'Holmes','Shaw','Leeford',\n",
    " 'Ferrars','Gulliver' ,'Danglars','Valjean' , 'Thénardier' ,'Washington', 'Scrooge' ,'Morris'  ,'Douglass'  ,'Deasy', 'Rostovs' ,'Rostova' ,'Drubetskaya','Vronsky','Levin',\n",
    " 'Karenin' ,'Guevarra' , 'Tiburcio' ,'Legree'  ,'Reisz' ,'Churchill' ,'Svidrigailov' ,'Starbuck','Bellingham' ,'Chillingworth' ,'Seward','Reed','Rochester ', 'Utterson',\n",
    "  'Hyde' ,'Havisham','Jaggers' ,'Wemmick'   , 'Jekyll', 'Lanyon' , 'Carew'  ]\n",
    "\n",
    "complex_name=[ 'de Mendez' ,'Doña Victorina de los Reyes de de Espadaña', 'Oye - Eboe','van Helsing','Van Tassel','Patron - Minette',\n",
    "'Eynsford - Hills ', 'Tiny Tim' ] #these can be changes for just one name \"the wizard of oz\"\n",
    "\n",
    "names_as_propn=['King','Queen','Knave of Hearts','Red Queen','Gryphon' ,'Wicked Witch of the West ']"
   ]
  },
  {
   "cell_type": "code",
   "execution_count": 9,
   "metadata": {},
   "outputs": [],
   "source": [
    "import re\n",
    "def highlight_word(phrase,colour_propn):\n",
    "    # phrase is a doc string\n",
    "    # colour is a string with rgb values (ex. 'rgb(155,217,230)')\n",
    "\n",
    "    sent=[]\n",
    "\n",
    "    for token in phrase:\n",
    "        if token.text in pn_str_dif:\n",
    "            sent.append(\" <span style='background: {}'>{}</span> \".format(colour_propn,token.text))\n",
    "        else:\n",
    "            sent.append(token.text)\n",
    "\n",
    "    \n",
    "    return ' '.join(sent) #returns a string"
   ]
  },
  {
   "cell_type": "code",
   "execution_count": 10,
   "metadata": {},
   "outputs": [
    {
     "data": {
      "text/html": [
       "A young girl named  <span style='background: rgb(25, 108, 56)'>Alice</span>  falls through a rabbit hole into a fantasy world of anthropomorphic creatures ."
      ],
      "text/plain": [
       "<IPython.core.display.HTML object>"
      ]
     },
     "metadata": {},
     "output_type": "display_data"
    }
   ],
   "source": [
    "# nouns_after\n",
    "# propn_after_single \n",
    "# phrases_pron\n",
    "\n",
    "\n",
    "from IPython.display import HTML\n",
    "all_sentences=nouns_keep+PROPN_keep+pronouns_keep\n",
    "\n",
    "p=nouns_keep[1]\n",
    "\n",
    "display(HTML(highlight_word(p,'rgb(25, 108, 56)')))"
   ]
  },
  {
   "cell_type": "code",
   "execution_count": 12,
   "metadata": {},
   "outputs": [
    {
     "data": {
      "text/plain": [
       "1658"
      ]
     },
     "execution_count": 12,
     "metadata": {},
     "output_type": "execute_result"
    }
   ],
   "source": [
    "len(all_sentences)"
   ]
  },
  {
   "cell_type": "code",
   "execution_count": 13,
   "metadata": {},
   "outputs": [],
   "source": [
    "with open(os.path.join(DATA_PATH, 'all_sentences.pkl'), 'wb') as f:\n",
    "    pickle.dump(all_sentences, f)"
   ]
  },
  {
   "cell_type": "code",
   "execution_count": 14,
   "metadata": {},
   "outputs": [
    {
     "data": {
      "text/plain": [
       "['Alice']"
      ]
     },
     "execution_count": 14,
     "metadata": {},
     "output_type": "execute_result"
    }
   ],
   "source": [
    "get_propn(all_sentences[1])[1]"
   ]
  },
  {
   "cell_type": "code",
   "execution_count": 15,
   "metadata": {},
   "outputs": [],
   "source": [
    "already_added_propn=[]"
   ]
  },
  {
   "cell_type": "code",
   "execution_count": 16,
   "metadata": {},
   "outputs": [
    {
     "name": "stdout",
     "output_type": "stream",
     "text": [
      "1500\n"
     ]
    },
    {
     "data": {
      "text/html": [
       "He writes using an invented form of alphabet that is based on the  <span style='background: rgb(188, 108, 37)'>Tagalog</span>  language , hoping \" that the future generations may be able to decipher it ."
      ],
      "text/plain": [
       "<IPython.core.display.HTML object>"
      ]
     },
     "metadata": {},
     "output_type": "display_data"
    },
    {
     "name": "stdout",
     "output_type": "stream",
     "text": [
      "1502\n"
     ]
    },
    {
     "data": {
      "text/html": [
       "He treats  <span style='background: rgb(188, 108, 37)'>Oliver</span>  better and , because of  <span style='background: rgb(188, 108, 37)'>Oliver</span>  's sorrowful countenance , uses him as a mourner at children 's funerals ."
      ],
      "text/plain": [
       "<IPython.core.display.HTML object>"
      ]
     },
     "metadata": {},
     "output_type": "display_data"
    },
    {
     "name": "stdout",
     "output_type": "stream",
     "text": [
      "1505\n"
     ]
    },
    {
     "data": {
      "text/html": [
       "Curiously ,  <span style='background: rgb(188, 108, 37)'>Mr.</span>   <span style='background: rgb(188, 108, 37)'>Brownlow</span>  has second thoughts about the boy – he seems reluctant to believe he is a pickpocket ."
      ],
      "text/plain": [
       "<IPython.core.display.HTML object>"
      ]
     },
     "metadata": {},
     "output_type": "display_data"
    },
    {
     "name": "stdout",
     "output_type": "stream",
     "text": [
      "1506\n"
     ]
    },
    {
     "data": {
      "text/html": [
       "She knows that  <span style='background: rgb(188, 108, 37)'>Monks</span>  and  <span style='background: rgb(188, 108, 37)'>Fagin</span>  are plotting to get their hands on the boy again , and offers to meet again any  <span style='background: rgb(188, 108, 37)'>Sunday</span>  night on  <span style='background: rgb(188, 108, 37)'>London</span>  bridge ."
      ],
      "text/plain": [
       "<IPython.core.display.HTML object>"
      ]
     },
     "metadata": {},
     "output_type": "display_data"
    },
    {
     "name": "stdout",
     "output_type": "stream",
     "text": [
      "1507\n"
     ]
    },
    {
     "data": {
      "text/html": [
       "She marries her sweetheart  <span style='background: rgb(188, 108, 37)'>Harry</span>   <span style='background: rgb(188, 108, 37)'>Maylie</span>  , who gives up his political ambitions to become a parson , drawing all their friends to settle near them ."
      ],
      "text/plain": [
       "<IPython.core.display.HTML object>"
      ]
     },
     "metadata": {},
     "output_type": "display_data"
    },
    {
     "name": "stdout",
     "output_type": "stream",
     "text": [
      "1517\n"
     ]
    },
    {
     "data": {
      "text/html": [
       "Since the philosopher recognizes what is truly good only he is fit to rule society according to  <span style='background: rgb(188, 108, 37)'>Plato</span>  ."
      ],
      "text/plain": [
       "<IPython.core.display.HTML object>"
      ]
     },
     "metadata": {},
     "output_type": "display_data"
    },
    {
     "name": "stdout",
     "output_type": "stream",
     "text": [
      "1521\n"
     ]
    },
    {
     "data": {
      "text/html": [
       "However , he refuses to reduce the island nation of  <span style='background: rgb(188, 108, 37)'>Blefuscu</span>  to a province of  <span style='background: rgb(188, 108, 37)'>Lilliput</span>  , displeasing the  <span style='background: rgb(188, 108, 37)'>King</span>  and the royal court ."
      ],
      "text/plain": [
       "<IPython.core.display.HTML object>"
      ]
     },
     "metadata": {},
     "output_type": "display_data"
    },
    {
     "name": "stdout",
     "output_type": "stream",
     "text": [
      "1523\n"
     ]
    },
    {
     "data": {
      "text/html": [
       "On the island of  <span style='background: rgb(188, 108, 37)'>Luggnagg</span>  , he encounters the struldbrugs , people who are immortal ."
      ],
      "text/plain": [
       "<IPython.core.display.HTML object>"
      ]
     },
     "metadata": {},
     "output_type": "display_data"
    },
    {
     "name": "stdout",
     "output_type": "stream",
     "text": [
      "1524\n"
     ]
    },
    {
     "data": {
      "text/html": [
       "Shortly afterwards , he meets the  <span style='background: rgb(188, 108, 37)'>Houyhnhnms</span>  , a race of talking horses ."
      ],
      "text/plain": [
       "<IPython.core.display.HTML object>"
      ]
     },
     "metadata": {},
     "output_type": "display_data"
    },
    {
     "name": "stdout",
     "output_type": "stream",
     "text": [
      "1525\n"
     ]
    },
    {
     "data": {
      "text/html": [
       "He is disgusted to see that  <span style='background: rgb(188, 108, 37)'>Captain</span>   <span style='background: rgb(188, 108, 37)'>Pedro</span>   <span style='background: rgb(188, 108, 37)'>de</span>   <span style='background: rgb(188, 108, 37)'>Mendez</span>  , whom he considers a  <span style='background: rgb(188, 108, 37)'>Yahoo</span>  , is a wise , courteous , and generous person ."
      ],
      "text/plain": [
       "<IPython.core.display.HTML object>"
      ]
     },
     "metadata": {},
     "output_type": "display_data"
    },
    {
     "name": "stdout",
     "output_type": "stream",
     "text": [
      "1526\n"
     ]
    },
    {
     "data": {
      "text/html": [
       "Also , although  <span style='background: rgb(188, 108, 37)'>Gulliver</span>  is presented as a commonplace \" everyman \" with only a basic education , he possesses a remarkable natural gift for language ."
      ],
      "text/plain": [
       "<IPython.core.display.HTML object>"
      ]
     },
     "metadata": {},
     "output_type": "display_data"
    },
    {
     "name": "stdout",
     "output_type": "stream",
     "text": [
      "1527\n"
     ]
    },
    {
     "data": {
      "text/html": [
       "He concludes his critique by remarking that he can not understand the origins of  <span style='background: rgb(188, 108, 37)'>Swift</span>  ’s critiques on humanity ."
      ],
      "text/plain": [
       "<IPython.core.display.HTML object>"
      ]
     },
     "metadata": {},
     "output_type": "display_data"
    },
    {
     "name": "stdout",
     "output_type": "stream",
     "text": [
      "1529\n"
     ]
    },
    {
     "data": {
      "text/html": [
       "In the narrative , she explains life events that prevent  <span style='background: rgb(188, 108, 37)'>Linda</span>   <span style='background: rgb(188, 108, 37)'>Brent</span>  from practicing these values , although she wants to ."
      ],
      "text/plain": [
       "<IPython.core.display.HTML object>"
      ]
     },
     "metadata": {},
     "output_type": "display_data"
    },
    {
     "name": "stdout",
     "output_type": "stream",
     "text": [
      "1531\n"
     ]
    },
    {
     "data": {
      "text/html": [
       "Although his mother entreats him to ask forgiveness of his master , he proudly refuses and is finally sold to  <span style='background: rgb(188, 108, 37)'>New</span>   <span style='background: rgb(188, 108, 37)'>Orleans</span>  ."
      ],
      "text/plain": [
       "<IPython.core.display.HTML object>"
      ]
     },
     "metadata": {},
     "output_type": "display_data"
    },
    {
     "name": "stdout",
     "output_type": "stream",
     "text": [
      "1534\n"
     ]
    },
    {
     "data": {
      "text/html": [
       "He tries to bind the demon to his service , but is unable to because  <span style='background: rgb(188, 108, 37)'>Mephistophilis</span>  already serves  <span style='background: rgb(188, 108, 37)'>Lucifer</span>  , who is also called the  <span style='background: rgb(188, 108, 37)'>Prince</span>  of  <span style='background: rgb(188, 108, 37)'>Devils</span>  ."
      ],
      "text/plain": [
       "<IPython.core.display.HTML object>"
      ]
     },
     "metadata": {},
     "output_type": "display_data"
    },
    {
     "name": "stdout",
     "output_type": "stream",
     "text": [
      "1535\n"
     ]
    },
    {
     "data": {
      "text/html": [
       "This is the largest fault of  <span style='background: rgb(188, 108, 37)'>Faustus</span>  throughout the play : he is blind to his own salvation and remains set on his soul 's damnation ."
      ],
      "text/plain": [
       "<IPython.core.display.HTML object>"
      ]
     },
     "metadata": {},
     "output_type": "display_data"
    },
    {
     "name": "stdout",
     "output_type": "stream",
     "text": [
      "1537\n"
     ]
    },
    {
     "data": {
      "text/html": [
       "She acquits  <span style='background: rgb(188, 108, 37)'>Edward</span>  of blame and pities him for being held to a loveless engagement to  <span style='background: rgb(188, 108, 37)'>Lucy</span>  by his sense of honour ."
      ],
      "text/plain": [
       "<IPython.core.display.HTML object>"
      ]
     },
     "metadata": {},
     "output_type": "display_data"
    },
    {
     "name": "stdout",
     "output_type": "stream",
     "text": [
      "1538\n"
     ]
    },
    {
     "data": {
      "text/html": [
       "He greets  <span style='background: rgb(188, 108, 37)'>Marianne</span>  reluctantly and coldly , to her extreme distress ."
      ],
      "text/plain": [
       "<IPython.core.display.HTML object>"
      ]
     },
     "metadata": {},
     "output_type": "display_data"
    },
    {
     "name": "stdout",
     "output_type": "stream",
     "text": [
      "1540\n"
     ]
    },
    {
     "data": {
      "text/html": [
       "He also reveals that his aunt said she would have forgiven him if he married  <span style='background: rgb(188, 108, 37)'>Miss</span>   <span style='background: rgb(188, 108, 37)'>Williams</span>  but that he had refused ."
      ],
      "text/plain": [
       "<IPython.core.display.HTML object>"
      ]
     },
     "metadata": {},
     "output_type": "display_data"
    },
    {
     "name": "stdout",
     "output_type": "stream",
     "text": [
      "1541\n"
     ]
    },
    {
     "data": {
      "text/html": [
       "She values  <span style='background: rgb(188, 108, 37)'>Elinor</span>  's more moderated conduct with  <span style='background: rgb(188, 108, 37)'>Edward</span>  and resolves to model herself after her courage and good sense ."
      ],
      "text/plain": [
       "<IPython.core.display.HTML object>"
      ]
     },
     "metadata": {},
     "output_type": "display_data"
    },
    {
     "name": "stdout",
     "output_type": "stream",
     "text": [
      "1542\n"
     ]
    },
    {
     "data": {
      "text/html": [
       "He also criticizes the  <span style='background: rgb(188, 108, 37)'>Steele</span>  sisters for their vulgarity ."
      ],
      "text/plain": [
       "<IPython.core.display.HTML object>"
      ]
     },
     "metadata": {},
     "output_type": "display_data"
    },
    {
     "name": "stdout",
     "output_type": "stream",
     "text": [
      "1543\n"
     ]
    },
    {
     "data": {
      "text/html": [
       "She also acknowledges that  <span style='background: rgb(188, 108, 37)'>Willoughby</span>  , with all his faults , continues to love and , in some measure , appreciate  <span style='background: rgb(188, 108, 37)'>Marianne</span>  ."
      ],
      "text/plain": [
       "<IPython.core.display.HTML object>"
      ]
     },
     "metadata": {},
     "output_type": "display_data"
    },
    {
     "name": "stdout",
     "output_type": "stream",
     "text": [
      "1545\n"
     ]
    },
    {
     "data": {
      "text/html": [
       "He is the leader of the  <span style='background: rgb(188, 108, 37)'>Baker</span>   <span style='background: rgb(188, 108, 37)'>Street</span>   <span style='background: rgb(188, 108, 37)'>Irregulars</span>  , a group of  <span style='background: rgb(188, 108, 37)'>street</span>  children  <span style='background: rgb(188, 108, 37)'>Holmes</span>  employs to help him occasionally ."
      ],
      "text/plain": [
       "<IPython.core.display.HTML object>"
      ]
     },
     "metadata": {},
     "output_type": "display_data"
    },
    {
     "name": "stdout",
     "output_type": "stream",
     "text": [
      "1546\n"
     ]
    },
    {
     "data": {
      "text/html": [
       "He then announces the captive cabby as  <span style='background: rgb(188, 108, 37)'>Jefferson</span>   <span style='background: rgb(188, 108, 37)'>Hope</span>  , the murderer of  <span style='background: rgb(188, 108, 37)'>Drebber</span>  and  <span style='background: rgb(188, 108, 37)'>Stangerson</span>  ."
      ],
      "text/plain": [
       "<IPython.core.display.HTML object>"
      ]
     },
     "metadata": {},
     "output_type": "display_data"
    },
    {
     "name": "stdout",
     "output_type": "stream",
     "text": [
      "1547\n"
     ]
    },
    {
     "data": {
      "text/html": [
       "When he returns several years later , he learns that  <span style='background: rgb(188, 108, 37)'>Drebber</span>  and  <span style='background: rgb(188, 108, 37)'>Stangerson</span>  have fled  <span style='background: rgb(188, 108, 37)'>Salt</span>   <span style='background: rgb(188, 108, 37)'>Lake</span>   <span style='background: rgb(188, 108, 37)'>City</span>  after a schism between the  <span style='background: rgb(188, 108, 37)'>Mormons</span>  ."
      ],
      "text/plain": [
       "<IPython.core.display.HTML object>"
      ]
     },
     "metadata": {},
     "output_type": "display_data"
    },
    {
     "name": "stdout",
     "output_type": "stream",
     "text": [
      "1553\n"
     ]
    },
    {
     "data": {
      "text/html": [
       "While in prison awaiting trial , he realizes it is  <span style='background: rgb(188, 108, 37)'>Christmas</span>   <span style='background: rgb(188, 108, 37)'>Eve</span>  ."
      ],
      "text/plain": [
       "<IPython.core.display.HTML object>"
      ]
     },
     "metadata": {},
     "output_type": "display_data"
    },
    {
     "name": "stdout",
     "output_type": "stream",
     "text": [
      "1554\n"
     ]
    },
    {
     "data": {
      "text/html": [
       "She is in premature labor , and  <span style='background: rgb(188, 108, 37)'>Marija</span>  explains that the family had no money for a doctor ."
      ],
      "text/plain": [
       "<IPython.core.display.HTML object>"
      ]
     },
     "metadata": {},
     "output_type": "display_data"
    },
    {
     "name": "stdout",
     "output_type": "stream",
     "text": [
      "1556\n"
     ]
    },
    {
     "data": {
      "text/html": [
       "Without shedding a tear , he walks away from  <span style='background: rgb(188, 108, 37)'>Chicago</span>  ."
      ],
      "text/plain": [
       "<IPython.core.display.HTML object>"
      ]
     },
     "metadata": {},
     "output_type": "display_data"
    },
    {
     "name": "stdout",
     "output_type": "stream",
     "text": [
      "1558\n"
     ]
    },
    {
     "data": {
      "text/html": [
       " <span style='background: rgb(188, 108, 37)'>Jurgis</span>  then navigates the world of crime ; he learns that this includes a substantial corruption of the police department ."
      ],
      "text/plain": [
       "<IPython.core.display.HTML object>"
      ]
     },
     "metadata": {},
     "output_type": "display_data"
    },
    {
     "name": "stdout",
     "output_type": "stream",
     "text": [
      "1559\n"
     ]
    },
    {
     "data": {
      "text/html": [
       "One night , by chance , he runs into  <span style='background: rgb(188, 108, 37)'>Connor</span>  , whom he attacks again ."
      ],
      "text/plain": [
       "<IPython.core.display.HTML object>"
      ]
     },
     "metadata": {},
     "output_type": "display_data"
    },
    {
     "name": "stdout",
     "output_type": "stream",
     "text": [
      "1560\n"
     ]
    },
    {
     "data": {
      "text/html": [
       "Afterward , he discovers that his buddies can not fix the trial as  <span style='background: rgb(188, 108, 37)'>Connor</span>  is an important figure under  <span style='background: rgb(188, 108, 37)'>Scully</span>  ."
      ],
      "text/plain": [
       "<IPython.core.display.HTML object>"
      ]
     },
     "metadata": {},
     "output_type": "display_data"
    },
    {
     "name": "stdout",
     "output_type": "stream",
     "text": [
      "1565\n"
     ]
    },
    {
     "data": {
      "text/html": [
       "He finds work in a small hotel that turns out to be run by a state organizer of the  <span style='background: rgb(188, 108, 37)'>Socialist</span>   <span style='background: rgb(188, 108, 37)'>Party</span>  ."
      ],
      "text/plain": [
       "<IPython.core.display.HTML object>"
      ]
     },
     "metadata": {},
     "output_type": "display_data"
    },
    {
     "name": "stdout",
     "output_type": "stream",
     "text": [
      "1569\n"
     ]
    },
    {
     "data": {
      "text/html": [
       "Upon returning , he finds  <span style='background: rgb(188, 108, 37)'>Rachael</span>  caring for his wife ,   and stays until three o'clock ."
      ],
      "text/plain": [
       "<IPython.core.display.HTML object>"
      ]
     },
     "metadata": {},
     "output_type": "display_data"
    },
    {
     "name": "stdout",
     "output_type": "stream",
     "text": [
      "1571\n"
     ]
    },
    {
     "data": {
      "text/html": [
       "When  <span style='background: rgb(188, 108, 37)'>Louisa</span>  arrives , she is in an extreme state of distress ."
      ],
      "text/plain": [
       "<IPython.core.display.HTML object>"
      ]
     },
     "metadata": {},
     "output_type": "display_data"
    },
    {
     "name": "stdout",
     "output_type": "stream",
     "text": [
      "1572\n"
     ]
    },
    {
     "data": {
      "text/html": [
       "Ignoring  <span style='background: rgb(188, 108, 37)'>Gradgrind</span>  's pleas , he announces that unless  <span style='background: rgb(188, 108, 37)'>Louisa</span>  returns to him the next day , the marriage will end ."
      ],
      "text/plain": [
       "<IPython.core.display.HTML object>"
      ]
     },
     "metadata": {},
     "output_type": "display_data"
    },
    {
     "name": "stdout",
     "output_type": "stream",
     "text": [
      "1579\n"
     ]
    },
    {
     "data": {
      "text/html": [
       "While  <span style='background: rgb(188, 108, 37)'>Sissy</span>  is the device of imagination and fantasy in the novel , she also serves as the voice of reason ."
      ],
      "text/plain": [
       "<IPython.core.display.HTML object>"
      ]
     },
     "metadata": {},
     "output_type": "display_data"
    },
    {
     "name": "stdout",
     "output_type": "stream",
     "text": [
      "1580\n"
     ]
    },
    {
     "data": {
      "text/html": [
       "He works in  <span style='background: rgb(188, 108, 37)'>Bounderby</span>  's bank ( which he later robs ) , and turns to gambling and drinking ."
      ],
      "text/plain": [
       "<IPython.core.display.HTML object>"
      ]
     },
     "metadata": {},
     "output_type": "display_data"
    },
    {
     "name": "stdout",
     "output_type": "stream",
     "text": [
      "1584\n"
     ]
    },
    {
     "data": {
      "text/html": [
       "He takes up a job in  <span style='background: rgb(188, 108, 37)'>Bounderby</span>  's bank , and later tries to arrest  <span style='background: rgb(188, 108, 37)'>Tom</span>  ."
      ],
      "text/plain": [
       "<IPython.core.display.HTML object>"
      ]
     },
     "metadata": {},
     "output_type": "display_data"
    },
    {
     "name": "stdout",
     "output_type": "stream",
     "text": [
      "1591\n"
     ]
    },
    {
     "data": {
      "text/html": [
       "He lives on the  <span style='background: rgb(188, 108, 37)'>Yorkshire</span>   <span style='background: rgb(188, 108, 37)'>Moors</span>  in a large  <span style='background: rgb(188, 108, 37)'>English</span>  country house ,  <span style='background: rgb(188, 108, 37)'>Misselthwaite</span>   <span style='background: rgb(188, 108, 37)'>Manor</span>  ."
      ],
      "text/plain": [
       "<IPython.core.display.HTML object>"
      ]
     },
     "metadata": {},
     "output_type": "display_data"
    },
    {
     "name": "stdout",
     "output_type": "stream",
     "text": [
      "1592\n"
     ]
    },
    {
     "data": {
      "text/html": [
       "When escorted to  <span style='background: rgb(188, 108, 37)'>Misselthwaite</span>  by the housekeeper  <span style='background: rgb(188, 108, 37)'>Mrs</span>   <span style='background: rgb(188, 108, 37)'>Medlock</span>  , she discovers  <span style='background: rgb(188, 108, 37)'>Lilias</span>   <span style='background: rgb(188, 108, 37)'>Craven</span>  is dead and that  <span style='background: rgb(188, 108, 37)'>Mr</span>   <span style='background: rgb(188, 108, 37)'>Craven</span>  is a hunchback ."
      ],
      "text/plain": [
       "<IPython.core.display.HTML object>"
      ]
     },
     "metadata": {},
     "output_type": "display_data"
    },
    {
     "name": "stdout",
     "output_type": "stream",
     "text": [
      "1594\n"
     ]
    },
    {
     "data": {
      "text/html": [
       "Over time , she befriends her maid  <span style='background: rgb(188, 108, 37)'>Martha</span>   <span style='background: rgb(188, 108, 37)'>Sowerby</span>  , who tells  <span style='background: rgb(188, 108, 37)'>Mary</span>  about  <span style='background: rgb(188, 108, 37)'>Lilias</span>  , who would spend hours in a private walled garden growing roses ."
      ],
      "text/plain": [
       "<IPython.core.display.HTML object>"
      ]
     },
     "metadata": {},
     "output_type": "display_data"
    },
    {
     "name": "stdout",
     "output_type": "stream",
     "text": [
      "1595\n"
     ]
    },
    {
     "data": {
      "text/html": [
       "Soon , she comes to enjoy the company of  <span style='background: rgb(188, 108, 37)'>Martha</span>  , the gardener  <span style='background: rgb(188, 108, 37)'>Ben</span>   <span style='background: rgb(188, 108, 37)'>Weatherstaff</span>  and a friendly robin redbreast ."
      ],
      "text/plain": [
       "<IPython.core.display.HTML object>"
      ]
     },
     "metadata": {},
     "output_type": "display_data"
    },
    {
     "name": "stdout",
     "output_type": "stream",
     "text": [
      "1596\n"
     ]
    },
    {
     "data": {
      "text/html": [
       "She is startled to find a boy of her age named  <span style='background: rgb(188, 108, 37)'>Colin</span>  , who lives in a hidden bedroom ."
      ],
      "text/plain": [
       "<IPython.core.display.HTML object>"
      ]
     },
     "metadata": {},
     "output_type": "display_data"
    },
    {
     "name": "stdout",
     "output_type": "stream",
     "text": [
      "1600\n"
     ]
    },
    {
     "data": {
      "text/html": [
       " <span style='background: rgb(188, 108, 37)'>Steerforth</span>  is not mistaken , when from the outset he calls  <span style='background: rgb(188, 108, 37)'>Copperfield</span>  \" Daisy\"–a flower of spring , symbol of innocent youth ."
      ],
      "text/plain": [
       "<IPython.core.display.HTML object>"
      ]
     },
     "metadata": {},
     "output_type": "display_data"
    },
    {
     "name": "stdout",
     "output_type": "stream",
     "text": [
      "1602\n"
     ]
    },
    {
     "data": {
      "text/html": [
       " <span style='background: rgb(188, 108, 37)'>Mr</span>   <span style='background: rgb(188, 108, 37)'>Murdstone</span>  preached firmness ; in that , he was not wrong ."
      ],
      "text/plain": [
       "<IPython.core.display.HTML object>"
      ]
     },
     "metadata": {},
     "output_type": "display_data"
    },
    {
     "name": "stdout",
     "output_type": "stream",
     "text": [
      "1603\n"
     ]
    },
    {
     "data": {
      "text/html": [
       "From start to finish ,  <span style='background: rgb(188, 108, 37)'>David</span>  remains fascinated by  <span style='background: rgb(188, 108, 37)'>Steerforth</span>  , so he aspires inwardly to his social status ."
      ],
      "text/plain": [
       "<IPython.core.display.HTML object>"
      ]
     },
     "metadata": {},
     "output_type": "display_data"
    },
    {
     "name": "stdout",
     "output_type": "stream",
     "text": [
      "1604\n"
     ]
    },
    {
     "data": {
      "text/html": [
       "She goes with  <span style='background: rgb(188, 108, 37)'>Emily</span>  to start a new life in  <span style='background: rgb(188, 108, 37)'>Australia</span>  ."
      ],
      "text/plain": [
       "<IPython.core.display.HTML object>"
      ]
     },
     "metadata": {},
     "output_type": "display_data"
    },
    {
     "name": "stdout",
     "output_type": "stream",
     "text": [
      "1606\n"
     ]
    },
    {
     "data": {
      "text/html": [
       "He mentions the lavishness , energy , vividness , brilliance , and tenderness of  <span style='background: rgb(188, 108, 37)'>Dickens</span>  's writing , along with the range of his imagination ."
      ],
      "text/plain": [
       "<IPython.core.display.HTML object>"
      ]
     },
     "metadata": {},
     "output_type": "display_data"
    },
    {
     "name": "stdout",
     "output_type": "stream",
     "text": [
      "1607\n"
     ]
    },
    {
     "data": {
      "text/html": [
       "Through  <span style='background: rgb(188, 108, 37)'>Candide</span>  , he assaults  <span style='background: rgb(188, 108, 37)'>Leibniz</span>  and his optimism ."
      ],
      "text/plain": [
       "<IPython.core.display.HTML object>"
      ]
     },
     "metadata": {},
     "output_type": "display_data"
    },
    {
     "name": "stdout",
     "output_type": "stream",
     "text": [
      "1610\n"
     ]
    },
    {
     "data": {
      "text/html": [
       "She is now a prostitute , and is spending her time with a  <span style='background: rgb(188, 108, 37)'>Theatine</span>  monk ,  <span style='background: rgb(188, 108, 37)'>Brother</span>   <span style='background: rgb(188, 108, 37)'>Giroflée</span>  ."
      ],
      "text/plain": [
       "<IPython.core.display.HTML object>"
      ]
     },
     "metadata": {},
     "output_type": "display_data"
    },
    {
     "name": "stdout",
     "output_type": "stream",
     "text": [
      "1614\n"
     ]
    },
    {
     "data": {
      "text/html": [
       "Although  <span style='background: rgb(188, 108, 37)'>Siddhartha</span>  despised materialistic pursuits as a  <span style='background: rgb(188, 108, 37)'>Śamaṇa</span>  , he agrees now to  <span style='background: rgb(188, 108, 37)'>Kamala</span>  's suggestions ."
      ],
      "text/plain": [
       "<IPython.core.display.HTML object>"
      ]
     },
     "metadata": {},
     "output_type": "display_data"
    },
    {
     "name": "stdout",
     "output_type": "stream",
     "text": [
      "1615\n"
     ]
    },
    {
     "data": {
      "text/html": [
       "She directs him to the employ of  <span style='background: rgb(188, 108, 37)'>Kamaswami</span>  , a local businessman , and insists that he have  <span style='background: rgb(188, 108, 37)'>Kamaswami</span>  treat him as an equal rather than an underling ."
      ],
      "text/plain": [
       "<IPython.core.display.HTML object>"
      ]
     },
     "metadata": {},
     "output_type": "display_data"
    },
    {
     "name": "stdout",
     "output_type": "stream",
     "text": [
      "1616\n"
     ]
    },
    {
     "data": {
      "text/html": [
       "Although  <span style='background: rgb(188, 108, 37)'>Vasudeva</span>  is a simple man , he understands and relates that the river has many voices and significant messages to divulge to any who might listen ."
      ],
      "text/plain": [
       "<IPython.core.display.HTML object>"
      ]
     },
     "metadata": {},
     "output_type": "display_data"
    },
    {
     "name": "stdout",
     "output_type": "stream",
     "text": [
      "1620\n"
     ]
    },
    {
     "data": {
      "text/html": [
       "He feels that the words of the sermon , describing horrific eternal punishment in  <span style='background: rgb(188, 108, 37)'>hell</span>  , are directed at himself and ,  <span style='background: rgb(188, 108, 37)'>overwhelmed</span>  , comes to desire forgiveness ."
      ],
      "text/plain": [
       "<IPython.core.display.HTML object>"
      ]
     },
     "metadata": {},
     "output_type": "display_data"
    },
    {
     "name": "stdout",
     "output_type": "stream",
     "text": [
      "1621\n"
     ]
    },
    {
     "data": {
      "text/html": [
       " <span style='background: rgb(188, 108, 37)'>Stephen</span>  concludes that  <span style='background: rgb(188, 108, 37)'>Ireland</span>  is too restricted to allow him to express himself fully as an artist , so he decides that he will have to leave ."
      ],
      "text/plain": [
       "<IPython.core.display.HTML object>"
      ]
     },
     "metadata": {},
     "output_type": "display_data"
    },
    {
     "name": "stdout",
     "output_type": "stream",
     "text": [
      "1623\n"
     ]
    },
    {
     "data": {
      "text/html": [
       "He finds the great variety and volatility of human nature to be its most basic features , which resonates to the  <span style='background: rgb(188, 108, 37)'>Renaissance</span>  thought about the fragility of humans ."
      ],
      "text/plain": [
       "<IPython.core.display.HTML object>"
      ]
     },
     "metadata": {},
     "output_type": "display_data"
    },
    {
     "name": "stdout",
     "output_type": "stream",
     "text": [
      "1630\n"
     ]
    },
    {
     "data": {
      "text/html": [
       "She overhears a conversation in which  <span style='background: rgb(188, 108, 37)'>Louisa</span>  tells  <span style='background: rgb(188, 108, 37)'>Wentworth</span>  that  <span style='background: rgb(188, 108, 37)'>Charles</span>   <span style='background: rgb(188, 108, 37)'>Musgrove</span>  first proposed to  <span style='background: rgb(188, 108, 37)'>Anne</span>  , who turned him down ."
      ],
      "text/plain": [
       "<IPython.core.display.HTML object>"
      ]
     },
     "metadata": {},
     "output_type": "display_data"
    },
    {
     "name": "stdout",
     "output_type": "stream",
     "text": [
      "1631\n"
     ]
    },
    {
     "data": {
      "text/html": [
       "Although  <span style='background: rgb(188, 108, 37)'>Anne</span>  wants to like  <span style='background: rgb(188, 108, 37)'>William</span>  , the attention and his manners , she finds his character opaque and difficult to judge ."
      ],
      "text/plain": [
       "<IPython.core.display.HTML object>"
      ]
     },
     "metadata": {},
     "output_type": "display_data"
    },
    {
     "name": "stdout",
     "output_type": "stream",
     "text": [
      "1635\n"
     ]
    },
    {
     "data": {
      "text/html": [
       "She is instrumental in  <span style='background: rgb(188, 108, 37)'>Sir</span>   <span style='background: rgb(188, 108, 37)'>Walter</span>  's decision to leave  <span style='background: rgb(188, 108, 37)'>Kellynch</span>   <span style='background: rgb(188, 108, 37)'>Hall</span>  and avoid financial crisis ."
      ],
      "text/plain": [
       "<IPython.core.display.HTML object>"
      ]
     },
     "metadata": {},
     "output_type": "display_data"
    },
    {
     "name": "stdout",
     "output_type": "stream",
     "text": [
      "1637\n"
     ]
    },
    {
     "data": {
      "text/html": [
       "He is one of  <span style='background: rgb(188, 108, 37)'>Sophia</span>   <span style='background: rgb(188, 108, 37)'>Croft</span>  's two brothers ."
      ],
      "text/plain": [
       "<IPython.core.display.HTML object>"
      ]
     },
     "metadata": {},
     "output_type": "display_data"
    },
    {
     "name": "stdout",
     "output_type": "stream",
     "text": [
      "1642\n"
     ]
    },
    {
     "data": {
      "text/html": [
       "Despite rumours that he is interested in  <span style='background: rgb(188, 108, 37)'>Elizabeth</span>  , he instead turns his attentions towards  <span style='background: rgb(188, 108, 37)'>Anne</span>  ."
      ],
      "text/plain": [
       "<IPython.core.display.HTML object>"
      ]
     },
     "metadata": {},
     "output_type": "display_data"
    },
    {
     "name": "stdout",
     "output_type": "stream",
     "text": [
      "1645\n"
     ]
    },
    {
     "data": {
      "text/html": [
       "She refuses to become part of the machinery with which  <span style='background: rgb(188, 108, 37)'>Fanny</span>  is manoeuvring herself into forming the engagement ."
      ],
      "text/plain": [
       "<IPython.core.display.HTML object>"
      ]
     },
     "metadata": {},
     "output_type": "display_data"
    },
    {
     "name": "stdout",
     "output_type": "stream",
     "text": [
      "1646\n"
     ]
    },
    {
     "data": {
      "text/html": [
       "He refers to men called the  <span style='background: rgb(188, 108, 37)'>Oye</span>  -  <span style='background: rgb(188, 108, 37)'>Eboe</span>  who brought goods like guns , gunpowder and dried fish ."
      ],
      "text/plain": [
       "<IPython.core.display.HTML object>"
      ]
     },
     "metadata": {},
     "output_type": "display_data"
    },
    {
     "name": "stdout",
     "output_type": "stream",
     "text": [
      "1647\n"
     ]
    },
    {
     "data": {
      "text/html": [
       "He emphasises that  <span style='background: rgb(188, 108, 37)'>Vassa</span>  only used his  <span style='background: rgb(188, 108, 37)'>African</span>  name in his autobiography ."
      ],
      "text/plain": [
       "<IPython.core.display.HTML object>"
      ]
     },
     "metadata": {},
     "output_type": "display_data"
    },
    {
     "name": "stdout",
     "output_type": "stream",
     "text": [
      "1648\n"
     ]
    },
    {
     "data": {
      "text/html": [
       "Reaching  <span style='background: rgb(188, 108, 37)'>San</span>   <span style='background: rgb(188, 108, 37)'>Diego</span>  , he detours to a forested land once owned by the  <span style='background: rgb(188, 108, 37)'>Ibarras</span>  to retrieve more of his treasures buried in the mausoleum ."
      ],
      "text/plain": [
       "<IPython.core.display.HTML object>"
      ]
     },
     "metadata": {},
     "output_type": "display_data"
    },
    {
     "name": "stdout",
     "output_type": "stream",
     "text": [
      "1649\n"
     ]
    },
    {
     "data": {
      "text/html": [
       "Sometime later , he sees  <span style='background: rgb(188, 108, 37)'>Simoun</span>  enter the house with the lamp , then hastily exit the house and board his carriage ."
      ],
      "text/plain": [
       "<IPython.core.display.HTML object>"
      ]
     },
     "metadata": {},
     "output_type": "display_data"
    },
    {
     "name": "stdout",
     "output_type": "stream",
     "text": [
      "1650\n"
     ]
    },
    {
     "data": {
      "text/html": [
       "He then spends the rest of his days hiding in the ancestral mansion of  <span style='background: rgb(188, 108, 37)'>Padre</span>   <span style='background: rgb(188, 108, 37)'>Florentino</span>  ,  <span style='background: rgb(188, 108, 37)'>Isagani</span>  's uncle ."
      ],
      "text/plain": [
       "<IPython.core.display.HTML object>"
      ]
     },
     "metadata": {},
     "output_type": "display_data"
    },
    {
     "name": "stdout",
     "output_type": "stream",
     "text": [
      "1651\n"
     ]
    },
    {
     "data": {
      "text/html": [
       "He goes on to narrate how thirteen years before , as  <span style='background: rgb(188, 108, 37)'>Crisóstomo</span>   <span style='background: rgb(188, 108, 37)'>Ibarra</span>  , he lost everything in the  <span style='background: rgb(188, 108, 37)'>Philippines</span>  despite his good intentions ."
      ],
      "text/plain": [
       "<IPython.core.display.HTML object>"
      ]
     },
     "metadata": {},
     "output_type": "display_data"
    },
    {
     "name": "stdout",
     "output_type": "stream",
     "text": [
      "1655\n"
     ]
    },
    {
     "data": {
      "text/html": [
       "Chapter Four –  <span style='background: rgb(188, 108, 37)'>Tweedledum</span>  and  <span style='background: rgb(188, 108, 37)'>Tweedledee</span>  : She then meets the fat twin brothers  <span style='background: rgb(188, 108, 37)'>Tweedledum</span>  and  <span style='background: rgb(188, 108, 37)'>Tweedledee</span>  , whom she knows from the nursery rhyme ."
      ],
      "text/plain": [
       "<IPython.core.display.HTML object>"
      ]
     },
     "metadata": {},
     "output_type": "display_data"
    },
    {
     "name": "stdout",
     "output_type": "stream",
     "text": [
      "1656\n"
     ]
    },
    {
     "data": {
      "text/html": [
       "In the process , he introduces  <span style='background: rgb(188, 108, 37)'>Alice</span>  to the concept of portmanteau words , before his inevitable fall ."
      ],
      "text/plain": [
       "<IPython.core.display.HTML object>"
      ]
     },
     "metadata": {},
     "output_type": "display_data"
    }
   ],
   "source": [
    "for i in range(1500,len(all_sentences)):\n",
    "    prop=get_propn(all_sentences[i])[1]\n",
    "\n",
    "    if not all(item in already_added_propn for item in prop): #if all the proper names havent appear yet\n",
    "        print(i)\n",
    "        display(HTML(highlight_word(all_sentences[i],'rgb(188, 108, 37)')))\n",
    "    \n",
    "    already_added_propn+=prop\n",
    "    #already_added_propn=list(set(already_added_propn))"
   ]
  },
  {
   "cell_type": "markdown",
   "metadata": {},
   "source": [
    "# Create workbook"
   ]
  },
  {
   "cell_type": "code",
   "execution_count": 17,
   "metadata": {},
   "outputs": [],
   "source": [
    "import xlsxwriter"
   ]
  },
  {
   "cell_type": "code",
   "execution_count": 18,
   "metadata": {},
   "outputs": [],
   "source": [
    "import pickle\n",
    "with open(os.path.join(DATA_PATH, 'all_sentences.pkl'),'rb') as f:\n",
    "    phrases=pickle.load(f)"
   ]
  },
  {
   "cell_type": "code",
   "execution_count": 20,
   "metadata": {},
   "outputs": [],
   "source": [
    "\n",
    "workbook=xlsxwriter.Workbook(os.path.join(DATA_PATH, \"Phrases.xlsx\"))\n",
    "worksheet=workbook.add_worksheet('Phrases')\n",
    "\n",
    "cell_format_names=workbook.add_format()\n",
    "cell_format_names.set_bg_color('#95d5b2')\n",
    "\n",
    "cell_format_pron=workbook.add_format()\n",
    "cell_format_pron.set_bg_color('#ddb892')\n",
    "\n",
    "row_index=0\n",
    "\n",
    "for p_idx in range(len(phrases)):\n",
    "    worksheet.write(row_index,0, \"Original\")\n",
    "    for token_idx in range(0, len(phrases[p_idx])):\n",
    "        token = phrases[p_idx][token_idx]\n",
    "        worksheet.write(row_index,token_idx + 1, token.text)\n",
    "    \n",
    "    for key in [\"All Female\", \"All Male\", \"Subject Female\", \"Subject Male\"]:\n",
    "        row_index += 1\n",
    "        worksheet.write(row_index, 0, key)\n",
    "    \n",
    "    row_index += 1\n",
    "\n",
    "workbook.close()"
   ]
  },
  {
   "cell_type": "code",
   "execution_count": null,
   "metadata": {},
   "outputs": [],
   "source": []
  }
 ],
 "metadata": {
  "interpreter": {
   "hash": "c0568189e475ff095f8d58e708f11d5183d1019c3e0d991b7e7d0732f0bba373"
  },
  "kernelspec": {
   "display_name": "Python 3.9.6 ('mycodes-FWgFXy1r')",
   "language": "python",
   "name": "python3"
  },
  "language_info": {
   "codemirror_mode": {
    "name": "ipython",
    "version": 3
   },
   "file_extension": ".py",
   "mimetype": "text/x-python",
   "name": "python",
   "nbconvert_exporter": "python",
   "pygments_lexer": "ipython3",
   "version": "3.11.3"
  },
  "orig_nbformat": 4
 },
 "nbformat": 4,
 "nbformat_minor": 2
}

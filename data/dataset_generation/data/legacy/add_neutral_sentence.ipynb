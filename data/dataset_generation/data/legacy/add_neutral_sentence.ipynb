{
 "cells": [
  {
   "cell_type": "code",
   "execution_count": 1,
   "metadata": {},
   "outputs": [],
   "source": [
    "%load_ext autoreload\n",
    "%autoreload 2"
   ]
  },
  {
   "cell_type": "code",
   "execution_count": 26,
   "metadata": {},
   "outputs": [
    {
     "name": "stderr",
     "output_type": "stream",
     "text": [
      "[nltk_data] Downloading package averaged_perceptron_tagger_eng to\n",
      "[nltk_data]     /home/hjal/nltk_data...\n",
      "[nltk_data]   Package averaged_perceptron_tagger_eng is already up-to-\n",
      "[nltk_data]       date!\n",
      "[nltk_data] Downloading package punkt to /home/hjal/nltk_data...\n",
      "[nltk_data]   Package punkt is already up-to-date!\n"
     ]
    }
   ],
   "source": [
    "import os\n",
    "from labelling import Labelling\n",
    "\n",
    "base_path = \"./merged_labelling_v2.json\"\n",
    "\n",
    "base_labelling = Labelling(base_path)\n",
    "\n",
    "for sentence in base_labelling:\n",
    "    sentence.add_neutral_gender()\n",
    "    \n",
    "base_labelling.to_json_file(\"./merged_labelling_with_neutral.json\")"
   ]
  },
  {
   "cell_type": "code",
   "execution_count": 20,
   "metadata": {},
   "outputs": [
    {
     "name": "stdout",
     "output_type": "stream",
     "text": [
      "True\n",
      "They\n",
      "False\n",
      "dismisses\n",
      "sarcastically\n",
      "True\n",
      "They\n",
      "False\n",
      "dismisses\n"
     ]
    },
    {
     "data": {
      "text/plain": [
       "['dismisses', 'dismisses']"
      ]
     },
     "execution_count": 20,
     "metadata": {},
     "output_type": "execute_result"
    }
   ],
   "source": [
    "base_labelling.add_neutral_gender(6)"
   ]
  },
  {
   "cell_type": "code",
   "execution_count": null,
   "metadata": {},
   "outputs": [],
   "source": []
  },
  {
   "cell_type": "code",
   "execution_count": 9,
   "metadata": {},
   "outputs": [
    {
     "data": {
      "text/plain": [
       "'[\"son\", \"Lord\", \"Mrs. \", \"girls\", \"husband\", \"Dona\", \"brothers\", \"marchioness\", \"Men\", \"sisters\", \"clergywoman\", \"Frenchwoman\", \"King\", \"mother\", \"servents\", \"watchwoman\", \"her \", \"girl\", \"Countess\", \"brother\", \"He \", \"Mr. \", \"warlock\", \"Mr.\", \"Warlock\", \"housekeeper\", \"Duchess\", \"workwomen\", \"Queen\", \"Mr\", \"boy\", \"half-brother\", \"headmistress\", \"maid\", \"uncle\", \"miter\", \"gay\", \"heiress\", \"himself\", \"everywoman\", \"man\", \"Aunt\", \"male\", \"priestess\", \"queens\", \"stepmother\", \"Prince\", \"suitresses\", \"She \", \"heroine\", \"cabwoman\", \"Sister\", \"actor\", \"Sir\", \"husbnd\", \"bishopess\", \"queen\", \"wife\", \"Girls\", \"headmaster\", \"gods\", \"governor\", \"boy \", \"schoolmistress\", \"charman\", \"Mrs\", \"sister\", \"nun\", \"grandfather\", \"fianc\\\\u00e9\", \"aunt\", \"girlish\", \"father\", \"Daughters\", \"huntress\", \"duchess\", \"coachwoman\", \"widow\", \"daughters\", \"husband \", \"suitress\", \"Princess\", \"Madam\", \"hsi\", \"she \", \"women\", \"Mister \", \"butler\", \" \", \"Mister\", \"girlfriend\", \"servant\", \"Suitresses\", \"daughter\", \"salesboy\", \"Countess \", \"landlord\", \"duke\", \"washerman\", \"Monsieur\", \"Monsieur \", \"his \", \"bachelorette\", \"shr\", \"fatherhood\", \"Uncle\", \"Madre\", \"great-grandmother\", \"woodswoman\", \"grandmother\", \"count\", \"Governess\", \"woman\", \"Ste.\", \"Lioness\", \"businesswoman\", \"godesses\", \"Mrs.\", \"herself\", \"governor \", \"countess\", \"lady\", \"saleswoman\", \"gentleman\", \"step-mother\", \"fianc\\\\u00e9e\", \"heir\", \"chieftainess\", \"nephew\", \"mistress\", \"niece\", \"king\", \"boys\", \"huntresses\", \"maternal\"]'"
      ]
     },
     "execution_count": 9,
     "metadata": {},
     "output_type": "execute_result"
    }
   ],
   "source": [
    "import json\n",
    "json.dumps(unknown_words)"
   ]
  }
 ],
 "metadata": {
  "kernelspec": {
   "display_name": ".venv",
   "language": "python",
   "name": "python3"
  },
  "language_info": {
   "codemirror_mode": {
    "name": "ipython",
    "version": 3
   },
   "file_extension": ".py",
   "mimetype": "text/x-python",
   "name": "python",
   "nbconvert_exporter": "python",
   "pygments_lexer": "ipython3",
   "version": "3.11.7"
  }
 },
 "nbformat": 4,
 "nbformat_minor": 2
}

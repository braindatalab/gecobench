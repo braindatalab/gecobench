{
 "cells": [
  {
   "cell_type": "code",
   "execution_count": 2,
   "metadata": {},
   "outputs": [],
   "source": [
    "%load_ext autoreload\n",
    "%autoreload 2"
   ]
  },
  {
   "cell_type": "code",
   "execution_count": 26,
   "metadata": {},
   "outputs": [
    {
     "name": "stderr",
     "output_type": "stream",
     "text": [
      "[nltk_data] Downloading package averaged_perceptron_tagger_eng to\n",
      "[nltk_data]     /home/hjal/nltk_data...\n",
      "[nltk_data]   Package averaged_perceptron_tagger_eng is already up-to-\n",
      "[nltk_data]       date!\n",
      "[nltk_data] Downloading package punkt to /home/hjal/nltk_data...\n",
      "[nltk_data]   Package punkt is already up-to-date!\n"
     ]
    }
   ],
   "source": [
    "import pandas as pd\n",
    "import numpy as np\n",
    "import random\n",
    "import os\n",
    "\n",
    "DATA_PATH = \"./data\"\n",
    "OUTPUT_PATH = \"../raw\"\n",
    "os.makedirs(DATA_PATH, exist_ok=True)\n",
    "os.makedirs(OUTPUT_PATH, exist_ok=True)"
   ]
  },
  {
   "cell_type": "code",
   "execution_count": 27,
   "metadata": {},
   "outputs": [
    {
     "name": "stderr",
     "output_type": "stream",
     "text": [
      "100%|██████████| 1610/1610 [00:01<00:00, 1273.52it/s]\n"
     ]
    },
    {
     "name": "stdout",
     "output_type": "stream",
     "text": [
      "272\n"
     ]
    }
   ],
   "source": [
    "from labelling import Labelling\n",
    "from tqdm import tqdm\n",
    "\n",
    "data_path = os.path.join(DATA_PATH, \"legacy/all_phrases.json\")\n",
    "labelling = Labelling(data_path)\n",
    "\n",
    "check_manually = []\n",
    "for idx, sentence in tqdm(enumerate(labelling), total=len(labelling)):\n",
    "    sentence.add_sentence_tag()\n",
    "    success = sentence.remove_first_name()\n",
    "    if not success:\n",
    "        check_manually.append(idx)\n",
    "\n",
    "print(len(check_manually))\n",
    "\n",
    "labelling.to_json_file(\"./names_removed.json\")\n",
    "\n",
    "labelling.labelling_template.sentences = {\n",
    "    i: labelling.labelling_template.sentences[i] for i in check_manually\n",
    "}\n",
    "\n",
    "labelling.to_json_file(\"./manual_check_2.json\")\n"
   ]
  },
  {
   "cell_type": "code",
   "execution_count": 24,
   "metadata": {},
   "outputs": [
    {
     "name": "stdout",
     "output_type": "stream",
     "text": [
      "4 tag=2 replacement=None\n",
      "Unknown\n",
      "4 tag=1 replacement=None\n",
      "Unknown\n",
      "4 tag=1 replacement=None\n",
      "Unknown\n",
      "4 tag=1 replacement=None\n",
      "Unknown\n"
     ]
    },
    {
     "data": {
      "text/plain": [
       "True"
      ]
     },
     "execution_count": 24,
     "metadata": {},
     "output_type": "execute_result"
    }
   ],
   "source": [
    "s = labelling.labelling_template.sentences[1]\n",
    "s.remove_first_name()"
   ]
  }
 ],
 "metadata": {
  "kernelspec": {
   "display_name": ".venv",
   "language": "python",
   "name": "python3"
  },
  "language_info": {
   "codemirror_mode": {
    "name": "ipython",
    "version": 3
   },
   "file_extension": ".py",
   "mimetype": "text/x-python",
   "name": "python",
   "nbconvert_exporter": "python",
   "pygments_lexer": "ipython3",
   "version": "3.11.7"
  }
 },
 "nbformat": 4,
 "nbformat_minor": 2
}

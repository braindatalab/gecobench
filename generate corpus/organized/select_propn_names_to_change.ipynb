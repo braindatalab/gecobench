{
 "cells": [
  {
   "cell_type": "code",
   "execution_count": 1,
   "metadata": {},
   "outputs": [],
   "source": [
    "import pickle\n",
    "\n",
    "with open('nouns_keep.pkl', 'rb') as f:\n",
    "    nouns_keep = pickle.load(f)\n",
    "\n",
    "with open('PROPN_keep.pkl', 'rb') as f:\n",
    "    PROPN_keep=pickle.load(f)\n",
    "\n",
    "with open('pronouns_keep.pkl', 'rb') as f:\n",
    "    pronouns_keep=pickle.load( f)"
   ]
  },
  {
   "cell_type": "code",
   "execution_count": 43,
   "metadata": {},
   "outputs": [],
   "source": [
    "def get_propn(doc):\n",
    "    #doc is a spacy doc sentence \n",
    "    propns=[]\n",
    "    propns_text=[]\n",
    "    for token in doc:\n",
    "        if token.pos_=='PROPN':\n",
    "            propns.append(token)\n",
    "            propns_text.append(token.text)\n",
    "    return [propns,propns_text]"
   ]
  },
  {
   "cell_type": "markdown",
   "metadata": {},
   "source": [
    "Adding all the proper nouns of the three sentence lists to a list."
   ]
  },
  {
   "cell_type": "code",
   "execution_count": 13,
   "metadata": {},
   "outputs": [],
   "source": [
    "pn=[]\n",
    "for i in nouns_keep:\n",
    "    pn+=get_propn(i)\n",
    "for i in PROPN_keep:\n",
    "    pn+=get_propn(i)\n",
    "for i in pronouns_keep:\n",
    "    pn+=get_propn(i)"
   ]
  },
  {
   "cell_type": "markdown",
   "metadata": {},
   "source": [
    "Deleting those that are repeated"
   ]
  },
  {
   "cell_type": "code",
   "execution_count": 14,
   "metadata": {},
   "outputs": [],
   "source": [
    "pn_str=[name.text for name in pn ]"
   ]
  },
  {
   "cell_type": "code",
   "execution_count": 15,
   "metadata": {},
   "outputs": [
    {
     "data": {
      "text/plain": [
       "3391"
      ]
     },
     "execution_count": 15,
     "metadata": {},
     "output_type": "execute_result"
    }
   ],
   "source": [
    "len(pn_str)"
   ]
  },
  {
   "cell_type": "code",
   "execution_count": 18,
   "metadata": {},
   "outputs": [],
   "source": [
    "pn_str_dif=list(set(pn_str)) #names that are not repeated"
   ]
  },
  {
   "cell_type": "code",
   "execution_count": 20,
   "metadata": {},
   "outputs": [
    {
     "name": "stdout",
     "output_type": "stream",
     "text": [
      "['Sargent', 'Nibs', 'Utterson', 'Grange', 'Churchill', 'West', 'los', 'Hans', 'Zeus', 'Pickering', 'Clytemnestra', 'Andrés', 'Balnibarbi', 'Yard', 'Starbuck', 'Peleg', 'Deasy', 'Van', 'Cap', 'Biddy', 'Moscow', 'Gilbert', 'Dimmesdale', 'beggar', 'Wentworth', 'Europe', 'Musgrove', 'Lion', 'Javert', 'Sofya', 'Bounderby', 'Brocklehurst', 'Universidad', 'Gulliver', 'Harry', 'Muff', 'Laguna', 'Pedro', 'Mormons', 'Gardiners', 'Pavlovich', 'Ben', 'Harker', 'Tiburcio', 'Dmitri', 'Drummle', 'Jordan', 'Freeman', 'Age', 'Compeyson', 'Horse', 'Tommy', 'artisan', 'Renfield', 'Battle', 'Frenzied', 'Valentine', 'Sally', 'Eve', 'White', 'Martha', 'America', 'Karenin', 'Socialist', 'Pearl', 'Petrovich', 'Darnay', 'Elton', 'York', 'Central', 'Vasudeva', 'Canada', 'Tiago', 'Giroflée', 'parish', 'Longbourn', 'Knightley', 'Cosette', 'London', 'Rose', 'Pyotr', 'Hands', 'Elías', 'Boston', 'Arete', 'Hallward', 'Wendy', 'Caderousse', 'Becky', 'Madrid', 'Samsa', 'Kurtz', 'Weatherstaff', 'Quiroga', 'Heathcliff', 'Ona', 'Edna', 'Carmody', 'Monte', 'Karataev', 'convict', 'Quincey', 'blacksmith', 'Veslovsky', 'Mina', 'Thérien', 'Princess', 'Sibyl', 'Fanny', 'Gummidge', 'Rodion', 'Ibarras', 'Devil', 'Massachusetts', 'Plaza', 'Gradgrind', 'Demodocus', 'San', 'Nick', 'Poole', 'Kolya', 'Trojan', 'January', 'Traddles', 'General', 'Eumaeus', 'Lorry', 'Abbé', 'Adèle', 'Ahab', 'Laurie', 'Isabella', 'Wicked', 'Stangerson', 'Blefuscu', 'Tinker', 'Kansas', 'Church', 'Curly', 'María', 'Valjean', 'Agnes', 'Bentley', 'Tassels', 'Carolinas', 'Eva', 'Augustine', 'Pierre', 'Elliot', 'Frank', 'Rue', 'hybris', 'Bitzer', 'Silver', 'Oz', 'Chillingworth', 'Dr', 'sermon', 'Frederick', 'Queequeg', 'Navy', 'Expectations', 'Semyon', 'December', 'Maria', 'Spitz', 'Williams', 'Dick', 'Bedwin', 'Grinnel', 'Sagpang', 'Shakespeare', 'Candide', 'Higgins', 'Uncle', 'Walter', 'Lizaveta', 'Kirillovich', 'Tim', 'Rochester', 'Rank', 'Nantucket', 'Smee', 'Estella', 'Natalya', 'Arkadyevna', 'Midwesterner', 'Blake', 'serviam', 'Slightly', 'Roger', 'Thrushcross', 'Georgiana', 'Louis', 'Jackson', 'Distraught', 'Manhattan', 'Amy', 'Beelzebub', 'Robert', 'Jane', 'Rachel', 'Mrs.', 'Basil', 'Marseille', 'Tiger', 'Quixote', 'Zamyotov', 'Heights', 'Emily', 'Evangeline', 'Huckleberry', 'Jurgis', 'Alcée', 'Lebrun', 'Cratchit', 'Weston', 'Loo', 'Bay', 'Boq', 'Zosima', 'Tassel', 'Joe', 'Moors', 'Menelaus', 'Jondrettes', 'Yahoo', 'Azelma', 'Sons', 'Gatsby', 'Peggotty', 'Satis', 'Bird', 'Russia', 'Katrina', 'Telemachus', 'Danglars', 'Crane', 'Bloom', 'Sissy', 'heaven', 'Quaker', 'Lake', 'Unhappy', 'Lazarus', 'Plumet', 'Rand', 'Harville', 'Gabriel', 'River', 'Russell', 'Andrea', 'Villefort', 'John', 'Eloi', 'Whitby', 'gematria', 'Katerina', 'Salem', 'Sarah', 'Ernest', 'Professor', 'Sunday', 'Fierabras', 'Victorina', 'Jesuits', 'Potter', 'Freddy', 'Sowerberrys', 'Darling', 'Reed', 'Butt', 'Dublin', 'American', 'Knave', 'Buchanan', 'Purefoy', 'Doolittle', 'Crete', 'Mr', 'February', 'Scotland', 'Marie', 'Guinea', 'Seward', 'Douglass', 'Doña', 'Bertuccio', 'Calypso', 'Diego', 'Richmond', 'Maximilien', 'swineherd', 'Wickfield', 'Bezukhov', 'Carton', 'James', 'Agamemnon', 'Dámaso', 'Gerty', 'Lisbon', 'Borodino', 'Tiny', 'Blanche', 'Scharff', 'Holmwood', 'Great', 'Mycenae', 'Kong', 'Taylor', 'Tellson', 'Pequod', 'Dunya', 'Walden', 'Derbyshire', 'Tom', 'Cathy', 'Jazz', 'Andersen', 'Journal', 'Kensington', 'Fantine', 'Alfred', 'Glubbdubdrib', 'Smith', 'Stephen', 'Red', 'Maylies', 'Cervantes', 'Ilyich', 'Superintendent', 'Toto', 'Dickens', 'Montfermeil', 'Guevarra', 'Samuel', 'Ilyusha', 'Tootles', 'Voigt', 'Florentino', 'Gardiner', 'Achaeans', 'Samsonov', 'Rostova', 'Fan', 'Loker', 'Apollo', 'Bildad', 'Phelps', 'Council', 'Elinor', 'Jennie', 'Charles', 'Institution', 'Duane', 'Woodman', 'Daisy', 'Saint', 'Blackpool', 'Edgar', 'Mentes', 'Throwaway', 'wolf', 'Budapest', 'Gardens', 'Minnesota', 'Moncrieff', 'Kirilovich', 'T.', 'fox', 'Craven', 'Svidrigailov', 'Kitty', 'Silas', 'Lieutenant', 'Revelation', 'Australia', 'Enjolras', 'Mademoiselle', 'Pearce', 'Eugénie', 'Henry', 'Pip', 'Enfield', 'Waterloo', 'Faustus', 'Freemasons', 'Dracula', 'Platon', 'Orlick', 'Salt', 'Bella', 'Greece', 'Myrtle', 'McDougal', 'Maimie', 'Brownlow', 'Bracknell', 'Non', 'Raskolnikov', 'Seine', 'Dickon', 'Count', 'Bhaer', 'Bridge', 'Anloague', 'Monkeys', 'wall', 'Natasha', 'Laurence', 'Stiva', 'Cemetery', 'Dulcinea', 'Hermes', 'Emerald', 'Chryseis', 'fright', 'Harthouse', 'Lucas', 'Junior', 'Jim', 'Patron', 'Thesprotia', 'Ichabod', 'Rostov', 'Gregor', 'Helen', 'Nancy', 'St.', 'Netherfield', 'II', 'Busoni', 'Reisz', 'Bernardo', 'Defarge', 'barangay', 'Library', 'Seryozha', 'Artful', 'Valdes', 'Colin', 'Maylie', 'Edward', 'Leeford', 'Szgany', 'Troy', 'goat', 'Sparta', 'Espadaña', 'David', 'Thetis', 'George', 'Liverpool', 'Josiah', 'Steerforth', 'Morris', 'Chicago', 'Alexei', 'Napoleon', 'Marquis', 'Alcinous', 'Drubetskaya', 'Misselthwaite', 'Luggnagg', 'Charpentier', 'Gateshead', 'Inn', 'Pond', 'Munchkin', 'Achilles', 'Em', 'Chriseis', 'World', 'Helsing', 'Boys', 'Darcy', 'epic', 'Gavroche', 'Zakharovich', 'Reyes', 'Patroclus', 'Herbert', 'Boris', 'Hera', 'Anne', 'Mme', 'Dolokhov', 'Manor', 'Myriel', 'Sonya', 'Yale', 'Liberty', 'Book', 'Abraham', 'Miss', 'Grace', 'Mikhaylovna', 'Simon', 'Rachael', 'Africa', \"'\", 'Dr.', 'Cavalcanti', 'Houyhnhnms', 'Baker', 'William', 'Monks', 'Ivanovich', 'House', 'Ireland', 'Ophelia', 'Padre', 'Clara', 'Magwitch', 'Lockwood', 'Party', 'Kamaswami', 'Grete', 'Bashee', 'Hélène', 'Big', 'Wickham', 'Edwin', 'M.', 'Sophia', 'Norland', 'Oliver', 'Charming', 'Twins', 'Scholars', 'Barrio', 'Yorkshire', 'Kamala', 'Father', 'Piccaninny', 'Irregulars', 'Razumikhin', 'Joyce', 'Day', 'Homer', 'Lilliput', 'Hastie', 'Garden', 'de', 'Emboldened', 'Suitors', 'Weena', 'Anatole', 'Young', 'Alice', 'Lucy', 'Brooke', 'iconoclast', 'Orthodox', 'Clarriker', 'Italy', 'Ferrars', 'Bantam', 'Nathaniel', 'Twist', 'Bruce', 'Anna', 'ME', 'Antinous', 'Varens', 'Edmond', 'Tashkent', 'Belle', 'Oye', 'Bernard', 'Country', 'Unconquered', 'Marmee', 'Isle', 'Steele', 'Stone', 'Porfiry', 'Bedford', 'Versailles', 'Pandaros', 'Stanhope', 'Green', 'Twain', 'Hearts', 'Lachaise', 'Vronsky', 'Avery', 'England', 'XIV', 'Faria', 'Pharaon', 'Israel', 'Grand', 'Danvers', 'inn', 'Penelope', 'Gables', 'Eynsford', 'Harriet', 'Aunt', 'Hyde', 'Sikes', 'Jacobs', 'Dodger', 'Hope', 'Scarecrow', 'Scholarship', 'Huck', 'Scully', 'Gradgrinds', 'National', 'Hecuba', 'Isagani', 'Hindley', 'Fyodor', 'Siddhartha', 'd', 'Forces', 'Madame', 'Clare', 'Thénardiers', 'Thornfield', 'Diana', 'Catherine', 'Marius', 'Rivers', 'Drebber', 'Burns', 'Mullingar', 'Enderby', 'Marilla', 'Christmas', 'Revolution', 'Mulligan', 'Panther', 'Thénardier', 'Election', 'Murdstone', 'Lydia', 'Mercédès', 'Parker', 'Aggrieved', 'Pocket', 'Cairo', 'Pasig', 'Dorian', 'Manila', 'Ratignolle', 'Rocinante', 'Clares', 'Washington', 'Sleepy', 'Alps', 'Mercedes', 'Morlocks', 'Yeehats', 'Ishmael', 'Mrs', 'Torvald', 'Xanthos', 'Road', 'Hummels', 'Flint', 'Bell', 'Duke', 'France', 'Harris', 'Elizabeth', 'Little', 'Pete', 'Expeditionary', 'Phaeacians', 'Sensing', 'Thomas', 'Milly', 'Capitán', 'Bellingham', 'Ken', 'Gwendolen', 'Riborg', 'Moby', 'Gulf', 'Freemason', 'Street', 'Jerry', 'Friedrich', 'Louisa', 'Prince', 'Wiltshire', 'Marija', 'Hector', 'Hester', 'Coketown', 'Barsad', 'Hong', 'Meg', 'Jekyll', 'cabeza', 'Krogstad', 'Finn', 'Gryphon', 'Museum', 'Odysseus', 'Resurrection', 'Dover', 'Arthur', 'Pooh', 'Romanovich', 'Jack', 'Departing', 'Alcott', 'Neverland', 'Fred', 'Spaniard', 'Mr.', 'Uppercross', 'Island', 'Alec', 'Minette', 'New', 'Orléans', 'Creakle', 'Thornton', 'Levin', 'Marmeladovs', 'Wemmick', 'Injun', 'Kapitán', 'Liberia', 'Bath', 'Bridgewater', 'Jesus', 'Śamaṇa', 'Petersburg', 'Booker', 'Henrietta', 'French', 'Leibniz', 'Lost', 'Lizzie', 'Mephistophilis', 'Ivan', 'Mary', 'Cave', 'Golden', 'Manette', 'united', 'Dimitri', 'Petya', 'Gillenormand', 'Brandon', 'Hareton', 'Léonce', 'Governor', 'Oxford', 'Lanyon', 'Martin', 'Salví', 'Equator', 'Cristo', 'Munchkins', 'Karamazov', 'Havisham', 'Jaggers', 'Lodge', 'Watson', 'Gatz', 'Sir', 'God', 'Hills', 'Women', 'Priam', 'Startop', 'Cornelia', 'Gray', 'Eibarramendia', 'Musgroves', 'Cardenio', 'Achaean', 'Spain', 'Orleans', 'Lilliputians', 'Ivanovna', 'Albert', 'Winkie', 'Sowerby', 'Croft', 'Emma', 'Burton', 'Collins', 'Fauchelevent', 'Rudy', 'Irene', 'Père', 'Gervais', 'Eliza', 'Shaw', 'Kentucky', 'Buck', 'Barnard', 'Lowood', 'Willoughby', 'Athena', 'Omaha', 'Ohio', 'devil', 'Willis', 'Luxembourg', 'Tin', 'Westons', 'City', 'Delaford', 'Christian', 'Galicians', 'Hall', 'Nora', 'Carr', 'Basilio', 'Quixano', 'Cunégonde', 'Hook', 'Charley', 'Grushenka', 'Blefuscudians', 'Gargery', 'Simoun', 'Karenina', 'Puritans', 'Benwick', 'Pross', 'Lily', 'Thatcher', 'Holmes', 'Copperfield', 'Mendez', 'Arkady', 'Legree', 'Tales', 'Fedallah', 'Garrett', 'Sleary', 'Andersdatter', 'Bates', 'Charlotte', 'Trojans', 'Nikolai', 'Marianne', 'Don', 'Lucifer', 'Dantès', 'Daggoo', 'Egypt', 'Marlow', 'Queen', 'Gunn', 'Andrei', 'Eyre', 'Witch', 'Rostovs', 'Winged', 'Hotel', 'Theatine', 'Crown', 'Brixton', 'Crisóstomo', 'Lark', 'Annie', 'Devils', 'Vane', 'Briseis', 'Pan', 'Ithaca', 'Chopin', 'Eboe', 'Medlock', 'Clifford', 'Hispaniola', 'Bingley', 'Private', 'Cassy', 'Kristine', 'Peter', 'Beth', 'Hal', 'Hayter', 'Mannering', 'Siberia', 'India', 'Leeds', 'Luzhin', 'Bible', 'Field', 'Shelby', 'Captain', 'Scrooge', 'Wuthering', 'Kent', 'Richard', 'Colonel', 'Carew', 'Eurycleia', 'Yankee', 'EAT', 'cabby', 'Topsy', 'Tiani', 'Phemius', 'Sancho', 'Canadian', 'Bennet', 'March', 'Gospel', 'Marmeladov', 'Anastacio', 'Wagner', 'Elba', 'Polydamas', 'Molly', 'Tagalog', 'Micawbers', 'Éponine', 'Tashtego', 'Nestor', 'Jefferson', 'Lady', 'Switzerland', 'Kellynch', 'September', 'Emmeline', 'Smerdyakov', 'Sparsit', 'Toledo', 'King', 'Lilias', 'Africans', 'Alyosha', 'English', 'Connor', 'Paris', 'Micomicona', 'Mexico', 'Algernon', 'Fagin', 'Lucie', 'Unaware', 'Brother', 'Dorothy', 'Ibarra', 'Hollow', 'nod', 'Cornelius', 'Antichrist', 'Lyons', 'Jo']\n"
     ]
    }
   ],
   "source": [
    "print(pn_str_dif)"
   ]
  },
  {
   "cell_type": "markdown",
   "metadata": {},
   "source": [
    "goddess"
   ]
  },
  {
   "cell_type": "code",
   "execution_count": 1,
   "metadata": {},
   "outputs": [
    {
     "ename": "SyntaxError",
     "evalue": "invalid syntax (703193117.py, line 8)",
     "output_type": "error",
     "traceback": [
      "\u001b[1;36m  Input \u001b[1;32mIn [1]\u001b[1;36m\u001b[0m\n\u001b[1;33m    'Louisa','Clara','Elizabeth'  ,'Marie','Riborg'  ,'Louisa'   ,'Sissy' ,'Penelope','Fanny' ,'Elinor'  ,'Azelma' ,'Fantine' ,'Cosette',  ,'Anna','Mikhaylovna','Natalya','Natasha',\u001b[0m\n\u001b[1;37m                                                                                                                                           ^\u001b[0m\n\u001b[1;31mSyntaxError\u001b[0m\u001b[1;31m:\u001b[0m invalid syntax\n"
     ]
    }
   ],
   "source": [
    "names=['Alice','Eliza' ,'Nora','Hester','Edna' ,'Mercedes' ,'Lilias'  ,'Rachael','Mary','Martha','Emily','Lydia' ,'Sophia' ,'Kamala'  ,'Diana' ,\n",
    "'Georgiana','Lizaveta','Jennie','Eliza','George'   ,'Chopin' ,'Seryozha' ,'Arete' ,'Micomicona' ,'Weena'  ,'Sofya'  ,'Jerry','Sibyl','Rudy'  ,\n",
    "'Hélène','Hera' ,'Mercédès'   ,'Helen' ,'Isagani','Alice'  ,'Quiroga','Tiani'  ,'Fanny'  ,'Agnes' ,'Louisa','Harthouse'  ,'Sissy'  ,'Emma','Harriet','Stiva','Ona', 'Marija'  ,'Isabella','Cathy','Irene','Eliza','Eva','Topsy' ,'Kapitán' ,'María' ,'Clara' ,\n",
    "'Nancy','Henry'  ,'Eliza' ,'Alfred'  ,'Thornton'  ,'Rose' ,'Cornelia' ,'Lucy' ,'Katrina' ,'Ichabod' ,'Marianne','Hope'  ,'Ophelia','Emmeline'  ,'Cassy'  ,'Eva' ,'Charlotte',\n",
    "'Annie','Edgar'  ,'Catherine' ,'Karenina'  ,'Arkadyevna' ,'Anna'  ,'Charlotte','Penelope' ,'Clytemnestra' ,'Lily','Valentine','Myriel','Grushenka' ,'Cosette','Éponine','Marilla',\n",
    "'Athena','Calypso'    ,'Anne'  ,'Alyosha' ,'Katerina'  ,'Beth','Lizzie','Fan'   ,'Em' ,'Marmee' ,'Laurie' ,'Beth' ,'Meg' ,'Jo' ,'Amy' ,'Dorothy'  ,'Jane','Maimie' ,'Eugénie' ,'Lucie',\n",
    "'Kristine','Mina' ,'Molly','Dunya' ,'Gwendolen'  ,'Biddy' ,'Hester','Sonya' ,'Katerina'   ,'Rachel','Lucy'    ,'Myrtle' ,'Daisy'  ,'Chriseis','Briseis','Éponine' ,'Eurycleia',\n",
    "'Louisa','Clara','Elizabeth'  ,'Marie','Riborg'  ,'Louisa'   ,'Sissy' ,'Penelope','Fanny' ,'Elinor'  ,'Azelma' ,'Fantine' ,'Cosette',  ,'Anna','Mikhaylovna','Natalya','Natasha',\n",
    "'Thetis' ,'Anna' , 'Athena', 'Eva'  ,'Adèle' ,'Kitty','Edna','Frank'  ,'Pearl','Grete', 'Sally', 'Blake','Milly' ,'Gerty' ,'Mina','Maria','Petya' ,'Chryseis' ,'Briseis' ,'Athena'  ,'Wendy',\n",
    "'Hélène','Natasha' ,'Sonya'  ,'Hecuba'  ,'Bella'  ,'Lucy','Estella','Grace' ,'Jane','Sarah','Blanche',    \n",
    "'Henry','Nestor','Hector','Fagin','Gabriel','James' ,'Jefferson','Pedro','Ben' ,'Tommy','Siddhartha','William'   ,'Scharff'  ,'Giroflée' ,'Scully' \n",
    ",'Connor' ,'Leibniz' ,'Abbé' ,'Pete','Thornton','Hal'  ,'Buck' ,'Charles'  ,'Oliver','Hans'  ,'Alcée' ,'Colin','Charles','Friedrich','Gervais','Enjolras' ,'Léonce' ,'Alexei' ,'Anastacio'  ,'Kirillovich' ,\n",
    "'Gavroche','Eumaeus' ,'Odysseus'   ,'Phemius' ,'Alcinous' ,'Fyodor' ,'Ivan' ,'Fauchelevent'  ,'Israel' ,'Flint' ,'Ben' ,'Cratchit'  ,'Tin' ,'Florentino','Semyon' ,'Roger',\n",
    "'Dimmesdale' ,'Jim' ,'Zakharovich','Bantam','Hester' ,'Alec' ,'Patroclus' ,'Petya' ,'Walden'  ,'Pyotr' ,'Throwaway'  ,'Garrett'  ,'John'  ,'Capitán' ,'Basil', 'Herbert' ,\n",
    "'Renfield' ,'Dracula'  ,'Dorian' ,'David' ,'James','Josiah' ,'Bitzer'  ,'Junior' ,'Thomas' ,'Jurgis','Connor' ,'Jack'  ,'Antinous','Hindley','Hareton' ,'Thrushcross','George',\n",
    "'Crisóstomo','Bernardo','Elías','Fagin','Freddy'  ,'Pickering' ,'Buck' ,'Spitz','Faustus' ,'Edward' ,'Brandon'  ,'Drebber' ,'Cornelius','Lucifer' ,'Beelzebub'  ,\n",
    "'Mephistophilis' ,'Nathaniel','Grinnel'   ,'Oliver','Pedro' ,'Jacobs'  ,'Basilio' ,'Pedro'  ,'Padre'  ,'Arthur'   ,'Harry'  ,'Heathcliff' ,'Robert'  ,'MaJavert','Fyodor',\n",
    "'Zosima' ,'Telemachus','Odysseus' ,'Demodocus'  ,'Don','Dulcinea','Nestor' ,'Rocinante','Andrés' ,'Mentes' ,'Gilbert' ,'Quixano'   , 'Alyosha','Kolya'  ,'Ilyusha' ,\n",
    " 'Maximilien','Fred','Ivan' ,'Alyosha'  ,'Dmitri' ,'Fyodor' ,'Marius' ,'Becky','Huckleberry'  ,'Jim' ,'Muff'  ,'Injun' ,'John' ,'Alcott' ,'Henry' ,'Boq' ,'Andrea' ,'Albert' ,\n",
    " 'Danglars' ,'Caderousse' ,'Bertuccio' ,'Richard','Tootles','Nibs','Edmond'  , 'Slightly' , 'Curly'  ,'Poole','Tinker','Joe','Orlick' ,'Herbert','Huck' ,'Jack' ,'Algernon',\n",
    " 'Ernest'   ,'Clarriker','Marlow','Romanovich' ,'Porfiry' ,'Rodion'  ,'Gregor'  ,'Startop' ,'Pip' ,'Herbert' ,'Bentley'   ,'John', ,'Hastie' ,'Oliver','Jordan','Carton' ,'Samuel' ,\n",
    " 'Daggoo' ,'James','Dorian','Bildad','Queequeg'   ,'Peleg'  ,'Ishmael'  ,'Charley','Artful','Nick' ,'Henry','Brandon' ,'David' ,'Stephen' ,'Charles'   ,'Edwin' ,'Bernard' ,'John',\n",
    " 'Edward'  ,'William',  ,'Buck'  ,'Polydamas','Dantès','Booker' ,'Pierre','Pyotr','Andrei','Platon' ,'Achilles', 'Homer' ,'Peter' ,'Odysseus','Pandaros','Menelaus','Polydamas',\n",
    " 'Hector' ,'Achilles','Hermes'   ,'Priam'   ,'Patroclus'   ,'Apollo'   ,'Anatole' ,'Nikolai','Napoleon'  ,'Andrei'  ,'Marius'  ,'Frederick', 'T. ','Ken'  ,'Arkady',\n",
    " 'Huck' ,'Jim' ,'Stephen','Boris','Andrei','Anatole','Apollo','Achilles', 'Patroclus','Tom' ,'Simon','Harry','Elías'  ,'Crisóstomo'  ,'George' ,'Léonce' ,'Robert','Ares' ,'Zeus',\n",
    " 'Diomedes'  , 'Agamemnon'     ,'James' ,'Silas'  ,'Ivanovich' ,'Torvald','Tashtego','Kurtz' ,'Gregor'  ,'Ahab' ,'Marlow' , 'Fedallah' , 'Abraham', 'Danvers','Pip' ,'Joe', ]\n",
    "\n",
    "surname=['Gatsby','Gatz','Twist' ,'Raskolnikov','Williams','Sowerby','Weatherstaff' ,'Vasudeva' ,'Walter' ,'Elliot' ,'Croft' ,'Steerforth','Kamaswami' ,'Traddles' ,\n",
    "'Candide' ,'Copperfield'  ,'Steerforth'   ,'Craven' ,'Medlock' ,'Drebber' ,'Stangerson' ,'Hope' ,'Faria','Busoni','Russell','Benwick','Darcy','Woodman','Hands'  ,'Louis','Taylor' ,\n",
    "'Weston' ,'Vronsky','Tashkent','Harris'     ,'Gunn' ,'Bhaer','Pavlovich'  ,'Dimitri' ,'Ivanovna' ,'Wickham' ,'Chillingworth','Marmeladov' ,'Watson' ,'Lazarus','Deasy','Clifford',\n",
    "'Stanhope','Versailles'  ,'Villefort' ,'Priam','Darling'  ,'Thérien' ,'Pond'  ,'Lyons','Ilyich'   ,'Raskolnikov'   ,'Vane' ,'Gray' ,'Burns' ,'Pocket' ,'Hallward','Midwesterner' ,\n",
    "'Marquis','Pross'   ,'Wickham' ,'Simoun' ,'Basilio' ,'Leeds'  ,'Salví' ,'Dickon','Wentworth'  ,'Musgrove','Hayter','Smith' ,'Benwick'  ,'Wentworth'  ,'Gummidge','Micawbers'  ,\n",
    "'Peggotty' ,'Wickfield' ,'Bounderby','Creakle'  ,'Pooh' ,'Gradgrind' ,'Sleary' ,'Duane','Sparsit','Harthouse'   ,'Blackpool' ,'Sparsit' ,'Gradgrind' ,'Vronsky','Lockwood',\n",
    "'Grange' ,'Wiltshire' ,'Shelby','Tiago' ,'Salví' ,'Dámaso' ,'Gulliver','Lilliputians','Blefuscudians','Glubbdubdrib','Valdes','Holmes','Charpentier' , 'Crane' ,'Steele' ,\n",
    "'Willoughby'  ,'Wagner' ,'Parker' ,'Willis' ,'Balnibarbi' ,'Bruce' ,'Houyhnhnms'    ,'Brownlow','Bedwin' ,'Doolittle' ,'Pearce' ,'Maylie' ,'Higgins'  ,'Sowerberrys' ,\n",
    "'Eibarramendia'   ,'Loker' ,'Legree'   ,'Martin','Knightley'  ,'Elton' ,'Westons' ,'Ratignolle' ,'Reisz' ,'Lebrun' ,'Bhaer','Hummels','Pavlovich','Quixote','Sancho', 'Cardenio'  ,\n",
    "'Smerdyakov' ,'Samsonov' ,'Karamazov'  ,'Ivanovna' ,'Potter','Finn','Gillenormand'  , 'Javert'  ,'Thatcher' ,'Joe' ,'Cavalcanti','Laurence' , 'Villefort' ,'Brooke'  ,'Barsad',\n",
    "'Defarge','Lanyon','Pan','Smee' ,'Dantès' , 'Hook' ,'Mannering' ,'Bell' ,'Richmond','Magwitch','Dimmesdale','Samsa','Twain' ,'Bracknell' ,'Raskolnikov','Luzhin' ,'Zamyotov',\n",
    "'Ivanovna'  , 'Petrovich','Razumikhin'   ,'Marmeladov'  ,'Raskolnikov'  ,'Wemmick','Varens' ,'Eyre'  ,'Brocklehurst' ,'Gargery' ,'Compeyson'  ,'Jaggers' ,'Havisham' ,\n",
    "'Enfield','Drummle' ,'Rank','Enderby','Harker' ,'Quincey' ,'Holmwood' ,'Dracula'  ,'Starbuck'  ,'Krogstad'  ,'Collins','Darcy','Baker','Darnay'  ,'Pross','Lorry','Manette' ,\n",
    "'Bloom'  ,'Purefoy' ,'Rostov' ,'Dolokhov','Rostovs' ,'Karataev'    ,'Buchanan','Kirilovich' , 'Bezukhov' ,'Lucas' ,'Gardiner'  ,'Phelps','Bates','Dodger','Higgins','Jekyll',\n",
    " 'Brownlow','Gradgrind','Bounderby','Peggotty','Andersen' ,'Bennet' ,'Bingley' ,'Musgroves' ,'Voigt' ,'Andersdatter'    ,'Murdstone'  ,'Watson' ,'Holmes','Shaw','Leeford',\n",
    " 'Ferrars','Gulliver' ,'Danglars','Valjean' , 'Thénardier' ,'Washington', 'Scrooge' ,'Morris'  ,'Douglass'  ,'Deasy', 'Rostovs' ,'Rostova' ,'Drubetskaya','Vronsky','Levin',\n",
    " 'Karenin' ,'Guevarra' , 'Tiburcio' ,'Legree'  ,'Reisz' ,'Churchill' ,'Svidrigailov' ,'Starbuck','Bellingham' ,'Chillingworth' ,'Seward','Reed','Rochester ', 'Utterson',\n",
    "  'Hyde' ,'Havisham','Jaggers' ,'Wemmick'   , 'Jekyll', 'Lanyon' , 'Carew'  ]\n",
    "\n",
    "complex_name=[ 'de Mendez' ,'Doña Victorina de los Reyes de de Espadaña', 'Oye - Eboe','van Helsing','Van Tassel','Patron - Minette',\n",
    "'Eynsford - Hills ', 'Tiny Tim' ] #these can be changes for just one name \"the wizard of oz\"\n",
    "\n",
    "names_as_propn=['King','Queen','Knave of Hearts','Red Queen','Gryphon' ,'Wicked Witch of the West ']"
   ]
  },
  {
   "cell_type": "code",
   "execution_count": 21,
   "metadata": {},
   "outputs": [],
   "source": [
    "import re\n",
    "def highlight_word(phrase,colour_propn):\n",
    "    # phrase is a doc string\n",
    "    # colour is a string with rgb values (ex. 'rgb(155,217,230)')\n",
    "\n",
    "    sent=[]\n",
    "\n",
    "    for token in phrase:\n",
    "        if token.text in pn_str_dif:\n",
    "            sent.append(\" <span style='background: {}'>{}</span> \".format(colour_propn,token.text))\n",
    "        else:\n",
    "            sent.append(token.text)\n",
    "\n",
    "    \n",
    "    return ' '.join(sent) #returns a string"
   ]
  },
  {
   "cell_type": "code",
   "execution_count": 25,
   "metadata": {},
   "outputs": [
    {
     "data": {
      "text/html": [
       "A young girl named  <span style='background: rgb(25, 108, 56)'>Alice</span>  falls through a rabbit hole into a fantasy world of anthropomorphic creatures ."
      ],
      "text/plain": [
       "<IPython.core.display.HTML object>"
      ]
     },
     "metadata": {},
     "output_type": "display_data"
    }
   ],
   "source": [
    "# nouns_after\n",
    "# propn_after_single \n",
    "# phrases_pron\n",
    "\n",
    "\n",
    "from IPython.display import HTML\n",
    "all_sentences=nouns_keep+PROPN_keep+pronouns_keep\n",
    "\n",
    "p=nouns_keep[1]\n",
    "\n",
    "display(HTML(highlight_word(p,'rgb(25, 108, 56)')))"
   ]
  },
  {
   "cell_type": "code",
   "execution_count": 26,
   "metadata": {},
   "outputs": [
    {
     "data": {
      "text/plain": [
       "1687"
      ]
     },
     "execution_count": 26,
     "metadata": {},
     "output_type": "execute_result"
    }
   ],
   "source": [
    "len(all_sentences)"
   ]
  },
  {
   "cell_type": "code",
   "execution_count": 32,
   "metadata": {},
   "outputs": [
    {
     "data": {
      "text/plain": [
       "True"
      ]
     },
     "execution_count": 32,
     "metadata": {},
     "output_type": "execute_result"
    }
   ],
   "source": [
    "a=[1,2,3,4]\n",
    "b=[1,2,8]\n",
    "not all(item in a for item in b)"
   ]
  },
  {
   "cell_type": "code",
   "execution_count": 37,
   "metadata": {},
   "outputs": [
    {
     "name": "stdout",
     "output_type": "stream",
     "text": [
      "[Alice, Jazz, Age, Gatsby, Henry, Gatz, London, Dover, Nora, Ahab, Ahab, Ahab, Nantucket, Ahab, Fedallah, Seward, Professor, Abraham, Van, Helsing, Lucy, Lucy, Hyde, Jekyll, Jekyll, Hyde, Jekyll, Jekyll, Utterson, Jekyll, Hyde, Jekyll, Jekyll, Utterson, Jekyll, Scotland, Yard, Sir, Danvers, Carew, Pip, Joe, Pip, Miss, Havisham, Pip, Pip, Crown, Pip, Pip, Wemmick, Jaggers, Pip, Jane, Sarah, Reed, Blanche, Mr., Rochester, Blanche, Gateshead, Grace, Rochester, Thornfield, Thornfield, St., John, Thornfield, Chillingworth, Pearl, Governor, Bellingham, Africans, Kurtz, Kurtz, Kurtz, Kurtz, Kurtz, Kurtz, Grete, Gregor, Gregor, Gregor, Arkady, Ivanovich, Svidrigailov, Raskolnikov, Jim, Jackson, Island, Duke, Bridgewater, Jim, Silas, Sally, Phelps, Blake, James, London, Ireland]\n"
     ]
    }
   ],
   "source": [
    "print(already_added_propn[:100])"
   ]
  },
  {
   "cell_type": "code",
   "execution_count": 47,
   "metadata": {},
   "outputs": [
    {
     "data": {
      "text/plain": [
       "['Alice']"
      ]
     },
     "execution_count": 47,
     "metadata": {},
     "output_type": "execute_result"
    }
   ],
   "source": [
    "get_propn(all_sentences[1])[1]"
   ]
  },
  {
   "cell_type": "code",
   "execution_count": 58,
   "metadata": {},
   "outputs": [],
   "source": [
    "already_added_propn=[]"
   ]
  },
  {
   "cell_type": "code",
   "execution_count": 63,
   "metadata": {},
   "outputs": [
    {
     "name": "stdout",
     "output_type": "stream",
     "text": [
      "1502\n"
     ]
    },
    {
     "data": {
      "text/html": [
       "During  <span style='background: rgb(188, 108, 37)'>Eliza</span>  's escape , she meets up with her husband  <span style='background: rgb(188, 108, 37)'>George</span>   <span style='background: rgb(188, 108, 37)'>Harris</span>  , who had run away previously ."
      ],
      "text/plain": [
       "<IPython.core.display.HTML object>"
      ]
     },
     "metadata": {},
     "output_type": "display_data"
    },
    {
     "name": "stdout",
     "output_type": "stream",
     "text": [
      "1503\n"
     ]
    },
    {
     "data": {
      "text/html": [
       "Before she dies she experiences a vision of  <span style='background: rgb(188, 108, 37)'>heaven</span>  , which she shares with the people around her ."
      ],
      "text/plain": [
       "<IPython.core.display.HTML object>"
      ]
     },
     "metadata": {},
     "output_type": "display_data"
    },
    {
     "name": "stdout",
     "output_type": "stream",
     "text": [
      "1505\n"
     ]
    },
    {
     "data": {
      "text/html": [
       "However , he has two visions , one of  <span style='background: rgb(188, 108, 37)'>Jesus</span>  and one of  <span style='background: rgb(188, 108, 37)'>Eva</span>  , which renew his resolve to remain a faithful  <span style='background: rgb(188, 108, 37)'>Christian</span>  , even unto death ."
      ],
      "text/plain": [
       "<IPython.core.display.HTML object>"
      ]
     },
     "metadata": {},
     "output_type": "display_data"
    },
    {
     "name": "stdout",
     "output_type": "stream",
     "text": [
      "1514\n"
     ]
    },
    {
     "data": {
      "text/html": [
       "He was then a student of medicine at the  <span style='background: rgb(188, 108, 37)'>Universidad</span>   <span style='background: rgb(188, 108, 37)'>Central</span>   <span style='background: rgb(188, 108, 37)'>de</span>   <span style='background: rgb(188, 108, 37)'>Madrid</span>  ."
      ],
      "text/plain": [
       "<IPython.core.display.HTML object>"
      ]
     },
     "metadata": {},
     "output_type": "display_data"
    },
    {
     "name": "stdout",
     "output_type": "stream",
     "text": [
      "1516\n"
     ]
    },
    {
     "data": {
      "text/html": [
       "He receives counsel from  <span style='background: rgb(188, 108, 37)'>Don</span>   <span style='background: rgb(188, 108, 37)'>Anastacio</span>  , a revered local philosopher , who refers him to a progressive schoolmaster ."
      ],
      "text/plain": [
       "<IPython.core.display.HTML object>"
      ]
     },
     "metadata": {},
     "output_type": "display_data"
    },
    {
     "name": "stdout",
     "output_type": "stream",
     "text": [
      "1519\n"
     ]
    },
    {
     "data": {
      "text/html": [
       " <span style='background: rgb(188, 108, 37)'>Frenzied</span>  , he raises his bolo to smite  <span style='background: rgb(188, 108, 37)'>Crisóstomo</span>  , but regains his senses and leaves the house very upset ."
      ],
      "text/plain": [
       "<IPython.core.display.HTML object>"
      ]
     },
     "metadata": {},
     "output_type": "display_data"
    },
    {
     "name": "stdout",
     "output_type": "stream",
     "text": [
      "1525\n"
     ]
    },
    {
     "data": {
      "text/html": [
       "He writes using an invented form of alphabet that is based on the  <span style='background: rgb(188, 108, 37)'>Tagalog</span>  language , hoping \" that the future generations may be able to decipher it ."
      ],
      "text/plain": [
       "<IPython.core.display.HTML object>"
      ]
     },
     "metadata": {},
     "output_type": "display_data"
    },
    {
     "name": "stdout",
     "output_type": "stream",
     "text": [
      "1526\n"
     ]
    },
    {
     "data": {
      "text/html": [
       "Apparently , she uses the whole name  <span style='background: rgb(188, 108, 37)'>Doña</span>   <span style='background: rgb(188, 108, 37)'>Victorina</span>   <span style='background: rgb(188, 108, 37)'>de</span>   <span style='background: rgb(188, 108, 37)'>los</span>   <span style='background: rgb(188, 108, 37)'>Reyes</span>   <span style='background: rgb(188, 108, 37)'>de</span>   <span style='background: rgb(188, 108, 37)'>de</span>   <span style='background: rgb(188, 108, 37)'>Espadaña</span>  , with double  <span style='background: rgb(188, 108, 37)'>de</span>  to emphasize her marriage surname ."
      ],
      "text/plain": [
       "<IPython.core.display.HTML object>"
      ]
     },
     "metadata": {},
     "output_type": "display_data"
    },
    {
     "name": "stdout",
     "output_type": "stream",
     "text": [
      "1532\n"
     ]
    },
    {
     "data": {
      "text/html": [
       "She knows that  <span style='background: rgb(188, 108, 37)'>Monks</span>  and  <span style='background: rgb(188, 108, 37)'>Fagin</span>  are plotting to get their hands on the boy again , and offers to meet again any  <span style='background: rgb(188, 108, 37)'>Sunday</span>  night on  <span style='background: rgb(188, 108, 37)'>London</span>  bridge ."
      ],
      "text/plain": [
       "<IPython.core.display.HTML object>"
      ]
     },
     "metadata": {},
     "output_type": "display_data"
    },
    {
     "name": "stdout",
     "output_type": "stream",
     "text": [
      "1534\n"
     ]
    },
    {
     "data": {
      "text/html": [
       "Nonetheless , in  <span style='background: rgb(188, 108, 37)'>Oliver</span>   <span style='background: rgb(188, 108, 37)'>Twist</span>  , he delivers a somewhat mixed message about social caste and social injustice ."
      ],
      "text/plain": [
       "<IPython.core.display.HTML object>"
      ]
     },
     "metadata": {},
     "output_type": "display_data"
    },
    {
     "name": "stdout",
     "output_type": "stream",
     "text": [
      "1538\n"
     ]
    },
    {
     "data": {
      "text/html": [
       "Returning to the campsite one day , he finds  <span style='background: rgb(188, 108, 37)'>Hans</span>  ,  <span style='background: rgb(188, 108, 37)'>Pete</span>  , and  <span style='background: rgb(188, 108, 37)'>Thornton</span>  along with their dogs have been murdered by Native  <span style='background: rgb(188, 108, 37)'>American</span>   <span style='background: rgb(188, 108, 37)'>Yeehats</span>  ."
      ],
      "text/plain": [
       "<IPython.core.display.HTML object>"
      ]
     },
     "metadata": {},
     "output_type": "display_data"
    },
    {
     "name": "stdout",
     "output_type": "stream",
     "text": [
      "1539\n"
     ]
    },
    {
     "data": {
      "text/html": [
       "He fights them and wins , then discovers that the lone  <span style='background: rgb(188, 108, 37)'>wolf</span>  he had socialized with is a pack member ."
      ],
      "text/plain": [
       "<IPython.core.display.HTML object>"
      ]
     },
     "metadata": {},
     "output_type": "display_data"
    },
    {
     "name": "stdout",
     "output_type": "stream",
     "text": [
      "1540\n"
     ]
    },
    {
     "data": {
      "text/html": [
       "When  <span style='background: rgb(188, 108, 37)'>Buck</span>  is sold to  <span style='background: rgb(188, 108, 37)'>Charles</span>  ,  <span style='background: rgb(188, 108, 37)'>Hal</span>  , and  <span style='background: rgb(188, 108, 37)'>Mercedes</span>  , he finds himself in a camp that is dirty ."
      ],
      "text/plain": [
       "<IPython.core.display.HTML object>"
      ]
     },
     "metadata": {},
     "output_type": "display_data"
    },
    {
     "name": "stdout",
     "output_type": "stream",
     "text": [
      "1550\n"
     ]
    },
    {
     "data": {
      "text/html": [
       "However , he refuses to reduce the island nation of  <span style='background: rgb(188, 108, 37)'>Blefuscu</span>  to a province of  <span style='background: rgb(188, 108, 37)'>Lilliput</span>  , displeasing the  <span style='background: rgb(188, 108, 37)'>King</span>  and the royal court ."
      ],
      "text/plain": [
       "<IPython.core.display.HTML object>"
      ]
     },
     "metadata": {},
     "output_type": "display_data"
    },
    {
     "name": "stdout",
     "output_type": "stream",
     "text": [
      "1552\n"
     ]
    },
    {
     "data": {
      "text/html": [
       "On the island of  <span style='background: rgb(188, 108, 37)'>Luggnagg</span>  , he encounters the struldbrugs , people who are immortal ."
      ],
      "text/plain": [
       "<IPython.core.display.HTML object>"
      ]
     },
     "metadata": {},
     "output_type": "display_data"
    },
    {
     "name": "stdout",
     "output_type": "stream",
     "text": [
      "1554\n"
     ]
    },
    {
     "data": {
      "text/html": [
       "He is disgusted to see that  <span style='background: rgb(188, 108, 37)'>Captain</span>   <span style='background: rgb(188, 108, 37)'>Pedro</span>   <span style='background: rgb(188, 108, 37)'>de</span>   <span style='background: rgb(188, 108, 37)'>Mendez</span>  , whom he considers a  <span style='background: rgb(188, 108, 37)'>Yahoo</span>  , is a wise , courteous , and generous person ."
      ],
      "text/plain": [
       "<IPython.core.display.HTML object>"
      ]
     },
     "metadata": {},
     "output_type": "display_data"
    },
    {
     "name": "stdout",
     "output_type": "stream",
     "text": [
      "1560\n"
     ]
    },
    {
     "data": {
      "text/html": [
       "He tries to bind the demon to his service , but is unable to because  <span style='background: rgb(188, 108, 37)'>Mephistophilis</span>  already serves  <span style='background: rgb(188, 108, 37)'>Lucifer</span>  , who is also called the  <span style='background: rgb(188, 108, 37)'>Prince</span>  of  <span style='background: rgb(188, 108, 37)'>Devils</span>  ."
      ],
      "text/plain": [
       "<IPython.core.display.HTML object>"
      ]
     },
     "metadata": {},
     "output_type": "display_data"
    },
    {
     "name": "stdout",
     "output_type": "stream",
     "text": [
      "1566\n"
     ]
    },
    {
     "data": {
      "text/html": [
       "He also reveals that his aunt said she would have forgiven him if he married  <span style='background: rgb(188, 108, 37)'>Miss</span>   <span style='background: rgb(188, 108, 37)'>Williams</span>  but that he had refused ."
      ],
      "text/plain": [
       "<IPython.core.display.HTML object>"
      ]
     },
     "metadata": {},
     "output_type": "display_data"
    },
    {
     "name": "stdout",
     "output_type": "stream",
     "text": [
      "1571\n"
     ]
    },
    {
     "data": {
      "text/html": [
       "He is the leader of the  <span style='background: rgb(188, 108, 37)'>Baker</span>   <span style='background: rgb(188, 108, 37)'>Street</span>   <span style='background: rgb(188, 108, 37)'>Irregulars</span>  , a group of street children  <span style='background: rgb(188, 108, 37)'>Holmes</span>  employs to help him occasionally ."
      ],
      "text/plain": [
       "<IPython.core.display.HTML object>"
      ]
     },
     "metadata": {},
     "output_type": "display_data"
    },
    {
     "name": "stdout",
     "output_type": "stream",
     "text": [
      "1572\n"
     ]
    },
    {
     "data": {
      "text/html": [
       "He then announces the captive  <span style='background: rgb(188, 108, 37)'>cabby</span>  as  <span style='background: rgb(188, 108, 37)'>Jefferson</span>   <span style='background: rgb(188, 108, 37)'>Hope</span>  , the murderer of  <span style='background: rgb(188, 108, 37)'>Drebber</span>  and  <span style='background: rgb(188, 108, 37)'>Stangerson</span>  ."
      ],
      "text/plain": [
       "<IPython.core.display.HTML object>"
      ]
     },
     "metadata": {},
     "output_type": "display_data"
    },
    {
     "name": "stdout",
     "output_type": "stream",
     "text": [
      "1573\n"
     ]
    },
    {
     "data": {
      "text/html": [
       "When he returns several years later , he learns that  <span style='background: rgb(188, 108, 37)'>Drebber</span>  and  <span style='background: rgb(188, 108, 37)'>Stangerson</span>  have fled  <span style='background: rgb(188, 108, 37)'>Salt</span>   <span style='background: rgb(188, 108, 37)'>Lake</span>   <span style='background: rgb(188, 108, 37)'>City</span>  after a schism between the  <span style='background: rgb(188, 108, 37)'>Mormons</span>  ."
      ],
      "text/plain": [
       "<IPython.core.display.HTML object>"
      ]
     },
     "metadata": {},
     "output_type": "display_data"
    },
    {
     "name": "stdout",
     "output_type": "stream",
     "text": [
      "1579\n"
     ]
    },
    {
     "data": {
      "text/html": [
       "While in prison awaiting trial , he realizes it is  <span style='background: rgb(188, 108, 37)'>Christmas</span>   <span style='background: rgb(188, 108, 37)'>Eve</span>  ."
      ],
      "text/plain": [
       "<IPython.core.display.HTML object>"
      ]
     },
     "metadata": {},
     "output_type": "display_data"
    },
    {
     "name": "stdout",
     "output_type": "stream",
     "text": [
      "1582\n"
     ]
    },
    {
     "data": {
      "text/html": [
       "Without shedding a tear , he walks away from  <span style='background: rgb(188, 108, 37)'>Chicago</span>  ."
      ],
      "text/plain": [
       "<IPython.core.display.HTML object>"
      ]
     },
     "metadata": {},
     "output_type": "display_data"
    },
    {
     "name": "stdout",
     "output_type": "stream",
     "text": [
      "1586\n"
     ]
    },
    {
     "data": {
      "text/html": [
       "Afterward , he discovers that his buddies can not fix the trial as  <span style='background: rgb(188, 108, 37)'>Connor</span>  is an important figure under  <span style='background: rgb(188, 108, 37)'>Scully</span>  ."
      ],
      "text/plain": [
       "<IPython.core.display.HTML object>"
      ]
     },
     "metadata": {},
     "output_type": "display_data"
    },
    {
     "name": "stdout",
     "output_type": "stream",
     "text": [
      "1589\n"
     ]
    },
    {
     "data": {
      "text/html": [
       "He begins to  <span style='background: rgb(188, 108, 37)'>nod</span>  off ."
      ],
      "text/plain": [
       "<IPython.core.display.HTML object>"
      ]
     },
     "metadata": {},
     "output_type": "display_data"
    },
    {
     "name": "stdout",
     "output_type": "stream",
     "text": [
      "1591\n"
     ]
    },
    {
     "data": {
      "text/html": [
       "He finds work in a small hotel that turns out to be run by a state organizer of the  <span style='background: rgb(188, 108, 37)'>Socialist</span>   <span style='background: rgb(188, 108, 37)'>Party</span>  ."
      ],
      "text/plain": [
       "<IPython.core.display.HTML object>"
      ]
     },
     "metadata": {},
     "output_type": "display_data"
    },
    {
     "name": "stdout",
     "output_type": "stream",
     "text": [
      "1617\n"
     ]
    },
    {
     "data": {
      "text/html": [
       "He lives on the  <span style='background: rgb(188, 108, 37)'>Yorkshire</span>   <span style='background: rgb(188, 108, 37)'>Moors</span>  in a large  <span style='background: rgb(188, 108, 37)'>English</span>  country house ,  <span style='background: rgb(188, 108, 37)'>Misselthwaite</span>   <span style='background: rgb(188, 108, 37)'>Manor</span>  ."
      ],
      "text/plain": [
       "<IPython.core.display.HTML object>"
      ]
     },
     "metadata": {},
     "output_type": "display_data"
    },
    {
     "name": "stdout",
     "output_type": "stream",
     "text": [
      "1618\n"
     ]
    },
    {
     "data": {
      "text/html": [
       "When escorted to  <span style='background: rgb(188, 108, 37)'>Misselthwaite</span>  by the housekeeper  <span style='background: rgb(188, 108, 37)'>Mrs</span>   <span style='background: rgb(188, 108, 37)'>Medlock</span>  , she discovers  <span style='background: rgb(188, 108, 37)'>Lilias</span>   <span style='background: rgb(188, 108, 37)'>Craven</span>  is dead and that  <span style='background: rgb(188, 108, 37)'>Mr</span>   <span style='background: rgb(188, 108, 37)'>Craven</span>  is a hunchback ."
      ],
      "text/plain": [
       "<IPython.core.display.HTML object>"
      ]
     },
     "metadata": {},
     "output_type": "display_data"
    },
    {
     "name": "stdout",
     "output_type": "stream",
     "text": [
      "1620\n"
     ]
    },
    {
     "data": {
      "text/html": [
       "Over time , she befriends her maid  <span style='background: rgb(188, 108, 37)'>Martha</span>   <span style='background: rgb(188, 108, 37)'>Sowerby</span>  , who tells  <span style='background: rgb(188, 108, 37)'>Mary</span>  about  <span style='background: rgb(188, 108, 37)'>Lilias</span>  , who would spend hours in a private walled garden growing roses ."
      ],
      "text/plain": [
       "<IPython.core.display.HTML object>"
      ]
     },
     "metadata": {},
     "output_type": "display_data"
    },
    {
     "name": "stdout",
     "output_type": "stream",
     "text": [
      "1621\n"
     ]
    },
    {
     "data": {
      "text/html": [
       "Soon , she comes to enjoy the company of  <span style='background: rgb(188, 108, 37)'>Martha</span>  , the gardener  <span style='background: rgb(188, 108, 37)'>Ben</span>   <span style='background: rgb(188, 108, 37)'>Weatherstaff</span>  and a friendly robin redbreast ."
      ],
      "text/plain": [
       "<IPython.core.display.HTML object>"
      ]
     },
     "metadata": {},
     "output_type": "display_data"
    },
    {
     "name": "stdout",
     "output_type": "stream",
     "text": [
      "1626\n"
     ]
    },
    {
     "data": {
      "text/html": [
       "There he befriends an older boy ,  <span style='background: rgb(188, 108, 37)'>James</span>   <span style='background: rgb(188, 108, 37)'>Steerforth</span>  , and  <span style='background: rgb(188, 108, 37)'>Tommy</span>   <span style='background: rgb(188, 108, 37)'>Traddles</span>  ."
      ],
      "text/plain": [
       "<IPython.core.display.HTML object>"
      ]
     },
     "metadata": {},
     "output_type": "display_data"
    },
    {
     "name": "stdout",
     "output_type": "stream",
     "text": [
      "1628\n"
     ]
    },
    {
     "data": {
      "text/html": [
       " <span style='background: rgb(188, 108, 37)'>Steerforth</span>  is not mistaken , when from the outset he calls  <span style='background: rgb(188, 108, 37)'>Copperfield</span>  \" Daisy\"–a flower of spring , symbol of innocent youth ."
      ],
      "text/plain": [
       "<IPython.core.display.HTML object>"
      ]
     },
     "metadata": {},
     "output_type": "display_data"
    },
    {
     "name": "stdout",
     "output_type": "stream",
     "text": [
      "1634\n"
     ]
    },
    {
     "data": {
      "text/html": [
       "He mentions the lavishness , energy , vividness , brilliance , and tenderness of  <span style='background: rgb(188, 108, 37)'>Dickens</span>  's writing , along with the range of his imagination ."
      ],
      "text/plain": [
       "<IPython.core.display.HTML object>"
      ]
     },
     "metadata": {},
     "output_type": "display_data"
    },
    {
     "name": "stdout",
     "output_type": "stream",
     "text": [
      "1635\n"
     ]
    },
    {
     "data": {
      "text/html": [
       "Through  <span style='background: rgb(188, 108, 37)'>Candide</span>  , he assaults  <span style='background: rgb(188, 108, 37)'>Leibniz</span>  and his optimism ."
      ],
      "text/plain": [
       "<IPython.core.display.HTML object>"
      ]
     },
     "metadata": {},
     "output_type": "display_data"
    },
    {
     "name": "stdout",
     "output_type": "stream",
     "text": [
      "1637\n"
     ]
    },
    {
     "data": {
      "text/html": [
       "He explains that after his family was slaughtered , the  <span style='background: rgb(188, 108, 37)'>Jesuits</span>   <span style='background: rgb(188, 108, 37)'>'</span>  preparation for his burial revived him , and he has since joined the order ."
      ],
      "text/plain": [
       "<IPython.core.display.HTML object>"
      ]
     },
     "metadata": {},
     "output_type": "display_data"
    },
    {
     "name": "stdout",
     "output_type": "stream",
     "text": [
      "1638\n"
     ]
    },
    {
     "data": {
      "text/html": [
       "When  <span style='background: rgb(188, 108, 37)'>Candide</span>  proclaims he intends to marry  <span style='background: rgb(188, 108, 37)'>Cunégonde</span>  , her brother attacks him , and  <span style='background: rgb(188, 108, 37)'>Candide</span>  runs him through with his rapier ."
      ],
      "text/plain": [
       "<IPython.core.display.HTML object>"
      ]
     },
     "metadata": {},
     "output_type": "display_data"
    },
    {
     "name": "stdout",
     "output_type": "stream",
     "text": [
      "1639\n"
     ]
    },
    {
     "data": {
      "text/html": [
       "She is now a prostitute , and is spending her time with a  <span style='background: rgb(188, 108, 37)'>Theatine</span>  monk ,  <span style='background: rgb(188, 108, 37)'>Brother</span>   <span style='background: rgb(188, 108, 37)'>Giroflée</span>  ."
      ],
      "text/plain": [
       "<IPython.core.display.HTML object>"
      ]
     },
     "metadata": {},
     "output_type": "display_data"
    },
    {
     "name": "stdout",
     "output_type": "stream",
     "text": [
      "1640\n"
     ]
    },
    {
     "data": {
      "text/html": [
       "He was not discreet in his conduct with  <span style='background: rgb(188, 108, 37)'>Scharff</span>  , and displayed his feelings much too openly ."
      ],
      "text/plain": [
       "<IPython.core.display.HTML object>"
      ]
     },
     "metadata": {},
     "output_type": "display_data"
    },
    {
     "name": "stdout",
     "output_type": "stream",
     "text": [
      "1643\n"
     ]
    },
    {
     "data": {
      "text/html": [
       "Although  <span style='background: rgb(188, 108, 37)'>Siddhartha</span>  despised materialistic pursuits as a  <span style='background: rgb(188, 108, 37)'>Śamaṇa</span>  , he agrees now to  <span style='background: rgb(188, 108, 37)'>Kamala</span>  's suggestions ."
      ],
      "text/plain": [
       "<IPython.core.display.HTML object>"
      ]
     },
     "metadata": {},
     "output_type": "display_data"
    },
    {
     "name": "stdout",
     "output_type": "stream",
     "text": [
      "1644\n"
     ]
    },
    {
     "data": {
      "text/html": [
       "She directs him to the employ of  <span style='background: rgb(188, 108, 37)'>Kamaswami</span>  , a local businessman , and insists that he have  <span style='background: rgb(188, 108, 37)'>Kamaswami</span>  treat him as an equal rather than an underling ."
      ],
      "text/plain": [
       "<IPython.core.display.HTML object>"
      ]
     },
     "metadata": {},
     "output_type": "display_data"
    },
    {
     "name": "stdout",
     "output_type": "stream",
     "text": [
      "1645\n"
     ]
    },
    {
     "data": {
      "text/html": [
       "Although  <span style='background: rgb(188, 108, 37)'>Vasudeva</span>  is a simple man , he understands and relates that the river has many voices and significant messages to divulge to any who might listen ."
      ],
      "text/plain": [
       "<IPython.core.display.HTML object>"
      ]
     },
     "metadata": {},
     "output_type": "display_data"
    },
    {
     "name": "stdout",
     "output_type": "stream",
     "text": [
      "1649\n"
     ]
    },
    {
     "data": {
      "text/html": [
       "He feels that the words of the  <span style='background: rgb(188, 108, 37)'>sermon</span>  , describing horrific eternal punishment in hell , are directed at himself and , overwhelmed , comes to desire forgiveness ."
      ],
      "text/plain": [
       "<IPython.core.display.HTML object>"
      ]
     },
     "metadata": {},
     "output_type": "display_data"
    },
    {
     "name": "stdout",
     "output_type": "stream",
     "text": [
      "1662\n"
     ]
    },
    {
     "data": {
      "text/html": [
       "She is instrumental in  <span style='background: rgb(188, 108, 37)'>Sir</span>   <span style='background: rgb(188, 108, 37)'>Walter</span>  's decision to leave  <span style='background: rgb(188, 108, 37)'>Kellynch</span>   <span style='background: rgb(188, 108, 37)'>Hall</span>  and avoid financial crisis ."
      ],
      "text/plain": [
       "<IPython.core.display.HTML object>"
      ]
     },
     "metadata": {},
     "output_type": "display_data"
    },
    {
     "name": "stdout",
     "output_type": "stream",
     "text": [
      "1664\n"
     ]
    },
    {
     "data": {
      "text/html": [
       "Later , she abandons the family to become the unmarried mistress of  <span style='background: rgb(188, 108, 37)'>William</span>   <span style='background: rgb(188, 108, 37)'>Elliot</span>  ."
      ],
      "text/plain": [
       "<IPython.core.display.HTML object>"
      ]
     },
     "metadata": {},
     "output_type": "display_data"
    },
    {
     "name": "stdout",
     "output_type": "stream",
     "text": [
      "1665\n"
     ]
    },
    {
     "data": {
      "text/html": [
       "He is one of  <span style='background: rgb(188, 108, 37)'>Sophia</span>   <span style='background: rgb(188, 108, 37)'>Croft</span>  's two brothers ."
      ],
      "text/plain": [
       "<IPython.core.display.HTML object>"
      ]
     },
     "metadata": {},
     "output_type": "display_data"
    },
    {
     "name": "stdout",
     "output_type": "stream",
     "text": [
      "1677\n"
     ]
    },
    {
     "data": {
      "text/html": [
       "He refers to men called the  <span style='background: rgb(188, 108, 37)'>Oye</span>  -  <span style='background: rgb(188, 108, 37)'>Eboe</span>  who brought goods like guns , gunpowder and dried fish ."
      ],
      "text/plain": [
       "<IPython.core.display.HTML object>"
      ]
     },
     "metadata": {},
     "output_type": "display_data"
    },
    {
     "name": "stdout",
     "output_type": "stream",
     "text": [
      "1678\n"
     ]
    },
    {
     "data": {
      "text/html": [
       "He was one of the leading members of the  <span style='background: rgb(188, 108, 37)'>Sons</span>  of  <span style='background: rgb(188, 108, 37)'>Africa</span>  , a small abolitionist group composed of free  <span style='background: rgb(188, 108, 37)'>Africans</span>  in  <span style='background: rgb(188, 108, 37)'>London</span>  ."
      ],
      "text/plain": [
       "<IPython.core.display.HTML object>"
      ]
     },
     "metadata": {},
     "output_type": "display_data"
    }
   ],
   "source": [
    "for i in range(1500,len(all_sentences)):\n",
    "    prop=get_propn(all_sentences[i])[1]\n",
    "\n",
    "    if not all(item in already_added_propn for item in prop): #if all the proper names havent appear yet\n",
    "        print(i)\n",
    "        display(HTML(highlight_word(all_sentences[i],'rgb(188, 108, 37)')))\n",
    "    \n",
    "    already_added_propn+=prop\n",
    "    #already_added_propn=list(set(already_added_propn))"
   ]
  },
  {
   "cell_type": "code",
   "execution_count": null,
   "metadata": {},
   "outputs": [],
   "source": [
    "print(len())"
   ]
  },
  {
   "cell_type": "markdown",
   "metadata": {},
   "source": [
    "# Create workbook"
   ]
  },
  {
   "cell_type": "code",
   "execution_count": 5,
   "metadata": {},
   "outputs": [],
   "source": [
    "import xlsxwriter"
   ]
  },
  {
   "cell_type": "code",
   "execution_count": 13,
   "metadata": {},
   "outputs": [
    {
     "ename": "FileNotFoundError",
     "evalue": "[Errno 2] No such file or directory: 'Marta.pkl'",
     "output_type": "error",
     "traceback": [
      "\u001b[1;31m---------------------------------------------------------------------------\u001b[0m",
      "\u001b[1;31mFileNotFoundError\u001b[0m                         Traceback (most recent call last)",
      "\u001b[1;32md:\\escola\\tese\\mycodes\\gender_corpus\\organized\\select_propn_names_to_change.ipynb Cell 23'\u001b[0m in \u001b[0;36m<cell line: 2>\u001b[1;34m()\u001b[0m\n\u001b[0;32m      <a href='vscode-notebook-cell:/d%3A/escola/tese/mycodes/gender_corpus/organized/select_propn_names_to_change.ipynb#ch0000026?line=0'>1</a>\u001b[0m \u001b[39mimport\u001b[39;00m \u001b[39mpickle\u001b[39;00m\n\u001b[1;32m----> <a href='vscode-notebook-cell:/d%3A/escola/tese/mycodes/gender_corpus/organized/select_propn_names_to_change.ipynb#ch0000026?line=1'>2</a>\u001b[0m \u001b[39mwith\u001b[39;00m \u001b[39mopen\u001b[39;49m(\u001b[39m'\u001b[39;49m\u001b[39mMarta.pkl\u001b[39;49m\u001b[39m'\u001b[39;49m,\u001b[39m'\u001b[39;49m\u001b[39mrb\u001b[39;49m\u001b[39m'\u001b[39;49m) \u001b[39mas\u001b[39;00m f:\n\u001b[0;32m      <a href='vscode-notebook-cell:/d%3A/escola/tese/mycodes/gender_corpus/organized/select_propn_names_to_change.ipynb#ch0000026?line=2'>3</a>\u001b[0m     phrases\u001b[39m=\u001b[39mpickle\u001b[39m.\u001b[39mload(f)\n",
      "\u001b[1;31mFileNotFoundError\u001b[0m: [Errno 2] No such file or directory: 'Marta.pkl'"
     ]
    }
   ],
   "source": [
    "import pickle\n",
    "with open('Marta.pkl','rb') as f:\n",
    "    phrases=pickle.load(f)"
   ]
  },
  {
   "cell_type": "code",
   "execution_count": 11,
   "metadata": {},
   "outputs": [
    {
     "ename": "NameError",
     "evalue": "name 'phrases' is not defined",
     "output_type": "error",
     "traceback": [
      "\u001b[1;31m---------------------------------------------------------------------------\u001b[0m",
      "\u001b[1;31mNameError\u001b[0m                                 Traceback (most recent call last)",
      "\u001b[1;32md:\\escola\\tese\\mycodes\\gender_corpus\\organized\\select_propn_names_to_change.ipynb Cell 23'\u001b[0m in \u001b[0;36m<cell line: 12>\u001b[1;34m()\u001b[0m\n\u001b[0;32m      <a href='vscode-notebook-cell:/d%3A/escola/tese/mycodes/gender_corpus/organized/select_propn_names_to_change.ipynb#ch0000023?line=7'>8</a>\u001b[0m cell_format_pron\u001b[39m.\u001b[39mset_bg_color(\u001b[39m'\u001b[39m\u001b[39m#ddb892\u001b[39m\u001b[39m'\u001b[39m)\n\u001b[0;32m     <a href='vscode-notebook-cell:/d%3A/escola/tese/mycodes/gender_corpus/organized/select_propn_names_to_change.ipynb#ch0000023?line=9'>10</a>\u001b[0m row_index\u001b[39m=\u001b[39m\u001b[39m0\u001b[39m\n\u001b[1;32m---> <a href='vscode-notebook-cell:/d%3A/escola/tese/mycodes/gender_corpus/organized/select_propn_names_to_change.ipynb#ch0000023?line=11'>12</a>\u001b[0m \u001b[39mfor\u001b[39;00m p_idx \u001b[39min\u001b[39;00m \u001b[39mrange\u001b[39m(\u001b[39mlen\u001b[39m(phrases)):\n\u001b[0;32m     <a href='vscode-notebook-cell:/d%3A/escola/tese/mycodes/gender_corpus/organized/select_propn_names_to_change.ipynb#ch0000023?line=12'>13</a>\u001b[0m     \u001b[39mfor\u001b[39;00m token_idx \u001b[39min\u001b[39;00m \u001b[39mrange\u001b[39m(\u001b[39mlen\u001b[39m(phrase[p_idx])):\n\u001b[0;32m     <a href='vscode-notebook-cell:/d%3A/escola/tese/mycodes/gender_corpus/organized/select_propn_names_to_change.ipynb#ch0000023?line=13'>14</a>\u001b[0m         worksheet\u001b[39m.\u001b[39mwrite(row_index,token_idx,phrase[p_idx][token_idx]\u001b[39m.\u001b[39mtext)\n",
      "\u001b[1;31mNameError\u001b[0m: name 'phrases' is not defined"
     ]
    }
   ],
   "source": [
    "workbook=xlsxwriter.Workbook(\"Marta.xlsx\")\n",
    "worksheet=workbook.add_worksheet('Phrases')\n",
    "\n",
    "cell_format_names=workbook.add_format()\n",
    "cell_format_names.set_bg_color('#95d5b2')\n",
    "\n",
    "cell_format_pron=workbook.add_format()\n",
    "cell_format_pron.set_bg_color('#ddb892')\n",
    "\n",
    "row_index=0\n",
    "\n",
    "for p_idx in range(len(phrases)):\n",
    "    for token_idx in range(len(phrase[p_idx])):\n",
    "        worksheet.write(row_index,token_idx,phrase[p_idx][token_idx].text)\n",
    "\n",
    "\n",
    "    row_index+=4\n",
    "\n",
    "workbook.close()"
   ]
  },
  {
   "cell_type": "code",
   "execution_count": 10,
   "metadata": {},
   "outputs": [
    {
     "ename": "NameError",
     "evalue": "name 'self' is not defined",
     "output_type": "error",
     "traceback": [
      "\u001b[1;31m---------------------------------------------------------------------------\u001b[0m",
      "\u001b[1;31mNameError\u001b[0m                                 Traceback (most recent call last)",
      "\u001b[1;32md:\\escola\\tese\\mycodes\\gender_corpus\\organized\\select_propn_names_to_change.ipynb Cell 24'\u001b[0m in \u001b[0;36m<cell line: 1>\u001b[1;34m()\u001b[0m\n\u001b[1;32m----> <a href='vscode-notebook-cell:/d%3A/escola/tese/mycodes/gender_corpus/organized/select_propn_names_to_change.ipynb#ch0000024?line=0'>1</a>\u001b[0m help(xlsxwriter\u001b[39m.\u001b[39mWorkbook\u001b[39m.\u001b[39madd_format(\u001b[39mself\u001b[39;49m))\n",
      "\u001b[1;31mNameError\u001b[0m: name 'self' is not defined"
     ]
    }
   ],
   "source": [
    "help(xlsxwriter.Workbook.add_format())"
   ]
  },
  {
   "cell_type": "code",
   "execution_count": null,
   "metadata": {},
   "outputs": [],
   "source": []
  }
 ],
 "metadata": {
  "interpreter": {
   "hash": "c0568189e475ff095f8d58e708f11d5183d1019c3e0d991b7e7d0732f0bba373"
  },
  "kernelspec": {
   "display_name": "Python 3.9.6 ('mycodes-FWgFXy1r')",
   "language": "python",
   "name": "python3"
  },
  "language_info": {
   "codemirror_mode": {
    "name": "ipython",
    "version": 3
   },
   "file_extension": ".py",
   "mimetype": "text/x-python",
   "name": "python",
   "nbconvert_exporter": "python",
   "pygments_lexer": "ipython3",
   "version": "3.9.6"
  },
  "orig_nbformat": 4
 },
 "nbformat": 4,
 "nbformat_minor": 2
}

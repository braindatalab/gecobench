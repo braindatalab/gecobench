{
 "cells": [
  {
   "cell_type": "markdown",
   "metadata": {},
   "source": [
    "# Generating the gender corpus"
   ]
  },
  {
   "cell_type": "markdown",
   "metadata": {},
   "source": [
    "Note: with the pickle files you just need to run from the points that have =====. This way you don't have to re-scrape the wikipedia, for example."
   ]
  },
  {
   "cell_type": "markdown",
   "metadata": {},
   "source": [
    "# 1. Intro"
   ]
  },
  {
   "cell_type": "markdown",
   "metadata": {},
   "source": [
    "The objective of this dataset is to create a ground truth to test NLP models. To do so, the dataset is composed of a set of manipulated phrases where every phrase has:\n",
    "+ the original phrase\n",
    "+ 2 phrases where only the subject is female and male\n",
    "+ 2 phrases where everything (both the subject and the object) are female and male\n",
    "\n",
    "The original phrases are obtained from Wikipedia entries from the books that appeared as the most popular in the day 17/3/2022 of the Gutemberg project. This list has been saved for later use (as well as the list with the author of the book)  "
   ]
  },
  {
   "cell_type": "markdown",
   "metadata": {},
   "source": [
    "# 2. Getting the urls"
   ]
  },
  {
   "cell_type": "code",
   "execution_count": null,
   "metadata": {},
   "outputs": [],
   "source": [
    "from selenium import webdriver\n",
    "from bs4 import BeautifulSoup\n",
    "import pickle\n",
    "\n",
    "driver = webdriver.Chrome()\n",
    "url_book_names='https://www.gutenberg.org/browse/scores/top'\n",
    "driver.get(url_book_names)\n",
    "\n",
    "soup=BeautifulSoup(driver.page_source,'lxml')\n",
    "tr_p1=soup.find_all('tr')\n",
    "#list 100 ebooks yesterday (17/3/2022)\n",
    "list_xpath='/html/body/div[1]/div/ol[1]'\n",
    "book_titles=driver.find_element_by_xpath(list_xpath)\n",
    "book_list=book_titles.text.split('\\n')\n",
    "book_and_author=book_titles.text.split('\\n')\n",
    "\n",
    "for i in range(len(book_list)):\n",
    "    by=book_list[i].find(' by ')\n",
    "    book_list[i]=book_list[i][:by]\n",
    "    book_and_author[i]=book_and_author[i][:book_and_author[i].find(' (')]\n",
    "\n",
    "with open('book_list.pkl', 'wb') as f:\n",
    "    pickle.dump(book_list, f)\n",
    "\n",
    "with open('book_and_author.pkl', 'wb') as f:\n",
    "    pickle.dump(book_and_author, f)\n",
    "\n"
   ]
  },
  {
   "cell_type": "markdown",
   "metadata": {},
   "source": [
    "# ========================"
   ]
  },
  {
   "cell_type": "markdown",
   "metadata": {},
   "source": [
    "# 3. Get Wikipedia entries"
   ]
  },
  {
   "cell_type": "code",
   "execution_count": 1,
   "metadata": {},
   "outputs": [],
   "source": [
    "import pickle\n",
    "with open('book_list.pkl', 'rb') as f:\n",
    "    books = pickle.load(f)\n",
    "\n",
    "with open('book_and_author.pkl', 'rb') as f:\n",
    "    book_and_author = pickle.load(f)\n"
   ]
  },
  {
   "cell_type": "code",
   "execution_count": 2,
   "metadata": {},
   "outputs": [],
   "source": [
    "import string\n",
    "url_books=[]\n",
    "for book in book_and_author:\n",
    "    plot=[]\n",
    "    url_google='https://www.google.com/search?q=\"en.wikipedia.org\"+'\n",
    "    for i in book:\n",
    "        if i in string.punctuation:\n",
    "            book=book.replace(i,'')\n",
    "        #book=book.replace(i,' ')\n",
    "    url_books.append(url_google+book.replace(' ','+'))\n"
   ]
  },
  {
   "cell_type": "code",
   "execution_count": 3,
   "metadata": {},
   "outputs": [
    {
     "name": "stdout",
     "output_type": "stream",
     "text": [
      "https://www.google.com/search?q=\"en.wikipedia.org\"+Frankenstein+Or+The+Modern+Prometheus+by+Mary+Wollstonecraft+Shelley\n"
     ]
    }
   ],
   "source": [
    "print(url_books[0])"
   ]
  },
  {
   "cell_type": "markdown",
   "metadata": {},
   "source": [
    "To get to the Wikipedia of all of these books, firstly it is needed to get to google and accept the cookies."
   ]
  },
  {
   "cell_type": "code",
   "execution_count": null,
   "metadata": {},
   "outputs": [],
   "source": [
    "from selenium import webdriver\n",
    "from bs4 import BeautifulSoup\n",
    "import pickle\n",
    "\n",
    "part_of_wiki=[]\n",
    "driver = webdriver.Chrome()\n",
    "driver.get('https://www.google.com/')"
   ]
  },
  {
   "cell_type": "code",
   "execution_count": null,
   "metadata": {},
   "outputs": [],
   "source": [
    "#this is in its own cell because sometimes the brower notices that we are a robot and we need to close it and re-run the previous cell\n",
    "n=0\n",
    "sentences=[] #list of all 3rd person sentences of all book wikipedia pages\n",
    "texts=[] # list of the texts of the entire wikipedia pages "
   ]
  },
  {
   "cell_type": "code",
   "execution_count": null,
   "metadata": {},
   "outputs": [],
   "source": [
    "#main loop :\n",
    "#       gets in the wikipedia pages of the 100 chosen books\n",
    "#       scraps all text from the paragraphs in each page\n",
    "#       applies the get_3rd_person_phrases(text) to keep only the phrases in the 3rd person\n",
    "\n",
    "for url in url_books[88:]:\n",
    "    #getting to the wikipedia page, after knowing the url\n",
    "    n+=1\n",
    "    \n",
    "    driver.get(url)\n",
    "    driver.find_element_by_partial_link_text(\"Wikipedia\").click()\n",
    "    \n",
    "    #getting the text on the page\n",
    "    wiki_paragraphs=driver.find_elements_by_tag_name('p')\n",
    "    for i in wiki_paragraphs:\n",
    "        t=i.text\n",
    "        texts.append(t)\n",
    "    \n",
    "    print(n)\n",
    "    print(url)"
   ]
  },
  {
   "cell_type": "markdown",
   "metadata": {},
   "source": [
    "The Wikipedia references in these paragraphs were deleted and the texts saved."
   ]
  },
  {
   "cell_type": "code",
   "execution_count": null,
   "metadata": {},
   "outputs": [],
   "source": [
    "# removing the [1] wikipedia references\n",
    "import re\n",
    "for i in range(len(texts)):\n",
    "    texts[i]=re.sub( r'\\[.*?\\]', '', texts[i])\n",
    "\n",
    "with open('raw_texts.pkl', 'wb') as f:\n",
    "    pickle.dump(texts, f)"
   ]
  },
  {
   "cell_type": "markdown",
   "metadata": {},
   "source": [
    "# ========================"
   ]
  },
  {
   "cell_type": "markdown",
   "metadata": {},
   "source": [
    "# 4. From Wikipedia paragraphs to SpaCy sentences"
   ]
  },
  {
   "cell_type": "code",
   "execution_count": 4,
   "metadata": {},
   "outputs": [],
   "source": [
    "with open('raw_texts.pkl', 'rb') as f:\n",
    "    texts = pickle.load(f)"
   ]
  },
  {
   "cell_type": "code",
   "execution_count": 5,
   "metadata": {},
   "outputs": [
    {
     "name": "stdout",
     "output_type": "stream",
     "text": [
      "5239\n"
     ]
    }
   ],
   "source": [
    "print(len(texts))"
   ]
  },
  {
   "cell_type": "code",
   "execution_count": 12,
   "metadata": {},
   "outputs": [
    {
     "data": {
      "text/plain": [
       "'Frankenstein; or, The Modern Prometheus is an 1818 novel written by English author Mary Shelley. Frankenstein tells the story of Victor Frankenstein, a young scientist who creates a sapient creature in an unorthodox scientific experiment. Shelley started writing the story when she was 18, and the first edition was published anonymously in London on 1 January 1818, when she was 20. Her name first appeared in the second edition, which was published in Paris in 1821.'"
      ]
     },
     "execution_count": 12,
     "metadata": {},
     "output_type": "execute_result"
    }
   ],
   "source": [
    "texts[1]"
   ]
  },
  {
   "cell_type": "code",
   "execution_count": 6,
   "metadata": {},
   "outputs": [],
   "source": [
    "import spacy\n",
    "nlp=spacy.load('en_core_web_sm')"
   ]
  },
  {
   "cell_type": "code",
   "execution_count": 9,
   "metadata": {},
   "outputs": [],
   "source": [
    "texts_span=[]\n",
    "for paragraph in texts:\n",
    "    phrase_gen=nlp(paragraph).sents #spacy generator\n",
    "    for p in phrase_gen:\n",
    "        texts_span.append(p)"
   ]
  },
  {
   "cell_type": "code",
   "execution_count": 11,
   "metadata": {},
   "outputs": [
    {
     "name": "stdout",
     "output_type": "stream",
     "text": [
      "19562\n"
     ]
    }
   ],
   "source": [
    "print(len(texts_span))"
   ]
  },
  {
   "cell_type": "code",
   "execution_count": 13,
   "metadata": {},
   "outputs": [],
   "source": [
    "#in texts_doc each phrase is a spacy doc\n",
    "texts_docs=[nlp(phrase.text) for phrase in texts_span]\n",
    "#this cell takes quite a bit so I will pickle texts_doc"
   ]
  },
  {
   "cell_type": "code",
   "execution_count": 14,
   "metadata": {},
   "outputs": [
    {
     "data": {
      "text/plain": [
       "[Frankenstein; or, The Modern Prometheus is an 1818 novel written by English author Mary Shelley.,\n",
       " Frankenstein tells the story of Victor Frankenstein, a young scientist who creates a sapient creature in an unorthodox scientific experiment.,\n",
       " Shelley started writing the story when she was 18, and the first edition was published anonymously in London on 1 January 1818, when she was 20.,\n",
       " Her name first appeared in the second edition, which was published in Paris in 1821.]"
      ]
     },
     "execution_count": 14,
     "metadata": {},
     "output_type": "execute_result"
    }
   ],
   "source": [
    "texts_docs[0:4]"
   ]
  },
  {
   "cell_type": "code",
   "execution_count": 15,
   "metadata": {},
   "outputs": [],
   "source": [
    "import pickle\n",
    "with open('spacy_doc_from_raw_texts_wiki.pkl', 'wb') as f:\n",
    "    pickle.dump(texts_docs,f)"
   ]
  },
  {
   "cell_type": "markdown",
   "metadata": {},
   "source": [
    "# 5. Selecting phrases which have the ROOT verb in the 3rd person singular"
   ]
  },
  {
   "cell_type": "code",
   "execution_count": 16,
   "metadata": {},
   "outputs": [],
   "source": [
    "with open('spacy_doc_from_raw_texts_wiki.pkl', 'rb') as f:\n",
    "    texts_docs=pickle.load(f) "
   ]
  },
  {
   "cell_type": "code",
   "execution_count": 17,
   "metadata": {},
   "outputs": [],
   "source": [
    "def get_roots_third_person(text):\n",
    "    #text is a list of spacy docs that correspond to sentences\n",
    "\n",
    "    third_person_phrases=[] #phrases in the 3rd person\n",
    "    roots=[] # verbs that the model considers to be the verb of the independent sentence (root verb)\n",
    "    root_childs=[] #subjects and objects of the root verb (?)\n",
    "\n",
    "    for phrase in text:\n",
    "        for token in phrase:\n",
    "            if token.dep_=='ROOT':\n",
    "                if token.morph.get('Person')==['3'] and token.morph.get('Number')==['Sing']:\n",
    "                    third_person_phrases.append(phrase)\n",
    "    return third_person_phrases"
   ]
  },
  {
   "cell_type": "code",
   "execution_count": 18,
   "metadata": {},
   "outputs": [
    {
     "name": "stdout",
     "output_type": "stream",
     "text": [
      "7855\n"
     ]
    }
   ],
   "source": [
    "third_person_phrases=get_roots_third_person(texts_docs)\n",
    "print(len(third_person_phrases))"
   ]
  },
  {
   "cell_type": "markdown",
   "metadata": {},
   "source": [
    "# 6. Keeping only smaller sentences"
   ]
  },
  {
   "cell_type": "markdown",
   "metadata": {},
   "source": [
    "Large sentences will be harder to learn for the computer (as they are harder to understand for humans). Some guidelines indicate that an average of 15-20 words are clearer phrases. \n",
    "\n",
    "https://techcomm.nz/Story?Action=View&Story_id=106#:~:text=A%20common%20plain%20English%20guideline,2009%3B%20Vincent%2C%202014) -> (Cutts, 2009; Plain English Campaign, 2015; Plain Language Association InterNational, 2015)(Cutts, 2009; Vincent, 2014).\n",
    "\n",
    "Because of this, I excluded phrases that had more than 30 tokens (some tokens are punctuation so I left a bit of a buffer and this also allows for sentences that are a bit more complex) \n",
    "\n",
    "This step is a bit optional, but it removes almost 3000 sentences."
   ]
  },
  {
   "cell_type": "code",
   "execution_count": 20,
   "metadata": {},
   "outputs": [
    {
     "data": {
      "text/plain": [
       "12623"
      ]
     },
     "execution_count": 20,
     "metadata": {},
     "output_type": "execute_result"
    }
   ],
   "source": [
    "small_phrases=[]\n",
    "for i in texts_docs:\n",
    "    if len(i)<30:\n",
    "        small_phrases.append(i)\n",
    "\n",
    "len(small_phrases)"
   ]
  },
  {
   "cell_type": "code",
   "execution_count": 46,
   "metadata": {},
   "outputs": [
    {
     "name": "stdout",
     "output_type": "stream",
     "text": [
      "5040 small 3rd person phrases\n",
      "5040 small different 3rd person phrases\n"
     ]
    }
   ],
   "source": [
    "third_person_phrases_small=get_roots_third_person(small_phrases)\n",
    "print(len(third_person_phrases_small),'small 3rd person phrases')\n",
    "print(len(list(set(third_person_phrases_small))),'small different 3rd person phrases')\n"
   ]
  },
  {
   "cell_type": "markdown",
   "metadata": {},
   "source": [
    "# 7. Deleting phrases that didn't end in '.' "
   ]
  },
  {
   "cell_type": "markdown",
   "metadata": {},
   "source": [
    "I also deleted some phrases that didn’t end with a ‘.’ Because these phrases would not finish a thought (some phrases are not well obtained by the spacy model – more complex models give more accurate phrase delimitation)."
   ]
  },
  {
   "cell_type": "code",
   "execution_count": 48,
   "metadata": {},
   "outputs": [
    {
     "name": "stdout",
     "output_type": "stream",
     "text": [
      "len inicial 5040\n",
      "324\n",
      "len final 4716\n"
     ]
    }
   ],
   "source": [
    "indexes_to_delete=[]\n",
    "n=0\n",
    "print('len inicial',len(third_person_phrases_small))\n",
    "for i in range(len(third_person_phrases_small)):\n",
    "    if third_person_phrases_small[i][-1].text!='.':\n",
    "        n+=1\n",
    "        indexes_to_delete.append(i)\n",
    "\n",
    "third_person_phrases_small=[third_person_phrases_small[i] for i in range(len(third_person_phrases_small)) if i not in indexes_to_delete]\n",
    "print(n)\n",
    "print('len final',len(third_person_phrases_small))"
   ]
  },
  {
   "cell_type": "markdown",
   "metadata": {},
   "source": [
    "# 8. Remove sentences where the subject is 'it'"
   ]
  },
  {
   "cell_type": "code",
   "execution_count": 50,
   "metadata": {},
   "outputs": [],
   "source": [
    "n_neutral_small_phrases=[]\n",
    "\n",
    "\n",
    "for idx in range(len(third_person_phrases_small)):\n",
    "    for token in third_person_phrases_small[idx]:\n",
    "        if token.dep_=='ROOT':\n",
    "            root_child=[word for word in token.children]\n",
    "            for t in root_child:\n",
    "                if 'nsubj' in t.dep_ and t.morph.get('Gender')!=['Neut']:\n",
    "                     n_neutral_small_phrases.append(third_person_phrases_small[idx])"
   ]
  },
  {
   "cell_type": "code",
   "execution_count": 51,
   "metadata": {},
   "outputs": [
    {
     "name": "stdout",
     "output_type": "stream",
     "text": [
      "4354\n"
     ]
    }
   ],
   "source": [
    "print(len(n_neutral_small_phrases))"
   ]
  },
  {
   "cell_type": "markdown",
   "metadata": {},
   "source": [
    "# 9. Selecting \"allowed\" sujects (nouns, pronouns and proper nouns)"
   ]
  },
  {
   "cell_type": "markdown",
   "metadata": {},
   "source": [
    "One of the ways to reduce the list of sentences more is selecting which kinds of things can be a subject such as proper nouns (even though these may be for example names of countries or cities), pronouns such as she/he/her/etc., and some common nouns that are related to humans such as \"the mother\".\n",
    "+ proper nouns: `token.pos_ == 'PROPN'`\n",
    "+ she/he: `token.morph.get('PronType')==['Prs] and (token.morph.get('Gender')==['Masc'] or token.morph.get('Gender')==['Fem']`\n",
    "+ common names: added to words to check (for example her father, etc - spacy identifies father as the subject in this case): `token.pos_=='NOUN`\n",
    "\n",
    "I also separated the phrases where the subject was a PROPN from the others because we may want to change these names from a predefined list."
   ]
  },
  {
   "cell_type": "code",
   "execution_count": 4,
   "metadata": {},
   "outputs": [],
   "source": [
    "def get_root_subjects(doc):\n",
    "    for token in doc:\n",
    "        if token.dep_=='ROOT':\n",
    "            root_child=[word for word in token.children]\n",
    "            for t in root_child:\n",
    "                if 'nsubj' in t.dep_:\n",
    "                    return t\n",
    "                    #returns a token\n",
    "    "
   ]
  },
  {
   "cell_type": "code",
   "execution_count": 60,
   "metadata": {},
   "outputs": [
    {
     "name": "stdout",
     "output_type": "stream",
     "text": [
      "the list of phrases with proper nouns as subjects has 1956 elements\n",
      "the list of phrases with common nouns as subjects has 1446 elements\n",
      "the list of phrases with he/she pronouns as subjects has 759 elements\n"
     ]
    }
   ],
   "source": [
    "PROPN=[]\n",
    "pronouns=[]\n",
    "nouns=[]\n",
    "\n",
    "for idx in range(len(n_neutral_small_phrases)):\n",
    "        root_subject=get_root_subjects(n_neutral_small_phrases[idx])\n",
    "        if root_subject.pos_=='PROPN':\n",
    "            PROPN.append(n_neutral_small_phrases[idx])\n",
    "        elif root_subject.pos_=='NOUN':\n",
    "            nouns.append(n_neutral_small_phrases[idx])\n",
    "        elif root_subject.morph.get('PronType')==['Prs'] and (root_subject.morph.get('Gender')==['Masc'] or root_subject.morph.get('Gender')==['Fem']):\n",
    "            pronouns.append(n_neutral_small_phrases[idx])\n",
    "\n",
    "print('the list of phrases with proper nouns as subjects has {} elements'.format(len(PROPN)))\n",
    "print('the list of phrases with common nouns as subjects has {} elements'.format(len(nouns)))\n",
    "print('the list of phrases with he/she pronouns as subjects has {} elements'.format(len(pronouns)))"
   ]
  },
  {
   "cell_type": "code",
   "execution_count": 61,
   "metadata": {},
   "outputs": [],
   "source": [
    "#saving the \"raw\" three lists\n",
    "\n",
    "with open('PROPN_phrases.pkl', 'wb') as f:\n",
    "    pickle.dump(PROPN,f)\n",
    "\n",
    "with open('pronouns_phrases.pkl', 'wb') as f:\n",
    "    pickle.dump(pronouns,f)\n",
    "\n",
    "with open('nouns_phrases.pkl', 'wb') as f:\n",
    "    pickle.dump(nouns,f)"
   ]
  },
  {
   "cell_type": "markdown",
   "metadata": {},
   "source": [
    "## ======================= "
   ]
  },
  {
   "cell_type": "markdown",
   "metadata": {},
   "source": [
    "## 9.1 Choosing which of the subjects seem useful"
   ]
  },
  {
   "cell_type": "code",
   "execution_count": 2,
   "metadata": {},
   "outputs": [],
   "source": [
    "import pickle\n",
    "\n",
    "with open('PROPN_phrases.pkl', 'rb') as f:\n",
    "    phrases_PROPN=pickle.load(f) \n",
    "\n",
    "with open('pronouns_phrases.pkl', 'rb') as f:\n",
    "    phrases_pron=pickle.load(f) \n",
    "\n",
    "with open('nouns_phrases.pkl', 'rb') as f:\n",
    "    phrases_nouns=pickle.load(f) "
   ]
  },
  {
   "cell_type": "markdown",
   "metadata": {},
   "source": [
    "With these datasets I chose which would be the nouns and proper nouns that could be useful for the dataset so that I could restrict a bit more the phrases to choose by hand. To do that I printed the list of subjects of the dataframes and chose by hand the ones that seem to be related to persons/characters."
   ]
  },
  {
   "cell_type": "code",
   "execution_count": 5,
   "metadata": {},
   "outputs": [
    {
     "name": "stdout",
     "output_type": "stream",
     "text": [
      "[crew, crew, story, Victor, Creature, Creature, Creature, Creature, Creature, Victor, father, ice, father, father, Part, monster, monster, essay, family, edition, crew, crew, story, Victor, Creature, Creature, Creature, Creature, Creature, Victor, father, ice, father, father, Part, monster, monster, essay, family, edition, Pride, wife, manner, housekeeper, novel, theme, Pride, Marriage, marriage, Inheritance, Pride, behaviour, sequel, girl, legacy, weather, entry, chapter, caterpillar, procession, biographer, critic, case, brand, Wonderland, scholar, binding, film, play, production, item, Fitzgerald, father, theme, neighbor, difference, difference, novel, work, contest, decision, repudiation, adaptation, episode, man, revelation, jury, thought, Resurrection, Resurrection, humour, opposite, Resurrection, sea, poisoning, Darkness, shadow, blood, dictum, play, nanny, Torvald, letter, Torvald, shift, story, sub, approaches, hunter, probity, protagonist, whale, Starbuck, leader, pursuit, carcass, whale, Tashtego, coin, mutters, mutters, Starbuck, carpenter, typhoon, Lightning, Starbuck, man, Starbuck, ship, hawk, Starbuck, whale, whale, whale, line, coffin, distinction, typhoon, pattern, device, pattern, hunt, taxonomy, whale, point, example, novel, level, business, imagery, thing, model, crew, event, monster, commentator, book, influence, language, contract, edition, result, difference, printing, price, adaptation, adaptation, Story, rooms, rooms, story, wallpaper, narrator, narrator, interpretation, narrator, wallpaper, woman, voice, relationship, protagonist, teacher, mother, Dracula, note, Farson, story, depiction, description, selection, novel, body, Browning, film, portrayal, essay, phrase, pamphlet, child, maxim, letter, film, cellar, feat, Utterson, Utterson, Utterson, handwriting, butler, Utterson, letter, letter, body, Utterson, friend, friend, Lanyon, Utterson, maid, interpretation, depiction, novel, book, sister, Estella, boy, assistant, Jaggers, dress, hero, predecessor, theme, symmetry, Dickens, punishment, Estella, direction, novel, reader, genre, novel, theme, setting, Jaggers, love, wealth, wealth, character, wealth, problem, boy, caricature, Estella, marriage, theme, theme, regeneration, accepting, reluctance, loyalty, debt, hero, Estella, novel, setting, aunt, friend, Jane, housekeeper, horse, Jane, Jane, Jane, Jane, wife, Jane, Jane, Jane, reception, lead, Rhys, book, Hester, shunning, conduct, Hester, minister, experience, narrative, subtlety, theme, thinking, Heart, Heart, setting, predecessor, Marlow, accountant, manager, Marlow, journey, journey, man, Marlow, manager, area, manager, Marlow, health, boy, novella, reason, cast, game, player, character, reputation, book, work, Metamorphosis, vermin, clerk, sister, mother, father, charwoman, name, author, attitude, theme, Metamorphosis, theme, figure, reason, metamorphosis, metamorphosis, edition, possibility, shift, man, Svidrigailov, atmosphere, situation, plan, Dostoevsky, magnificence, Dostoevsky, point, technique, reader, continuity, Dostoevsky, title, exception, translation, Huck, Huck, vendetta, man, play, Huck, Adventures, complexity, version, premiere, play, Importance, play, Pretence, play, Bunburying, insouciance, play, film, version, curtain, cast, book, chapter, veil, chapter, chapter, chapter, reading, Foundational, critique, Sanders, version, work, solution, chapter, Part, power, principality, way, type, prince, prince, city, prince, advice, section, focus, Conspiracy, prince, chapter, example, aim, singularity, father, work, marriage, review, Murry, rejection, view, mythology, Body, Energy, Energy, places, phrase, Swinburne, celebration, composer, Philipp, intention, book, friend, code, section, novel, poem, Deasy, episode, episode, carriage, narrator, episode, action, style, chapter, style, episode, episode, history, typescript, community, novel, novel, use, novel, era, novel, novel, plot, mother, child, part, challenges, challenges, question, child, father, Anatole, life, father, battle, army, Anatole, part, treatment, part, newspaper, manner, manner, book, text, chapter, rest, Animals, Animals, light, sun, critic, choice, poet, poet, communism, story, Chryses, decision, Achilles, Achilles, Achilles, plan, Diomedes, Hector, Hector, Night, embassy, fighting, Achilles, Hector, Hector, Thetis, Achilles, Hector, Achilles, Achilles, Achilles, Achilles, Achilles, Achilles, Achilles, connection, Fate, instance, Fate, Kleos, goddess, shield, Pride, work, pride, pride, rancor, epic, Anger, anger, Agamemnon, priest, threat, Agamemnon, poem, consensus, backdrop, title, shipwright, chariot, depiction, example, version, version, translation, attire, character, quality, feeling, kiss, loyalty, crocodile, name, ship, rest, trade, friend, Danglars, Danglars, novel, archivist, edition, translation, abridgment, novel, success, version, ending, duration, witch, faith, Toto, design, creation, Color, book, story, Word, doctor, recovers, father, health, sequel, family, sickness, loss, portrayal, separation, cast, adaption, series, Scrooge, spirit, spirit, spirit, ghost, ghost, ghost, Scrooge, Slater, transformation, Production, performance, observance, historian, bibliography, country, economy, name, form, catalyst, exchange, general, unemployment, percent, climate, head, age, service, Agriculture, percent, %, roster, section, country, objective, Eurostat, age, household, community, Hellenism, evidence, population, education, Attendance, education, system, score, system, mortality, feature, form, art, achievement, literature, philosophy, music, cuisine, cuisine, cuisine, performance, team, cricket, city, book, Douglass, father, boy, book, interest, depot, draw, example, slaveholder, preaching, correspondence, visit, complex, grave, Douglass, shipmate, beggar, Bones, crew, Hands, story, romance, Summer, novel, narrator, score, attraction, building, chapter, novel, grisette, dandy, Fantine, king, Thénardier, Thénardier, Marius, Thénardier, Thénardier, Thénardier, Thénardier, Thénardier, grandfather, soldier, man, man, author, Marius, Thénardier, Thénardier, Thénardier, appearance, work, position, work, story, work, protagonist, narrator, text, name, source, drama, record, record, reading, reputation, corporation, grief, relationship, narrator, faith, name, narrator, episode, status, character, opening, narrator, book, behaviour, book, book, book, section, Inquisitor, book, expectation, smell, section, servant, lover, motive, Boys, book, book, point, section, section, novel, Dostoevsky, man, translation, t, narrator, temperament, part, Cervantes, combat, explanation, stranger, judge, officer, narrator, half, Part, author, question, structure, scene, source, sister, story, story, Cervantes, novel, Popularity, adaptation, proverb, translation, page, translation, novel, orphanage, book, edition, choice, Tourism, park, park, focus, translation, Penelope, Eurycleia, example, son, parallel, homecoming, gift, factor, example, Testing, testing, date, date, word, name, work, frontispiece, portion, form, Hobbes, Life, Hobbes, Hope, state, thing, interest, right, one, conclusion, interpretation, Hobbes, abuse, fourth, tomb, folklore, production, adaptation, focus, Léonce, doctor, Reisz, Adèle, legacy, ending, Chopin, decision, fluidity, music, Art, art, Art, shell, example, art, form, interpretation, context, criticism, production, Imitation, thing, Aniconism, concern, article, Fish, art, art, painting, imagery, publication, edition, edition, Treatise, Locke, state, rest, war, Government, work, protection, work, Proposition, concept, notion, propositions, treatise, totality, Philosophy, Philosophy, work, task, significance, concept, Proposition, Proposition, view, philosophy, proposition, view, relation, proposition, theory, state, interpretation, reading, book, production, cast, arrival, aunt, sequence, soundtrack, film, tutor, tutor, cause, state, victory, fear, History, place, portrayal, marriage, novel, Dubliners, collection, story, novel, каждая, family, Vronsky, meet, specialist, Vronsky, Levin, sighting, friend, Vronsky, life, Vronsky, relationship, family, returns, housekeeper, housekeeper, children, children, Frances, Isabella, tale, Lockwood, text, story, narrative, source, Romanticism, interest, novel, sort, character, meaning, afreet, encounter, Childhood, adaptation, film, adaptation, film, music, poem, cover, story, Equality, Equality, Equality, Equality, Equality, Equality, title, novel, society, song, memo, novel, appearance, novel, day, characterisation, site, depiction, work, army, novel, clergyman, novel, trilogy, adaptation, docudrama, novel, book, novel, Eliza, wife, husband, Eva, way, example, theme, production, version, novel, Crisóstomo, project, cornerstone, obliges, uprising, sneaks, officer, Elías, news, boy, work, chapter, sister, servant, marriage, husband, usage, usage, Fagin, robbery, Monks, Monks, father, Monks, novel, tale, Poverty, misery, spirit, gentlemanliness, countryside, novel, gaze, name, viciousness, dog, eye, dog, storyline, character, man, rivalry, group, trio, story, appeal, story, change, chapter, fatigue, setting, adaptation, morality, culture, form, desire, form, work, Pygmalion, bystander, man, Eliza, scene, Eliza, scene, Pygmalion, Pygmalion, setting, Socrates, Cephalus, Socrates, book, Socrates, Socrates, Socrates, emphasis, Socrates, point, tyranny, tyrant, proof, element, core, part, prologue, Socrates, agreement, Gyges, law, myth, result, city, disposition, regime, form, regime, flame, sun, man, injustice, freedoms, publica, discussion, monarchy, knowledge, interpretation, life, distinction, cause, university, system, cause, writing, collection, surviving, plaque, lore, appearance, book, travel, end, end, grass, farmer, farmer, display, king, crew, letter, reason, comparison, perception, master, view, Stone, Stone, book, son, edition, book, relationship, escape, journey, point, brother, employer, space, garret, freedom, entry, version, difference, name, relationship, tone, inspiration, play, reader, deal, view, following, Sense, novel, brother, Eliza, Willoughby, heroine, Sense, review, favouring, article, Sense, book, birth, comparison, Austen, criticism, condition, cost, Study, story, Study, disbelief, telegram, Watson, woman, pill, urchin, Wiggins, Hope, Hope, Hope, Hope, Study, film, Study, Deductionist, murder, drowsy, drowsy, tension, missile, story, stop, novel, purpose, purpose, book, mother, cellmate, family, bartender, split, orator, socialist, book, Sissy, Sissy, gentleman, brother, rejection, Sissy, Sissy, reason, description, Utilitarianism, bastion, system, historian, measure, system, building, rain, side, president, bear, desire, friend, sequel, size, bear, figure, figure, comment, garden, story, version, producer, production, adaptation, OSS, OSS, goal, OSS, codebook, branch, agent, descendant, vision, number, number, poet, poet, word, classification, Love, total, press, structure, account, figure, figure, novel, story, Murdstone, aunt, clerk, marriage, career, passion, instalment, point, voice, reader, story, narrative, story, latter, yardstick, project, verb, boy, attraction, ideal, Traddles, satire, approach, relationship, concern, uncle, sanctification, marginality, principle, sentimentality, tone, city, repetition, kite, woman, work, Voltaire, protagonist, precursor, legend, process, title, colifichets, colifichets, half, summary, trio, alcalde, king, companion, dervish, dervish, purpose, author, criticism, Voltaire, method, depiction, explanation, Voltaire, protagonist, garden, possibility, critique, conclusion, Voltaire, one, debate, argument, Wolper, intelligence, class, friendship, story, meeting, speculation, mother, story, protagonist, reaction, journal, biography, girl, name, name, story, tradition, path, advice, book, edition, statue, work, date, reader, father, devotion, father, novel, novel, narrator, chapter, example, rejection, tone, struggle, work, work, goal, insight, influence, character, nightingale, student, garden, giant, giant, story, story, rocket, Persuasion, use, brother, wife, enjoyment, narrative, title, critic, reason, love, village, biography, society, entry, site, evidence, chaplain, show, Simoun, Basilio, revolution, lieutenant, confession, position, jam, exchange, section, protagonist, yoke, hyperanthropos, recurrence, example, style, nature, title, text, example, example, opinion, book, Text, text, overman, overman]\n"
     ]
    }
   ],
   "source": [
    "subj_nouns=[get_root_subjects(i) for i in phrases_nouns]\n",
    "print(subj_nouns)"
   ]
  },
  {
   "cell_type": "code",
   "execution_count": 72,
   "metadata": {},
   "outputs": [],
   "source": [
    "useful_nouns_subject=['Victor','father','wife','girl','Fitzgerald','man','Torvald','Tashtego','Starbuck','woman',\n",
    "'mother','teacher','Farson', 'Browning','boy','sister','Utterson','Lanyon','boy','Jaggers','Estella','aunt','Jane','Rhys',\n",
    "'Hester','Heart','charwoman','Marlow','Svidrigailov','Cassedy','Huck','Sanders','prince','Murry','Swinburne',\n",
    "'Anatole','Deasy','Anatole','Chryses','Achilles','Diomedes','Hector','Thetis','Kleos','goddess','Agamemnon',\n",
    "'Scrooge','Danglars','Douglass','king','Fantine','Thénardier','Marius','grandfather','Eurycleia',\n",
    "'Penelope','Hobbes','Léonce','Reisz','Adèle','Chopin','Treatise','aunt','Vronsky','Levin','Eliza','Eva','husband',\n",
    "'Crisóstomo','Elías','Fagin','Cephalus','Pygmalion','Gyges','brother','Eliza','hero','heroine','Watson',\n",
    "'woman','gentleman','Sissy','uncle','overman','Wolper']\n",
    "#houskeeper? (it is neutral?) hunter leader carpenter narrator beggar bartender president precursor\n",
    "#assistant character friend minister accountant manager clerk author \n",
    "#child\n",
    "#Dracula is both the character and the book's name (see each phrase) - this may eventually also happen with Frankenstein\n",
    "#maid is always feminin? priest always male?\n",
    "#chairman/woman - maybe we can say \"nouns that countain man/woman\"  -> maybe this doesnt work because woman has the word man \n",
    "#Fate see if it is fate or a propnoun (appears with capslock - maybe im mistaking this with Faith); Hope\n",
    "#soldier at the time this was a male almost for sure but now it isn't, keep it?"
   ]
  },
  {
   "cell_type": "code",
   "execution_count": 73,
   "metadata": {},
   "outputs": [
    {
     "name": "stdout",
     "output_type": "stream",
     "text": [
      "209\n"
     ]
    }
   ],
   "source": [
    "nouns_after=[]\n",
    "for phrase in phrases_nouns:\n",
    "    if get_root_subjects(phrase).text in useful_nouns_subject:\n",
    "        nouns_after.append(phrase)\n",
    "\n",
    "print(len(nouns_after))\n"
   ]
  },
  {
   "cell_type": "code",
   "execution_count": 8,
   "metadata": {},
   "outputs": [
    {
     "name": "stdout",
     "output_type": "stream",
     "text": [
      "[Frankenstein, Frankenstein, Walton, Victor, Victor, Victor, Victor, Victor, Victor, Clerval, Victor, Victor, Victor, Victor, Victor, Victor, Walton, Victor, Walton, Mary, Ovid, Blackwell, Prometheus, Toro, Frankenstein, Frankenstein, Walton, Victor, Victor, Victor, Victor, Victor, Victor, Clerval, Victor, Victor, Victor, Victor, Victor, Victor, Walton, Victor, Walton, Mary, Ovid, Blackwell, Prometheus, Toro, Bennet, Elizabeth, Elizabeth, Collins, Darcy, Bennet, Collins, Collins, Charlotte, Elizabeth, Jane, Elizabeth, Catherine, Fitzwilliam, Elizabeth, Darcy, Darcy, Elizabeth, Elizabeth, Elizabeth, Wickham, Lydia, Bingley, Catherine, Elizabeth, Darcy, Elizabeth, Bennet, Elizabeth, Catherine, Austen, Joyce, Impressions, Reynolds, Breen, Adventures, Alice, Alice, Mouse, Alice, Rabbit, Alice, Alice, Alice, Alice, Alice, Cat, Hatter, Alice, Alice, Queen, Turtle, Turtle, Alice, Alice, Alice, Gardner, Duck, Dormouse, Turtle, Alice, Alice, Alice, Alice, Alice, Wilde, Gatsby, Fitzgerald, Gatsby, Gatsby, Gatsby, Daisy, Nick, Nick, Nick, Myrtle, Nick, Nick, Gatsby, Nick, Jordan, Gatsby, Gatsby, Tom, Gatsby, Daisy, Tom, Daisy, Tom, Gatsby, Nick, Tom, George, Nick, Tom, Gatsby, Bechtel, Gatsby, Buchanan, Tom, Marx, Gatsby, Levy, Tale, Lorry, Lorry, Evrémonde, Marquis, Gaspard, Carton, Carton, Darnay, Lorry, Lorry, Pross, Carton, Solomon, Carton, Defarge, Tale, Jerry, Manette, Lucie, Defarge, Dickens, Darnay, Carlyle, Simon, Nora, Nora, Nora, Kristine, Krogstad, Nora, Rank, Torvald, Krogstad, Krogstad, Kristine, Rank, Nora, Krogstad, Nora, Nora, Nora, Nora, Krogstad, Kristine, Rank, Rank, Nora, Nora, Nora, House, Picture, Stoddart, Dorian, Dorian, Basil, Dorian, Dorian, Alan, Dorian, James, James, Dorian, Wilde, Ishmael, Ishmael, Pequod, Ishmael, Ahab, Pequod, Queequeg, Pequod, Stubb, Ahab, Ahab, Ahab, Queequeg, Queequeg, Queequeg, Ahab, Ahab, Pequod, Ahab, Ahab, Queequeg, Ahab, Ahab, Ahab, Ahab, Dick, Ahab, Ahab, Dick, Ishmael, Ahab, Ishmael, Ishmael, Bezanson, Bezanson, Bezanson, Wright, Pip, Pip, Bezanson, Bezanson, Matthiessen, Matthiessen, Ishmael, Moby, Moby, Ahab, Reynolds, Dick, Bryant, Milder, Bryant, Gilman, Lanser, Horowitz, Edelstein, Dracula, Harker, Dracula, Dracula, Lucy, Mina, Lucy, Dracula, Mina, Lucy, Helsing, Mina, Harker, Dracula, Dracula, Dracula, McNally, Dracula, Milbank, Myrkranna, Schaffer, Showalter, Senf, Harker, Wasserman, Senf, Zanger, Tomaszewska, Clasen, Dracula, Hogle, Dracula, Keogh, Davison, McNally, Library, Hensley, Dracula, Dracula, McGrath, McGrath, Proposal, Proposal, Swift, Smith, Swift, Lewis, Swift, Johnson, Johnson, Johnson, Reader, Swift, Proposal, Friedrichstraßenpassage, Metallwerkstatt, Artprotacheles, Adventures, Adventures, Case, Enfield, Jekyll, Jekyll, Lanyon, Lanyon, Utterson, Jekyll, Utterson, Jekyll, Hyde, Hyde, Enfield, Enfield, Poole, Poole, maid, Wright, Expectations, Havisham, Joe, Joe, Biddy, Pip, Pip, Herbert, Pip, Pip, Pip, Pip, Joe, Pip, Pip, Pip, Joe, Pip, Drummle, Pip, Pip, Pip, Pip, Pip, Pip, Pip, Jaggers, Magwitch, Pip, Herbert, Pip, Pip, Joe, Joe, Pip, Pip, Dickens, Cardwell, Dickens, Expectations, Pip, Estella, Expectations, Trotter, Orlick, Orlick, Pip, Dickens, Drummle, Davis, Ricks, Expectations, Expectations, Dickens, Dickens, Magwitch, Trotter, Pip, Pip, Drummle, Pip, Pip, Dickens, Pip, Pip, Reed, Reed, Jane, nursemaid, Jane, Reed, Jane, Brocklehurst, Temple, Helen, Jane, Jane, Jane, Reed, Reed, Rochester, Jane, Rochester, Rochester, Rochester, Rivers, John, John, Jane, Rochester, Rochester, Letter, Letter, Letter, Hester, Hester, Pearl, Chillingworth, Dimmesdale, Hester, Hester, Dimmesdale, Dimmesdale, Hester, Letter, Letter, Conrad, Hochschild, Marlow, Marlow, Marlow, Marlow, Marlow, Marlow, Marlow, Nylander, Ops, Hearts, Headhunter, Downward, Samsa, Gregor, Gregor, Gregor, Gregor, Gregor, Grete, Grete, Samsa, Samsa, Sudau, Rubio, Drüke, Nabokov, Frank, Snitkina, Raskolnikov, Marmeladov, Raskolnikov, Marmeladov, Raskolnikov, Raskolnikov, Razumikhin, Sonya, Raskolnikov, Razumikhin, Raskolnikov, Porfiry, Raskolnikov, Raskolnikov, Raskolnikov, Raskolnikov, Raskolnikov, Dunya, Raskolnikov, Raskolnikov, Porfiry, Mikolka, Raskolnikov, Sonya, Luzhin, Raskolnikov, Raskolnikov, Lebezyatnikov, Razumikhin, Porfiry, Raskolnikov, Raskolnikov, Raskolnikov, Svidrigailov, Raskolnikov, Dostoevsky, Raskolnikov, Raskolnikov, Sonya, Razumíkhin, Luzhin, Svidrigaïlov, Porfiry, Raskolnikov, Dostoevsky, Raskolnikov, Sonya, Huck, Huck, Jim, Loftus, Huck, Huck, Polly, Huck, Twain, Alberti, Finn, Comedy, Eltis, Ellmann, Aynesworth, Wilde, Jack, Jack, Bracknell, Gwendolen, Algernon, Gwendolen, Gwendolen, Bracknell, Jack, Earnest, Foster, Ellmann, Opera, Souls, Souls, Bois, Bois, Bois, Bois, Bois, Bois, Bois, Bois, Bois, John, XIV, Souls, Carby, Bois, Bois, Sanders, Machiavelli, Prince, Machiavelli, Machiavelli, Machiavelli, Gilbert, Machiavelli, Machiavelli, Machiavelli, Machiavelli, Machiavelli, Gilbert, Machiavelli, Machiavelli, Machiavelli, Machiavelli, Machiavelli, Machiavelli, Machiavelli, Machiavelli, Machiavelli, Machiavelli, Machiavelli, Machiavelli, Machiavelli, Machiavelli, Machiavelli, Machiavelli, Machiavelli, Machiavelli, Machiavelli, Gilbert, Machiavelli, Fortune, X, Machiavelli, Machiavelli, Blake, Bible, Ackroyd, Blake, Blake, Europe, Gilchrist, Damon, Blake, Blake, Blake, Erdman, Man, Energy, Prudence, Blake, Blake, Ankarsjö, Berger, Felpham, University, Zipes, Ulysses, Ulysses, Joyce, Stephen, Stephen, Bloom, Bloom, Bloom, Bloom, Bloom, Stephen, Stephen, Mulligan, Bloom, Citizen, Gerty, Bloom, Bloom, Stephen, Stephen, Bloom, Bloom, Stephen, Stephen, McGann, Joyce, Thema, Tolstoy, Tolstoy, Tolstoy, Tolstoy, Pierre, Pierre, Boris, Rostov, Drubetskoy, Battle, Andrei, Denisov, Nikolai, Dolokhov, Nikolai, Hélène, Pierre, Pierre, Hélène, Pierre, Pierre, Andrei, Andrei, Rostov, Natasha, Natasha, Sonya, Natasha, Natasha, Andrei, Natasha, Pierre, Bolkonsky, Pierre, Andrei, Pierre, Natasha, Pierre, Pierre, Pierre, Pierre, Pierre, Nikolai, Natasha, Pierre, Rostov, Nikolai, Annenkov, Strakhov, Tolstoy, Dunnigan, Diary, Thoreau, Thoreau, Thoreau, Thoreau, Thoreau, Thoreau, Thoreau, Pond, Pond, Thoreau, Thoreau, Thoreau, Bagnall, Thoreau, Thoreau, Moore, Thoreau, Walden, Agamemnon, Chryses, Agamemnon, Agamemnon, Odysseus, Thetis, Agamemnon, Aphrodite, Athena, Diomedes, Apollo, Apollo, Nestor, Poseidon, Poseiden, Trojan, Trojan, Hera, Achilles, Patroclus, Achilles, Hephaestus, Thetis, Agamemnon, Achilles, Automedon, Zeus, god, Hector, Hector, Athena, Hector, Achilles, Zeus, Priam, Priam, Homer, Paris, Aeneas, Lattimore, Hybris, hybris, Wrath, Athena, Achilles, Hector, Wrath, Achilles, quem, Ἰλιάς, A, Homer, Iliad, Iliad, Arnold, Pan, Barrie, Peter, Peter, Peter, Barrie, Peter, Barrie, Barrie, Peter, Peter, Wendy, Robertson, Pan, Pan, Peter, Peter, Maimie, Peter, Wendy, Peter, John, Darling, Lily, Barrie, Lily, Bell, Peter, Hook, Hook, Smee, Smee, Smee, Faria, Dantès, Faria, Faria, Dantès, Mondego, Dantès, Dantès, Dantès, Bertuccio, Bertuccio, Assunta, Carderousse, Andrea, Dantès, Caderousse, Albert, Fernand, Albert, Mercédès, Albert, Count, Valentine, Villefort, Villefort, Andrea, Villefort, Count, Dantès, Count, Count, Count, Dantès, Morrel, Dantès, Peuchet, Dumas, Count, Wizard, Dorothy, Witch, Dorothy, Guardian, Witch, Dorothy, Lion, Glinda, Dorothy, Henry, Dorothy, Baum, Oz, Women, Women, Beth, Jo, Meg, Laurence, Laurence, Brooke, Brooke, Jo, Laurie, Meg, Laurie, Jo, Jo, Jo, Jo, Jo, Bhaer, Laurie, Laurie, Jo, Laurie, Bhaer, March, Meg, Meg, Jo, Jo, Laurie, Jo, Jo, Beth, Beth, Amy, Saxton, Lizzie, Lizzie, Alcott, Women, Women, Jo, Carol, Scrooge, Ghost, Scrooge, Scrooge, Dickens, Irving, Kelly, Fairhurst, Davis, Davis, Davis, Glancy, Davis, Roosevelt, Greece, Greece, Athens, Cave, Hadrian, Church, Peloponnese, France, March, Olympus, Greece, Greece, Greece, President, SYRIZA, Greece, Greece, Greece, Police, Greece, Greece, Greece, Greece, Greece, Greece, Greece, Greece, Union, Secretariat, Greece, Constitution, Church, Greek, Greece, Greece, University, University, Greece, Greece, Patras, League, Argous, Sunday, Saturday, Festival, Douglass, Garrison, Narrative, Douglass, Douglass, Douglass, stick, Assing, Blight, Pitts, Church, Jim, Jim, Jim, Gunn, Silver, Jim, Gladstone, Island, Adventures, Sawyer, Tom, Tom, Tom, Potter, Joe, Joe, Tom, Becky, Tom, Douglas, Huck, Twain, Sawyer, Tom, Sawyer, Revard, Sawyer, Doodle, Hugo, Myriel, Valjean, Fantine, Javert, Fantine, Javert, Javert, Valjean, Javert, Thénardier, Valjean, Thénardier, Javert, Valjean, Valjean, Marius, Marius, Éponine, Marius, Éponine, Thénardier, Marius, Valjean, Marius, Éponine, Marius, Javert, Marius, Marius, Thénardier, Marius, Cosette, Marius, Marius, Gavroche, Marius, Marius, Marius, Éponine, Éponine, Marius, Enjolras, Marius, Valjean, Thénardier, Valjean, Javert, Valjean, Javert, Javert, Marius, Valjean, Marius, Marius, Marius, Machine, Traveller, Traveller, Traveller, Traveller, Perry, Wells, Ripper, Wells, Illustrated, Karamazov, Pavlovich, Ivan, Ivan, Pavlovich, Fyodorovich, Alyosha, Smerdyakov, Smerdyakov, Grushenka, Ivanovna, Katerina, Zosima, Zosima, Ilyusha, Dmitri, Alyosha, Ilyusha, Snegiryov, Ivan, Jesus, Alyosha, Ivan, Zosima, Zosima, Dmitri, Dmitri, Kolya, Kolya, Eleven, Smerdyakov, Smerdyakov, Ivan, Alyosha, Karamazov, France, McDuff, Quixote, Quixote, Basque, Quixote, Quixote, Quixote, Fernando, Quixote, Quixote, Quixote, Quixote, Quixote, Sancho, Quixote, Sancho, Bloom, Cervantes, Quixote, Cervantes, Mancha, Collection, Anne, Anne, Anne, Anne, Anne, Athena, Athena, Telemachus, Telemachus, Odysseus, Odysseus, Odysseus, Odysseus, Odysseus, Telemachus, Odysseus, Odysseus, Odysseus, Penelope, Odysseus, Telemachus, Odysseus, Odyssey, Book, West, Gilgamesh, Greek, Bonafazi, Odysseus, Agamemnon, Polyphemus, Calypso, Antinous, Odysseus, Odysseus, Penelope, Odysseus, Odyssey, Circe, Hobbes, Hobbes, Hobbes, Hobbes, Hobbes, Hound, Doyle, Hall, Holmes, Awakening, Edna, Edna, Robert, Edna, Edna, Edna, Robert, Edna, Edna, Edna, Chopin, Awakening, Edna, Edna, Edna, Edna, Awakening, Socrates, Socrates, Comedy, Japan, Formalism, Collection, Iconoclasm, Judgment, Raft, Shiner, Locke, Mary, Treatise, Locke, Locke, Locke, Locke, Locke, Locke, Locke, Locke, Locke, Locke, Locke, Locke, Locke, Tully, Zuckert, Locke, Wood, Pipes, Tractatus, Tractatus, Philosophy, Philosophy, Wittgenstein, Wittgenstein, Kenny, Tractatus, Numminen, Emma, Emma, Emma, Emma, Emma, Emma, Knightley, Emma, Knightley, Knightley, Emma, Byrne, Fairfax, Henry, Tudor, VI, Joyce, Levin, Stiva, Levin, Anna, Anna, Kitty, Kitty, Anna, Anna, Levin, Anna, Stiva, Karenin, Anna, Karenin, Anna, Karenin, Kitty, Levin, Karenin, Karenin, Vronsky, Levin, Kitty, Kitty, Vronsky, Anna, Seryozha, Veslovsky, Anna, Levin, Anna, Kitty, Levin, Stiva, Anna, Stiva, Levin, Bartlett, Heights, Heathcliff, Earnshaw, Hindley, Catherine, Heathcliff, Catherine, Edgar, Edgar, Edgar, Heathcliff, Heathcliff, Hindley, Cathy, Lockwood, Wiltshire, Heights, Heights, Hall, Brontë, Lockwood, Dean, Brontë, Scott, Brontë, Traversi, Heathcliff, Otto, Heathcliff, Beauvoir, Stewart, Alejandro, Indian, Anthem, Gaea, Narrator, Narrator, War, Wells, Wells, Cabin, Cabin, Stowe, Eliza, Haley, Tom, Eva, Eliza, Clare, Clare, Eva, Legree, Legree, Tom, Tom, Cassy, Legree, Shelby, Cassy, Shelby, Shelby, Tom, Clare, Eva, Eva, Legree, Cabin, Dámaso, Crisóstomo, Guevarra, Crisóstomo, Crisóstomo, Salví, Crisóstomo, Salví, Crisóstomo, Crisóstomo, Elías, Crisóstomo, Crisóstomo, Elías, Elías, Crisóstomo, Crisóstomo, Crisóstomo, Crisóstomo, Clara, Crisóstomo, Tiago, Elías, Crisóstomo, Rebuffed, Crisóstomo, Crisóstomo, Elías, Tiago, Guevarra, Guevarra, Guevarra, María, Elías, Crisóstomo, Crisóstomo, Elías, Basilio, Salví, Rizal, Ibarra, Verdolagas, Elías, Ingkong, Twist, Oliver, Gamfield, Gamfield, Sowerberry, Sowerberry, Oliver, Oliver, Oliver, Ensnared, Oliver, Fagin, Oliver, Brownlow, Brownlow, Oliver, Nancy, Fagin, Nancy, Sikes, Bumble, Brownlow, Nancy, Rose, Nancy, Fagin, Fagin, Brownlow, Oliver, Bates, Dickens, Oliver, Oliver, Oliver, Dickens, Fagin, Dickens, Sikes, Nancy, Buck, Buck, Mercedes, Buck, Thornton, Buck, Buck, Buck, Buck, Buck, City, Library, London, Doctorow, Pizer, London, Buck, Pizer, Gianquitto, Buck, Call, Brown, Nietzsche, Nietzsche, Nietzsche, Nietzsche, Nietzsche, Nietzsche, Nietzsche, Nietzsche, Nietzsche, Nietzsche, Nietzsche, Higgins, Eliza, Higgins, Pickering, Doolittle, Higgins, Higgins, Henry, Eliza, Higgins, Higgins, Higgins, Doolittle, Higgins, Higgins, Higgins, Higgins, Socrates, Polemarchus, Socrates, Socrates, Socrates, Socrates, Socrates, Socrates, II, Epilogue, Socrates, Thrasymachus, Socrates, Thrasymachus, Glaucon, Glaucon, Glaucon, Glaucon, Adeimantus, Adeimantus, Socrates, Republic, Plato, Socrates, Socrates, Plato, Republic, Plato, Plato, Socrates, Socrates, Rushd, Plato, Heinze, Heinze, Republic, Poe, Poe, Poe, Yeats, Eureka, Baltimore, Gulliver, Gulliver, Laputa, Gulliver, Master, Asimov, Travels, Swift, Misanthropy, Gulliver, Gulliver, Mendez, Pedro, Gulliver, Pedro, Brobdingnagian, Jacobs, Cult, Brent, Martha, Jacobs, Benjamin, William, Benny, Ellen, Flint, Norcom, Flint, Flint, Sands, Bruce, Bruce, John, John, Jacobs, Jacobs, Yellin, Jacobs, McKittrick, McKittrick, Faustus, Faustus, Chorus, Faustus, Faustus, Faustus, Faustus, Mephistophilis, Faustus, Faustus, Mephistophilis, Lucifer, Lucifer, Faustus, Calvinist, Faustus, Faustus, Mephistophilis, Dashwood, Dashwood, Dashwood, Willoughby, Marianne, Elinor, Marianne, Ferrars, Marianne, Willoughby, Marianne, Marianne, Brandon, Steele, Edward, Brandon, Marianne, Willoughby, Marianne, Marianne, Edward, Edition, Review, Pollock, Meynell, Austen, Favret, Ruoff, Poovey, Rowland, Marianne, Rowland, Montolieu, Holmes, Holmes, Gregson, Gregson, Lestrade, Holmes, Holmes, Holmes, Holmes, Ferrier, Hope, Drebber, Drebber, Stangerson, Watson, Watson, Prophet, Committee, Garden, Hollow, Legend, Crane, Crane, Brom, Crane, Jungle, Rudkus, Jonas, Jurgis, Ona, Jurgis, Jurgis, Jurgis, Jurgis, Jurgis, Jurgis, Jurgis, Jurgis, Jurgis, Jurgis, Jurgis, Times, Times, Gradgrind, Gradgrind, Bounderby, Sparsit, Bounderby, Stephen, Blackpool, Tom, Tom, Sparsit, Louisa, Sparsit, Louisa, Sparsit, Bounderby, Gradgrind, Bounderby, Harthouse, Gradgrind, Bounderby, Gradgrind, Bounderby, Bounderby, Gradgrind, Cecilia, Gradgrind, Gradgrind, Gradgrind, Gradgrind, Gradgrind, Tom, Louisa, Blackpool, Bitzer, Rachael, Sparsit, Harthouse, Gradgrind, Bitzer, Bounderby, Dickens, Bounderby, Dickens, Bazalgette, Mills, Pooh, Pooh, Pooh, Pooh, Pooh, Pooh, Pooh, Disney, Hoff, Forest, Romance, Ashbee, Charlie, Charlie, Ashbee, Marcus, Mary, Mary, Mary, robin, Mary, Mary, Mary, Mary, Mary, Colin, Gerzina, Burnett, Masson, Office, FBI, Roosevelt, Turkey, Rype, Park, Club, Agency, Dante, Purgatorio, Purgatorio, Dante, Beatrice, Dante, Paradiso, Comedy, Paradiso, Dante, Dante, Comedy, Corti, Comedy, Liszt, Copperfield, David, David, David, David, David, David, Heep, David, David, David, Peggotty, Steerforth, Peggotty, Dora, Agnes, David, David, Copperfield, Dickens, Leech, Dickens, Dickens, Stone, Phiz, Heep, Dickens, David, Creakle, Blount, Dickens, Forster, Cordery, Copperfield, Brontë, Emily, Dickens, Jordan, Comedy, Melodrama, Blount, Blount, Hollington, Hollington, Leavis, Needham, Voltaire, Candide, Cunégonde, Candide, Candide, Jacques, Candide, Cunégonde, Candide, Candide, Martin, Candide, Cacambo, Candide, Candide, Candide, Voltaire, Voltaire, Cunégonde, Candide, Bottiglia, Ridicule, Pangloss, Candide, Candide, Poème, Candide, Bottiglia, Mason, II, Andersen, Samling, Thumbelina, Andersen, Siddhartha, Siddhartha, Siddhartha, Siddhartha, Siddhartha, Siddhartha, Siddhartha, Siddhartha, Govinda, Siddhartha, Govinda, Dexter, Portrait, Schmitz, Stephen, Stephen, Stephen, Stephen, Stephen, Gielgud, Montaigne, King, Prince, Giant, Giant, Giant, Hans, Hugh, Hans, Elliot, Anne, Mary, Anne, Henrietta, Henrietta, Anne, Louisa, Anne, Benwick, Wentworth, Anne, Anne, Clay, Russell, Wentworth, Anne, Mary, Louisa, Benwick, Benwick, Smith, Elizabeth, Austen, Croft, Litz, Wiltshire, Wiltshire, Irvine, Anne, Russell, Wiltshire, Bourne, Bourne, Equiano, Equiano, Equiano, Equiano, Simoun, Simoun, Basilio, Simoun, Tales, Simoun, Simoun, Quiroga, Salví, Simoun, Basilio, Simoun, Basilio, Basilio, Basilio, Isagani, Isagani, Simoun, Simoun, Crisóstomo, Alice, Alice, Alice, Alice, Alice, Zarathustra, Nietzsche, Nietzsche, Zarathustra, Nietzsche, Nietzsche, Superman, Martin, Superman, Overhuman]\n"
     ]
    }
   ],
   "source": [
    "subj_PROPN=[get_root_subjects(i) for i in phrases_PROPN]\n",
    "print(subj_PROPN)"
   ]
  },
  {
   "cell_type": "code",
   "execution_count": 53,
   "metadata": {},
   "outputs": [],
   "source": [
    "useful_propn_subject=['Walton','Victor','Clerval','Mary','Blackwell','Toro','Bennet','Elizabeth','Collins','Darcy',\n",
    "    'Charlotte','Jane','Catherine','Fitzwilliam','Wickham','Lydia','Bingley','Catherine','Austen','Joyce','Reynolds',\n",
    "    'Alice','Tom','Jordan','Myrtle','Nick','Daisy','Fitzgerald','Gatsby','Wilde','George','Bechtel','Buchanan','Marx',\n",
    "    'Levy','Lorry','Evrémonde','Marquis','Gaspard','Carton','Darnay','Solomon','Defarge','Jerry','Manette',\n",
    "    'Lucie','Defarge','Darnay','Carlyle','Simon','Törnqvist','Nora','Kristine','Krogstad','Torvald','Rank',\n",
    "    'Nora','Kristine','Mencken','Stoddart','Dorial', 'Basil','Alan','James','Ishmael','Ahab','Queequeg','Stubb','Pip',\n",
    "    'Dick','Bryant','Bezanson','Wright','Arvin','Matthiessen','Melville','Bryant','Milder','Gilman','Lanser','Treichler',\n",
    "    'Horowitz','Edelstein','Harker','Lucy','Mina','Helsing','Showalter','Redmond','Enfield','Jekyll','Lanyon','Poole',\n",
    "    'Utterson','Hyde','Wright','Havisham','Joe','Biddy','Herbert','Molly','Drummle','Jaggers','Magwitch','Jane','Reed',\n",
    "    'Brocklehurst','Temple','Helen','Rochester','Rivers','John','Hester','Chillingworth','Pearl','Dimmesdale','Conrad',\n",
    "    'Hochschild','Marlow','Nylander','Samsa','Sudau','Rubio','Drüke','Nabokov','Frank','Snitkina','Raskolnikov',\n",
    "    'Marmeladov','Sonya','Razumikhin','Porfiry','Dunya','Mikolka','Luzhin','Lebezyatnikov','Svidrigailov','Dostoevsky',\n",
    "    'Huck','Jim','Loftus','Polly','Twain','Hearn','Alberti','Finn','Eltis','Ellmann','Aynesworth', 'Wilde','Jack',\n",
    "    'Bracknell','Gwendolen','Algernon','Gwendolen','Bracknell','Earnest','Foster','Edwards','Carby','Anderson',\n",
    "    'Sanders','Gilbert','Ulysses','Joyce','Stephen','Bloom','Mulligan','Gerty','Pierre',\n",
    "    'Boris','Rostov','Drubetskoy','Andrei','Denisov','Nikolai','Hélène','Pierre','Natasha','Rostov','Bolkonsky','Annenkov',\n",
    "    'Strakhov','Dunnigan','Bagnall','Moore','Walden','Agamemnon','Chryses','Odysseus','Thetis','Aphrodite',\n",
    "    'Athena','Diomedes','Zeus','Nestor','Poseidon','Polydamas','Hera','Achilles','Patroclus','Hephaestus','Hector','Priam',\n",
    "    'Homer','Arnold','Pan','Barrie','Peter','Wendy','Robertson','Maimie','Darling','Lily','Bell','Hook','Smee','Faria',\n",
    "    'Dantès','Mondego','Bertuccio','Carderousse','Andrea','Dorothy','Glinda','Henry','Oz','Beth','Jo','Meg','Laurence',\n",
    "    'Brooke','Laurie', 'Meg', 'Beth','Amy','Lizzie','Saxton','Alcott','Carol','Scrooge','Irving','Kelly','Jim',\n",
    "    'Potter','Joe','Becky','Douglas','Hugo','Myriel','Valjean','Fantine','Javert','Thénardier','Marius','Cosette',\n",
    "    'Gavroche','Enjolras','Perry','Karamazov','Pavlovich','Fyodorovich','Alyosha','Snegiryov','Smerdyakov','Grushenka',\n",
    "    'Katerina','Zosima','Dmitri','Ilyusha','Alyosha','Snegiryov','Ivan','Kolya','Quixote','Fernando','Sancho','Anne',\n",
    "    'Cervantes','Athena','Telemachus','Odysseus','Penelope','Hobbes','Doyle','Edna','Robert','Mary',\n",
    "    'Tully','Zuckert','Kenny','Emma','Knightley','Byrne','Henry','Karenin','Levin','Vronsky','Stiva','Bartlett',\n",
    "    'Heathcliff','Dean','Earnshaw','Hindley','Catherine','Edgar','Cathy','Lockwood','Wiltshire','Scott','Alejandro',\n",
    "    'Stewart','Alejandro','Eliza','Clare','Eva','Legree','Shelby','Dámaso','Crisóstomo','Guevarra','Salví','Tiago','Elías',\n",
    "    'Guevarra','María','Twist','Oliver','Brownlow','Fagin','Nancy','Sikes','Bumble','Brownlow','Nancy','Rose','Bumble',\n",
    "    'Bates','Buck','Mercedes','Thornton','Pizer','Gianquitto','Higgins','Eliza','Doolittle','Higgins',\n",
    "    'Polemarchus','Glaucon','Adeimantus','Gulliver','Mendez','Pedro','Jacobs','Brent','Martha','Jacobs',\n",
    "    'Benjamin','William','Benny','Ellen','Flint','Bruce','John','Faustus','Lucifer','Marianne','Brandon','Steele',\n",
    "    'Edward','Pollock','Favret','Holmes','Drebber','Crane','Rudkus','Jonas','Jurgis','Gradgrind','Bounderby','Stephen',\n",
    "    'Sparsit','Tom','Blackpool','Louisa','Gradgrind','Harthouse','Cecilia','Bitzer','Rachael','Bazalgette','Mills','Pooh',\n",
    "    'Hanyu','Charlie','Ashbee','Marcus','Mary','Weatherstaff','Fauntleroy','Gerzina','Masson','Burnett','Virgil','Dante',\n",
    "    'Beatrice','David','Peggotty','Dora','Agnes','Hollington','Leavis','Needham','Bottiglia','Dexter',\n",
    "    'Anne','Henrietta','Benwick','Clay','Russell','Croft','Isagani','Basilio','Simoun']\n",
    "\n",
    "maybe_useful_propn_subject=['Frankenstein','Mouse','Rabbit','Cat','Hatter','Queen','Turtle','Gardner','Duck',\n",
    "    'Dormouse','Turtle','Pequod','Dracula','Witch','Lion','Ghost']\n",
    "\n",
    "\n",
    "#some names are precedeed by miss & co - change this if the gender changes\n",
    "#in Alice in wonderland's story there are several characters that are named after animals, maybe these will be useful\n",
    "# because the phrases will work exchanging these names for human names - same for the wizard of oz"
   ]
  },
  {
   "cell_type": "code",
   "execution_count": 54,
   "metadata": {},
   "outputs": [
    {
     "name": "stdout",
     "output_type": "stream",
     "text": [
      "1230\n",
      "35\n"
     ]
    }
   ],
   "source": [
    "PROPN_after=[]\n",
    "PROPN_after_maybe=[]\n",
    "\n",
    "for phrase in phrases_PROPN:\n",
    "    if get_root_subjects(phrase).text in useful_propn_subject:\n",
    "        PROPN_after.append(phrase)\n",
    "    elif get_root_subjects(phrase).text in maybe_useful_propn_subject:\n",
    "        PROPN_after_maybe.append(phrase)\n",
    "\n",
    "print(len(PROPN_after))\n",
    "print(len(PROPN_after_maybe))"
   ]
  },
  {
   "cell_type": "markdown",
   "metadata": {},
   "source": [
    "## 9.2 Remove subjects that only appear once"
   ]
  },
  {
   "cell_type": "markdown",
   "metadata": {},
   "source": [
    "I also concluded that if a name only appears one time probably is not related to the plot of the story but it is probably just a comment of someone that studied the text which is not what we want to a removed those names from the list."
   ]
  },
  {
   "cell_type": "code",
   "execution_count": 55,
   "metadata": {},
   "outputs": [],
   "source": [
    "def single_subj(list_of_subjects,list_docs):\n",
    "    #list_of_subjects is a list with strings that correspond to the root subjects of the spacy doc (snetence)\n",
    "    #list_docs is a list of Spacy docs (sentences)\n",
    "    single=[]\n",
    "    list_subj=[get_root_subjects(i) for i in list_docs]\n",
    "    for nn in list_of_subjects:\n",
    "        n=0\n",
    "        for i in range(len(list_subj)):\n",
    "            if list_subj[i].text==nn:\n",
    "                n+=1\n",
    "        if n==1:\n",
    "            single.append(nn)\n",
    "    return single"
   ]
  },
  {
   "cell_type": "code",
   "execution_count": 56,
   "metadata": {},
   "outputs": [
    {
     "name": "stdout",
     "output_type": "stream",
     "text": [
      "before removing there were 1230 phrases with proper nouns as subjects and after removing there are 1065 \n"
     ]
    }
   ],
   "source": [
    "propn_after_single=[]\n",
    "single_subj_propn=single_subj(useful_propn_subject,PROPN_after)\n",
    "for phrase in PROPN_after:\n",
    "    if get_root_subjects(phrase).text not in single_subj_propn:\n",
    "        propn_after_single.append(phrase)\n",
    "\n",
    "print('before removing there were {} phrases with proper nouns as subjects and after removing there are {} '.format(len(PROPN_after), len(propn_after_single)))"
   ]
  },
  {
   "cell_type": "markdown",
   "metadata": {},
   "source": [
    "# 10. Deleting duplicated phrases"
   ]
  },
  {
   "cell_type": "markdown",
   "metadata": {},
   "source": [
    "The following three dataframes are the ones that can be used to choose the phrases by hand:\n",
    "+ nouns_after - has 108 phrases (some of which are prop nouns that were wrongly selected as common nouns by spacy)\n",
    "+ propn_after_single - has 1149 phrases (some don't correspond to the plot but to researchers commenting on the meaning of the plots)\n",
    "+ phrases_pron - has 759 phrases and are all the phrases that have \"he/she\" as the subject"
   ]
  },
  {
   "cell_type": "code",
   "execution_count": 74,
   "metadata": {},
   "outputs": [],
   "source": [
    "def equal_phrases(list_of_phrases):\n",
    "    same_phrases=[] #list of the duplicate phrase that appears in 2nd place\n",
    "\n",
    "    for phrase1_idx in range(len(list_of_phrases)):\n",
    "        for phrase2_idx in range(len(list_of_phrases)):\n",
    "            if list_of_phrases[phrase1_idx].text==list_of_phrases[phrase2_idx].text and phrase2_idx!=phrase1_idx:\n",
    "                same_phrases.append(list_of_phrases[phrase1_idx])\n",
    "\n",
    "    same_phrases=list(set(same_phrases))\n",
    "    \n",
    "    return same_phrases"
   ]
  },
  {
   "cell_type": "code",
   "execution_count": 75,
   "metadata": {},
   "outputs": [],
   "source": [
    "eq_propn=equal_phrases(propn_after_single)\n",
    "eq_nouns=equal_phrases(nouns_after)\n",
    "eq_pronouns=equal_phrases(phrases_pron)\n",
    "\n",
    "#takes a bit of time"
   ]
  },
  {
   "cell_type": "code",
   "execution_count": 76,
   "metadata": {},
   "outputs": [
    {
     "name": "stdout",
     "output_type": "stream",
     "text": [
      "0\n",
      "12\n",
      "0\n"
     ]
    }
   ],
   "source": [
    "print(len(eq_propn))\n",
    "print(len(eq_nouns))\n",
    "print(len(eq_pronouns))\n"
   ]
  },
  {
   "cell_type": "code",
   "execution_count": 61,
   "metadata": {},
   "outputs": [
    {
     "name": "stdout",
     "output_type": "stream",
     "text": [
      "1022\n"
     ]
    },
    {
     "ename": "ValueError",
     "evalue": "list.remove(x): x not in list",
     "output_type": "error",
     "traceback": [
      "\u001b[1;31m---------------------------------------------------------------------------\u001b[0m",
      "\u001b[1;31mValueError\u001b[0m                                Traceback (most recent call last)",
      "\u001b[1;32md:\\escola\\tese\\mycodes\\gender_corpus\\generate_original_phrases.ipynb Cell 67'\u001b[0m in \u001b[0;36m<cell line: 3>\u001b[1;34m()\u001b[0m\n\u001b[0;32m      <a href='vscode-notebook-cell:/d%3A/escola/tese/mycodes/gender_corpus/generate_original_phrases.ipynb#ch0000066?line=0'>1</a>\u001b[0m \u001b[39mprint\u001b[39m(\u001b[39mlen\u001b[39m(propn_after_single))\n\u001b[0;32m      <a href='vscode-notebook-cell:/d%3A/escola/tese/mycodes/gender_corpus/generate_original_phrases.ipynb#ch0000066?line=2'>3</a>\u001b[0m \u001b[39mfor\u001b[39;00m i \u001b[39min\u001b[39;00m eq_propn:\n\u001b[1;32m----> <a href='vscode-notebook-cell:/d%3A/escola/tese/mycodes/gender_corpus/generate_original_phrases.ipynb#ch0000066?line=3'>4</a>\u001b[0m     propn_after_single\u001b[39m.\u001b[39;49mremove(i)\n\u001b[0;32m      <a href='vscode-notebook-cell:/d%3A/escola/tese/mycodes/gender_corpus/generate_original_phrases.ipynb#ch0000066?line=5'>6</a>\u001b[0m \u001b[39mprint\u001b[39m(\u001b[39mlen\u001b[39m(propn_after_single))\n",
      "\u001b[1;31mValueError\u001b[0m: list.remove(x): x not in list"
     ]
    }
   ],
   "source": [
    "print(len(propn_after_single))\n",
    "\n",
    "for i in eq_propn:\n",
    "    propn_after_single.remove(i)\n",
    "\n",
    "print(len(propn_after_single))"
   ]
  },
  {
   "cell_type": "code",
   "execution_count": 77,
   "metadata": {},
   "outputs": [],
   "source": [
    "for i in eq_nouns:\n",
    "    nouns_after.remove(i)\n"
   ]
  },
  {
   "cell_type": "code",
   "execution_count": 62,
   "metadata": {},
   "outputs": [],
   "source": [
    "\n",
    "for i in eq_pronouns:\n",
    "    phrases_pron.remove(i)"
   ]
  },
  {
   "cell_type": "code",
   "execution_count": 78,
   "metadata": {},
   "outputs": [
    {
     "name": "stdout",
     "output_type": "stream",
     "text": [
      "1022\n",
      "197\n",
      "741\n"
     ]
    }
   ],
   "source": [
    "print(len(propn_after_single))\n",
    "print(len(nouns_after))\n",
    "print(len(phrases_pron))"
   ]
  },
  {
   "cell_type": "markdown",
   "metadata": {},
   "source": [
    "After the deletion of the duplicates:\n",
    "+ nouns_after - has 197 phrases\n",
    "+ propn_after_single - has 1022 phrases\n",
    "+ phrases_pron - has 741 phrases"
   ]
  },
  {
   "cell_type": "markdown",
   "metadata": {},
   "source": [
    "# 11. Highlighting of root verb and subject (function)"
   ]
  },
  {
   "cell_type": "markdown",
   "metadata": {},
   "source": [
    "To make the identification of the subjects easier the following function gives a version of a row with the subject and verb highlighted."
   ]
  },
  {
   "cell_type": "code",
   "execution_count": 37,
   "metadata": {},
   "outputs": [],
   "source": [
    "\n",
    "def highlight_word(phrase,colour_verb,colour_subj):\n",
    "    # phrase is a doc string\n",
    "    # colour is a string with rgb values (ex. 'rgb(155,217,230)')\n",
    "\n",
    "    sent=[]\n",
    "    root_verb=[root for root in phrase if root.dep_=='ROOT'][0]\n",
    "\n",
    "    for token in phrase:\n",
    "        if token.dep_=='ROOT':\n",
    "            sent.append(\" <span style='background: {}'>{}</span> \".format(colour_verb,token.text))\n",
    "        elif 'nsubj' in token.dep_ and token in root_verb.children:\n",
    "            sent.append(\" <span style='background: {}'>{}</span> \".format(colour_subj,token.text))\n",
    "        else:\n",
    "            sent.append(token.text)\n",
    "\n",
    "    \n",
    "    return ' '.join(sent) #returns a string"
   ]
  },
  {
   "cell_type": "code",
   "execution_count": 38,
   "metadata": {},
   "outputs": [
    {
     "data": {
      "text/html": [
       "Shortly afterwards ,  <span style='background: rgb(188, 108, 37)'>he</span>   <span style='background: rgb(25, 108, 56)'>visits</span>  Netherfield , Mr. Bingley 's rented residence , much to Mrs. Bennet 's delight ."
      ],
      "text/plain": [
       "<IPython.core.display.HTML object>"
      ]
     },
     "metadata": {},
     "output_type": "display_data"
    }
   ],
   "source": [
    "# nouns_after\n",
    "# propn_after_single \n",
    "# phrases_pron\n",
    "\n",
    "\n",
    "from IPython.display import HTML\n",
    "\n",
    "colour_verb='rgb(25, 108, 56)'\n",
    "colour_subj='rgb(188, 108, 37)'\n",
    "\n",
    "p=phrases_pron[0]\n",
    "\n",
    "display(HTML(highlight_word(p,colour_verb,colour_subj)))"
   ]
  },
  {
   "cell_type": "markdown",
   "metadata": {},
   "source": [
    "# 12. Selection of useful phrases"
   ]
  },
  {
   "cell_type": "markdown",
   "metadata": {},
   "source": [
    "This function can be used to iterate over a list of Spacy docs and presents the highlighted phrase. This is useful because it is easier to avaliate which are the useful phrases for the dataset. \n",
    "This selection is done by hand and the selected sentences should: \n",
    "+ be part of the plot and not someone unrelated to the plot speaking about it\n",
    "    + considerations about the author/book\n",
    "+ not contain citations ('this character said \"this\"')\n",
    "    + some contain \" \" \n",
    "    + some contain you/me \n",
    "+ phrases starting with -\"  Chapter x - ...\"\n",
    "+ errors\n",
    "    + in phrases (the Rachel, wrong words (81 from PROPN))\n",
    "    + phrases starting with lower case (don't have the entire thought)\n",
    "    + starting with numbers (\"(number)\")\n",
    "+ confusing phrases that usually have a '-' "
   ]
  },
  {
   "cell_type": "markdown",
   "metadata": {},
   "source": [
    "I added the indexes to a list (because it is easier to write) but then added the sentences of these indexes to another list so that if we change the dataset, we don't lose the sentences already removed."
   ]
  },
  {
   "cell_type": "code",
   "execution_count": 79,
   "metadata": {},
   "outputs": [
    {
     "name": "stdout",
     "output_type": "stream",
     "text": [
      "0\n"
     ]
    },
    {
     "data": {
      "text/html": [
       "His  <span style='background: rgb(188, 108, 37)'>wife</span>  also  <span style='background: rgb(25, 108, 56)'>lacks</span>  an inheritance , so his family faces becoming very poor upon his death ."
      ],
      "text/plain": [
       "<IPython.core.display.HTML object>"
      ]
     },
     "metadata": {},
     "output_type": "display_data"
    },
    {
     "name": "stdout",
     "output_type": "stream",
     "text": [
      "1\n"
     ]
    },
    {
     "data": {
      "text/html": [
       "A young  <span style='background: rgb(188, 108, 37)'>girl</span>  named Alice  <span style='background: rgb(25, 108, 56)'>falls</span>  through a rabbit hole into a fantasy world of anthropomorphic creatures ."
      ],
      "text/plain": [
       "<IPython.core.display.HTML object>"
      ]
     },
     "metadata": {},
     "output_type": "display_data"
    },
    {
     "name": "stdout",
     "output_type": "stream",
     "text": [
      "2\n"
     ]
    },
    {
     "data": {
      "text/html": [
       " <span style='background: rgb(188, 108, 37)'>Fitzgerald</span>   <span style='background: rgb(25, 108, 56)'>conveys</span>  the hedonism of Jazz Age society by placing a relatable plotline within the historical context of the most raucous and flashiest era in American history ."
      ],
      "text/plain": [
       "<IPython.core.display.HTML object>"
      ]
     },
     "metadata": {},
     "output_type": "display_data"
    },
    {
     "name": "stdout",
     "output_type": "stream",
     "text": [
      "3\n"
     ]
    },
    {
     "data": {
      "text/html": [
       "Several days after Gatsby 's murder , his  <span style='background: rgb(188, 108, 37)'>father</span>  Henry Gatz  <span style='background: rgb(25, 108, 56)'>arrives</span>  for the sparsely attended funeral ."
      ],
      "text/plain": [
       "<IPython.core.display.HTML object>"
      ]
     },
     "metadata": {},
     "output_type": "display_data"
    },
    {
     "name": "stdout",
     "output_type": "stream",
     "text": [
      "4\n"
     ]
    },
    {
     "data": {
      "text/html": [
       "In 1775 , a  <span style='background: rgb(188, 108, 37)'>man</span>   <span style='background: rgb(25, 108, 56)'>flags</span>  down the nightly mail - coach en route from London to Dover ."
      ],
      "text/plain": [
       "<IPython.core.display.HTML object>"
      ]
     },
     "metadata": {},
     "output_type": "display_data"
    },
    {
     "name": "stdout",
     "output_type": "stream",
     "text": [
      "5\n"
     ]
    },
    {
     "data": {
      "text/html": [
       " <span style='background: rgb(188, 108, 37)'>Torvald</span>  then  <span style='background: rgb(25, 108, 56)'>retires</span>  to his study to work ."
      ],
      "text/plain": [
       "<IPython.core.display.HTML object>"
      ]
     },
     "metadata": {},
     "output_type": "display_data"
    },
    {
     "name": "stdout",
     "output_type": "stream",
     "text": [
      "6\n"
     ]
    },
    {
     "data": {
      "text/html": [
       "Nora leaves her keys and wedding ring ;  <span style='background: rgb(188, 108, 37)'>Torvald</span>   <span style='background: rgb(25, 108, 56)'>breaks</span>  down and begins to cry , baffled by what has happened ."
      ],
      "text/plain": [
       "<IPython.core.display.HTML object>"
      ]
     },
     "metadata": {},
     "output_type": "display_data"
    },
    {
     "name": "stdout",
     "output_type": "stream",
     "text": [
      "7\n"
     ]
    },
    {
     "data": {
      "text/html": [
       " <span style='background: rgb(188, 108, 37)'>Starbuck</span>   <span style='background: rgb(25, 108, 56)'>objects</span>  that he has not come for vengeance but for profit ."
      ],
      "text/plain": [
       "<IPython.core.display.HTML object>"
      ]
     },
     "metadata": {},
     "output_type": "display_data"
    },
    {
     "name": "stdout",
     "output_type": "stream",
     "text": [
      "8\n"
     ]
    },
    {
     "data": {
      "text/html": [
       " <span style='background: rgb(188, 108, 37)'>Tashtego</span>   <span style='background: rgb(25, 108, 56)'>cuts</span>  into the head of the sperm whale and retrieves buckets of spermaceti ."
      ],
      "text/plain": [
       "<IPython.core.display.HTML object>"
      ]
     },
     "metadata": {},
     "output_type": "display_data"
    },
    {
     "name": "stdout",
     "output_type": "stream",
     "text": [
      "9\n"
     ]
    },
    {
     "data": {
      "text/html": [
       " <span style='background: rgb(188, 108, 37)'>Starbuck</span>   <span style='background: rgb(25, 108, 56)'>informs</span>  Ahab of oil leakage in the hold ."
      ],
      "text/plain": [
       "<IPython.core.display.HTML object>"
      ]
     },
     "metadata": {},
     "output_type": "display_data"
    },
    {
     "name": "stdout",
     "output_type": "stream",
     "text": [
      "10\n"
     ]
    },
    {
     "data": {
      "text/html": [
       " <span style='background: rgb(188, 108, 37)'>Starbuck</span>   <span style='background: rgb(25, 108, 56)'>sees</span>  the lightning as a warning , and feels tempted to shoot the sleeping Ahab with a musket ."
      ],
      "text/plain": [
       "<IPython.core.display.HTML object>"
      ]
     },
     "metadata": {},
     "output_type": "display_data"
    },
    {
     "name": "stdout",
     "output_type": "stream",
     "text": [
      "11\n"
     ]
    },
    {
     "data": {
      "text/html": [
       "A  <span style='background: rgb(188, 108, 37)'>man</span>   <span style='background: rgb(25, 108, 56)'>falls</span>  overboard from the mast ."
      ],
      "text/plain": [
       "<IPython.core.display.HTML object>"
      ]
     },
     "metadata": {},
     "output_type": "display_data"
    },
    {
     "name": "stdout",
     "output_type": "stream",
     "text": [
      "12\n"
     ]
    },
    {
     "data": {
      "text/html": [
       " <span style='background: rgb(188, 108, 37)'>Starbuck</span>   <span style='background: rgb(25, 108, 56)'>orders</span>  the carpenter to seal and waterproof it ."
      ],
      "text/plain": [
       "<IPython.core.display.HTML object>"
      ]
     },
     "metadata": {},
     "output_type": "display_data"
    },
    {
     "name": "stdout",
     "output_type": "stream",
     "text": [
      "13\n"
     ]
    },
    {
     "data": {
      "text/html": [
       " <span style='background: rgb(188, 108, 37)'>Starbuck</span>   <span style='background: rgb(25, 108, 56)'>tries</span>  to persuade Ahab to return to Nantucket to meet both their families , but Ahab simply crosses the deck and stands near Fedallah ."
      ],
      "text/plain": [
       "<IPython.core.display.HTML object>"
      ]
     },
     "metadata": {},
     "output_type": "display_data"
    },
    {
     "name": "stdout",
     "output_type": "stream",
     "text": [
      "14\n"
     ]
    },
    {
     "data": {
      "text/html": [
       "A hysterical  <span style='background: rgb(188, 108, 37)'>woman</span>   <span style='background: rgb(25, 108, 56)'>craves</span>  power ."
      ],
      "text/plain": [
       "<IPython.core.display.HTML object>"
      ]
     },
     "metadata": {},
     "output_type": "display_data"
    },
    {
     "name": "stdout",
     "output_type": "stream",
     "text": [
      "15\n"
     ]
    },
    {
     "data": {
      "text/html": [
       "Seward 's old  <span style='background: rgb(188, 108, 37)'>teacher</span>  , Professor Abraham Van Helsing ,  <span style='background: rgb(25, 108, 56)'>determines</span>  the nature of Lucy 's condition , but refuses to disclose it ."
      ],
      "text/plain": [
       "<IPython.core.display.HTML object>"
      ]
     },
     "metadata": {},
     "output_type": "display_data"
    },
    {
     "name": "stdout",
     "output_type": "stream",
     "text": [
      "16\n"
     ]
    },
    {
     "data": {
      "text/html": [
       "Lucy 's  <span style='background: rgb(188, 108, 37)'>mother</span>   <span style='background: rgb(25, 108, 56)'>removes</span>  the garlic flowers , not knowing they repel vampires ."
      ],
      "text/plain": [
       "<IPython.core.display.HTML object>"
      ]
     },
     "metadata": {},
     "output_type": "display_data"
    },
    {
     "name": "stdout",
     "output_type": "stream",
     "text": [
      "17\n"
     ]
    },
    {
     "data": {
      "text/html": [
       " <span style='background: rgb(188, 108, 37)'>Farson</span>   <span style='background: rgb(25, 108, 56)'>writes</span>  that an inscription upon a tomb in Dracula is a direct allusion to Carmilla ."
      ],
      "text/plain": [
       "<IPython.core.display.HTML object>"
      ]
     },
     "metadata": {},
     "output_type": "display_data"
    },
    {
     "name": "stdout",
     "output_type": "stream",
     "text": [
      "18\n"
     ]
    },
    {
     "data": {
      "text/html": [
       " <span style='background: rgb(188, 108, 37)'>Browning</span>   <span style='background: rgb(25, 108, 56)'>writes</span>  that the misconception of Dracula 's mixed reception stems from a low sample size ."
      ],
      "text/plain": [
       "<IPython.core.display.HTML object>"
      ]
     },
     "metadata": {},
     "output_type": "display_data"
    },
    {
     "name": "stdout",
     "output_type": "stream",
     "text": [
      "19\n"
     ]
    },
    {
     "data": {
      "text/html": [
       " <span style='background: rgb(188, 108, 37)'>Utterson</span>   <span style='background: rgb(25, 108, 56)'>fears</span>  Hyde is blackmailing Jekyll , as Jekyll recently changed his will to make Hyde the sole beneficiary ."
      ],
      "text/plain": [
       "<IPython.core.display.HTML object>"
      ]
     },
     "metadata": {},
     "output_type": "display_data"
    },
    {
     "name": "stdout",
     "output_type": "stream",
     "text": [
      "20\n"
     ]
    },
    {
     "data": {
      "text/html": [
       " <span style='background: rgb(188, 108, 37)'>Utterson</span>   <span style='background: rgb(25, 108, 56)'>recognizes</span>  the cane as one he had given to Jekyll ."
      ],
      "text/plain": [
       "<IPython.core.display.HTML object>"
      ]
     },
     "metadata": {},
     "output_type": "display_data"
    },
    {
     "name": "stdout",
     "output_type": "stream",
     "text": [
      "21\n"
     ]
    },
    {
     "data": {
      "text/html": [
       " <span style='background: rgb(188, 108, 37)'>Utterson</span>   <span style='background: rgb(25, 108, 56)'>visits</span>  Jekyll , who shows Utterson a note , allegedly written to Jekyll by Hyde , apologizing for the trouble that he has caused ."
      ],
      "text/plain": [
       "<IPython.core.display.HTML object>"
      ]
     },
     "metadata": {},
     "output_type": "display_data"
    },
    {
     "name": "stdout",
     "output_type": "stream",
     "text": [
      "22\n"
     ]
    },
    {
     "data": {
      "text/html": [
       " <span style='background: rgb(188, 108, 37)'>Utterson</span>   <span style='background: rgb(25, 108, 56)'>reads</span>  Lanyon 's letter , then Jekyll 's ."
      ],
      "text/plain": [
       "<IPython.core.display.HTML object>"
      ]
     },
     "metadata": {},
     "output_type": "display_data"
    },
    {
     "name": "stdout",
     "output_type": "stream",
     "text": [
      "23\n"
     ]
    },
    {
     "data": {
      "text/html": [
       " <span style='background: rgb(188, 108, 37)'>Utterson</span>   <span style='background: rgb(25, 108, 56)'>concludes</span>  that Jekyll lives life as he wishes by enjoying his occupation ."
      ],
      "text/plain": [
       "<IPython.core.display.HTML object>"
      ]
     },
     "metadata": {},
     "output_type": "display_data"
    },
    {
     "name": "stdout",
     "output_type": "stream",
     "text": [
      "24\n"
     ]
    },
    {
     "data": {
      "text/html": [
       " <span style='background: rgb(188, 108, 37)'>Lanyon</span>   <span style='background: rgb(25, 108, 56)'>helps</span>  Utterson solve the case when he describes the letter given to him by Jekyll and his thoughts and reactions to the transformation ."
      ],
      "text/plain": [
       "<IPython.core.display.HTML object>"
      ]
     },
     "metadata": {},
     "output_type": "display_data"
    },
    {
     "name": "stdout",
     "output_type": "stream",
     "text": [
      "25\n"
     ]
    },
    {
     "data": {
      "text/html": [
       " <span style='background: rgb(188, 108, 37)'>Utterson</span>   <span style='background: rgb(25, 108, 56)'>joins</span>  this Scotland Yard inspector after the murder of Sir Danvers Carew ."
      ],
      "text/plain": [
       "<IPython.core.display.HTML object>"
      ]
     },
     "metadata": {},
     "output_type": "display_data"
    },
    {
     "name": "stdout",
     "output_type": "stream",
     "text": [
      "26\n"
     ]
    },
    {
     "data": {
      "text/html": [
       "That evening , Pip 's  <span style='background: rgb(188, 108, 37)'>sister</span>   <span style='background: rgb(25, 108, 56)'>is</span>  about to look for the missing pie when soldiers arrive and ask Joe to mend some shackles ."
      ],
      "text/plain": [
       "<IPython.core.display.HTML object>"
      ]
     },
     "metadata": {},
     "output_type": "display_data"
    },
    {
     "name": "stdout",
     "output_type": "stream",
     "text": [
      "27\n"
     ]
    },
    {
     "data": {
      "text/html": [
       " <span style='background: rgb(188, 108, 37)'>Estella</span>   <span style='background: rgb(25, 108, 56)'>is</span>  aloof and hostile to Pip , which Miss Havisham encourages ."
      ],
      "text/plain": [
       "<IPython.core.display.HTML object>"
      ]
     },
     "metadata": {},
     "output_type": "display_data"
    },
    {
     "name": "stdout",
     "output_type": "stream",
     "text": [
      "28\n"
     ]
    },
    {
     "data": {
      "text/html": [
       "During one visit , another  <span style='background: rgb(188, 108, 37)'>boy</span>   <span style='background: rgb(25, 108, 56)'>picks</span>  a fistfight with Pip , who easily gains the upper hand ."
      ],
      "text/plain": [
       "<IPython.core.display.HTML object>"
      ]
     },
     "metadata": {},
     "output_type": "display_data"
    },
    {
     "name": "stdout",
     "output_type": "stream",
     "text": [
      "29\n"
     ]
    },
    {
     "data": {
      "text/html": [
       " <span style='background: rgb(188, 108, 37)'>Jaggers</span>   <span style='background: rgb(25, 108, 56)'>disburses</span>  the money Pip needs ."
      ],
      "text/plain": [
       "<IPython.core.display.HTML object>"
      ]
     },
     "metadata": {},
     "output_type": "display_data"
    },
    {
     "name": "stdout",
     "output_type": "stream",
     "text": [
      "30\n"
     ]
    },
    {
     "data": {
      "text/html": [
       "In the end , the  <span style='background: rgb(188, 108, 37)'>hero</span>   <span style='background: rgb(25, 108, 56)'>loses</span>  the money because it is forfeited to the Crown ."
      ],
      "text/plain": [
       "<IPython.core.display.HTML object>"
      ]
     },
     "metadata": {},
     "output_type": "display_data"
    },
    {
     "name": "stdout",
     "output_type": "stream",
     "text": [
      "31\n"
     ]
    },
    {
     "data": {
      "text/html": [
       " <span style='background: rgb(188, 108, 37)'>Estella</span>   <span style='background: rgb(25, 108, 56)'>rejects</span>  Pip for this rude , uncouth but well - born man , and ends Pip 's hope ."
      ],
      "text/plain": [
       "<IPython.core.display.HTML object>"
      ]
     },
     "metadata": {},
     "output_type": "display_data"
    },
    {
     "name": "stdout",
     "output_type": "stream",
     "text": [
      "32\n"
     ]
    },
    {
     "data": {
      "text/html": [
       " <span style='background: rgb(188, 108, 37)'>Jaggers</span>   <span style='background: rgb(25, 108, 56)'>dominates</span>  Wemmick , who in turn dominates Jaggers 's clients ."
      ],
      "text/plain": [
       "<IPython.core.display.HTML object>"
      ]
     },
     "metadata": {},
     "output_type": "display_data"
    },
    {
     "name": "stdout",
     "output_type": "stream",
     "text": [
      "33\n"
     ]
    },
    {
     "data": {
      "text/html": [
       "The  <span style='background: rgb(188, 108, 37)'>boy</span>   <span style='background: rgb(25, 108, 56)'>parades</span>  through the main street of the village with boyish antics and contortions meant to satirically imitate Pip ."
      ],
      "text/plain": [
       "<IPython.core.display.HTML object>"
      ]
     },
     "metadata": {},
     "output_type": "display_data"
    },
    {
     "name": "stdout",
     "output_type": "stream",
     "text": [
      "34\n"
     ]
    },
    {
     "data": {
      "text/html": [
       " <span style='background: rgb(188, 108, 37)'>Estella</span>  , excessively spoiled and pampered , sorely  <span style='background: rgb(25, 108, 56)'>lacks</span>  judgement and falls prey to the first gentleman who approaches her , though he is the worst ."
      ],
      "text/plain": [
       "<IPython.core.display.HTML object>"
      ]
     },
     "metadata": {},
     "output_type": "display_data"
    },
    {
     "name": "stdout",
     "output_type": "stream",
     "text": [
      "35\n"
     ]
    },
    {
     "data": {
      "text/html": [
       "Dickens 's  <span style='background: rgb(188, 108, 37)'>hero</span>   <span style='background: rgb(25, 108, 56)'>is</span>  neither an aristocrat nor a capitalist but a working - class boy ."
      ],
      "text/plain": [
       "<IPython.core.display.HTML object>"
      ]
     },
     "metadata": {},
     "output_type": "display_data"
    },
    {
     "name": "stdout",
     "output_type": "stream",
     "text": [
      "36\n"
     ]
    },
    {
     "data": {
      "text/html": [
       "Sue Roe 's  <span style='background: rgb(188, 108, 37)'>Estella</span>  : Her Expectations ( 1982 ) , for example ,  <span style='background: rgb(25, 108, 56)'>explores</span>  the inner life of an Estella fascinated with a Havisham figure ."
      ],
      "text/plain": [
       "<IPython.core.display.HTML object>"
      ]
     },
     "metadata": {},
     "output_type": "display_data"
    },
    {
     "name": "stdout",
     "output_type": "stream",
     "text": [
      "37\n"
     ]
    },
    {
     "data": {
      "text/html": [
       "Jane 's  <span style='background: rgb(188, 108, 37)'>aunt</span>  , Sarah Reed ,  <span style='background: rgb(25, 108, 56)'>dislikes</span>  her , abuses her , and treats her as a burden ."
      ],
      "text/plain": [
       "<IPython.core.display.HTML object>"
      ]
     },
     "metadata": {},
     "output_type": "display_data"
    },
    {
     "name": "stdout",
     "output_type": "stream",
     "text": [
      "38\n"
     ]
    },
    {
     "data": {
      "text/html": [
       " <span style='background: rgb(188, 108, 37)'>Jane</span>   <span style='background: rgb(25, 108, 56)'>advertises</span>  her services as a governess in a newspaper ."
      ],
      "text/plain": [
       "<IPython.core.display.HTML object>"
      ]
     },
     "metadata": {},
     "output_type": "display_data"
    },
    {
     "name": "stdout",
     "output_type": "stream",
     "text": [
      "39\n"
     ]
    },
    {
     "data": {
      "text/html": [
       " <span style='background: rgb(188, 108, 37)'>Jane</span>   <span style='background: rgb(25, 108, 56)'>stands</span>  up to his initially arrogant manner , despite his strange behaviour ."
      ],
      "text/plain": [
       "<IPython.core.display.HTML object>"
      ]
     },
     "metadata": {},
     "output_type": "display_data"
    },
    {
     "name": "stdout",
     "output_type": "stream",
     "text": [
      "40\n"
     ]
    },
    {
     "data": {
      "text/html": [
       " <span style='background: rgb(188, 108, 37)'>Jane</span>   <span style='background: rgb(25, 108, 56)'>sees</span>  that Blanche and Mr. Rochester favour each other and starts to feel jealous , particularly because she also sees that Blanche is snobbish and heartless ."
      ],
      "text/plain": [
       "<IPython.core.display.HTML object>"
      ]
     },
     "metadata": {},
     "output_type": "display_data"
    },
    {
     "name": "stdout",
     "output_type": "stream",
     "text": [
      "41\n"
     ]
    },
    {
     "data": {
      "text/html": [
       " <span style='background: rgb(188, 108, 37)'>Jane</span>   <span style='background: rgb(25, 108, 56)'>returns</span>  to Gateshead and remains there for a month to tend to her dying aunt ."
      ],
      "text/plain": [
       "<IPython.core.display.HTML object>"
      ]
     },
     "metadata": {},
     "output_type": "display_data"
    },
    {
     "name": "stdout",
     "output_type": "stream",
     "text": [
      "42\n"
     ]
    },
    {
     "data": {
      "text/html": [
       " <span style='background: rgb(188, 108, 37)'>Jane</span>   <span style='background: rgb(25, 108, 56)'>is</span>  at first skeptical of his sincerity , before accepting his proposal ."
      ],
      "text/plain": [
       "<IPython.core.display.HTML object>"
      ]
     },
     "metadata": {},
     "output_type": "display_data"
    },
    {
     "name": "stdout",
     "output_type": "stream",
     "text": [
      "43\n"
     ]
    },
    {
     "data": {
      "text/html": [
       "When Grace gets drunk , Rochester 's  <span style='background: rgb(188, 108, 37)'>wife</span>   <span style='background: rgb(25, 108, 56)'>escapes</span>  and causes the strange happenings at Thornfield ."
      ],
      "text/plain": [
       "<IPython.core.display.HTML object>"
      ]
     },
     "metadata": {},
     "output_type": "display_data"
    },
    {
     "name": "stdout",
     "output_type": "stream",
     "text": [
      "44\n"
     ]
    },
    {
     "data": {
      "text/html": [
       " <span style='background: rgb(188, 108, 37)'>Jane</span>   <span style='background: rgb(25, 108, 56)'>travels</span>  as far from Thornfield as she can using the little money she had previously saved ."
      ],
      "text/plain": [
       "<IPython.core.display.HTML object>"
      ]
     },
     "metadata": {},
     "output_type": "display_data"
    },
    {
     "name": "stdout",
     "output_type": "stream",
     "text": [
      "45\n"
     ]
    },
    {
     "data": {
      "text/html": [
       " <span style='background: rgb(188, 108, 37)'>Jane</span>   <span style='background: rgb(25, 108, 56)'>becomes</span>  good friends with the sisters , but St. John remains aloof ."
      ],
      "text/plain": [
       "<IPython.core.display.HTML object>"
      ]
     },
     "metadata": {},
     "output_type": "display_data"
    },
    {
     "name": "stdout",
     "output_type": "stream",
     "text": [
      "46\n"
     ]
    },
    {
     "data": {
      "text/html": [
       " <span style='background: rgb(188, 108, 37)'>Jane</span>  then  <span style='background: rgb(25, 108, 56)'>returns</span>  to Thornfield to find only blackened ruins ."
      ],
      "text/plain": [
       "<IPython.core.display.HTML object>"
      ]
     },
     "metadata": {},
     "output_type": "display_data"
    },
    {
     "name": "stdout",
     "output_type": "stream",
     "text": [
      "47\n"
     ]
    },
    {
     "data": {
      "text/html": [
       " <span style='background: rgb(188, 108, 37)'>Rhys</span>   <span style='background: rgb(25, 108, 56)'>portrays</span>  this woman from a quite different perspective from the one in Jane Eyre ."
      ],
      "text/plain": [
       "<IPython.core.display.HTML object>"
      ]
     },
     "metadata": {},
     "output_type": "display_data"
    },
    {
     "name": "stdout",
     "output_type": "stream",
     "text": [
      "48\n"
     ]
    },
    {
     "data": {
      "text/html": [
       " <span style='background: rgb(188, 108, 37)'>Hester</span>   <span style='background: rgb(25, 108, 56)'>agrees</span>  to Chillingworth 's terms although she suspects she will regret it ."
      ],
      "text/plain": [
       "<IPython.core.display.HTML object>"
      ]
     },
     "metadata": {},
     "output_type": "display_data"
    },
    {
     "name": "stdout",
     "output_type": "stream",
     "text": [
      "49\n"
     ]
    },
    {
     "data": {
      "text/html": [
       " <span style='background: rgb(188, 108, 37)'>Hester</span>  , hearing rumors that she may lose Pearl ,  <span style='background: rgb(25, 108, 56)'>goes</span>  to speak to Governor Bellingham ."
      ],
      "text/plain": [
       "<IPython.core.display.HTML object>"
      ]
     },
     "metadata": {},
     "output_type": "display_data"
    },
    {
     "name": "stdout",
     "output_type": "stream",
     "text": [
      "50\n"
     ]
    },
    {
     "data": {
      "text/html": [
       " <span style='background: rgb(188, 108, 37)'>Heart</span>  of Darkness ( 1899 )  <span style='background: rgb(25, 108, 56)'>is</span>  a novella by Polish - English novelist Joseph Conrad ."
      ],
      "text/plain": [
       "<IPython.core.display.HTML object>"
      ]
     },
     "metadata": {},
     "output_type": "display_data"
    },
    {
     "name": "stdout",
     "output_type": "stream",
     "text": [
      "51\n"
     ]
    },
    {
     "data": {
      "text/html": [
       " <span style='background: rgb(188, 108, 37)'>Heart</span>  of Darkness implicitly  <span style='background: rgb(25, 108, 56)'>comments</span>  on imperialism and racism ."
      ],
      "text/plain": [
       "<IPython.core.display.HTML object>"
      ]
     },
     "metadata": {},
     "output_type": "display_data"
    },
    {
     "name": "stdout",
     "output_type": "stream",
     "text": [
      "52\n"
     ]
    },
    {
     "data": {
      "text/html": [
       " <span style='background: rgb(188, 108, 37)'>Marlow</span>   <span style='background: rgb(25, 108, 56)'>explores</span>  a narrow ravine , and is horrified to find himself in a place full of diseased Africans who worked on the railroad and are now dying ."
      ],
      "text/plain": [
       "<IPython.core.display.HTML object>"
      ]
     },
     "metadata": {},
     "output_type": "display_data"
    },
    {
     "name": "stdout",
     "output_type": "stream",
     "text": [
      "53\n"
     ]
    },
    {
     "data": {
      "text/html": [
       " <span style='background: rgb(188, 108, 37)'>Marlow</span>   <span style='background: rgb(25, 108, 56)'>fishes</span>  his boat out of the river and spends months repairing it ."
      ],
      "text/plain": [
       "<IPython.core.display.HTML object>"
      ]
     },
     "metadata": {},
     "output_type": "display_data"
    },
    {
     "name": "stdout",
     "output_type": "stream",
     "text": [
      "54\n"
     ]
    },
    {
     "data": {
      "text/html": [
       "After landing at Kurtz 's station , a  <span style='background: rgb(188, 108, 37)'>man</span>   <span style='background: rgb(25, 108, 56)'>boards</span>  the steamboat : a Russian wanderer who strayed into Kurtz 's camp ."
      ],
      "text/plain": [
       "<IPython.core.display.HTML object>"
      ]
     },
     "metadata": {},
     "output_type": "display_data"
    },
    {
     "name": "stdout",
     "output_type": "stream",
     "text": [
      "55\n"
     ]
    },
    {
     "data": {
      "text/html": [
       " <span style='background: rgb(188, 108, 37)'>Marlow</span>   <span style='background: rgb(25, 108, 56)'>learns</span>  that the natives worship Kurtz , and that he has been very ill of late ."
      ],
      "text/plain": [
       "<IPython.core.display.HTML object>"
      ]
     },
     "metadata": {},
     "output_type": "display_data"
    },
    {
     "name": "stdout",
     "output_type": "stream",
     "text": [
      "56\n"
     ]
    },
    {
     "data": {
      "text/html": [
       " <span style='background: rgb(188, 108, 37)'>Marlow</span>   <span style='background: rgb(25, 108, 56)'>threatens</span>  to harm Kurtz if he raises an alarm , but Kurtz only laments that he had not accomplished more ."
      ],
      "text/plain": [
       "<IPython.core.display.HTML object>"
      ]
     },
     "metadata": {},
     "output_type": "display_data"
    },
    {
     "name": "stdout",
     "output_type": "stream",
     "text": [
      "57\n"
     ]
    },
    {
     "data": {
      "text/html": [
       "A short while later , the \" manager 's  <span style='background: rgb(188, 108, 37)'>boy</span>  \"  <span style='background: rgb(25, 108, 56)'>announces</span>  to the rest of the crew that Kurtz has died ."
      ],
      "text/plain": [
       "<IPython.core.display.HTML object>"
      ]
     },
     "metadata": {},
     "output_type": "display_data"
    },
    {
     "name": "stdout",
     "output_type": "stream",
     "text": [
      "58\n"
     ]
    },
    {
     "data": {
      "text/html": [
       "His  <span style='background: rgb(188, 108, 37)'>sister</span>  Grete  <span style='background: rgb(25, 108, 56)'>is</span>  the only one willing to bring him food , which they find Gregor only likes if it is rotten ."
      ],
      "text/plain": [
       "<IPython.core.display.HTML object>"
      ]
     },
     "metadata": {},
     "output_type": "display_data"
    },
    {
     "name": "stdout",
     "output_type": "stream",
     "text": [
      "59\n"
     ]
    },
    {
     "data": {
      "text/html": [
       "His  <span style='background: rgb(188, 108, 37)'>mother</span>   <span style='background: rgb(25, 108, 56)'>loses</span>  consciousness at the sight of him clinging to the image to protect it ."
      ],
      "text/plain": [
       "<IPython.core.display.HTML object>"
      ]
     },
     "metadata": {},
     "output_type": "display_data"
    },
    {
     "name": "stdout",
     "output_type": "stream",
     "text": [
      "60\n"
     ]
    },
    {
     "data": {
      "text/html": [
       "Their  <span style='background: rgb(188, 108, 37)'>father</span>   <span style='background: rgb(25, 108, 56)'>returns</span>  home and angrily hurls apples at Gregor , one of which becomes lodged in a sensitive spot in his back and severely wounds him ."
      ],
      "text/plain": [
       "<IPython.core.display.HTML object>"
      ]
     },
     "metadata": {},
     "output_type": "display_data"
    },
    {
     "name": "stdout",
     "output_type": "stream",
     "text": [
      "61\n"
     ]
    },
    {
     "data": {
      "text/html": [
       "One day the  <span style='background: rgb(188, 108, 37)'>charwoman</span>  , who briefly looks in on Gregor each day when she arrives and before she leaves ,  <span style='background: rgb(25, 108, 56)'>neglects</span>  to close his door fully ."
      ],
      "text/plain": [
       "<IPython.core.display.HTML object>"
      ]
     },
     "metadata": {},
     "output_type": "display_data"
    },
    {
     "name": "stdout",
     "output_type": "stream",
     "text": [
      "62\n"
     ]
    },
    {
     "data": {
      "text/html": [
       "The  <span style='background: rgb(188, 108, 37)'>man</span>  politely  <span style='background: rgb(25, 108, 56)'>introduces</span>  himself as Arkady Ivanovich Svidrigailov ."
      ],
      "text/plain": [
       "<IPython.core.display.HTML object>"
      ]
     },
     "metadata": {},
     "output_type": "display_data"
    },
    {
     "name": "stdout",
     "output_type": "stream",
     "text": [
      "63\n"
     ]
    },
    {
     "data": {
      "text/html": [
       " <span style='background: rgb(188, 108, 37)'>Svidrigailov</span>   <span style='background: rgb(25, 108, 56)'>indulges</span>  in an amiable but disjointed monologue , punctuated by Raskolnikov 's terse interjections ."
      ],
      "text/plain": [
       "<IPython.core.display.HTML object>"
      ]
     },
     "metadata": {},
     "output_type": "display_data"
    },
    {
     "name": "stdout",
     "output_type": "stream",
     "text": [
      "64\n"
     ]
    },
    {
     "data": {
      "text/html": [
       " <span style='background: rgb(188, 108, 37)'>Huck</span>   <span style='background: rgb(25, 108, 56)'>returns</span>  to Jim to tell him the news and that a search party is coming to Jackson 's Island that very night ."
      ],
      "text/plain": [
       "<IPython.core.display.HTML object>"
      ]
     },
     "metadata": {},
     "output_type": "display_data"
    },
    {
     "name": "stdout",
     "output_type": "stream",
     "text": [
      "65\n"
     ]
    },
    {
     "data": {
      "text/html": [
       " <span style='background: rgb(188, 108, 37)'>Huck</span>   <span style='background: rgb(25, 108, 56)'>tricks</span>  a watchman on a steamer into going to rescue the thieves stranded on the wreck to assuage his conscience ."
      ],
      "text/plain": [
       "<IPython.core.display.HTML object>"
      ]
     },
     "metadata": {},
     "output_type": "display_data"
    },
    {
     "name": "stdout",
     "output_type": "stream",
     "text": [
      "66\n"
     ]
    },
    {
     "data": {
      "text/html": [
       "The younger  <span style='background: rgb(188, 108, 37)'>man</span>  , who is about thirty ,  <span style='background: rgb(25, 108, 56)'>introduces</span>  himself as the long - lost son of an English duke ( the Duke of Bridgewater ) ."
      ],
      "text/plain": [
       "<IPython.core.display.HTML object>"
      ]
     },
     "metadata": {},
     "output_type": "display_data"
    },
    {
     "name": "stdout",
     "output_type": "stream",
     "text": [
      "67\n"
     ]
    },
    {
     "data": {
      "text/html": [
       " <span style='background: rgb(188, 108, 37)'>Huck</span>   <span style='background: rgb(25, 108, 56)'>learns</span>  that Jim is being held at the plantation of Silas and Sally Phelps ."
      ],
      "text/plain": [
       "<IPython.core.display.HTML object>"
      ]
     },
     "metadata": {},
     "output_type": "display_data"
    },
    {
     "name": "stdout",
     "output_type": "stream",
     "text": [
      "68\n"
     ]
    },
    {
     "data": {
      "text/html": [
       "Similarly ,  <span style='background: rgb(188, 108, 37)'>Sanders</span>   <span style='background: rgb(25, 108, 56)'>critiques</span>  Du Bois 's concept of double - consciousness , especially in terms of interpreting black holiness - Pentecostalism ."
      ],
      "text/plain": [
       "<IPython.core.display.HTML object>"
      ]
     },
     "metadata": {},
     "output_type": "display_data"
    },
    {
     "name": "stdout",
     "output_type": "stream",
     "text": [
      "69\n"
     ]
    },
    {
     "data": {
      "text/html": [
       "A self - sufficient  <span style='background: rgb(188, 108, 37)'>prince</span>   <span style='background: rgb(25, 108, 56)'>is</span>  one who can meet any enemy on the battlefield ."
      ],
      "text/plain": [
       "<IPython.core.display.HTML object>"
      ]
     },
     "metadata": {},
     "output_type": "display_data"
    },
    {
     "name": "stdout",
     "output_type": "stream",
     "text": [
      "70\n"
     ]
    },
    {
     "data": {
      "text/html": [
       "However , a  <span style='background: rgb(188, 108, 37)'>prince</span>  that relies solely on fortifications or on the help of others and stands on the defensive  <span style='background: rgb(25, 108, 56)'>is</span>  not self - sufficient ."
      ],
      "text/plain": [
       "<IPython.core.display.HTML object>"
      ]
     },
     "metadata": {},
     "output_type": "display_data"
    },
    {
     "name": "stdout",
     "output_type": "stream",
     "text": [
      "71\n"
     ]
    },
    {
     "data": {
      "text/html": [
       "Through war a hereditary  <span style='background: rgb(188, 108, 37)'>prince</span>   <span style='background: rgb(25, 108, 56)'>maintains</span>  his power or a private citizen rises to power ."
      ],
      "text/plain": [
       "<IPython.core.display.HTML object>"
      ]
     },
     "metadata": {},
     "output_type": "display_data"
    },
    {
     "name": "stdout",
     "output_type": "stream",
     "text": [
      "72\n"
     ]
    },
    {
     "data": {
      "text/html": [
       "A  <span style='background: rgb(188, 108, 37)'>prince</span>  truly  <span style='background: rgb(25, 108, 56)'>earns</span>  honour by completing great feats ."
      ],
      "text/plain": [
       "<IPython.core.display.HTML object>"
      ]
     },
     "metadata": {},
     "output_type": "display_data"
    },
    {
     "name": "stdout",
     "output_type": "stream",
     "text": [
      "73\n"
     ]
    },
    {
     "data": {
      "text/html": [
       "Blake 's  <span style='background: rgb(188, 108, 37)'>father</span>  , James ,  <span style='background: rgb(25, 108, 56)'>was</span>  a hosier , who had come to London from Ireland ."
      ],
      "text/plain": [
       "<IPython.core.display.HTML object>"
      ]
     },
     "metadata": {},
     "output_type": "display_data"
    },
    {
     "name": "stdout",
     "output_type": "stream",
     "text": [
      "74\n"
     ]
    },
    {
     "data": {
      "text/html": [
       " <span style='background: rgb(188, 108, 37)'>Murry</span>   <span style='background: rgb(25, 108, 56)'>characterises</span>  the later Blake as having found \" mutual understanding \" and \" mutual forgiveness \" ."
      ],
      "text/plain": [
       "<IPython.core.display.HTML object>"
      ]
     },
     "metadata": {},
     "output_type": "display_data"
    },
    {
     "name": "stdout",
     "output_type": "stream",
     "text": [
      "75\n"
     ]
    },
    {
     "data": {
      "text/html": [
       " <span style='background: rgb(188, 108, 37)'>Swinburne</span>   <span style='background: rgb(25, 108, 56)'>notes</span>  how Blake 's Marriage of Heaven and Hell condemns the hypocrisy of the \" pale religious letchery \" of advocates of traditional norms ."
      ],
      "text/plain": [
       "<IPython.core.display.HTML object>"
      ]
     },
     "metadata": {},
     "output_type": "display_data"
    },
    {
     "name": "stdout",
     "output_type": "stream",
     "text": [
      "76\n"
     ]
    },
    {
     "data": {
      "text/html": [
       " <span style='background: rgb(188, 108, 37)'>Deasy</span>   <span style='background: rgb(25, 108, 56)'>asks</span>  Stephen to take his long - winded letter about foot and mouth disease to a newspaper office for printing ."
      ],
      "text/plain": [
       "<IPython.core.display.HTML object>"
      ]
     },
     "metadata": {},
     "output_type": "display_data"
    },
    {
     "name": "stdout",
     "output_type": "stream",
     "text": [
      "77\n"
     ]
    },
    {
     "data": {
      "text/html": [
       "The  <span style='background: rgb(188, 108, 37)'>mother</span>  of Boris  <span style='background: rgb(25, 108, 56)'>is</span>  Anna Mikhaylovna Drubetskaya who is a childhood friend of the countess Natalya Rostova ."
      ],
      "text/plain": [
       "<IPython.core.display.HTML object>"
      ]
     },
     "metadata": {},
     "output_type": "display_data"
    },
    {
     "name": "stdout",
     "output_type": "stream",
     "text": [
      "78\n"
     ]
    },
    {
     "data": {
      "text/html": [
       "However , Andrei 's  <span style='background: rgb(188, 108, 37)'>father</span>   <span style='background: rgb(25, 108, 56)'>dislikes</span>  the Rostovs and opposes the marriage , insisting that the couple wait a year before marrying ."
      ],
      "text/plain": [
       "<IPython.core.display.HTML object>"
      ]
     },
     "metadata": {},
     "output_type": "display_data"
    },
    {
     "name": "stdout",
     "output_type": "stream",
     "text": [
      "79\n"
     ]
    },
    {
     "data": {
      "text/html": [
       " <span style='background: rgb(188, 108, 37)'>Anatole</span>   <span style='background: rgb(25, 108, 56)'>succeeds</span>  in making Natasha believe he loves her , eventually establishing plans to elope ."
      ],
      "text/plain": [
       "<IPython.core.display.HTML object>"
      ]
     },
     "metadata": {},
     "output_type": "display_data"
    },
    {
     "name": "stdout",
     "output_type": "stream",
     "text": [
      "80\n"
     ]
    },
    {
     "data": {
      "text/html": [
       "Under the influence of the same patriotism , his  <span style='background: rgb(188, 108, 37)'>father</span>  finally  <span style='background: rgb(25, 108, 56)'>allows</span>  him to enlist ."
      ],
      "text/plain": [
       "<IPython.core.display.HTML object>"
      ]
     },
     "metadata": {},
     "output_type": "display_data"
    },
    {
     "name": "stdout",
     "output_type": "stream",
     "text": [
      "81\n"
     ]
    },
    {
     "data": {
      "text/html": [
       " <span style='background: rgb(188, 108, 37)'>Anatole</span>   <span style='background: rgb(25, 108, 56)'>loses</span>  a leg , and Andrei suffers a grenade wound in the abdomen ."
      ],
      "text/plain": [
       "<IPython.core.display.HTML object>"
      ]
     },
     "metadata": {},
     "output_type": "display_data"
    },
    {
     "name": "stdout",
     "output_type": "stream",
     "text": [
      "82\n"
     ]
    },
    {
     "data": {
      "text/html": [
       " <span style='background: rgb(188, 108, 37)'>Chryses</span>   <span style='background: rgb(25, 108, 56)'>prays</span>  for Apollo 's help , and Apollo sends a plague to afflict the Achaean army ."
      ],
      "text/plain": [
       "<IPython.core.display.HTML object>"
      ]
     },
     "metadata": {},
     "output_type": "display_data"
    },
    {
     "name": "stdout",
     "output_type": "stream",
     "text": [
      "83\n"
     ]
    },
    {
     "data": {
      "text/html": [
       " <span style='background: rgb(188, 108, 37)'>Achilles</span>  furiously  <span style='background: rgb(25, 108, 56)'>declares</span>  that he and his men will no longer fight for Agamemnon ."
      ],
      "text/plain": [
       "<IPython.core.display.HTML object>"
      ]
     },
     "metadata": {},
     "output_type": "display_data"
    },
    {
     "name": "stdout",
     "output_type": "stream",
     "text": [
      "84\n"
     ]
    },
    {
     "data": {
      "text/html": [
       " <span style='background: rgb(188, 108, 37)'>Achilles</span>   <span style='background: rgb(25, 108, 56)'>becomes</span>  very upset and prays to his mother , Thetis , a minor goddess and sea nymph ."
      ],
      "text/plain": [
       "<IPython.core.display.HTML object>"
      ]
     },
     "metadata": {},
     "output_type": "display_data"
    },
    {
     "name": "stdout",
     "output_type": "stream",
     "text": [
      "85\n"
     ]
    },
    {
     "data": {
      "text/html": [
       " <span style='background: rgb(188, 108, 37)'>Achilles</span>   <span style='background: rgb(25, 108, 56)'>asks</span>  his mother to ask Zeus to allow the Achaeans to be beaten back by the Trojans , until their ships are at risk of burning ."
      ],
      "text/plain": [
       "<IPython.core.display.HTML object>"
      ]
     },
     "metadata": {},
     "output_type": "display_data"
    },
    {
     "name": "stdout",
     "output_type": "stream",
     "text": [
      "86\n"
     ]
    },
    {
     "data": {
      "text/html": [
       "Emboldened by Athena ,  <span style='background: rgb(188, 108, 37)'>Diomedes</span>   <span style='background: rgb(25, 108, 56)'>wounds</span>  Ares and puts him out of action ."
      ],
      "text/plain": [
       "<IPython.core.display.HTML object>"
      ]
     },
     "metadata": {},
     "output_type": "display_data"
    },
    {
     "name": "stdout",
     "output_type": "stream",
     "text": [
      "87\n"
     ]
    },
    {
     "data": {
      "text/html": [
       "( 6 )  <span style='background: rgb(188, 108, 37)'>Hector</span>   <span style='background: rgb(25, 108, 56)'>rallies</span>  the Trojans and prevents a rout ."
      ],
      "text/plain": [
       "<IPython.core.display.HTML object>"
      ]
     },
     "metadata": {},
     "output_type": "display_data"
    },
    {
     "name": "stdout",
     "output_type": "stream",
     "text": [
      "88\n"
     ]
    },
    {
     "data": {
      "text/html": [
       "( 7 )  <span style='background: rgb(188, 108, 37)'>Hector</span>   <span style='background: rgb(25, 108, 56)'>duels</span>  with Ajax , but nightfall interrupts the fight , and both sides retire ."
      ],
      "text/plain": [
       "<IPython.core.display.HTML object>"
      ]
     },
     "metadata": {},
     "output_type": "display_data"
    },
    {
     "name": "stdout",
     "output_type": "stream",
     "text": [
      "89\n"
     ]
    },
    {
     "data": {
      "text/html": [
       " <span style='background: rgb(188, 108, 37)'>Achilles</span>   <span style='background: rgb(25, 108, 56)'>sends</span>  Patroclus from his camp to inquire about the Achaean casualties , and while there , Patroclus is moved to pity by a speech of Nestor 's ."
      ],
      "text/plain": [
       "<IPython.core.display.HTML object>"
      ]
     },
     "metadata": {},
     "output_type": "display_data"
    },
    {
     "name": "stdout",
     "output_type": "stream",
     "text": [
      "90\n"
     ]
    },
    {
     "data": {
      "text/html": [
       " <span style='background: rgb(188, 108, 37)'>Hector</span>   <span style='background: rgb(25, 108, 56)'>leads</span>  the terrible fighting , despite an omen that their charge will fail ."
      ],
      "text/plain": [
       "<IPython.core.display.HTML object>"
      ]
     },
     "metadata": {},
     "output_type": "display_data"
    },
    {
     "name": "stdout",
     "output_type": "stream",
     "text": [
      "91\n"
     ]
    },
    {
     "data": {
      "text/html": [
       "( 17 )  <span style='background: rgb(188, 108, 37)'>Hector</span>   <span style='background: rgb(25, 108, 56)'>takes</span>  Achilles ' armor from the fallen Patroclus ."
      ],
      "text/plain": [
       "<IPython.core.display.HTML object>"
      ]
     },
     "metadata": {},
     "output_type": "display_data"
    },
    {
     "name": "stdout",
     "output_type": "stream",
     "text": [
      "92\n"
     ]
    },
    {
     "data": {
      "text/html": [
       " <span style='background: rgb(188, 108, 37)'>Thetis</span>   <span style='background: rgb(25, 108, 56)'>grieves</span>  , too , knowing that Achilles is fated to die young if he kills Hector ."
      ],
      "text/plain": [
       "<IPython.core.display.HTML object>"
      ]
     },
     "metadata": {},
     "output_type": "display_data"
    },
    {
     "name": "stdout",
     "output_type": "stream",
     "text": [
      "93\n"
     ]
    },
    {
     "data": {
      "text/html": [
       "Though he knows it will seal his own fate ,  <span style='background: rgb(188, 108, 37)'>Achilles</span>   <span style='background: rgb(25, 108, 56)'>vows</span>  to kill Hector in order to avenge Patroclus ."
      ],
      "text/plain": [
       "<IPython.core.display.HTML object>"
      ]
     },
     "metadata": {},
     "output_type": "display_data"
    },
    {
     "name": "stdout",
     "output_type": "stream",
     "text": [
      "94\n"
     ]
    },
    {
     "data": {
      "text/html": [
       "Polydamas urges Hector again to withdraw into the city ; again  <span style='background: rgb(188, 108, 37)'>Hector</span>   <span style='background: rgb(25, 108, 56)'>refuses</span>  , and the Trojans camp on the plain at nightfall ."
      ],
      "text/plain": [
       "<IPython.core.display.HTML object>"
      ]
     },
     "metadata": {},
     "output_type": "display_data"
    },
    {
     "name": "stdout",
     "output_type": "stream",
     "text": [
      "95\n"
     ]
    },
    {
     "data": {
      "text/html": [
       "The Achaeans take their meal ;  <span style='background: rgb(188, 108, 37)'>Achilles</span>   <span style='background: rgb(25, 108, 56)'>refuses</span>  to eat ."
      ],
      "text/plain": [
       "<IPython.core.display.HTML object>"
      ]
     },
     "metadata": {},
     "output_type": "display_data"
    },
    {
     "name": "stdout",
     "output_type": "stream",
     "text": [
      "96\n"
     ]
    },
    {
     "data": {
      "text/html": [
       " <span style='background: rgb(188, 108, 37)'>Achilles</span>  , burning with rage and grief ,  <span style='background: rgb(25, 108, 56)'>slays</span>  many ."
      ],
      "text/plain": [
       "<IPython.core.display.HTML object>"
      ]
     },
     "metadata": {},
     "output_type": "display_data"
    },
    {
     "name": "stdout",
     "output_type": "stream",
     "text": [
      "97\n"
     ]
    },
    {
     "data": {
      "text/html": [
       "( 21 )  <span style='background: rgb(188, 108, 37)'>Achilles</span>   <span style='background: rgb(25, 108, 56)'>cuts</span>  off half the Trojans ' number in the river and slaughters them , clogging the river with bodies ."
      ],
      "text/plain": [
       "<IPython.core.display.HTML object>"
      ]
     },
     "metadata": {},
     "output_type": "display_data"
    },
    {
     "name": "stdout",
     "output_type": "stream",
     "text": [
      "98\n"
     ]
    },
    {
     "data": {
      "text/html": [
       " <span style='background: rgb(188, 108, 37)'>Achilles</span>   <span style='background: rgb(25, 108, 56)'>strips</span>  Hector of his own armor , gloating over his death ."
      ],
      "text/plain": [
       "<IPython.core.display.HTML object>"
      ]
     },
     "metadata": {},
     "output_type": "display_data"
    },
    {
     "name": "stdout",
     "output_type": "stream",
     "text": [
      "99\n"
     ]
    },
    {
     "data": {
      "text/html": [
       " <span style='background: rgb(188, 108, 37)'>Achilles</span>  then  <span style='background: rgb(25, 108, 56)'>dishonors</span>  Hector 's body by lashing it to the back of his chariot and dragging it around the city ."
      ],
      "text/plain": [
       "<IPython.core.display.HTML object>"
      ]
     },
     "metadata": {},
     "output_type": "display_data"
    },
    {
     "name": "stdout",
     "output_type": "stream",
     "text": [
      "100\n"
     ]
    },
    {
     "data": {
      "text/html": [
       " <span style='background: rgb(188, 108, 37)'>Achilles</span>   <span style='background: rgb(25, 108, 56)'>agrees</span>  to give Hector 's body back , and to give the Trojans twelve days to properly mourn and bury Hector ."
      ],
      "text/plain": [
       "<IPython.core.display.HTML object>"
      ]
     },
     "metadata": {},
     "output_type": "display_data"
    },
    {
     "name": "stdout",
     "output_type": "stream",
     "text": [
      "101\n"
     ]
    },
    {
     "data": {
      "text/html": [
       " <span style='background: rgb(188, 108, 37)'>Achilles</span>   <span style='background: rgb(25, 108, 56)'>apologizes</span>  to Patroclus , fearing he has dishonored him by returning Hector 's body ."
      ],
      "text/plain": [
       "<IPython.core.display.HTML object>"
      ]
     },
     "metadata": {},
     "output_type": "display_data"
    },
    {
     "name": "stdout",
     "output_type": "stream",
     "text": [
      "102\n"
     ]
    },
    {
     "data": {
      "text/html": [
       " <span style='background: rgb(188, 108, 37)'>Kleos</span>  ( κλέος , \" glory , fame \" )  <span style='background: rgb(25, 108, 56)'>is</span>  the concept of glory earned in heroic battle ."
      ],
      "text/plain": [
       "<IPython.core.display.HTML object>"
      ]
     },
     "metadata": {},
     "output_type": "display_data"
    },
    {
     "name": "stdout",
     "output_type": "stream",
     "text": [
      "103\n"
     ]
    },
    {
     "data": {
      "text/html": [
       "For my mother Thetis the  <span style='background: rgb(188, 108, 37)'>goddess</span>  of silver feet  <span style='background: rgb(25, 108, 56)'>tells</span>  me \n",
       " I carry two sorts of destiny toward the day of my death ."
      ],
      "text/plain": [
       "<IPython.core.display.HTML object>"
      ]
     },
     "metadata": {},
     "output_type": "display_data"
    },
    {
     "name": "stdout",
     "output_type": "stream",
     "text": [
      "104\n"
     ]
    },
    {
     "data": {
      "text/html": [
       " <span style='background: rgb(188, 108, 37)'>Agamemnon</span>   <span style='background: rgb(25, 108, 56)'>refuses</span>  to ransom Chriseis up out of hybris and harms Achilles ' pride when he demands Briseis ."
      ],
      "text/plain": [
       "<IPython.core.display.HTML object>"
      ]
     },
     "metadata": {},
     "output_type": "display_data"
    },
    {
     "name": "stdout",
     "output_type": "stream",
     "text": [
      "105\n"
     ]
    },
    {
     "data": {
      "text/html": [
       "Later ,  <span style='background: rgb(188, 108, 37)'>Agamemnon</span>   <span style='background: rgb(25, 108, 56)'>contemplates</span>  defeat and retreat to Greece ( Book XIV ) ."
      ],
      "text/plain": [
       "<IPython.core.display.HTML object>"
      ]
     },
     "metadata": {},
     "output_type": "display_data"
    },
    {
     "name": "stdout",
     "output_type": "stream",
     "text": [
      "106\n"
     ]
    },
    {
     "data": {
      "text/html": [
       " <span style='background: rgb(188, 108, 37)'>Danglars</span>   <span style='background: rgb(25, 108, 56)'>flees</span>  to Italy with the Count 's receipt for the cash he requested from the banker Danglars , and 50,000 francs ."
      ],
      "text/plain": [
       "<IPython.core.display.HTML object>"
      ]
     },
     "metadata": {},
     "output_type": "display_data"
    },
    {
     "name": "stdout",
     "output_type": "stream",
     "text": [
      "107\n"
     ]
    },
    {
     "data": {
      "text/html": [
       " <span style='background: rgb(188, 108, 37)'>Danglars</span>  finally  <span style='background: rgb(25, 108, 56)'>repents</span>  his crimes , and a softened Dantès forgives him and allows him to leave with his freedom and 50,000 francs ."
      ],
      "text/plain": [
       "<IPython.core.display.HTML object>"
      ]
     },
     "metadata": {},
     "output_type": "display_data"
    },
    {
     "name": "stdout",
     "output_type": "stream",
     "text": [
      "108\n"
     ]
    },
    {
     "data": {
      "text/html": [
       "On Christmas Day , a year after the book 's opening , the girls '  <span style='background: rgb(188, 108, 37)'>father</span>   <span style='background: rgb(25, 108, 56)'>returns</span>  home ."
      ],
      "text/plain": [
       "<IPython.core.display.HTML object>"
      ]
     },
     "metadata": {},
     "output_type": "display_data"
    },
    {
     "name": "stdout",
     "output_type": "stream",
     "text": [
      "109\n"
     ]
    },
    {
     "data": {
      "text/html": [
       " <span style='background: rgb(188, 108, 37)'>Scrooge</span>  , upset by hearing Belle 's description of the man that he has become ,  <span style='background: rgb(25, 108, 56)'>demands</span>  that the ghost remove him from the house ."
      ],
      "text/plain": [
       "<IPython.core.display.HTML object>"
      ]
     },
     "metadata": {},
     "output_type": "display_data"
    },
    {
     "name": "stdout",
     "output_type": "stream",
     "text": [
      "110\n"
     ]
    },
    {
     "data": {
      "text/html": [
       " <span style='background: rgb(188, 108, 37)'>Scrooge</span>   <span style='background: rgb(25, 108, 56)'>awakens</span>  on Christmas morning a changed man ."
      ],
      "text/plain": [
       "<IPython.core.display.HTML object>"
      ]
     },
     "metadata": {},
     "output_type": "display_data"
    },
    {
     "name": "stdout",
     "output_type": "stream",
     "text": [
      "111\n"
     ]
    },
    {
     "data": {
      "text/html": [
       " <span style='background: rgb(188, 108, 37)'>Douglass</span>   <span style='background: rgb(25, 108, 56)'>was</span>  of mixed race , which likely included Native American and African on his mother 's side , as well as European ."
      ],
      "text/plain": [
       "<IPython.core.display.HTML object>"
      ]
     },
     "metadata": {},
     "output_type": "display_data"
    },
    {
     "name": "stdout",
     "output_type": "stream",
     "text": [
      "112\n"
     ]
    },
    {
     "data": {
      "text/html": [
       "In contrast , his  <span style='background: rgb(188, 108, 37)'>father</span>   <span style='background: rgb(25, 108, 56)'>was</span>  \" almost certainly white \" , according to historian David W. Blight in his 2018 biography of Douglass ."
      ],
      "text/plain": [
       "<IPython.core.display.HTML object>"
      ]
     },
     "metadata": {},
     "output_type": "display_data"
    },
    {
     "name": "stdout",
     "output_type": "stream",
     "text": [
      "113\n"
     ]
    },
    {
     "data": {
      "text/html": [
       "That  <span style='background: rgb(188, 108, 37)'>boy</span>   <span style='background: rgb(25, 108, 56)'>was</span>  Frederick Douglass ."
      ],
      "text/plain": [
       "<IPython.core.display.HTML object>"
      ]
     },
     "metadata": {},
     "output_type": "display_data"
    },
    {
     "name": "stdout",
     "output_type": "stream",
     "text": [
      "114\n"
     ]
    },
    {
     "data": {
      "text/html": [
       " <span style='background: rgb(188, 108, 37)'>Douglass</span>  still  <span style='background: rgb(25, 108, 56)'>has</span>  living descendants today , such as Ken Morris , who is also a descendant of Booker T. Washington ."
      ],
      "text/plain": [
       "<IPython.core.display.HTML object>"
      ]
     },
     "metadata": {},
     "output_type": "display_data"
    },
    {
     "name": "stdout",
     "output_type": "stream",
     "text": [
      "115\n"
     ]
    },
    {
     "data": {
      "text/html": [
       " <span style='background: rgb(188, 108, 37)'>Fantine</span>   <span style='background: rgb(25, 108, 56)'>discovers</span>  that Cosette is not at the hospital and fretfully asks where she is ."
      ],
      "text/plain": [
       "<IPython.core.display.HTML object>"
      ]
     },
     "metadata": {},
     "output_type": "display_data"
    },
    {
     "name": "stdout",
     "output_type": "stream",
     "text": [
      "116\n"
     ]
    },
    {
     "data": {
      "text/html": [
       "The  <span style='background: rgb(188, 108, 37)'>king</span>   <span style='background: rgb(25, 108, 56)'>commutes</span>  his sentence to penal servitude for life ."
      ],
      "text/plain": [
       "<IPython.core.display.HTML object>"
      ]
     },
     "metadata": {},
     "output_type": "display_data"
    },
    {
     "name": "stdout",
     "output_type": "stream",
     "text": [
      "117\n"
     ]
    },
    {
     "data": {
      "text/html": [
       " <span style='background: rgb(188, 108, 37)'>Thénardier</span>  , hoping to swindle more out of Valjean ,  <span style='background: rgb(25, 108, 56)'>runs</span>  after them , holding the 1,500 francs , and tells Valjean he wants Cosette back ."
      ],
      "text/plain": [
       "<IPython.core.display.HTML object>"
      ]
     },
     "metadata": {},
     "output_type": "display_data"
    },
    {
     "name": "stdout",
     "output_type": "stream",
     "text": [
      "118\n"
     ]
    },
    {
     "data": {
      "text/html": [
       " <span style='background: rgb(188, 108, 37)'>Thénardier</span>  then  <span style='background: rgb(25, 108, 56)'>demands</span>  that Valjean pay a thousand crowns , but Valjean and Cosette leave ."
      ],
      "text/plain": [
       "<IPython.core.display.HTML object>"
      ]
     },
     "metadata": {},
     "output_type": "display_data"
    },
    {
     "name": "stdout",
     "output_type": "stream",
     "text": [
      "119\n"
     ]
    },
    {
     "data": {
      "text/html": [
       " <span style='background: rgb(188, 108, 37)'>Marius</span>   <span style='background: rgb(25, 108, 56)'>pities</span>  her and gives her some money ."
      ],
      "text/plain": [
       "<IPython.core.display.HTML object>"
      ]
     },
     "metadata": {},
     "output_type": "display_data"
    },
    {
     "name": "stdout",
     "output_type": "stream",
     "text": [
      "120\n"
     ]
    },
    {
     "data": {
      "text/html": [
       " <span style='background: rgb(188, 108, 37)'>Thénardier</span>   <span style='background: rgb(25, 108, 56)'>enlists</span>  the aid of the Patron - Minette , a well - known and feared gang of murderers and robbers ."
      ],
      "text/plain": [
       "<IPython.core.display.HTML object>"
      ]
     },
     "metadata": {},
     "output_type": "display_data"
    },
    {
     "name": "stdout",
     "output_type": "stream",
     "text": [
      "121\n"
     ]
    },
    {
     "data": {
      "text/html": [
       " <span style='background: rgb(188, 108, 37)'>Thénardier</span>   <span style='background: rgb(25, 108, 56)'>sends</span>  Éponine and Azelma outside to look out for the police ."
      ],
      "text/plain": [
       "<IPython.core.display.HTML object>"
      ]
     },
     "metadata": {},
     "output_type": "display_data"
    },
    {
     "name": "stdout",
     "output_type": "stream",
     "text": [
      "122\n"
     ]
    },
    {
     "data": {
      "text/html": [
       " <span style='background: rgb(188, 108, 37)'>Thénardier</span>   <span style='background: rgb(25, 108, 56)'>comes</span>  back alone , and announces the address is a fake ."
      ],
      "text/plain": [
       "<IPython.core.display.HTML object>"
      ]
     },
     "metadata": {},
     "output_type": "display_data"
    },
    {
     "name": "stdout",
     "output_type": "stream",
     "text": [
      "123\n"
     ]
    },
    {
     "data": {
      "text/html": [
       " <span style='background: rgb(188, 108, 37)'>Thénardier</span>   <span style='background: rgb(25, 108, 56)'>decides</span>  to kill Valjean ."
      ],
      "text/plain": [
       "<IPython.core.display.HTML object>"
      ]
     },
     "metadata": {},
     "output_type": "display_data"
    },
    {
     "name": "stdout",
     "output_type": "stream",
     "text": [
      "124\n"
     ]
    },
    {
     "data": {
      "text/html": [
       " <span style='background: rgb(188, 108, 37)'>Thénardier</span>   <span style='background: rgb(25, 108, 56)'>reads</span>  it and thinks Éponine threw it inside ."
      ],
      "text/plain": [
       "<IPython.core.display.HTML object>"
      ]
     },
     "metadata": {},
     "output_type": "display_data"
    },
    {
     "name": "stdout",
     "output_type": "stream",
     "text": [
      "125\n"
     ]
    },
    {
     "data": {
      "text/html": [
       "His  <span style='background: rgb(188, 108, 37)'>grandfather</span>   <span style='background: rgb(25, 108, 56)'>seems</span>  stern and angry , but has been longing for Marius 's return ."
      ],
      "text/plain": [
       "<IPython.core.display.HTML object>"
      ]
     },
     "metadata": {},
     "output_type": "display_data"
    },
    {
     "name": "stdout",
     "output_type": "stream",
     "text": [
      "126\n"
     ]
    },
    {
     "data": {
      "text/html": [
       "However , a  <span style='background: rgb(188, 108, 37)'>man</span>   <span style='background: rgb(25, 108, 56)'>covers</span>  the muzzle of the soldier 's gun with his hand ."
      ],
      "text/plain": [
       "<IPython.core.display.HTML object>"
      ]
     },
     "metadata": {},
     "output_type": "display_data"
    },
    {
     "name": "stdout",
     "output_type": "stream",
     "text": [
      "127\n"
     ]
    },
    {
     "data": {
      "text/html": [
       "As he turns back , the  <span style='background: rgb(188, 108, 37)'>man</span>  who took the fatal shot for Marius earlier  <span style='background: rgb(25, 108, 56)'>calls</span>  Marius by his name ."
      ],
      "text/plain": [
       "<IPython.core.display.HTML object>"
      ]
     },
     "metadata": {},
     "output_type": "display_data"
    },
    {
     "name": "stdout",
     "output_type": "stream",
     "text": [
      "128\n"
     ]
    },
    {
     "data": {
      "text/html": [
       " <span style='background: rgb(188, 108, 37)'>Marius</span>   <span style='background: rgb(25, 108, 56)'>recognizes</span>  Valjean at first sight ."
      ],
      "text/plain": [
       "<IPython.core.display.HTML object>"
      ]
     },
     "metadata": {},
     "output_type": "display_data"
    },
    {
     "name": "stdout",
     "output_type": "stream",
     "text": [
      "129\n"
     ]
    },
    {
     "data": {
      "text/html": [
       " <span style='background: rgb(188, 108, 37)'>Thénardier</span>   <span style='background: rgb(25, 108, 56)'>emerges</span>  from the darkness ."
      ],
      "text/plain": [
       "<IPython.core.display.HTML object>"
      ]
     },
     "metadata": {},
     "output_type": "display_data"
    },
    {
     "name": "stdout",
     "output_type": "stream",
     "text": [
      "130\n"
     ]
    },
    {
     "data": {
      "text/html": [
       " <span style='background: rgb(188, 108, 37)'>Thénardier</span>   <span style='background: rgb(25, 108, 56)'>approaches</span>  Marius in disguise , but Marius recognizes him ."
      ],
      "text/plain": [
       "<IPython.core.display.HTML object>"
      ]
     },
     "metadata": {},
     "output_type": "display_data"
    },
    {
     "name": "stdout",
     "output_type": "stream",
     "text": [
      "131\n"
     ]
    },
    {
     "data": {
      "text/html": [
       " <span style='background: rgb(188, 108, 37)'>Thénardier</span>   <span style='background: rgb(25, 108, 56)'>accepts</span>  the offer , and he and Azelma travel to America where he becomes a slave trader ."
      ],
      "text/plain": [
       "<IPython.core.display.HTML object>"
      ]
     },
     "metadata": {},
     "output_type": "display_data"
    },
    {
     "name": "stdout",
     "output_type": "stream",
     "text": [
      "132\n"
     ]
    },
    {
     "data": {
      "text/html": [
       "In fact all great men have had that vein in them ; it was the source of their greatness ; the reasonable  <span style='background: rgb(188, 108, 37)'>man</span>   <span style='background: rgb(25, 108, 56)'>achieves</span>  nothing ."
      ],
      "text/plain": [
       "<IPython.core.display.HTML object>"
      ]
     },
     "metadata": {},
     "output_type": "display_data"
    },
    {
     "name": "stdout",
     "output_type": "stream",
     "text": [
      "133\n"
     ]
    },
    {
     "data": {
      "text/html": [
       "Additionally , his  <span style='background: rgb(188, 108, 37)'>sister</span>  , Andrea de Cervantes ,  <span style='background: rgb(25, 108, 56)'>was</span>  a nurse ."
      ],
      "text/plain": [
       "<IPython.core.display.HTML object>"
      ]
     },
     "metadata": {},
     "output_type": "display_data"
    },
    {
     "name": "stdout",
     "output_type": "stream",
     "text": [
      "134\n"
     ]
    },
    {
     "data": {
      "text/html": [
       " <span style='background: rgb(188, 108, 37)'>Penelope</span>   <span style='background: rgb(25, 108, 56)'>overhears</span>  their plot and worries for her son 's safety ."
      ],
      "text/plain": [
       "<IPython.core.display.HTML object>"
      ]
     },
     "metadata": {},
     "output_type": "display_data"
    },
    {
     "name": "stdout",
     "output_type": "stream",
     "text": [
      "135\n"
     ]
    },
    {
     "data": {
      "text/html": [
       " <span style='background: rgb(188, 108, 37)'>Eurycleia</span>   <span style='background: rgb(25, 108, 56)'>tries</span>  to tell Penelope about the beggar 's true identity , but Athena makes sure that Penelope can not hear her ."
      ],
      "text/plain": [
       "<IPython.core.display.HTML object>"
      ]
     },
     "metadata": {},
     "output_type": "display_data"
    },
    {
     "name": "stdout",
     "output_type": "stream",
     "text": [
      "136\n"
     ]
    },
    {
     "data": {
      "text/html": [
       " <span style='background: rgb(188, 108, 37)'>Hobbes</span>   <span style='background: rgb(25, 108, 56)'>begins</span>  his treatise on politics with an account of human nature ."
      ],
      "text/plain": [
       "<IPython.core.display.HTML object>"
      ]
     },
     "metadata": {},
     "output_type": "display_data"
    },
    {
     "name": "stdout",
     "output_type": "stream",
     "text": [
      "137\n"
     ]
    },
    {
     "data": {
      "text/html": [
       " <span style='background: rgb(188, 108, 37)'>Hobbes</span>   <span style='background: rgb(25, 108, 56)'>proceeds</span>  by defining terms clearly and unsentimentally ."
      ],
      "text/plain": [
       "<IPython.core.display.HTML object>"
      ]
     },
     "metadata": {},
     "output_type": "display_data"
    },
    {
     "name": "stdout",
     "output_type": "stream",
     "text": [
      "138\n"
     ]
    },
    {
     "data": {
      "text/html": [
       " <span style='background: rgb(188, 108, 37)'>Hobbes</span>   <span style='background: rgb(25, 108, 56)'>enumerates</span>  four causes of this darkness ."
      ],
      "text/plain": [
       "<IPython.core.display.HTML object>"
      ]
     },
     "metadata": {},
     "output_type": "display_data"
    },
    {
     "name": "stdout",
     "output_type": "stream",
     "text": [
      "139\n"
     ]
    },
    {
     "data": {
      "text/html": [
       " <span style='background: rgb(188, 108, 37)'>Léonce</span>  eventually  <span style='background: rgb(25, 108, 56)'>talks</span>  to a doctor about diagnosing his wife , fearing she is losing her mental faculties ."
      ],
      "text/plain": [
       "<IPython.core.display.HTML object>"
      ]
     },
     "metadata": {},
     "output_type": "display_data"
    },
    {
     "name": "stdout",
     "output_type": "stream",
     "text": [
      "140\n"
     ]
    },
    {
     "data": {
      "text/html": [
       " <span style='background: rgb(188, 108, 37)'>Reisz</span>   <span style='background: rgb(25, 108, 56)'>is</span>  in contact with Robert while he is in Mexico , receiving letters from him regularly ."
      ],
      "text/plain": [
       "<IPython.core.display.HTML object>"
      ]
     },
     "metadata": {},
     "output_type": "display_data"
    },
    {
     "name": "stdout",
     "output_type": "stream",
     "text": [
      "141\n"
     ]
    },
    {
     "data": {
      "text/html": [
       " <span style='background: rgb(188, 108, 37)'>Adèle</span>   <span style='background: rgb(25, 108, 56)'>pleads</span>  with Edna to think of what she would be turning her back on if she did not behave appropriately , and dies soon after ."
      ],
      "text/plain": [
       "<IPython.core.display.HTML object>"
      ]
     },
     "metadata": {},
     "output_type": "display_data"
    },
    {
     "name": "stdout",
     "output_type": "stream",
     "text": [
      "142\n"
     ]
    },
    {
     "data": {
      "text/html": [
       " <span style='background: rgb(188, 108, 37)'>Chopin</span>   <span style='background: rgb(25, 108, 56)'>presents</span>  Edna 's autonomous separation from society and friends as individually empowering while still examining the risks of self - exploration and subsequent loneliness ."
      ],
      "text/plain": [
       "<IPython.core.display.HTML object>"
      ]
     },
     "metadata": {},
     "output_type": "display_data"
    },
    {
     "name": "stdout",
     "output_type": "stream",
     "text": [
      "143\n"
     ]
    },
    {
     "data": {
      "text/html": [
       "The Second  <span style='background: rgb(188, 108, 37)'>Treatise</span>   <span style='background: rgb(25, 108, 56)'>outlines</span>  a theory of civil society ."
      ],
      "text/plain": [
       "<IPython.core.display.HTML object>"
      ]
     },
     "metadata": {},
     "output_type": "display_data"
    },
    {
     "name": "stdout",
     "output_type": "stream",
     "text": [
      "144\n"
     ]
    },
    {
     "data": {
      "text/html": [
       "Frank Churchill 's wealthy  <span style='background: rgb(188, 108, 37)'>aunt</span>   <span style='background: rgb(25, 108, 56)'>dies</span>  , and he is no longer required to be at her beck and call ."
      ],
      "text/plain": [
       "<IPython.core.display.HTML object>"
      ]
     },
     "metadata": {},
     "output_type": "display_data"
    },
    {
     "name": "stdout",
     "output_type": "stream",
     "text": [
      "145\n"
     ]
    },
    {
     "data": {
      "text/html": [
       " <span style='background: rgb(188, 108, 37)'>Vronsky</span>   <span style='background: rgb(25, 108, 56)'>travels</span>  on the same train ."
      ],
      "text/plain": [
       "<IPython.core.display.HTML object>"
      ]
     },
     "metadata": {},
     "output_type": "display_data"
    },
    {
     "name": "stdout",
     "output_type": "stream",
     "text": [
      "146\n"
     ]
    },
    {
     "data": {
      "text/html": [
       " <span style='background: rgb(188, 108, 37)'>Vronsky</span>   <span style='background: rgb(25, 108, 56)'>continues</span>  to pursue Anna ."
      ],
      "text/plain": [
       "<IPython.core.display.HTML object>"
      ]
     },
     "metadata": {},
     "output_type": "display_data"
    },
    {
     "name": "stdout",
     "output_type": "stream",
     "text": [
      "147\n"
     ]
    },
    {
     "data": {
      "text/html": [
       " <span style='background: rgb(188, 108, 37)'>Levin</span>   <span style='background: rgb(25, 108, 56)'>resolves</span>  to forget Kitty and contemplates the possibility of marriage to a peasant woman ."
      ],
      "text/plain": [
       "<IPython.core.display.HTML object>"
      ]
     },
     "metadata": {},
     "output_type": "display_data"
    },
    {
     "name": "stdout",
     "output_type": "stream",
     "text": [
      "148\n"
     ]
    },
    {
     "data": {
      "text/html": [
       " <span style='background: rgb(188, 108, 37)'>Vronsky</span>   <span style='background: rgb(25, 108, 56)'>begs</span>  her not to go , but he is unable to bring himself to explain to her why she can not attend ."
      ],
      "text/plain": [
       "<IPython.core.display.HTML object>"
      ]
     },
     "metadata": {},
     "output_type": "display_data"
    },
    {
     "name": "stdout",
     "output_type": "stream",
     "text": [
      "149\n"
     ]
    },
    {
     "data": {
      "text/html": [
       " <span style='background: rgb(188, 108, 37)'>Vronsky</span>   <span style='background: rgb(25, 108, 56)'>makes</span>  an emotional request to Dolly , asking her to convince Anna to divorce Karenin so that the two might marry and live normally ."
      ],
      "text/plain": [
       "<IPython.core.display.HTML object>"
      ]
     },
     "metadata": {},
     "output_type": "display_data"
    },
    {
     "name": "stdout",
     "output_type": "stream",
     "text": [
      "150\n"
     ]
    },
    {
     "data": {
      "text/html": [
       " <span style='background: rgb(188, 108, 37)'>Eliza</span>   <span style='background: rgb(25, 108, 56)'>departs</span>  that night , leaving a note of apology to her mistress ."
      ],
      "text/plain": [
       "<IPython.core.display.HTML object>"
      ]
     },
     "metadata": {},
     "output_type": "display_data"
    },
    {
     "name": "stdout",
     "output_type": "stream",
     "text": [
      "151\n"
     ]
    },
    {
     "data": {
      "text/html": [
       "His  <span style='background: rgb(188, 108, 37)'>wife</span>   <span style='background: rgb(25, 108, 56)'>reneges</span>  on her late husband 's vow and sells Tom at auction to a vicious plantation owner named Simon Legree ."
      ],
      "text/plain": [
       "<IPython.core.display.HTML object>"
      ]
     },
     "metadata": {},
     "output_type": "display_data"
    },
    {
     "name": "stdout",
     "output_type": "stream",
     "text": [
      "152\n"
     ]
    },
    {
     "data": {
      "text/html": [
       "Her  <span style='background: rgb(188, 108, 37)'>husband</span>  , George , eventually  <span style='background: rgb(25, 108, 56)'>finds</span>  Eliza and Harry in Ohio and emigrates with them to Canada , then France , and finally Liberia ."
      ],
      "text/plain": [
       "<IPython.core.display.HTML object>"
      ]
     },
     "metadata": {},
     "output_type": "display_data"
    },
    {
     "name": "stdout",
     "output_type": "stream",
     "text": [
      "153\n"
     ]
    },
    {
     "data": {
      "text/html": [
       " <span style='background: rgb(188, 108, 37)'>Eva</span>   <span style='background: rgb(25, 108, 56)'>begs</span>  her father to buy Tom , and he becomes the head coachman at the St. Clare house ."
      ],
      "text/plain": [
       "<IPython.core.display.HTML object>"
      ]
     },
     "metadata": {},
     "output_type": "display_data"
    },
    {
     "name": "stdout",
     "output_type": "stream",
     "text": [
      "154\n"
     ]
    },
    {
     "data": {
      "text/html": [
       " <span style='background: rgb(188, 108, 37)'>Crisóstomo</span>   <span style='background: rgb(25, 108, 56)'>excuses</span>  himself early and is making his way back to his hotel when Lieutenant Guevarra , another friend of his father , catches up with him ."
      ],
      "text/plain": [
       "<IPython.core.display.HTML object>"
      ]
     },
     "metadata": {},
     "output_type": "display_data"
    },
    {
     "name": "stdout",
     "output_type": "stream",
     "text": [
      "155\n"
     ]
    },
    {
     "data": {
      "text/html": [
       " <span style='background: rgb(188, 108, 37)'>Elías</span>   <span style='background: rgb(25, 108, 56)'>declines</span>  , stating that his fate is with the country he wishes to see reformed and liberated ."
      ],
      "text/plain": [
       "<IPython.core.display.HTML object>"
      ]
     },
     "metadata": {},
     "output_type": "display_data"
    },
    {
     "name": "stdout",
     "output_type": "stream",
     "text": [
      "156\n"
     ]
    },
    {
     "data": {
      "text/html": [
       "A few nights later in the forest of the Ibarras , a  <span style='background: rgb(188, 108, 37)'>boy</span>   <span style='background: rgb(25, 108, 56)'>pursues</span>  his mother through the darkness ."
      ],
      "text/plain": [
       "<IPython.core.display.HTML object>"
      ]
     },
     "metadata": {},
     "output_type": "display_data"
    },
    {
     "name": "stdout",
     "output_type": "stream",
     "text": [
      "157\n"
     ]
    },
    {
     "data": {
      "text/html": [
       "His  <span style='background: rgb(188, 108, 37)'>sister</span>   <span style='background: rgb(25, 108, 56)'>was</span>  more refined and eventually was betrothed to a fine young man ."
      ],
      "text/plain": [
       "<IPython.core.display.HTML object>"
      ]
     },
     "metadata": {},
     "output_type": "display_data"
    },
    {
     "name": "stdout",
     "output_type": "stream",
     "text": [
      "158\n"
     ]
    },
    {
     "data": {
      "text/html": [
       "Her  <span style='background: rgb(188, 108, 37)'>husband</span>   <span style='background: rgb(25, 108, 56)'>assumes</span>  the title of medical \" doctor \" even though he never attended medical school ; using fake documents and certificates , Tiburcio illegally practices medicine ."
      ],
      "text/plain": [
       "<IPython.core.display.HTML object>"
      ]
     },
     "metadata": {},
     "output_type": "display_data"
    },
    {
     "name": "stdout",
     "output_type": "stream",
     "text": [
      "159\n"
     ]
    },
    {
     "data": {
      "text/html": [
       " <span style='background: rgb(188, 108, 37)'>Fagin</span>   <span style='background: rgb(25, 108, 56)'>rewards</span>  Oliver with a shilling and orders him out on the street with Charley Bates and the Artful Dodger ."
      ],
      "text/plain": [
       "<IPython.core.display.HTML object>"
      ]
     },
     "metadata": {},
     "output_type": "display_data"
    },
    {
     "name": "stdout",
     "output_type": "stream",
     "text": [
      "160\n"
     ]
    },
    {
     "data": {
      "text/html": [
       "Their  <span style='background: rgb(188, 108, 37)'>father</span>  , Edwin Leeford ,  <span style='background: rgb(25, 108, 56)'>was</span>  once friends with Brownlow ."
      ],
      "text/plain": [
       "<IPython.core.display.HTML object>"
      ]
     },
     "metadata": {},
     "output_type": "display_data"
    },
    {
     "name": "stdout",
     "output_type": "stream",
     "text": [
      "161\n"
     ]
    },
    {
     "data": {
      "text/html": [
       "The  <span style='background: rgb(188, 108, 37)'>man</span>   <span style='background: rgb(25, 108, 56)'>shows</span>  some kindness after Buck demonstrates obedience ."
      ],
      "text/plain": [
       "<IPython.core.display.HTML object>"
      ]
     },
     "metadata": {},
     "output_type": "display_data"
    },
    {
     "name": "stdout",
     "output_type": "stream",
     "text": [
      "162\n"
     ]
    },
    {
     "data": {
      "text/html": [
       " <span style='background: rgb(188, 108, 37)'>Pygmalion</span>   <span style='background: rgb(25, 108, 56)'>is</span>  a play by George Bernard Shaw , named after the Greek mythological figure ."
      ],
      "text/plain": [
       "<IPython.core.display.HTML object>"
      ]
     },
     "metadata": {},
     "output_type": "display_data"
    },
    {
     "name": "stdout",
     "output_type": "stream",
     "text": [
      "163\n"
     ]
    },
    {
     "data": {
      "text/html": [
       "The  <span style='background: rgb(188, 108, 37)'>man</span>   <span style='background: rgb(25, 108, 56)'>is</span>  Henry Higgins , a linguist ."
      ],
      "text/plain": [
       "<IPython.core.display.HTML object>"
      ]
     },
     "metadata": {},
     "output_type": "display_data"
    },
    {
     "name": "stdout",
     "output_type": "stream",
     "text": [
      "164\n"
     ]
    },
    {
     "data": {
      "text/html": [
       " <span style='background: rgb(188, 108, 37)'>Eliza</span>   <span style='background: rgb(25, 108, 56)'>worries</span>  that Higgins is a police officer and will not calm down until Higgins introduces himself ."
      ],
      "text/plain": [
       "<IPython.core.display.HTML object>"
      ]
     },
     "metadata": {},
     "output_type": "display_data"
    },
    {
     "name": "stdout",
     "output_type": "stream",
     "text": [
      "165\n"
     ]
    },
    {
     "data": {
      "text/html": [
       " <span style='background: rgb(188, 108, 37)'>Eliza</span>   <span style='background: rgb(25, 108, 56)'>enters</span>  , at ease and self - possessed ."
      ],
      "text/plain": [
       "<IPython.core.display.HTML object>"
      ]
     },
     "metadata": {},
     "output_type": "display_data"
    },
    {
     "name": "stdout",
     "output_type": "stream",
     "text": [
      "166\n"
     ]
    },
    {
     "data": {
      "text/html": [
       " <span style='background: rgb(188, 108, 37)'>Pygmalion</span>   <span style='background: rgb(25, 108, 56)'>was</span>  the most broadly appealing of all Shaw 's plays ."
      ],
      "text/plain": [
       "<IPython.core.display.HTML object>"
      ]
     },
     "metadata": {},
     "output_type": "display_data"
    },
    {
     "name": "stdout",
     "output_type": "stream",
     "text": [
      "167\n"
     ]
    },
    {
     "data": {
      "text/html": [
       " <span style='background: rgb(188, 108, 37)'>Pygmalion</span>   <span style='background: rgb(25, 108, 56)'>remains</span>  Shaw 's most popular play ."
      ],
      "text/plain": [
       "<IPython.core.display.HTML object>"
      ]
     },
     "metadata": {},
     "output_type": "display_data"
    },
    {
     "name": "stdout",
     "output_type": "stream",
     "text": [
      "168\n"
     ]
    },
    {
     "data": {
      "text/html": [
       " <span style='background: rgb(188, 108, 37)'>Cephalus</span>   <span style='background: rgb(25, 108, 56)'>defines</span>  justice as giving what is owed ."
      ],
      "text/plain": [
       "<IPython.core.display.HTML object>"
      ]
     },
     "metadata": {},
     "output_type": "display_data"
    },
    {
     "name": "stdout",
     "output_type": "stream",
     "text": [
      "169\n"
     ]
    },
    {
     "data": {
      "text/html": [
       "With the power to become invisible ,  <span style='background: rgb(188, 108, 37)'>Gyges</span>   <span style='background: rgb(25, 108, 56)'>is</span>  able to seduce the queen , murder the king , and take over the kingdom ."
      ],
      "text/plain": [
       "<IPython.core.display.HTML object>"
      ]
     },
     "metadata": {},
     "output_type": "display_data"
    },
    {
     "name": "stdout",
     "output_type": "stream",
     "text": [
      "170\n"
     ]
    },
    {
     "data": {
      "text/html": [
       "The timocratic  <span style='background: rgb(188, 108, 37)'>man</span>   <span style='background: rgb(25, 108, 56)'>loves</span>  physical training , and hunting , and values his abilities in warfare ."
      ],
      "text/plain": [
       "<IPython.core.display.HTML object>"
      ]
     },
     "metadata": {},
     "output_type": "display_data"
    },
    {
     "name": "stdout",
     "output_type": "stream",
     "text": [
      "171\n"
     ]
    },
    {
     "data": {
      "text/html": [
       "The  <span style='background: rgb(188, 108, 37)'>king</span>   <span style='background: rgb(25, 108, 56)'>is</span>  not happy with Gulliver 's accounts of Europe , especially upon learning of the use of guns and cannon ."
      ],
      "text/plain": [
       "<IPython.core.display.HTML object>"
      ]
     },
     "metadata": {},
     "output_type": "display_data"
    },
    {
     "name": "stdout",
     "output_type": "stream",
     "text": [
      "172\n"
     ]
    },
    {
     "data": {
      "text/html": [
       "Her  <span style='background: rgb(188, 108, 37)'>brother</span>  John ( called \" William \" )  <span style='background: rgb(25, 108, 56)'>is</span>  still a boy , when the son of his master tries to bind and whip him ."
      ],
      "text/plain": [
       "<IPython.core.display.HTML object>"
      ]
     },
     "metadata": {},
     "output_type": "display_data"
    },
    {
     "name": "stdout",
     "output_type": "stream",
     "text": [
      "173\n"
     ]
    },
    {
     "data": {
      "text/html": [
       "In the meantime , Fanny 's  <span style='background: rgb(188, 108, 37)'>brother</span>  , Edward Ferrars ,  <span style='background: rgb(25, 108, 56)'>visits</span>  Norland and is attracted to Elinor ."
      ],
      "text/plain": [
       "<IPython.core.display.HTML object>"
      ]
     },
     "metadata": {},
     "output_type": "display_data"
    },
    {
     "name": "stdout",
     "output_type": "stream",
     "text": [
      "174\n"
     ]
    },
    {
     "data": {
      "text/html": [
       " <span style='background: rgb(188, 108, 37)'>Eliza</span>   <span style='background: rgb(25, 108, 56)'>is</span>  the illegitimate daughter of Brandon 's first love , also called Eliza , a young woman who was his father 's ward and an heiress ."
      ],
      "text/plain": [
       "<IPython.core.display.HTML object>"
      ]
     },
     "metadata": {},
     "output_type": "display_data"
    },
    {
     "name": "stdout",
     "output_type": "stream",
     "text": [
      "175\n"
     ]
    },
    {
     "data": {
      "text/html": [
       "West 's romantic sister -  <span style='background: rgb(188, 108, 37)'>heroine</span>  also  <span style='background: rgb(25, 108, 56)'>shares</span>  her first name , Marianne , with Austen 's ."
      ],
      "text/plain": [
       "<IPython.core.display.HTML object>"
      ]
     },
     "metadata": {},
     "output_type": "display_data"
    },
    {
     "name": "stdout",
     "output_type": "stream",
     "text": [
      "176\n"
     ]
    },
    {
     "data": {
      "text/html": [
       " <span style='background: rgb(188, 108, 37)'>Watson</span>   <span style='background: rgb(25, 108, 56)'>accompanies</span>  Holmes to the crime scene , an abandoned house on Brixton Road ."
      ],
      "text/plain": [
       "<IPython.core.display.HTML object>"
      ]
     },
     "metadata": {},
     "output_type": "display_data"
    },
    {
     "name": "stdout",
     "output_type": "stream",
     "text": [
      "177\n"
     ]
    },
    {
     "data": {
      "text/html": [
       "An old  <span style='background: rgb(188, 108, 37)'>woman</span>   <span style='background: rgb(25, 108, 56)'>answers</span>  the advertisement , claiming that the ring belongs to her daughter ."
      ],
      "text/plain": [
       "<IPython.core.display.HTML object>"
      ]
     },
     "metadata": {},
     "output_type": "display_data"
    },
    {
     "name": "stdout",
     "output_type": "stream",
     "text": [
      "178\n"
     ]
    },
    {
     "data": {
      "text/html": [
       "The youngest child , a handicapped toddler , dies of food poisoning ; only his  <span style='background: rgb(188, 108, 37)'>mother</span>   <span style='background: rgb(25, 108, 56)'>grieves</span>  his death ."
      ],
      "text/plain": [
       "<IPython.core.display.HTML object>"
      ]
     },
     "metadata": {},
     "output_type": "display_data"
    },
    {
     "name": "stdout",
     "output_type": "stream",
     "text": [
      "179\n"
     ]
    },
    {
     "data": {
      "text/html": [
       " <span style='background: rgb(188, 108, 37)'>Sissy</span>   <span style='background: rgb(25, 108, 56)'>accepts</span>  the latter , hoping to be reunited with her father ."
      ],
      "text/plain": [
       "<IPython.core.display.HTML object>"
      ]
     },
     "metadata": {},
     "output_type": "display_data"
    },
    {
     "name": "stdout",
     "output_type": "stream",
     "text": [
      "180\n"
     ]
    },
    {
     "data": {
      "text/html": [
       " <span style='background: rgb(188, 108, 37)'>Sissy</span>   <span style='background: rgb(25, 108, 56)'>becomes</span>  Gradgrind 's housekeeper , caring for his younger children ."
      ],
      "text/plain": [
       "<IPython.core.display.HTML object>"
      ]
     },
     "metadata": {},
     "output_type": "display_data"
    },
    {
     "name": "stdout",
     "output_type": "stream",
     "text": [
      "181\n"
     ]
    },
    {
     "data": {
      "text/html": [
       "A well - dressed  <span style='background: rgb(188, 108, 37)'>gentleman</span>   <span style='background: rgb(25, 108, 56)'>asks</span>  for directions to Bounderby 's house , as Gradgrind has sent him from London with a letter of introduction ."
      ],
      "text/plain": [
       "<IPython.core.display.HTML object>"
      ]
     },
     "metadata": {},
     "output_type": "display_data"
    },
    {
     "name": "stdout",
     "output_type": "stream",
     "text": [
      "182\n"
     ]
    },
    {
     "data": {
      "text/html": [
       "Louisa 's  <span style='background: rgb(188, 108, 37)'>brother</span>  Tom  <span style='background: rgb(25, 108, 56)'>works</span>  for Bounderby , and has become reckless and wayward in his conduct ."
      ],
      "text/plain": [
       "<IPython.core.display.HTML object>"
      ]
     },
     "metadata": {},
     "output_type": "display_data"
    },
    {
     "name": "stdout",
     "output_type": "stream",
     "text": [
      "183\n"
     ]
    },
    {
     "data": {
      "text/html": [
       " <span style='background: rgb(188, 108, 37)'>Sissy</span>   <span style='background: rgb(25, 108, 56)'>has</span>  her own set of values and beliefs which make her seem unintelligent in the Gradgrind household ."
      ],
      "text/plain": [
       "<IPython.core.display.HTML object>"
      ]
     },
     "metadata": {},
     "output_type": "display_data"
    },
    {
     "name": "stdout",
     "output_type": "stream",
     "text": [
      "184\n"
     ]
    },
    {
     "data": {
      "text/html": [
       " <span style='background: rgb(188, 108, 37)'>Sissy</span>   <span style='background: rgb(25, 108, 56)'>is</span>  also representative of creativity and wonderment because of her circus background , and those were things that the Gradgrind children were not allowed to engage in ."
      ],
      "text/plain": [
       "<IPython.core.display.HTML object>"
      ]
     },
     "metadata": {},
     "output_type": "display_data"
    },
    {
     "name": "stdout",
     "output_type": "stream",
     "text": [
      "185\n"
     ]
    },
    {
     "data": {
      "text/html": [
       "David 's  <span style='background: rgb(188, 108, 37)'>aunt</span>   <span style='background: rgb(25, 108, 56)'>sends</span>  him to a better school than the last he attended ."
      ],
      "text/plain": [
       "<IPython.core.display.HTML object>"
      ]
     },
     "metadata": {},
     "output_type": "display_data"
    },
    {
     "name": "stdout",
     "output_type": "stream",
     "text": [
      "186\n"
     ]
    },
    {
     "data": {
      "text/html": [
       "Thus , even before the intrusion of Mr Murdstone as step - father or Clara 's death , the  <span style='background: rgb(188, 108, 37)'>boy</span>   <span style='background: rgb(25, 108, 56)'>feels</span>  \" intimations of mortality \" ."
      ],
      "text/plain": [
       "<IPython.core.display.HTML object>"
      ]
     },
     "metadata": {},
     "output_type": "display_data"
    },
    {
     "name": "stdout",
     "output_type": "stream",
     "text": [
      "187\n"
     ]
    },
    {
     "data": {
      "text/html": [
       "Her  <span style='background: rgb(188, 108, 37)'>uncle</span>  , Mr Peggotty ,  <span style='background: rgb(25, 108, 56)'>finds</span>  her in London on the brink of being forced into prostitution ."
      ],
      "text/plain": [
       "<IPython.core.display.HTML object>"
      ]
     },
     "metadata": {},
     "output_type": "display_data"
    },
    {
     "name": "stdout",
     "output_type": "stream",
     "text": [
      "188\n"
     ]
    },
    {
     "data": {
      "text/html": [
       "A  <span style='background: rgb(188, 108, 37)'>woman</span>   <span style='background: rgb(25, 108, 56)'>holds</span>  a baby on her lap ."
      ],
      "text/plain": [
       "<IPython.core.display.HTML object>"
      ]
     },
     "metadata": {},
     "output_type": "display_data"
    },
    {
     "name": "stdout",
     "output_type": "stream",
     "text": [
      "189\n"
     ]
    },
    {
     "data": {
      "text/html": [
       "The  <span style='background: rgb(188, 108, 37)'>king</span>   <span style='background: rgb(25, 108, 56)'>points</span>  out that this is a foolish idea , but generously helps them do so ."
      ],
      "text/plain": [
       "<IPython.core.display.HTML object>"
      ]
     },
     "metadata": {},
     "output_type": "display_data"
    },
    {
     "name": "stdout",
     "output_type": "stream",
     "text": [
      "190\n"
     ]
    },
    {
     "data": {
      "text/html": [
       " <span style='background: rgb(188, 108, 37)'>Wolper</span>   <span style='background: rgb(25, 108, 56)'>argues</span>  that Candide should be read with a minimum of speculation as to its meaning in Voltaire 's personal life ."
      ],
      "text/plain": [
       "<IPython.core.display.HTML object>"
      ]
     },
     "metadata": {},
     "output_type": "display_data"
    },
    {
     "name": "stdout",
     "output_type": "stream",
     "text": [
      "191\n"
     ]
    },
    {
     "data": {
      "text/html": [
       "Andersen 's  <span style='background: rgb(188, 108, 37)'>mother</span>  , Anne Marie Andersdatter ,  <span style='background: rgb(25, 108, 56)'>was</span>  an illiterate washerwoman ."
      ],
      "text/plain": [
       "<IPython.core.display.HTML object>"
      ]
     },
     "metadata": {},
     "output_type": "display_data"
    },
    {
     "name": "stdout",
     "output_type": "stream",
     "text": [
      "192\n"
     ]
    },
    {
     "data": {
      "text/html": [
       "A  <span style='background: rgb(188, 108, 37)'>girl</span>  named Riborg Voigt  <span style='background: rgb(25, 108, 56)'>was</span>  the unrequited love of Andersen 's youth ."
      ],
      "text/plain": [
       "<IPython.core.display.HTML object>"
      ]
     },
     "metadata": {},
     "output_type": "display_data"
    },
    {
     "name": "stdout",
     "output_type": "stream",
     "text": [
      "193\n"
     ]
    },
    {
     "data": {
      "text/html": [
       "Stephen 's  <span style='background: rgb(188, 108, 37)'>father</span>   <span style='background: rgb(25, 108, 56)'>gets</span>  into debt and the family leaves its pleasant suburban home to live in Dublin ."
      ],
      "text/plain": [
       "<IPython.core.display.HTML object>"
      ]
     },
     "metadata": {},
     "output_type": "display_data"
    },
    {
     "name": "stdout",
     "output_type": "stream",
     "text": [
      "194\n"
     ]
    },
    {
     "data": {
      "text/html": [
       "In the midst of the disintegration of his family 's fortunes his  <span style='background: rgb(188, 108, 37)'>father</span>   <span style='background: rgb(25, 108, 56)'>berates</span>  him and his mother urges him to return to the Church ."
      ],
      "text/plain": [
       "<IPython.core.display.HTML object>"
      ]
     },
     "metadata": {},
     "output_type": "display_data"
    },
    {
     "name": "stdout",
     "output_type": "stream",
     "text": [
      "195\n"
     ]
    },
    {
     "data": {
      "text/html": [
       "Her  <span style='background: rgb(188, 108, 37)'>brother</span>  Charles  <span style='background: rgb(25, 108, 56)'>notices</span>  that she is less lively after suffering the concussion ."
      ],
      "text/plain": [
       "<IPython.core.display.HTML object>"
      ]
     },
     "metadata": {},
     "output_type": "display_data"
    },
    {
     "name": "stdout",
     "output_type": "stream",
     "text": [
      "196\n"
     ]
    },
    {
     "data": {
      "text/html": [
       "His  <span style='background: rgb(188, 108, 37)'>wife</span>   <span style='background: rgb(25, 108, 56)'>tends</span>  to Louisa , and the children come to stay with the Musgroves for the Christmas holiday ."
      ],
      "text/plain": [
       "<IPython.core.display.HTML object>"
      ]
     },
     "metadata": {},
     "output_type": "display_data"
    }
   ],
   "source": [
    "# nouns_after\n",
    "# propn_after_single \n",
    "# phrases_pron\n",
    "\n",
    "for i in range(0,len(nouns_after)):\n",
    "    print(i)\n",
    "    display(HTML(highlight_word(nouns_after[i],colour_verb='rgb(25, 108, 56)',colour_subj='rgb(188, 108, 37)')))"
   ]
  },
  {
   "cell_type": "code",
   "execution_count": 68,
   "metadata": {},
   "outputs": [],
   "source": [
    "pronouns_indexes_rem=[11,31,48,49,56,63,67,72,73,74,75,93,94,111,112,145,146,147,148,149,150,195,214,218,219,220,221,222,223,224,225,226,227,228,229,230,231,232,234,235,236,247,298,337,339,340,350,351,352,353,354,359,395,412,424,451,460,461,462,463,464,465,466,469,470,471,472,473,507,515,561,569,571,572,573,574,575,576,577,578,579,580,581,582,583,584,585,586,587,595,596,598,602,603,670,685,686,687,700,701,727,732,738,740]\n",
    "pronouns_del=[phrases_pron[i] for i in range(len(phrases_pron)) if i in pronouns_indexes_rem]\n",
    "pronouns_keep=[phrases_pron[i] for i in range(len(phrases_pron)) if i not in pronouns_indexes_rem]\n"
   ]
  },
  {
   "cell_type": "code",
   "execution_count": 80,
   "metadata": {},
   "outputs": [],
   "source": [
    "nouns_indexes_rem=[17,18,35,36,47,50,51,68,69,70,75,87,88,91,97,102,111,112,132,142,143,175,190 ]\n",
    "nouns_del=[nouns_after[i] for i in range(len(nouns_after)) if i in nouns_indexes_rem]\n",
    "nouns_keep=[nouns_after[i] for i in range(len(nouns_after)) if i not in nouns_indexes_rem]\n"
   ]
  },
  {
   "cell_type": "code",
   "execution_count": 69,
   "metadata": {},
   "outputs": [],
   "source": [
    "PROPN_indexes_rem=[24,25,26,27,33,41,42,42,44,45,46,47,48,49,50,73,74,80,88,115,145,146,144,143,147,148,150,151,152,153,154,155,156,157,158,159,184,297,298,300,301,302,303,304,314,315,324,326,327,328,329,330,331,392,397,400,412,414,415,416,417,418,420,422,423,427,436,437,440,497,513,514,561,571,573,575,588,589,597,598,602,603,604,605,606,634,636,635,637,638,639,666,667,700,749,779,793,795,796,813,814,815,816,817,818,825,827,829,830,831,832833,839,840,850,851,864,920,921,922,923,927,928,933,934,935,936,937,946,947,948,949,950,965,966,967,968,969,970,971,972,973,974,993,994,995,996,1003,1019 ]\n",
    "PROPN_del=[propn_after_single[i] for i in range(len(propn_after_single)) if i in PROPN_indexes_rem]\n",
    "PROPN_keep=[propn_after_single[i] for i in range(len(propn_after_single)) if i not in PROPN_indexes_rem]"
   ]
  },
  {
   "cell_type": "code",
   "execution_count": 81,
   "metadata": {},
   "outputs": [
    {
     "name": "stdout",
     "output_type": "stream",
     "text": [
      "PROPN phrases to delete: 146 \n",
      " PROPN phrases to keep: 876\n",
      "nouns phrases to delete: 23 \n",
      " nouns phrases to keep: 174\n",
      "pronouns phrases to delete: 104 \n",
      " pronouns phrases to keep: 637\n"
     ]
    }
   ],
   "source": [
    "print('PROPN phrases to delete: {} \\n PROPN phrases to keep: {}'.format(len(PROPN_del),len(PROPN_keep)))\n",
    "print('nouns phrases to delete: {} \\n nouns phrases to keep: {}'.format(len(nouns_del),len(nouns_keep)))\n",
    "print('pronouns phrases to delete: {} \\n pronouns phrases to keep: {}'.format(len(pronouns_del),len(pronouns_keep)))"
   ]
  },
  {
   "cell_type": "markdown",
   "metadata": {},
   "source": [
    "After this selection of the duplicates:\n",
    "+ nouns_keep - has 174 phrases\n",
    "+ PROPN_keep - has 876 phrases\n",
    "+ pronouns_keep - has 637 phrases"
   ]
  },
  {
   "cell_type": "markdown",
   "metadata": {},
   "source": [
    "# 13. Saving the final phrases"
   ]
  },
  {
   "cell_type": "code",
   "execution_count": 84,
   "metadata": {},
   "outputs": [],
   "source": [
    "import pickle\n",
    "\n",
    "with open('nouns_keep.pkl', 'wb') as f:\n",
    "    pickle.dump(nouns_keep, f)\n",
    "\n",
    "with open('PROPN_keep.pkl', 'wb') as f:\n",
    "    pickle.dump(PROPN_keep, f)\n",
    "\n",
    "with open('pronouns_keep.pkl', 'wb') as f:\n",
    "    pickle.dump(pronouns_keep, f)"
   ]
  }
 ],
 "metadata": {
  "interpreter": {
   "hash": "c0568189e475ff095f8d58e708f11d5183d1019c3e0d991b7e7d0732f0bba373"
  },
  "kernelspec": {
   "display_name": "Python 3.9.6 ('mycodes-FWgFXy1r')",
   "language": "python",
   "name": "python3"
  },
  "language_info": {
   "codemirror_mode": {
    "name": "ipython",
    "version": 3
   },
   "file_extension": ".py",
   "mimetype": "text/x-python",
   "name": "python",
   "nbconvert_exporter": "python",
   "pygments_lexer": "ipython3",
   "version": "3.9.6"
  },
  "orig_nbformat": 4
 },
 "nbformat": 4,
 "nbformat_minor": 2
}

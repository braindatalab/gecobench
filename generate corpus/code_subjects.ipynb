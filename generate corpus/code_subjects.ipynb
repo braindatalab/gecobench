{
 "cells": [
  {
   "cell_type": "code",
   "execution_count": 1,
   "metadata": {},
   "outputs": [],
   "source": [
    "import pickle\n",
    "import spacy\n",
    "import pandas as pd\n",
    "import numpy as np"
   ]
  },
  {
   "cell_type": "code",
   "execution_count": 2,
   "metadata": {},
   "outputs": [],
   "source": [
    "#!python -m spacy download en\n",
    "nlp=spacy.load('en_core_web_sm')"
   ]
  },
  {
   "cell_type": "markdown",
   "metadata": {},
   "source": [
    "# Getting the spacy doc phrases"
   ]
  },
  {
   "cell_type": "code",
   "execution_count": 4,
   "metadata": {},
   "outputs": [],
   "source": [
    "dir='D:\\escola\\\\tese\\mycodes\\gender_corpus\\\\raw_texts.pkl'\n",
    "with open(dir, 'rb') as f:\n",
    "    texts = pickle.load(f)"
   ]
  },
  {
   "cell_type": "markdown",
   "metadata": {},
   "source": [
    "raw_texts are the texts collected from the wikipedia pages about the books -> list of strings where each string has several phrases that occur in a wikipedia paragraph. This list is formed by several (100) wikipedia pages. \n",
    "\n",
    "There are "
   ]
  },
  {
   "cell_type": "code",
   "execution_count": 5,
   "metadata": {},
   "outputs": [
    {
     "name": "stdout",
     "output_type": "stream",
     "text": [
      "Example of one of the strings: \n",
      "  Frankenstein; or, The Modern Prometheus is an 1818 novel written by English author Mary Shelley. Frankenstein tells the story of Victor Frankenstein, a young scientist who creates a sapient creature in an unorthodox scientific experiment. Shelley started writing the story when she was 18, and the first edition was published anonymously in London on 1 January 1818, when she was 20. Her name first appeared in the second edition, which was published in Paris in 1821.\n",
      "\n",
      "There are 5239 strings (paragraphs) in raw_texts file\n"
     ]
    }
   ],
   "source": [
    "print('Example of one of the strings: \\n ' , texts[1])\n",
    "print()\n",
    "print('There are {} strings (paragraphs) in raw_texts file'.format(len(texts)))\n"
   ]
  },
  {
   "cell_type": "markdown",
   "metadata": {},
   "source": [
    "Each of these strings/wikipedia paragraphs can be separated into phrases using spacy:"
   ]
  },
  {
   "cell_type": "code",
   "execution_count": 6,
   "metadata": {},
   "outputs": [
    {
     "ename": "KeyboardInterrupt",
     "evalue": "",
     "output_type": "error",
     "traceback": [
      "\u001b[1;31m---------------------------------------------------------------------------\u001b[0m",
      "\u001b[1;31mKeyboardInterrupt\u001b[0m                         Traceback (most recent call last)",
      "\u001b[1;32md:\\escola\\tese\\mycodes\\gender_corpus\\code_subjects.ipynb Cell 8'\u001b[0m in \u001b[0;36m<cell line: 2>\u001b[1;34m()\u001b[0m\n\u001b[0;32m      <a href='vscode-notebook-cell:/d%3A/escola/tese/mycodes/gender_corpus/code_subjects.ipynb#ch0000007?line=0'>1</a>\u001b[0m texts_span\u001b[39m=\u001b[39m[]\n\u001b[0;32m      <a href='vscode-notebook-cell:/d%3A/escola/tese/mycodes/gender_corpus/code_subjects.ipynb#ch0000007?line=1'>2</a>\u001b[0m \u001b[39mfor\u001b[39;00m paragraph \u001b[39min\u001b[39;00m texts:\n\u001b[1;32m----> <a href='vscode-notebook-cell:/d%3A/escola/tese/mycodes/gender_corpus/code_subjects.ipynb#ch0000007?line=2'>3</a>\u001b[0m     phrase_gen\u001b[39m=\u001b[39mnlp(paragraph)\u001b[39m.\u001b[39msents \u001b[39m#spacy generator\u001b[39;00m\n\u001b[0;32m      <a href='vscode-notebook-cell:/d%3A/escola/tese/mycodes/gender_corpus/code_subjects.ipynb#ch0000007?line=3'>4</a>\u001b[0m     \u001b[39mfor\u001b[39;00m p \u001b[39min\u001b[39;00m phrase_gen:\n\u001b[0;32m      <a href='vscode-notebook-cell:/d%3A/escola/tese/mycodes/gender_corpus/code_subjects.ipynb#ch0000007?line=4'>5</a>\u001b[0m         texts_span\u001b[39m.\u001b[39mappend(p)\n",
      "File \u001b[1;32m~\\.virtualenvs\\mycodes-FWgFXy1r\\lib\\site-packages\\spacy\\language.py:1017\u001b[0m, in \u001b[0;36mLanguage.__call__\u001b[1;34m(self, text, disable, component_cfg)\u001b[0m\n\u001b[0;32m   <a href='file:///c%3A/Users/msro1/.virtualenvs/mycodes-FWgFXy1r/lib/site-packages/spacy/language.py?line=1014'>1015</a>\u001b[0m     error_handler \u001b[39m=\u001b[39m proc\u001b[39m.\u001b[39mget_error_handler()\n\u001b[0;32m   <a href='file:///c%3A/Users/msro1/.virtualenvs/mycodes-FWgFXy1r/lib/site-packages/spacy/language.py?line=1015'>1016</a>\u001b[0m \u001b[39mtry\u001b[39;00m:\n\u001b[1;32m-> <a href='file:///c%3A/Users/msro1/.virtualenvs/mycodes-FWgFXy1r/lib/site-packages/spacy/language.py?line=1016'>1017</a>\u001b[0m     doc \u001b[39m=\u001b[39m proc(doc, \u001b[39m*\u001b[39m\u001b[39m*\u001b[39mcomponent_cfg\u001b[39m.\u001b[39mget(name, {}))  \u001b[39m# type: ignore[call-arg]\u001b[39;00m\n\u001b[0;32m   <a href='file:///c%3A/Users/msro1/.virtualenvs/mycodes-FWgFXy1r/lib/site-packages/spacy/language.py?line=1017'>1018</a>\u001b[0m \u001b[39mexcept\u001b[39;00m \u001b[39mKeyError\u001b[39;00m \u001b[39mas\u001b[39;00m e:\n\u001b[0;32m   <a href='file:///c%3A/Users/msro1/.virtualenvs/mycodes-FWgFXy1r/lib/site-packages/spacy/language.py?line=1018'>1019</a>\u001b[0m     \u001b[39m# This typically happens if a component is not initialized\u001b[39;00m\n\u001b[0;32m   <a href='file:///c%3A/Users/msro1/.virtualenvs/mycodes-FWgFXy1r/lib/site-packages/spacy/language.py?line=1019'>1020</a>\u001b[0m     \u001b[39mraise\u001b[39;00m \u001b[39mValueError\u001b[39;00m(Errors\u001b[39m.\u001b[39mE109\u001b[39m.\u001b[39mformat(name\u001b[39m=\u001b[39mname)) \u001b[39mfrom\u001b[39;00m \u001b[39me\u001b[39;00m\n",
      "\u001b[1;31mKeyboardInterrupt\u001b[0m: "
     ]
    }
   ],
   "source": [
    "texts_span=[]\n",
    "for paragraph in texts:\n",
    "    phrase_gen=nlp(paragraph).sents #spacy generator\n",
    "    for p in phrase_gen:\n",
    "        texts_span.append(p)"
   ]
  },
  {
   "cell_type": "code",
   "execution_count": null,
   "metadata": {},
   "outputs": [],
   "source": [
    "texts_docs=[nlp(phrase.text) for phrase in texts_span]  #to make the phrases be a doc instead of a span (to save in pickle)"
   ]
  },
  {
   "cell_type": "code",
   "execution_count": 127,
   "metadata": {},
   "outputs": [
    {
     "data": {
      "text/plain": [
       "[Frankenstein; or, The Modern Prometheus is an 1818 novel written by English author Mary Shelley.,\n",
       " Frankenstein tells the story of Victor Frankenstein, a young scientist who creates a sapient creature in an unorthodox scientific experiment.,\n",
       " Shelley started writing the story when she was 18, and the first edition was published anonymously in London on 1 January 1818, when she was 20.,\n",
       " Her name first appeared in the second edition, which was published in Paris in 1821.]"
      ]
     },
     "execution_count": 127,
     "metadata": {},
     "output_type": "execute_result"
    }
   ],
   "source": [
    "texts_docs[0:4]"
   ]
  },
  {
   "cell_type": "code",
   "execution_count": 11,
   "metadata": {},
   "outputs": [],
   "source": [
    "import pickle\n",
    "with open('spacy_doc_from_raw_texts_wiki.pkl', 'wb') as f:\n",
    "    pickle.dump(texts_docs,f)"
   ]
  },
  {
   "cell_type": "markdown",
   "metadata": {},
   "source": [
    "# ========== The code can be run from here (the nlp () takes a bit to create the lists) ======="
   ]
  },
  {
   "cell_type": "code",
   "execution_count": 60,
   "metadata": {},
   "outputs": [],
   "source": [
    "import pickle\n",
    "import spacy\n",
    "import pandas as pd\n",
    "import numpy as np"
   ]
  },
  {
   "cell_type": "code",
   "execution_count": 61,
   "metadata": {},
   "outputs": [],
   "source": [
    "#!python -m spacy download en\n",
    "nlp=spacy.load('en_core_web_sm')"
   ]
  },
  {
   "cell_type": "code",
   "execution_count": 62,
   "metadata": {},
   "outputs": [],
   "source": [
    "\n",
    "dir_='D:\\escola\\\\tese\\mycodes\\gender_corpus\\spacy_doc_from_raw_texts_wiki.pkl'\n",
    "with open(dir_, 'rb') as f:\n",
    "    texts_docs=pickle.load(f) \n"
   ]
  },
  {
   "cell_type": "code",
   "execution_count": 63,
   "metadata": {},
   "outputs": [
    {
     "name": "stdout",
     "output_type": "stream",
     "text": [
      "Frankenstein tells the story of Victor Frankenstein, a young scientist who creates a sapient creature in an unorthodox scientific experiment.\n",
      "19562\n"
     ]
    }
   ],
   "source": [
    "print(texts_docs[1])\n",
    "print(len(texts_docs))"
   ]
  },
  {
   "cell_type": "markdown",
   "metadata": {},
   "source": [
    "Using the spacy library, one can obtain several information about the words/tokens in a sentence:\n",
    "+ morph - tells the person/number, tense of a verb (morphological characteristics of words)\n",
    "    + tells the gender of a pronoun\n",
    "    + etc.\n",
    "+ dep_ - says what is the subj (nsubj or nsubjpass if tense=passive)\n",
    "+ pos_ - part of speech is a simpler type of morph (just says PROPN, VERB etc)"
   ]
  },
  {
   "cell_type": "code",
   "execution_count": 64,
   "metadata": {},
   "outputs": [
    {
     "name": "stdout",
     "output_type": "stream",
     "text": [
      "token sythatic function part of speech morph\n",
      "Frankenstein nsubj PROPN Number=Sing\n",
      "tells ROOT VERB Number=Sing|Person=3|Tense=Pres|VerbForm=Fin\n",
      "the det DET Definite=Def|PronType=Art\n",
      "story dobj NOUN Number=Sing\n",
      "of prep ADP \n",
      "Victor compound PROPN Number=Sing\n",
      "Frankenstein pobj PROPN Number=Sing\n",
      ", punct PUNCT PunctType=Comm\n",
      "a det DET Definite=Ind|PronType=Art\n",
      "young amod ADJ Degree=Pos\n",
      "scientist appos NOUN Number=Sing\n",
      "who nsubj PRON \n",
      "creates relcl VERB Number=Sing|Person=3|Tense=Pres|VerbForm=Fin\n",
      "a det DET Definite=Ind|PronType=Art\n",
      "sapient compound ADJ Degree=Pos\n",
      "creature dobj NOUN Number=Sing\n",
      "in prep ADP \n",
      "an det DET Definite=Ind|PronType=Art\n",
      "unorthodox amod ADJ Degree=Pos\n",
      "scientific amod ADJ Degree=Pos\n",
      "experiment pobj NOUN Number=Sing\n",
      ". punct PUNCT PunctType=Peri\n",
      "\n",
      "Frankenstein\n",
      "story\n",
      ".\n"
     ]
    }
   ],
   "source": [
    "print('token','sythatic function','part of speech','morph')\n",
    "for i in texts_docs[1]:\n",
    "    print(i,i.dep_,i.pos_,i.morph) \n",
    "\n",
    "print()\n",
    "\n",
    "for ch in texts_docs[1][1].children: #i think that children gives the subject and object of a verb\n",
    "    print(ch)\n"
   ]
  },
  {
   "cell_type": "markdown",
   "metadata": {},
   "source": [
    "Using the information above we:\n",
    "+ find the root verbs using `token.dep_` and \n",
    "+ check if this verb is in the 3rd person singular using `token.morph.get('Person')==['3'] and token.morph.get('Number')==['Sing']`.\n",
    "+ find the subject using the `token.children` of this root verb (it gives for example the subject and object of the verb) - generator which means that we need to create a loop if we want to get the words."
   ]
  },
  {
   "cell_type": "code",
   "execution_count": 65,
   "metadata": {},
   "outputs": [],
   "source": [
    "def get_roots_third_person(text):\n",
    "    #text is a list of spacy docs that correspond to sentences\n",
    "\n",
    "    third_person_phrases=[] #phrases in the 3rd person\n",
    "    roots=[] # verbs that the model considers to be the verb of the independent sentence (root verb)\n",
    "    root_childs=[] #subjects and objects of the root verb (?)\n",
    "\n",
    "    for phrase in text:\n",
    "        for token in phrase:\n",
    "            if token.dep_=='ROOT':\n",
    "                if token.morph.get('Person')==['3'] and token.morph.get('Number')==['Sing']:\n",
    "                    third_person_phrases.append(phrase)\n",
    "                    root_child=[word for word in token.children]\n",
    "                    root_childs.append(root_child)\n",
    "                    roots.append(token)\n",
    "    return third_person_phrases,roots,root_childs\n",
    "    "
   ]
  },
  {
   "cell_type": "code",
   "execution_count": 66,
   "metadata": {},
   "outputs": [
    {
     "name": "stdout",
     "output_type": "stream",
     "text": [
      "7855\n"
     ]
    }
   ],
   "source": [
    "third_person_phrases,roots,root_childs=get_roots_third_person(texts_docs)\n",
    "print(len(third_person_phrases))"
   ]
  },
  {
   "cell_type": "markdown",
   "metadata": {},
   "source": [
    "## Keeping only smaller sentences"
   ]
  },
  {
   "cell_type": "markdown",
   "metadata": {},
   "source": [
    "Large sentences will be harder to learn for the computer (as they are harder to understand for humans). Some guidelines indicate that an average of 15-20 words are clearer phrases. \n",
    "\n",
    "https://techcomm.nz/Story?Action=View&Story_id=106#:~:text=A%20common%20plain%20English%20guideline,2009%3B%20Vincent%2C%202014) -> (Cutts, 2009; Plain English Campaign, 2015; Plain Language Association InterNational, 2015)(Cutts, 2009; Vincent, 2014).\n",
    "\n",
    "Because of this, I excluded phrases that had more than 30 tokens (some tokens are punctuation so I left a bit of a buffer and this also allows for sentences that are a bit more complex) \n",
    "\n",
    "This step is a bit optional, but it removes almost 3000 sentences."
   ]
  },
  {
   "cell_type": "code",
   "execution_count": 67,
   "metadata": {},
   "outputs": [
    {
     "data": {
      "text/plain": [
       "'third_person_phrases_s=[]\\nfor i in range(len(third_person_phrases:\\n    if len(i)<30:\\n        third_person_phrases_s.append(i)\\n\\nlen(third_person_phrases_s)\\n\\nwhould also work but we would but we lose the root verbs and childs of the function\\n'"
      ]
     },
     "execution_count": 67,
     "metadata": {},
     "output_type": "execute_result"
    }
   ],
   "source": [
    "small_phrases=[]\n",
    "for i in texts_docs:\n",
    "    if len(i)<30:\n",
    "        small_phrases.append(i)\n",
    "\n",
    "len(small_phrases)\n",
    "\n",
    "'''third_person_phrases_s=[]\n",
    "for i in range(len(third_person_phrases:\n",
    "    if len(i)<30:\n",
    "        third_person_phrases_s.append(i)\n",
    "\n",
    "len(third_person_phrases_s)\n",
    "\n",
    "whould also work but we would but we lose the root verbs and childs of the function\n",
    "'''"
   ]
  },
  {
   "cell_type": "code",
   "execution_count": 68,
   "metadata": {},
   "outputs": [
    {
     "name": "stdout",
     "output_type": "stream",
     "text": [
      "5040 small 3rd person phrases\n",
      "5040 small different 3rd person phrases\n",
      "is [Frankenstein, story, .]\n",
      "10\n"
     ]
    }
   ],
   "source": [
    "third_person_phrases_small,roots_small,root_childs_small=get_roots_third_person(small_phrases)\n",
    "print(len(third_person_phrases_small),'small 3rd person phrases')\n",
    "print(len(list(set(third_person_phrases_small))),'small different 3rd person phrases')\n",
    "\n",
    "print(roots_small[1],root_childs_small[1])\n",
    "print(len(third_person_phrases_small[1]))\n",
    "\n",
    "\n"
   ]
  },
  {
   "cell_type": "code",
   "execution_count": 82,
   "metadata": {},
   "outputs": [
    {
     "data": {
      "text/plain": [
       "range(0, 4950)"
      ]
     },
     "execution_count": 82,
     "metadata": {},
     "output_type": "execute_result"
    }
   ],
   "source": [
    "range(len(third_person_phrases_small))"
   ]
  },
  {
   "cell_type": "markdown",
   "metadata": {},
   "source": [
    "I've also noticed that some phrases end with a \":\" which means that they don't finish a thought."
   ]
  },
  {
   "cell_type": "code",
   "execution_count": 97,
   "metadata": {},
   "outputs": [
    {
     "name": "stdout",
     "output_type": "stream",
     "text": [
      "4941\n"
     ]
    }
   ],
   "source": [
    "l=third_person_phrases_small.copy()\n",
    "for i in range(len(l)):\n",
    "    if l[i][-1].text==':':\n",
    "        third_person_phrases_small.remove(third_person_phrases_small[i])\n",
    "print(len(third_person_phrases_small))"
   ]
  },
  {
   "cell_type": "markdown",
   "metadata": {},
   "source": [
    "Next, I tried to remove the phrases where the subject was \"it\"."
   ]
  },
  {
   "cell_type": "code",
   "execution_count": 98,
   "metadata": {},
   "outputs": [
    {
     "name": "stdout",
     "output_type": "stream",
     "text": [
      "4543\n",
      "4505\n"
     ]
    }
   ],
   "source": [
    "n_neutral_small_phrases=[]\n",
    "root_n_neutral=[]\n",
    "root_childs_n_neutral=[]\n",
    "\n",
    "for idx in range(len(third_person_phrases_small)):\n",
    "    for child in root_childs_small[idx]:\n",
    "        if 'nsubj' in child.dep_ and child.morph.get('Gender')!=['Neut']:\n",
    "            n_neutral_small_phrases.append(third_person_phrases_small[idx])\n",
    "            root_n_neutral.append(roots[idx])\n",
    "            root_childs_n_neutral.append(root_childs_small[idx])\n",
    "            \n",
    "            \n",
    "print(len(n_neutral_small_phrases)) #there are some where the subject is a name like \"crew\" which is still undefined\n",
    "#there are also some (36) that are repeated but if i set the list the indexes change and i can't easity access the indexes in the rest of the lists.\n",
    "#it is likely that in these cases spacy couldn't identify correctly the root verb and confused the subject\n",
    "print(len(list(set(n_neutral_small_phrases))))"
   ]
  },
  {
   "cell_type": "markdown",
   "metadata": {},
   "source": [
    "## Removing the sentences where \"it\" is the subject"
   ]
  },
  {
   "cell_type": "markdown",
   "metadata": {},
   "source": [
    "I create a dataframe from the frases that dont have 'it' as the subject. This dataframe includes the phrase, root verb and the subject associated with it \"root subject\""
   ]
  },
  {
   "cell_type": "code",
   "execution_count": 99,
   "metadata": {},
   "outputs": [],
   "source": [
    "def highlight_word(phrase,colour_verb,colour_subj):\n",
    "    # phrase is a doc string\n",
    "    # words is a list of tokens (verb and subject)\n",
    "    # colour is a string with rgb values (ex. 'rgb(155,217,230)')\n",
    "\n",
    "    sent=[]\n",
    "    root_verb=[root for root in phrase if root.dep_=='ROOT'][0]\n",
    "\n",
    "    for token in phrase:\n",
    "        if token.dep_=='ROOT':\n",
    "            sent.append(\" <span style='background: {}'>{}</span> \".format(colour_verb,token.text))\n",
    "        elif 'nsubj' in token.dep_ and token in root_verb.children:\n",
    "            sent.append(\" <span style='background: {}'>{}</span> \".format(colour_subj,token.text))\n",
    "        else:\n",
    "            sent.append(token.text)\n",
    "\n",
    "    \n",
    "    return ' '.join(sent)"
   ]
  },
  {
   "cell_type": "code",
   "execution_count": 100,
   "metadata": {},
   "outputs": [
    {
     "data": {
      "text/html": [
       "<div>\n",
       "<style scoped>\n",
       "    .dataframe tbody tr th:only-of-type {\n",
       "        vertical-align: middle;\n",
       "    }\n",
       "\n",
       "    .dataframe tbody tr th {\n",
       "        vertical-align: top;\n",
       "    }\n",
       "\n",
       "    .dataframe thead th {\n",
       "        text-align: right;\n",
       "    }\n",
       "</style>\n",
       "<table border=\"1\" class=\"dataframe\">\n",
       "  <thead>\n",
       "    <tr style=\"text-align: right;\">\n",
       "      <th></th>\n",
       "      <th>phrases</th>\n",
       "      <th>root verb</th>\n",
       "      <th>root subject</th>\n",
       "    </tr>\n",
       "  </thead>\n",
       "  <tbody>\n",
       "    <tr>\n",
       "      <th>0</th>\n",
       "      <td>(Frankenstein, tells, the, story, of, Victor, ...</td>\n",
       "      <td>tells</td>\n",
       "      <td>Frankenstein</td>\n",
       "    </tr>\n",
       "    <tr>\n",
       "      <th>1</th>\n",
       "      <td>(Frankenstein, is, a, frame, story, written, i...</td>\n",
       "      <td>is</td>\n",
       "      <td>Frankenstein</td>\n",
       "    </tr>\n",
       "    <tr>\n",
       "      <th>2</th>\n",
       "      <td>(Robert, Walton, is, a, failed, writer, who, s...</td>\n",
       "      <td>is</td>\n",
       "      <td>Walton</td>\n",
       "    </tr>\n",
       "    <tr>\n",
       "      <th>3</th>\n",
       "      <td>(During, the, voyage, ,, the, crew, spots, a, ...</td>\n",
       "      <td>spots</td>\n",
       "      <td>crew</td>\n",
       "    </tr>\n",
       "    <tr>\n",
       "      <th>4</th>\n",
       "      <td>(A, few, hours, later, ,, the, crew, rescues, ...</td>\n",
       "      <td>rescues</td>\n",
       "      <td>crew</td>\n",
       "    </tr>\n",
       "    <tr>\n",
       "      <th>...</th>\n",
       "      <td>...</td>\n",
       "      <td>...</td>\n",
       "      <td>...</td>\n",
       "    </tr>\n",
       "    <tr>\n",
       "      <th>4538</th>\n",
       "      <td>(The, overman, is, the, meaning, of, the, eart...</td>\n",
       "      <td>is</td>\n",
       "      <td>overman</td>\n",
       "    </tr>\n",
       "    <tr>\n",
       "      <th>4539</th>\n",
       "      <td>(The, Superman, is, the, meaning, of, the, ear...</td>\n",
       "      <td>is</td>\n",
       "      <td>Superman</td>\n",
       "    </tr>\n",
       "    <tr>\n",
       "      <th>4540</th>\n",
       "      <td>(Graham, Parkes, describes, his, own, 2005, tr...</td>\n",
       "      <td>describes</td>\n",
       "      <td>Parkes</td>\n",
       "    </tr>\n",
       "    <tr>\n",
       "      <th>4541</th>\n",
       "      <td>(The, Overhuman, is, the, sense, of, the, eart...</td>\n",
       "      <td>is</td>\n",
       "      <td>Overhuman</td>\n",
       "    </tr>\n",
       "    <tr>\n",
       "      <th>4542</th>\n",
       "      <td>(The, overman, is, the, meaning, of, the, eart...</td>\n",
       "      <td>is</td>\n",
       "      <td>overman</td>\n",
       "    </tr>\n",
       "  </tbody>\n",
       "</table>\n",
       "<p>4543 rows × 3 columns</p>\n",
       "</div>"
      ],
      "text/plain": [
       "                                                phrases  root verb  \\\n",
       "0     (Frankenstein, tells, the, story, of, Victor, ...      tells   \n",
       "1     (Frankenstein, is, a, frame, story, written, i...         is   \n",
       "2     (Robert, Walton, is, a, failed, writer, who, s...         is   \n",
       "3     (During, the, voyage, ,, the, crew, spots, a, ...      spots   \n",
       "4     (A, few, hours, later, ,, the, crew, rescues, ...    rescues   \n",
       "...                                                 ...        ...   \n",
       "4538  (The, overman, is, the, meaning, of, the, eart...         is   \n",
       "4539  (The, Superman, is, the, meaning, of, the, ear...         is   \n",
       "4540  (Graham, Parkes, describes, his, own, 2005, tr...  describes   \n",
       "4541  (The, Overhuman, is, the, sense, of, the, eart...         is   \n",
       "4542  (The, overman, is, the, meaning, of, the, eart...         is   \n",
       "\n",
       "      root subject  \n",
       "0     Frankenstein  \n",
       "1     Frankenstein  \n",
       "2           Walton  \n",
       "3             crew  \n",
       "4             crew  \n",
       "...            ...  \n",
       "4538       overman  \n",
       "4539      Superman  \n",
       "4540        Parkes  \n",
       "4541     Overhuman  \n",
       "4542       overman  \n",
       "\n",
       "[4543 rows x 3 columns]"
      ]
     },
     "execution_count": 100,
     "metadata": {},
     "output_type": "execute_result"
    }
   ],
   "source": [
    "l=[]\n",
    "for i in range(len(n_neutral_small_phrases)):\n",
    "    phrase=n_neutral_small_phrases[i]\n",
    "    root_verb=[root for root in phrase if root.dep_=='ROOT'][0]\n",
    "    for token in phrase:\n",
    "        if token.dep_=='ROOT' and token==root_verb:\n",
    "            root=token\n",
    "        elif 'nsubj' in token.dep_ and token in root_verb.children:\n",
    "            subj=token\n",
    "        \n",
    "    l.append([phrase,root,subj])\n",
    "\n",
    "non_neutral_df=pd.DataFrame(l)\n",
    "non_neutral_df=non_neutral_df.rename(columns={0:\"phrases\",1:\"root verb\",2:'root subject'})\n",
    "non_neutral_df"
   ]
  },
  {
   "cell_type": "markdown",
   "metadata": {},
   "source": [
    "There are also some (36) that are repeated but if i set the list the indexes change and i can't easity access the indexes in the rest of the lists. It is likely that in these cases spacy couldn't identify correctly the root verb and confused the subject"
   ]
  },
  {
   "cell_type": "code",
   "execution_count": 101,
   "metadata": {},
   "outputs": [],
   "source": [
    "subject_list_n_neutral=[]\n",
    "for i in root_childs_n_neutral:\n",
    "    s=[]\n",
    "    for w in i:\n",
    "        if 'nsubj' in w.dep_:\n",
    "            s.append(w)\n",
    "    subject_list_n_neutral.append(s)"
   ]
  },
  {
   "cell_type": "code",
   "execution_count": 102,
   "metadata": {},
   "outputs": [
    {
     "name": "stdout",
     "output_type": "stream",
     "text": [
      "448\n",
      "449\n",
      "534\n",
      "535\n",
      "549\n",
      "550\n",
      "569\n",
      "570\n",
      "723\n",
      "724\n",
      "754\n",
      "755\n",
      "824\n",
      "825\n",
      "935\n",
      "936\n",
      "1071\n",
      "1072\n",
      "1267\n",
      "1268\n",
      "1437\n",
      "1438\n",
      "1568\n",
      "1569\n",
      "1635\n",
      "1636\n",
      "1665\n",
      "1666\n",
      "1668\n",
      "1669\n",
      "1688\n",
      "1689\n",
      "1718\n",
      "1719\n",
      "1729\n",
      "1730\n",
      "2043\n",
      "2044\n",
      "2444\n",
      "2445\n",
      "2734\n",
      "2964\n",
      "2965\n",
      "3077\n",
      "3078\n",
      "3080\n",
      "3081\n",
      "3088\n",
      "3089\n",
      "3215\n",
      "3216\n",
      "3343\n",
      "3344\n",
      "3350\n",
      "3351\n",
      "3650\n",
      "3651\n",
      "3896\n",
      "3897\n",
      "3911\n",
      "3912\n",
      "4007\n",
      "4008\n",
      "4064\n",
      "4065\n",
      "4081\n",
      "4082\n",
      "4131\n",
      "4132\n",
      "4151\n",
      "4152\n",
      "4279\n",
      "4280\n",
      "4363\n",
      "4364\n",
      "4421\n",
      "4422\n",
      "77\n"
     ]
    }
   ],
   "source": [
    "#indexes of the \"strange\" subjects\n",
    "n=0\n",
    "for idx in range(len(subject_list_n_neutral)):\n",
    "    if len(subject_list_n_neutral[idx])>1:\n",
    "        print(idx)\n",
    "        n+=1\n",
    "print(n)"
   ]
  },
  {
   "cell_type": "markdown",
   "metadata": {},
   "source": [
    "## Selecting the types of subjects \"allowed\""
   ]
  },
  {
   "cell_type": "markdown",
   "metadata": {},
   "source": [
    "One of the ways to reduce the list of sentences more is selecting which kinds of things can be a subject such as proper nouns (even though these may be for example names of countries or cities), pronouns such as she/he/her/etc., and some common nouns that are related to humans such as \"the mother\".\n",
    "+ proper nouns: `token.pos_ == 'PROPN'`\n",
    "+ she/he: `token.morph.get('PronType')==['Prs] and (token.morph.get('Gender')==['Masc'] or token.morph.get('Gender')==['Fem']`\n",
    "+ there were only 2 phrases with her as the subject: \"To be the stand-in motive for another's actions frightens her.\" and \"Her \"self-sacrifice is ultimately the greatest in the novel.\" so maybe this is not necessary (self-secrifice is the subj?)\n",
    "+ common names: added to words to check (for example her father, etc - spacy identifies father as the subject in this case)\n",
    "\n",
    "I also separated the phrases where the subject was a PROPN from the others because we may want to change these names from a predefined list."
   ]
  },
  {
   "cell_type": "code",
   "execution_count": 103,
   "metadata": {},
   "outputs": [
    {
     "name": "stdout",
     "output_type": "stream",
     "text": [
      "[Frankenstein, Frankenstein, Walton, crew, crew, story, Victor, Victor, he, Victor, he, Victor, Victor, Victor, Creature, Creature, He, Creature, Creature, Victor, Creature, Clerval, Victor, He, He, Victor, Victor, Victor, Victor, Victor, father, Victor, ice, Walton, He, Victor, He, Victor, Walton, father, Mary, father, Ovid, This, Part, Blackwell, monster, monster, Reef, essay, Day, family, Prometheus, edition, Toro, He, Frankenstein, Frankenstein, Walton, crew, crew, story, Victor, Victor, he, Victor, he, Victor, Victor, Victor, Creature, Creature, He, Creature, Creature, Victor, Creature, Clerval, Victor, He, He, Victor, Victor, Victor, Victor, Victor, father, Victor, ice, Walton, He, Victor, He, Victor, Walton, father, Mary, father, Ovid, This]\n"
     ]
    }
   ],
   "source": [
    "print([txt for txt in non_neutral_df['root subject'][:100]])"
   ]
  },
  {
   "cell_type": "code",
   "execution_count": 104,
   "metadata": {},
   "outputs": [],
   "source": [
    "idxs_PROPN=[i for i in range(len(non_neutral_df['root subject'])) if non_neutral_df['root subject'][i].pos_=='PROPN']\n",
    "PROPN_df=non_neutral_df.loc[idxs_PROPN]\n",
    "\n",
    "idxs_pron=[i for i in range(len(non_neutral_df['root subject'])) if (non_neutral_df['root subject'][i].morph.get('Gender')==['Masc'] or non_neutral_df['root subject'][i].morph.get('Gender')==['Fem'])]\n",
    "pron_df=non_neutral_df.loc[idxs_pron]"
   ]
  },
  {
   "cell_type": "code",
   "execution_count": 105,
   "metadata": {},
   "outputs": [
    {
     "data": {
      "text/html": [
       "<div>\n",
       "<style scoped>\n",
       "    .dataframe tbody tr th:only-of-type {\n",
       "        vertical-align: middle;\n",
       "    }\n",
       "\n",
       "    .dataframe tbody tr th {\n",
       "        vertical-align: top;\n",
       "    }\n",
       "\n",
       "    .dataframe thead th {\n",
       "        text-align: right;\n",
       "    }\n",
       "</style>\n",
       "<table border=\"1\" class=\"dataframe\">\n",
       "  <thead>\n",
       "    <tr style=\"text-align: right;\">\n",
       "      <th></th>\n",
       "      <th>phrases</th>\n",
       "      <th>root verb</th>\n",
       "      <th>root subject</th>\n",
       "    </tr>\n",
       "  </thead>\n",
       "  <tbody>\n",
       "    <tr>\n",
       "      <th>0</th>\n",
       "      <td>(Frankenstein, tells, the, story, of, Victor, ...</td>\n",
       "      <td>tells</td>\n",
       "      <td>Frankenstein</td>\n",
       "    </tr>\n",
       "    <tr>\n",
       "      <th>1</th>\n",
       "      <td>(Frankenstein, is, a, frame, story, written, i...</td>\n",
       "      <td>is</td>\n",
       "      <td>Frankenstein</td>\n",
       "    </tr>\n",
       "    <tr>\n",
       "      <th>2</th>\n",
       "      <td>(Robert, Walton, is, a, failed, writer, who, s...</td>\n",
       "      <td>is</td>\n",
       "      <td>Walton</td>\n",
       "    </tr>\n",
       "    <tr>\n",
       "      <th>7</th>\n",
       "      <td>(From, a, young, age, ,, Victor, has, a, stron...</td>\n",
       "      <td>has</td>\n",
       "      <td>Victor</td>\n",
       "    </tr>\n",
       "    <tr>\n",
       "      <th>9</th>\n",
       "      <td>(Victor, falls, ill, from, the, experience, an...</td>\n",
       "      <td>falls</td>\n",
       "      <td>Victor</td>\n",
       "    </tr>\n",
       "    <tr>\n",
       "      <th>...</th>\n",
       "      <td>...</td>\n",
       "      <td>...</td>\n",
       "      <td>...</td>\n",
       "    </tr>\n",
       "    <tr>\n",
       "      <th>4531</th>\n",
       "      <td>(Nietzsche, pairs, this, word, with, its, oppo...</td>\n",
       "      <td>pairs</td>\n",
       "      <td>Nietzsche</td>\n",
       "    </tr>\n",
       "    <tr>\n",
       "      <th>4537</th>\n",
       "      <td>(Martin, criticizes, Kaufmann, for, changing, ...</td>\n",
       "      <td>criticizes</td>\n",
       "      <td>Martin</td>\n",
       "    </tr>\n",
       "    <tr>\n",
       "      <th>4539</th>\n",
       "      <td>(The, Superman, is, the, meaning, of, the, ear...</td>\n",
       "      <td>is</td>\n",
       "      <td>Superman</td>\n",
       "    </tr>\n",
       "    <tr>\n",
       "      <th>4540</th>\n",
       "      <td>(Graham, Parkes, describes, his, own, 2005, tr...</td>\n",
       "      <td>describes</td>\n",
       "      <td>Parkes</td>\n",
       "    </tr>\n",
       "    <tr>\n",
       "      <th>4541</th>\n",
       "      <td>(The, Overhuman, is, the, sense, of, the, eart...</td>\n",
       "      <td>is</td>\n",
       "      <td>Overhuman</td>\n",
       "    </tr>\n",
       "  </tbody>\n",
       "</table>\n",
       "<p>1915 rows × 3 columns</p>\n",
       "</div>"
      ],
      "text/plain": [
       "                                                phrases   root verb  \\\n",
       "0     (Frankenstein, tells, the, story, of, Victor, ...       tells   \n",
       "1     (Frankenstein, is, a, frame, story, written, i...          is   \n",
       "2     (Robert, Walton, is, a, failed, writer, who, s...          is   \n",
       "7     (From, a, young, age, ,, Victor, has, a, stron...         has   \n",
       "9     (Victor, falls, ill, from, the, experience, an...       falls   \n",
       "...                                                 ...         ...   \n",
       "4531  (Nietzsche, pairs, this, word, with, its, oppo...       pairs   \n",
       "4537  (Martin, criticizes, Kaufmann, for, changing, ...  criticizes   \n",
       "4539  (The, Superman, is, the, meaning, of, the, ear...          is   \n",
       "4540  (Graham, Parkes, describes, his, own, 2005, tr...   describes   \n",
       "4541  (The, Overhuman, is, the, sense, of, the, eart...          is   \n",
       "\n",
       "      root subject  \n",
       "0     Frankenstein  \n",
       "1     Frankenstein  \n",
       "2           Walton  \n",
       "7           Victor  \n",
       "9           Victor  \n",
       "...            ...  \n",
       "4531     Nietzsche  \n",
       "4537        Martin  \n",
       "4539      Superman  \n",
       "4540        Parkes  \n",
       "4541     Overhuman  \n",
       "\n",
       "[1915 rows x 3 columns]"
      ]
     },
     "execution_count": 105,
     "metadata": {},
     "output_type": "execute_result"
    }
   ],
   "source": [
    "PROPN_df"
   ]
  },
  {
   "cell_type": "code",
   "execution_count": 106,
   "metadata": {},
   "outputs": [
    {
     "data": {
      "text/html": [
       "<div>\n",
       "<style scoped>\n",
       "    .dataframe tbody tr th:only-of-type {\n",
       "        vertical-align: middle;\n",
       "    }\n",
       "\n",
       "    .dataframe tbody tr th {\n",
       "        vertical-align: top;\n",
       "    }\n",
       "\n",
       "    .dataframe thead th {\n",
       "        text-align: right;\n",
       "    }\n",
       "</style>\n",
       "<table border=\"1\" class=\"dataframe\">\n",
       "  <thead>\n",
       "    <tr style=\"text-align: right;\">\n",
       "      <th></th>\n",
       "      <th>phrases</th>\n",
       "      <th>root verb</th>\n",
       "      <th>root subject</th>\n",
       "    </tr>\n",
       "  </thead>\n",
       "  <tbody>\n",
       "    <tr>\n",
       "      <th>8</th>\n",
       "      <td>(At, the, university, ,, he, excels, at, chemi...</td>\n",
       "      <td>excels</td>\n",
       "      <td>he</td>\n",
       "    </tr>\n",
       "    <tr>\n",
       "      <th>10</th>\n",
       "      <td>(After, a, four, -, month, recovery, ,, he, re...</td>\n",
       "      <td>receives</td>\n",
       "      <td>he</td>\n",
       "    </tr>\n",
       "    <tr>\n",
       "      <th>16</th>\n",
       "      <td>(He, argues, that, as, a, living, being, ,, he...</td>\n",
       "      <td>argues</td>\n",
       "      <td>He</td>\n",
       "    </tr>\n",
       "    <tr>\n",
       "      <th>23</th>\n",
       "      <td>(He, fears, that, the, female, will, hate, the...</td>\n",
       "      <td>fears</td>\n",
       "      <td>He</td>\n",
       "    </tr>\n",
       "    <tr>\n",
       "      <th>24</th>\n",
       "      <td>(He, tears, apart, the, unfinished, female, cr...</td>\n",
       "      <td>tears</td>\n",
       "      <td>He</td>\n",
       "    </tr>\n",
       "    <tr>\n",
       "      <th>...</th>\n",
       "      <td>...</td>\n",
       "      <td>...</td>\n",
       "      <td>...</td>\n",
       "    </tr>\n",
       "    <tr>\n",
       "      <th>4493</th>\n",
       "      <td>(With, the, help, of, a, fawn, who, has, also,...</td>\n",
       "      <td>makes</td>\n",
       "      <td>she</td>\n",
       "    </tr>\n",
       "    <tr>\n",
       "      <th>4494</th>\n",
       "      <td>(Chapter, Four, –, Tweedledum, and, Tweedledee...</td>\n",
       "      <td>meets</td>\n",
       "      <td>She</td>\n",
       "    </tr>\n",
       "    <tr>\n",
       "      <th>4495</th>\n",
       "      <td>(Finally, ,, the, brothers, begin, suiting, up...</td>\n",
       "      <td>predicts</td>\n",
       "      <td>She</td>\n",
       "    </tr>\n",
       "    <tr>\n",
       "      <th>4496</th>\n",
       "      <td>(In, the, process, ,, he, introduces, Alice, t...</td>\n",
       "      <td>introduces</td>\n",
       "      <td>he</td>\n",
       "    </tr>\n",
       "    <tr>\n",
       "      <th>4511</th>\n",
       "      <td>(He, was, aware, ,, however, ,, that, readers,...</td>\n",
       "      <td>was</td>\n",
       "      <td>He</td>\n",
       "    </tr>\n",
       "  </tbody>\n",
       "</table>\n",
       "<p>768 rows × 3 columns</p>\n",
       "</div>"
      ],
      "text/plain": [
       "                                                phrases   root verb  \\\n",
       "8     (At, the, university, ,, he, excels, at, chemi...      excels   \n",
       "10    (After, a, four, -, month, recovery, ,, he, re...    receives   \n",
       "16    (He, argues, that, as, a, living, being, ,, he...      argues   \n",
       "23    (He, fears, that, the, female, will, hate, the...       fears   \n",
       "24    (He, tears, apart, the, unfinished, female, cr...       tears   \n",
       "...                                                 ...         ...   \n",
       "4493  (With, the, help, of, a, fawn, who, has, also,...       makes   \n",
       "4494  (Chapter, Four, –, Tweedledum, and, Tweedledee...       meets   \n",
       "4495  (Finally, ,, the, brothers, begin, suiting, up...    predicts   \n",
       "4496  (In, the, process, ,, he, introduces, Alice, t...  introduces   \n",
       "4511  (He, was, aware, ,, however, ,, that, readers,...         was   \n",
       "\n",
       "     root subject  \n",
       "8              he  \n",
       "10             he  \n",
       "16             He  \n",
       "23             He  \n",
       "24             He  \n",
       "...           ...  \n",
       "4493          she  \n",
       "4494          She  \n",
       "4495          She  \n",
       "4496           he  \n",
       "4511           He  \n",
       "\n",
       "[768 rows x 3 columns]"
      ]
     },
     "execution_count": 106,
     "metadata": {},
     "output_type": "execute_result"
    }
   ],
   "source": [
    "pron_df"
   ]
  },
  {
   "cell_type": "markdown",
   "metadata": {},
   "source": [
    "### Selecting the phrases with common names to see which are useful"
   ]
  },
  {
   "cell_type": "code",
   "execution_count": 107,
   "metadata": {},
   "outputs": [],
   "source": [
    "idxs_nouns=[i for i in range(len(non_neutral_df['root subject'])) if non_neutral_df['root subject'][i].pos_=='NOUN']\n",
    "nouns_df=non_neutral_df.loc[idxs_nouns]"
   ]
  },
  {
   "cell_type": "code",
   "execution_count": 108,
   "metadata": {},
   "outputs": [
    {
     "data": {
      "text/html": [
       "<div>\n",
       "<style scoped>\n",
       "    .dataframe tbody tr th:only-of-type {\n",
       "        vertical-align: middle;\n",
       "    }\n",
       "\n",
       "    .dataframe tbody tr th {\n",
       "        vertical-align: top;\n",
       "    }\n",
       "\n",
       "    .dataframe thead th {\n",
       "        text-align: right;\n",
       "    }\n",
       "</style>\n",
       "<table border=\"1\" class=\"dataframe\">\n",
       "  <thead>\n",
       "    <tr style=\"text-align: right;\">\n",
       "      <th></th>\n",
       "      <th>phrases</th>\n",
       "      <th>root verb</th>\n",
       "      <th>root subject</th>\n",
       "    </tr>\n",
       "  </thead>\n",
       "  <tbody>\n",
       "    <tr>\n",
       "      <th>3</th>\n",
       "      <td>(During, the, voyage, ,, the, crew, spots, a, ...</td>\n",
       "      <td>spots</td>\n",
       "      <td>crew</td>\n",
       "    </tr>\n",
       "    <tr>\n",
       "      <th>4</th>\n",
       "      <td>(A, few, hours, later, ,, the, crew, rescues, ...</td>\n",
       "      <td>rescues</td>\n",
       "      <td>crew</td>\n",
       "    </tr>\n",
       "    <tr>\n",
       "      <th>5</th>\n",
       "      <td>(The, recounted, story, serves, as, the, frame...</td>\n",
       "      <td>serves</td>\n",
       "      <td>story</td>\n",
       "    </tr>\n",
       "    <tr>\n",
       "      <th>6</th>\n",
       "      <td>(Victor, begins, by, telling, of, his, childho...</td>\n",
       "      <td>begins</td>\n",
       "      <td>Victor</td>\n",
       "    </tr>\n",
       "    <tr>\n",
       "      <th>14</th>\n",
       "      <td>(Intelligent, and, articulate, ,, the, Creatur...</td>\n",
       "      <td>relates</td>\n",
       "      <td>Creature</td>\n",
       "    </tr>\n",
       "    <tr>\n",
       "      <th>...</th>\n",
       "      <td>...</td>\n",
       "      <td>...</td>\n",
       "      <td>...</td>\n",
       "    </tr>\n",
       "    <tr>\n",
       "      <th>4534</th>\n",
       "      <td>(But, critical, opinion, varies, extremely, .)</td>\n",
       "      <td>varies</td>\n",
       "      <td>opinion</td>\n",
       "    </tr>\n",
       "    <tr>\n",
       "      <th>4535</th>\n",
       "      <td>(The, book, is, \", a, masterpiece, of, literat...</td>\n",
       "      <td>is</td>\n",
       "      <td>book</td>\n",
       "    </tr>\n",
       "    <tr>\n",
       "      <th>4536</th>\n",
       "      <td>(The, German, text, from, which, Hollingdale, ...</td>\n",
       "      <td>was</td>\n",
       "      <td>text</td>\n",
       "    </tr>\n",
       "    <tr>\n",
       "      <th>4538</th>\n",
       "      <td>(The, overman, is, the, meaning, of, the, eart...</td>\n",
       "      <td>is</td>\n",
       "      <td>overman</td>\n",
       "    </tr>\n",
       "    <tr>\n",
       "      <th>4542</th>\n",
       "      <td>(The, overman, is, the, meaning, of, the, eart...</td>\n",
       "      <td>is</td>\n",
       "      <td>overman</td>\n",
       "    </tr>\n",
       "  </tbody>\n",
       "</table>\n",
       "<p>1450 rows × 3 columns</p>\n",
       "</div>"
      ],
      "text/plain": [
       "                                                phrases root verb root subject\n",
       "3     (During, the, voyage, ,, the, crew, spots, a, ...     spots         crew\n",
       "4     (A, few, hours, later, ,, the, crew, rescues, ...   rescues         crew\n",
       "5     (The, recounted, story, serves, as, the, frame...    serves        story\n",
       "6     (Victor, begins, by, telling, of, his, childho...    begins       Victor\n",
       "14    (Intelligent, and, articulate, ,, the, Creatur...   relates     Creature\n",
       "...                                                 ...       ...          ...\n",
       "4534     (But, critical, opinion, varies, extremely, .)    varies      opinion\n",
       "4535  (The, book, is, \", a, masterpiece, of, literat...        is         book\n",
       "4536  (The, German, text, from, which, Hollingdale, ...       was         text\n",
       "4538  (The, overman, is, the, meaning, of, the, eart...        is      overman\n",
       "4542  (The, overman, is, the, meaning, of, the, eart...        is      overman\n",
       "\n",
       "[1450 rows x 3 columns]"
      ]
     },
     "execution_count": 108,
     "metadata": {},
     "output_type": "execute_result"
    }
   ],
   "source": [
    "nouns_df"
   ]
  },
  {
   "cell_type": "code",
   "execution_count": 109,
   "metadata": {},
   "outputs": [
    {
     "data": {
      "text/plain": [
       "Int64Index([   0,    1,    2,    7,    9,   11,   12,   13,   19,   21,\n",
       "            ...\n",
       "            4514, 4516, 4526, 4527, 4528, 4531, 4537, 4539, 4540, 4541],\n",
       "           dtype='int64', length=1915)"
      ]
     },
     "execution_count": 109,
     "metadata": {},
     "output_type": "execute_result"
    }
   ],
   "source": [
    "PROPN_df['phrases'].index"
   ]
  },
  {
   "cell_type": "markdown",
   "metadata": {},
   "source": [
    "I can't pickle the dataframes if there are a single token on the columns so I saved only the phrases and recreated the other two columns later\n",
    "\n",
    "\"_NotImplementedError: [E111] Pickling a token is not supported, because tokens are only views of the parent Doc and can't exist on their own. A pickled token would always have to include its Doc and Vocab, which has practically no advantage over pickling the parent Doc directly. So instead of pickling the token, pickle the Doc it belongs to._\""
   ]
  },
  {
   "cell_type": "code",
   "execution_count": 110,
   "metadata": {},
   "outputs": [],
   "source": [
    "with open('PROPN_df_phrases.pkl', 'wb') as f:\n",
    "    pickle.dump(PROPN_df['phrases'],f)\n",
    "\n",
    "with open('pron_df_phrases.pkl', 'wb') as f:\n",
    "    pickle.dump(pron_df['phrases'],f)\n",
    "\n",
    "with open('nouns_df_phrases.pkl', 'wb') as f:\n",
    "    pickle.dump(nouns_df['phrases'],f)"
   ]
  },
  {
   "cell_type": "markdown",
   "metadata": {},
   "source": [
    "# ============================================================"
   ]
  },
  {
   "cell_type": "code",
   "execution_count": 3,
   "metadata": {},
   "outputs": [],
   "source": [
    "import pickle\n",
    "import pandas as pd"
   ]
  },
  {
   "cell_type": "code",
   "execution_count": 4,
   "metadata": {},
   "outputs": [],
   "source": [
    "\n",
    "with open('PROPN_df_phrases.pkl', 'rb') as f:\n",
    "    phrases_PROPN=pickle.load(f) \n",
    "\n",
    "with open('pron_df_phrases.pkl', 'rb') as f:\n",
    "    phrases_pron=pickle.load(f) \n",
    "\n",
    "with open('nouns_df_phrases.pkl', 'rb') as f:\n",
    "    phrases_nouns=pickle.load(f) "
   ]
  },
  {
   "cell_type": "code",
   "execution_count": 5,
   "metadata": {},
   "outputs": [],
   "source": [
    "def create_DF(phrase_series):\n",
    "    l=[]\n",
    "    for i in phrase_series.index:\n",
    "        phrase=phrase_series[i]\n",
    "        root_verb=[root for root in phrase if root.dep_=='ROOT'][0]\n",
    "        for token in phrase:\n",
    "            if token.dep_=='ROOT' and token==root_verb:\n",
    "                root=token\n",
    "            elif 'nsubj' in token.dep_ and token in root_verb.children:\n",
    "                subj=token\n",
    "        \n",
    "        l.append([phrase,root,subj])\n",
    "    l=pd.DataFrame(l)\n",
    "    l=l.rename(columns={0:\"phrases\",1:\"root verb\",2:'root subject'})\n",
    "    \n",
    "    return l"
   ]
  },
  {
   "cell_type": "code",
   "execution_count": 6,
   "metadata": {},
   "outputs": [],
   "source": [
    "PROPN_df=create_DF(phrases_PROPN)\n",
    "pron_df=create_DF(phrases_pron)\n",
    "nouns_df=create_DF(phrases_nouns)"
   ]
  },
  {
   "cell_type": "code",
   "execution_count": 7,
   "metadata": {},
   "outputs": [
    {
     "name": "stdout",
     "output_type": "stream",
     "text": [
      "1915 768 1450\n"
     ]
    }
   ],
   "source": [
    "print(len(PROPN_df),len(pron_df),len(nouns_df))"
   ]
  },
  {
   "cell_type": "code",
   "execution_count": 8,
   "metadata": {},
   "outputs": [
    {
     "name": "stdout",
     "output_type": "stream",
     "text": [
      "1899 762 1435\n"
     ]
    }
   ],
   "source": [
    "PROPN_df=PROPN_df.drop_duplicates()\n",
    "pron_df=pron_df.drop_duplicates()\n",
    "nouns_df=nouns_df.drop_duplicates()\n",
    "\n",
    "print(len(PROPN_df),len(pron_df),len(nouns_df))"
   ]
  },
  {
   "cell_type": "markdown",
   "metadata": {},
   "source": [
    "## Choosing the apparently useful subjects"
   ]
  },
  {
   "cell_type": "markdown",
   "metadata": {},
   "source": [
    "With these datasets I chose which would be the nouns and proper nouns that could be useful for the dataset so that I could restrict a bit more the phrases to choose by hand. To do that I printed the list of subjects of the dataframes and chose by hand the ones that seem to be related to persons/characters."
   ]
  },
  {
   "cell_type": "code",
   "execution_count": 9,
   "metadata": {},
   "outputs": [],
   "source": [
    "useful_nouns_df_subject=['Victor','father','wife','girl','Fitzgerald','man','Dickens','Torvald','Tashtego','Starbuck','woman',\n",
    "'mother','teacher','Farson', 'Browning','boy','sister','Utterson','Lanyon','boy','Jaggers','Estella','aunt','Jane','Rhys',\n",
    "'Hester','Heart','charwoman','Marlow','Svidrigailov','Cassedy', 'Dostoevsky','Huck','Sanders','prince','Murry','Swinburne',\n",
    "'Anatole','Deasy','Anatole','Chryses','Achilles','Diomedes','Hector','Thetis','Kleos','goddess','Agamemnon',\n",
    "'Scrooge','Danglars','Douglass','king','Fantine','Thénardier','Marius','grandfather','Dostoevsky','Cervantes','Eurycleia',\n",
    "'Penelope','Hobbes','Léonce','Reisz','Adèle','Chopin','Treatise','Locke','aunt','Vronsky','Levin','Eliza','Eva','husband',\n",
    "'Crisóstomo','Elías','Fagin','Socrates','Cephalus','Pygmalion','Gyges','brother','Eliza','hero','heroine','Austen','Watson',\n",
    "'woman','gentleman','Sissy','uncle','overman','Voltaire','Wolper']\n",
    "#houskeeper? (it is neutral?) hunter leader carpenter narrator beggar bartender president precursor\n",
    "#assistant character friend minister accountant manager clerk author \n",
    "#child\n",
    "#Dracula is both the character and the book's name (see each phrase) - this may eventually also happen with Frankenstein\n",
    "#maid is always feminin? priest always male?\n",
    "#chairman/woman - maybe we can say \"nouns that countain man/woman\"  -> maybe this doesnt work because woman has the word man \n",
    "#Fate see if it is fate or a propnoun (appears with capslock - maybe im mistaking this with Faith); Hope\n",
    "#soldier at the time this was a male almost for sure but now it isn't, keep it?"
   ]
  },
  {
   "cell_type": "code",
   "execution_count": 10,
   "metadata": {},
   "outputs": [
    {
     "name": "stdout",
     "output_type": "stream",
     "text": [
      "[crew, crew, story, Victor, Creature, Creature, Creature, Creature, Creature, Victor, father, ice, Victor, father, father, Part, monster, monster, essay, Day, family, edition, crew, crew, story, Victor, Creature, Creature, Creature, Creature, Creature, Victor, father, ice, Victor, father, father, Part, monster, monster, essay, Day, family, edition, Pride, wife, manner, housekeeper, novel, theme, Pride, Marriage, marriage, Inheritance, Pride, behaviour, sequel, girl, legacy, weather, entry, chapter, caterpillar, procession, biographer, critic, case, brand, Wonderland, scholar, binding, film, play, production, item, Fitzgerald, father, theme, neighbor, difference, difference, novel, work, contest, decision, repudiation, adaptation, episode, man, revelation, manuscript, jury, wife, edition, Resurrection, Resurrection, humour, opposite, Resurrection, sea, Darkness, shadow, blood, executioner, dictum, nanny, Torvald, Torvald, letter, Torvald, shift, story, sub, hunter, probity, protagonist, whale, Starbuck, leader, pursuit, carcass, whale, Tashtego, coin, Starbuck, carpenter, typhoon, Lightning, Starbuck, man, Starbuck, ship, ship, hawk, Starbuck, whale, whale, whale, line, coffin, distinction, typhoon, pattern, device, pattern, hunt, taxonomy, whale, point, example, essence, novel, level, business, imagery, thing, model, crew, event, monster, commentator, commentator, book, influence, product, language, contract, edition, result, difference, difference, printing, price, adaptation, adaptation, congregation, congregation, Story, couple, wallpaper, narrator, narrator, interpretation, narrator, wallpaper, woman, voice, relationship, protagonist, teacher, mother, Dracula, note, Farson, story, morrow, depiction, description, selection, novel, body, Browning, film, portrayal, essay, phrase, pamphlet, child, maxim, letter, film, cellar, cellar, feat, Utterson, Utterson, handwriting, butler, Utterson, letter, letter, body, Utterson, Lanyon, Utterson, maid, interpretation, depiction, novel, book, sister, Estella, boy, assistant, Jaggers, dress, hero, predecessor, theme, factor, factor, Dickens, punishment, Estella, direction, novel, theme, reader, genre, novel, theme, setting, Jaggers, love, love, love, love, wealth, wealth, wealth, character, wealth, wealth, theme, boy, caricature, Estella, marriage, theme, theme, accepting, reluctance, loyalty, debt, hero, hero, Estella, novel, setting, aunt, friend, Jane, housekeeper, horse, Jane, Jane, Jane, wife, Jane, Jane, Jane, reception, romance, lead, Rhys, book, Hester, shunning, conduct, conduct, minister, experience, narrative, subtlety, theme, thinking, Heart, Heart, Heart, setting, predecessor, Marlow, accountant, manager, journey, journey, man, Marlow, manager, area, manager, Marlow, health, boy, novella, reason, cast, game, player, character, reputation, book, work, Metamorphosis, vermin, clerk, sister, mother, father, charwoman, name, author, attitude, theme, Metamorphosis, theme, figure, reason, reason, theme, theme, edition, possibility, shift, man, Svidrigailov, atmosphere, situation, plan, Dostoevsky, magnificence, Dostoevsky, point, Cassedy, technique, reader, continuity, Dostoevsky, title, exception, translation, Huck, Huck, vendetta, play, Huck, Adventures, complexity, version, premiere, play, Importance, play, Pretence, play, Bunburying, insouciance, play, film, version, cast, book, chapter, veil, chapter, chapter, omen, chapter, reading, Foundational, critique, Sanders, version, work, solution, chapter, power, principality, type, prince, prince, city, advice, section, focus, Conspiracy, prince, chapter, example, aim, singularity, father, work, marriage, review, Murry, rejection, view, Antiquity, mythology, business, Man, Body, Energy, Energy, places, Abstinence, phrase, Swinburne, celebration, Consistency, composer, Philipp, intention, book, friend, friend, code, section, novel, poem, Deasy, episode, episode, episode, carriage, narrator, episode, action, style, chapter, style, episode, episode, history, history, typescript, community, novel, novel, use, novel, era, novel, novel, plot, mother, child, part, question, father, Anatole, life, father, battle, army, Anatole, part, treatment, treatment, part, newspaper, fiction, treatise, style, book, text, chapter, light, light, light, sun, critic, choice, communism, story, Chryses, decision, Achilles, Achilles, Achilles, plan, Diomedes, Hector, Hector, Night, embassy, fighting, Achilles, Hector, Hector, Thetis, Achilles, Hector, Achilles, Achilles, Achilles, Achilles, Achilles, Achilles, connection, Fate, Fate, instance, instance, instance, Fate, Kleos, goddess, shield, Pride, work, pride, pride, rancor, epic, Anger, anger, Agamemnon, threat, consensus, backdrop, title, shipwright, chariot, depiction, example, version, version, translation, attire, character, feeling, kiss, loyalty, crocodile, name, ship, rest, trade, friend, Danglars, Danglars, novel, archivist, edition, translation, abridgment, success, version, ending, duration, witch, faith, Toto, design, creation, Color, book, story, Word, doctor, recovers, father, health, sequel, narration, family, sickness, loss, sacrifice, portrayal, separation, cast, adaption, series, series, Scrooge, spirit, spirit, spirit, ghost, ghost, ghost, Scrooge, Slater, transformation, Production, performance, observance, historian, bibliography, economy, name, form, catalyst, exchange, general, unemployment, climate, head, age, service, Agriculture, percent, %, roster, section, country, objective, objective, Eurostat, age, household, community, Hellenism, evidence, population, population, education, Attendance, education, system, score, feature, form, art, philosophy, music, music, cuisine, cuisine, cuisine, performance, team, cricket, city, book, Douglass, father, boy, Knowledge, knowledge, book, interest, interest, draw, example, preaching, correspondence, visit, complex, grave, Douglass, shipmate, Bones, crew, Hands, romance, Summer, novel, narrator, score, attraction, building, chapter, novel, grisette, dandy, Fantine, king, king, Thénardier, Marius, Thénardier, Thénardier, Thénardier, Thénardier, Thénardier, Thénardier, Thénardier, Thénardier, note, grandfather, soldier, man, man, author, Marius, Thénardier, Thénardier, appearance, work, position, work, story, work, protagonist, text, name, source, drama, script, reading, reputation, corporation, grief, narrator, faith, name, narrator, episode, status, character, opening, narrator, book, behaviour, book, book, book, section, Inquisitor, book, expectation, section, servant, servant, lover, motive, Boys, book, book, point, section, section, novel, man, copy, translation, t, narrator, temperament, Cervantes, combat, stranger, judge, officer, narrator, half, Part, author, question, structure, scene, source, sister, sister, pronunciation, story, story, Cervantes, novel, Popularity, adaptation, proverb, translation, page, translation, novel, orphanage, book, edition, choice, Tourism, park, park, focus, translation, Eurycleia, example, son, parallel, homecoming, gift, example, Testing, testing, testing, date, date, name, work, frontispiece, frontispiece, portion, form, Hobbes, Life, Hobbes, Hope, state, state, thing, interest, right, one, one, conclusion, interpretation, Hobbes, abuse, abuse, fourth, tomb, folklore, production, Léonce, doctor, Reisz, portrayal, ending, Chopin, fluidity, music, sensuality, music, art, shell, example, art, form, interpretation, context, criticism, production, Imitation, Imitation, thing, concern, article, Fish, art, imagery, publication, edition, Treatise, Locke, state, rest, moment, war, work, protection, work, Proposition, notion, propositions, Philosophy, Philosophy, work, task, concept, Proposition, Proposition, view, philosophy, proposition, view, relation, relation, state, reading, book, production, arrival, aunt, sequence, soundtrack, film, cause, state, victory, victory, place, place, portrayal, marriage, novel, Dubliners, collection, story, novel, каждая, family, meet, specialist, specialist, Vronsky, Levin, sighting, friend, Vronsky, life, Vronsky, family, name, name, advantage, wife, Frances, Isabella, tale, Lockwood, text, point, story, narrative, source, Romanticism, interest, novel, sort, character, character, character, afreet, relationship, relationship, encounter, Childhood, adaptation, film, adaptation, film, music, poem, cover, story, Equality, Equality, Equality, Equality, Equality, Equality, comment, song, memo, appearance, novel, day, characterisation, site, depiction, work, army, clergyman, clergyman, novel, adaptation, docudrama, Life, book, novel, Eliza, wife, husband, Eva, way, example, theme, use, use, production, novel, Crisóstomo, cornerstone, obliges, uprising, sneaks, officer, Elías, news, boy, work, chapter, sister, husband, Fagin, robbery, Monks, Monks, father, Monks, novel, tale, Poverty, misery, spirit, gentlemanliness, countryside, novel, gaze, name, viciousness, dog, eye, dog, storyline, character, man, rivalry, group, trio, Buck, story, appeal, story, change, chapter, fatigue, setting, adaptation, morality, culture, form, desire, form, work, Pygmalion, bystander, man, Eliza, scene, Eliza, scene, Pygmalion, Pygmalion, setting, Socrates, Cephalus, Socrates, book, Socrates, Socrates, emphasis, point, tyranny, tyrant, proof, element, core, justice, prologue, Socrates, agreement, Gyges, law, myth, result, city, disposition, regime, form, regime, flame, sun, man, injustice, freedoms, publica, discussion, monarchy, knowledge, interpretation, interpretation, life, life, life, distinction, cause, university, system, cause, writing, story, surviving, plaque, lore, appearance, appearance, book, travel, cracks, grass, farmer, farmer, display, king, crew, letter, reason, comparison, perception, master, view, Stone, Stone, book, edition, book, relationship, point, brother, space, garret, freedom, entry, version, difference, name, tone, inspiration, play, reader, deal, reward, following, following, Sense, Sense, novel, brother, Eliza, Willoughby, heroine, Sense, review, favouring, article, Sense, book, birth, comparison, Austen, criticism, condition, alienation, cost, Study, story, story, Study, disbelief, telegram, Watson, woman, pill, Wiggins, Hope, Hope, Hope, Hope, Study, film, plot, Study, Deductionist, murder, influence, tension, missile, story, story, stop, stop, novel, conditions, book, mother, cellmate, family, bartender, split, lady, orator, socialist, book, Sissy, gentleman, rejection, Sissy, Sissy, reason, description, Utilitarianism, bastion, system, historian, historian, system, rain, side, president, president, bear, desire, friend, sequel, size, size, bear, bear, novel, comment, garden, story, version, producer, production, adaptation, OSS, OSS, goal, codebook, branch, agent, descendant, number, number, word, mountain, classification, Love, total, press, structure, account, novel, story, Murdstone, aunt, clerk, marriage, career, career, passion, instalment, point, voice, voice, reader, story, narrative, story, latter, yardstick, project, verb, boy, ideal, Traddles, Traddles, Traddles, satire, approach, relationship, concern, uncle, sanctification, marginality, principle, sentimentality, tone, tone, tone, city, symbolism, repetition, woman, work, Voltaire, protagonist, precursor, legend, process, title, admis, trio, alcalde, king, dervish, dervish, purpose, author, criticism, Voltaire, method, depiction, explanation, protagonist, garden, garden, possibility, critique, one, debate, debate, argument, intelligence, intelligence, class, friendship, world, story, meeting, speculation, mother, story, protagonist, reaction, reaction, biography, blood, girl, story, intention, tradition, path, advice, book, edition, statue, work, date, reader, father, devotion, novel, novel, narrator, chapter, rejection, struggle, insight, quote, influence, character, character, nightingale, student, garden, giant, story, story, rocket, Persuasion, use, brother, wife, enjoyment, narrative, title, title, critic, Pinch, Persuasion, reason, love, village, society, entry, site, evidence, chaplain, show, Basilio, revolution, lieutenant, confession, book, position, position, jam, exchange, exchange, section, protagonist, protagonist, hyperanthropos, brothers, example, example, style, nature, title, text, example, example, example, opinion, book, text, overman, overman]\n"
     ]
    }
   ],
   "source": [
    "print(list(nouns_df['root subject']))"
   ]
  },
  {
   "cell_type": "code",
   "execution_count": 11,
   "metadata": {},
   "outputs": [
    {
     "data": {
      "text/plain": [
       "Int64Index([   0,    1,    2,    3,    4,    5,    6,    7,    8,    9,\n",
       "            ...\n",
       "            1440, 1441, 1442, 1443, 1444, 1445, 1446, 1447, 1448, 1449],\n",
       "           dtype='int64', length=1435)"
      ]
     },
     "execution_count": 11,
     "metadata": {},
     "output_type": "execute_result"
    }
   ],
   "source": [
    "nouns_df['root subject'].index"
   ]
  },
  {
   "cell_type": "code",
   "execution_count": 12,
   "metadata": {},
   "outputs": [],
   "source": [
    "idx_n=[]\n",
    "for i in useful_nouns_df_subject:\n",
    "    for ids in nouns_df['root subject'].index:\n",
    "        if nouns_df['root subject'][ids].text==i:\n",
    "            idx_n.append(ids)\n",
    "\n",
    "noun_df_after=nouns_df.loc[idx_n]\n"
   ]
  },
  {
   "cell_type": "code",
   "execution_count": 13,
   "metadata": {},
   "outputs": [
    {
     "data": {
      "text/html": [
       "<div>\n",
       "<style scoped>\n",
       "    .dataframe tbody tr th:only-of-type {\n",
       "        vertical-align: middle;\n",
       "    }\n",
       "\n",
       "    .dataframe tbody tr th {\n",
       "        vertical-align: top;\n",
       "    }\n",
       "\n",
       "    .dataframe thead th {\n",
       "        text-align: right;\n",
       "    }\n",
       "</style>\n",
       "<table border=\"1\" class=\"dataframe\">\n",
       "  <thead>\n",
       "    <tr style=\"text-align: right;\">\n",
       "      <th></th>\n",
       "      <th>phrases</th>\n",
       "      <th>root verb</th>\n",
       "      <th>root subject</th>\n",
       "    </tr>\n",
       "  </thead>\n",
       "  <tbody>\n",
       "    <tr>\n",
       "      <th>3</th>\n",
       "      <td>(Victor, begins, by, telling, of, his, childho...</td>\n",
       "      <td>begins</td>\n",
       "      <td>Victor</td>\n",
       "    </tr>\n",
       "    <tr>\n",
       "      <th>9</th>\n",
       "      <td>(Victor, suspects, that, the, Creature, is, fo...</td>\n",
       "      <td>suspects</td>\n",
       "      <td>Victor</td>\n",
       "    </tr>\n",
       "    <tr>\n",
       "      <th>12</th>\n",
       "      <td>(Victor, dies, shortly, thereafter, ,, telling...</td>\n",
       "      <td>dies</td>\n",
       "      <td>Victor</td>\n",
       "    </tr>\n",
       "    <tr>\n",
       "      <th>25</th>\n",
       "      <td>(Victor, begins, by, telling, of, his, childho...</td>\n",
       "      <td>begins</td>\n",
       "      <td>Victor</td>\n",
       "    </tr>\n",
       "    <tr>\n",
       "      <th>31</th>\n",
       "      <td>(Victor, suspects, that, the, Creature, is, fo...</td>\n",
       "      <td>suspects</td>\n",
       "      <td>Victor</td>\n",
       "    </tr>\n",
       "    <tr>\n",
       "      <th>...</th>\n",
       "      <td>...</td>\n",
       "      <td>...</td>\n",
       "      <td>...</td>\n",
       "    </tr>\n",
       "    <tr>\n",
       "      <th>1311</th>\n",
       "      <td>(Her, uncle, ,, Mr, Peggotty, ,, finds, her, i...</td>\n",
       "      <td>finds</td>\n",
       "      <td>uncle</td>\n",
       "    </tr>\n",
       "    <tr>\n",
       "      <th>1448</th>\n",
       "      <td>(The, overman, is, the, meaning, of, the, eart...</td>\n",
       "      <td>is</td>\n",
       "      <td>overman</td>\n",
       "    </tr>\n",
       "    <tr>\n",
       "      <th>1449</th>\n",
       "      <td>(The, overman, is, the, meaning, of, the, eart...</td>\n",
       "      <td>is</td>\n",
       "      <td>overman</td>\n",
       "    </tr>\n",
       "    <tr>\n",
       "      <th>1324</th>\n",
       "      <td>(Voltaire, ridicules, religion, ,, theologians...</td>\n",
       "      <td>ridicules</td>\n",
       "      <td>Voltaire</td>\n",
       "    </tr>\n",
       "    <tr>\n",
       "      <th>1339</th>\n",
       "      <td>(Voltaire, depicts, the, Jesuits, holding, the...</td>\n",
       "      <td>depicts</td>\n",
       "      <td>Voltaire</td>\n",
       "    </tr>\n",
       "  </tbody>\n",
       "</table>\n",
       "<p>241 rows × 3 columns</p>\n",
       "</div>"
      ],
      "text/plain": [
       "                                                phrases  root verb  \\\n",
       "3     (Victor, begins, by, telling, of, his, childho...     begins   \n",
       "9     (Victor, suspects, that, the, Creature, is, fo...   suspects   \n",
       "12    (Victor, dies, shortly, thereafter, ,, telling...       dies   \n",
       "25    (Victor, begins, by, telling, of, his, childho...     begins   \n",
       "31    (Victor, suspects, that, the, Creature, is, fo...   suspects   \n",
       "...                                                 ...        ...   \n",
       "1311  (Her, uncle, ,, Mr, Peggotty, ,, finds, her, i...      finds   \n",
       "1448  (The, overman, is, the, meaning, of, the, eart...         is   \n",
       "1449  (The, overman, is, the, meaning, of, the, eart...         is   \n",
       "1324  (Voltaire, ridicules, religion, ,, theologians...  ridicules   \n",
       "1339  (Voltaire, depicts, the, Jesuits, holding, the...    depicts   \n",
       "\n",
       "     root subject  \n",
       "3          Victor  \n",
       "9          Victor  \n",
       "12         Victor  \n",
       "25         Victor  \n",
       "31         Victor  \n",
       "...           ...  \n",
       "1311        uncle  \n",
       "1448      overman  \n",
       "1449      overman  \n",
       "1324     Voltaire  \n",
       "1339     Voltaire  \n",
       "\n",
       "[241 rows x 3 columns]"
      ]
     },
     "execution_count": 13,
     "metadata": {},
     "output_type": "execute_result"
    }
   ],
   "source": [
    "noun_df_after"
   ]
  },
  {
   "cell_type": "code",
   "execution_count": 14,
   "metadata": {},
   "outputs": [],
   "source": [
    "noun_df_after=noun_df_after.drop_duplicates()"
   ]
  },
  {
   "cell_type": "code",
   "execution_count": 15,
   "metadata": {},
   "outputs": [
    {
     "data": {
      "text/html": [
       "<div>\n",
       "<style scoped>\n",
       "    .dataframe tbody tr th:only-of-type {\n",
       "        vertical-align: middle;\n",
       "    }\n",
       "\n",
       "    .dataframe tbody tr th {\n",
       "        vertical-align: top;\n",
       "    }\n",
       "\n",
       "    .dataframe thead th {\n",
       "        text-align: right;\n",
       "    }\n",
       "</style>\n",
       "<table border=\"1\" class=\"dataframe\">\n",
       "  <thead>\n",
       "    <tr style=\"text-align: right;\">\n",
       "      <th></th>\n",
       "      <th>phrases</th>\n",
       "      <th>root verb</th>\n",
       "      <th>root subject</th>\n",
       "    </tr>\n",
       "  </thead>\n",
       "  <tbody>\n",
       "    <tr>\n",
       "      <th>3</th>\n",
       "      <td>(Victor, begins, by, telling, of, his, childho...</td>\n",
       "      <td>begins</td>\n",
       "      <td>Victor</td>\n",
       "    </tr>\n",
       "    <tr>\n",
       "      <th>9</th>\n",
       "      <td>(Victor, suspects, that, the, Creature, is, fo...</td>\n",
       "      <td>suspects</td>\n",
       "      <td>Victor</td>\n",
       "    </tr>\n",
       "    <tr>\n",
       "      <th>12</th>\n",
       "      <td>(Victor, dies, shortly, thereafter, ,, telling...</td>\n",
       "      <td>dies</td>\n",
       "      <td>Victor</td>\n",
       "    </tr>\n",
       "    <tr>\n",
       "      <th>25</th>\n",
       "      <td>(Victor, begins, by, telling, of, his, childho...</td>\n",
       "      <td>begins</td>\n",
       "      <td>Victor</td>\n",
       "    </tr>\n",
       "    <tr>\n",
       "      <th>31</th>\n",
       "      <td>(Victor, suspects, that, the, Creature, is, fo...</td>\n",
       "      <td>suspects</td>\n",
       "      <td>Victor</td>\n",
       "    </tr>\n",
       "    <tr>\n",
       "      <th>...</th>\n",
       "      <td>...</td>\n",
       "      <td>...</td>\n",
       "      <td>...</td>\n",
       "    </tr>\n",
       "    <tr>\n",
       "      <th>1311</th>\n",
       "      <td>(Her, uncle, ,, Mr, Peggotty, ,, finds, her, i...</td>\n",
       "      <td>finds</td>\n",
       "      <td>uncle</td>\n",
       "    </tr>\n",
       "    <tr>\n",
       "      <th>1448</th>\n",
       "      <td>(The, overman, is, the, meaning, of, the, eart...</td>\n",
       "      <td>is</td>\n",
       "      <td>overman</td>\n",
       "    </tr>\n",
       "    <tr>\n",
       "      <th>1449</th>\n",
       "      <td>(The, overman, is, the, meaning, of, the, eart...</td>\n",
       "      <td>is</td>\n",
       "      <td>overman</td>\n",
       "    </tr>\n",
       "    <tr>\n",
       "      <th>1324</th>\n",
       "      <td>(Voltaire, ridicules, religion, ,, theologians...</td>\n",
       "      <td>ridicules</td>\n",
       "      <td>Voltaire</td>\n",
       "    </tr>\n",
       "    <tr>\n",
       "      <th>1339</th>\n",
       "      <td>(Voltaire, depicts, the, Jesuits, holding, the...</td>\n",
       "      <td>depicts</td>\n",
       "      <td>Voltaire</td>\n",
       "    </tr>\n",
       "  </tbody>\n",
       "</table>\n",
       "<p>220 rows × 3 columns</p>\n",
       "</div>"
      ],
      "text/plain": [
       "                                                phrases  root verb  \\\n",
       "3     (Victor, begins, by, telling, of, his, childho...     begins   \n",
       "9     (Victor, suspects, that, the, Creature, is, fo...   suspects   \n",
       "12    (Victor, dies, shortly, thereafter, ,, telling...       dies   \n",
       "25    (Victor, begins, by, telling, of, his, childho...     begins   \n",
       "31    (Victor, suspects, that, the, Creature, is, fo...   suspects   \n",
       "...                                                 ...        ...   \n",
       "1311  (Her, uncle, ,, Mr, Peggotty, ,, finds, her, i...      finds   \n",
       "1448  (The, overman, is, the, meaning, of, the, eart...         is   \n",
       "1449  (The, overman, is, the, meaning, of, the, eart...         is   \n",
       "1324  (Voltaire, ridicules, religion, ,, theologians...  ridicules   \n",
       "1339  (Voltaire, depicts, the, Jesuits, holding, the...    depicts   \n",
       "\n",
       "     root subject  \n",
       "3          Victor  \n",
       "9          Victor  \n",
       "12         Victor  \n",
       "25         Victor  \n",
       "31         Victor  \n",
       "...           ...  \n",
       "1311        uncle  \n",
       "1448      overman  \n",
       "1449      overman  \n",
       "1324     Voltaire  \n",
       "1339     Voltaire  \n",
       "\n",
       "[220 rows x 3 columns]"
      ]
     },
     "execution_count": 15,
     "metadata": {},
     "output_type": "execute_result"
    }
   ],
   "source": [
    "noun_df_after"
   ]
  },
  {
   "cell_type": "code",
   "execution_count": 16,
   "metadata": {},
   "outputs": [
    {
     "name": "stdout",
     "output_type": "stream",
     "text": [
      "1851\n",
      "Litz acknowledges the crudeness of these formulations and we recognize that he is attempting to discuss a quality of the novel which is hard to describe.\n"
     ]
    }
   ],
   "source": [
    "#Here we can see which are the phrases that contain the subject of our choice\n",
    "name='Litz'\n",
    "for i in range(len(list(PROPN_df['root subject']))):\n",
    "    if list(PROPN_df['root subject'])[i].text==name:\n",
    "        print(i)\n",
    "        print(list(PROPN_df['phrases'])[i])\n"
   ]
  },
  {
   "cell_type": "code",
   "execution_count": 17,
   "metadata": {},
   "outputs": [],
   "source": [
    "useful_nouns_df_subject=['Walton','Victor','Clerval','Mary','Blackwell','Toro','Bennet','Elizabeth','Collins','Darcy',\n",
    "    'Charlotte','Jane','Catherine','Fitzwilliam','Wickham','Lydia','Bingley','Catherine','Austen','Joyce','Reynolds',\n",
    "    'Alice','Tom','Jordan','Myrtle','Nick','Daisy','Fitzgerald','Gatsby','Wilde','George','Bechtel','Buchanan','Marx',\n",
    "    'Levy','Dickens','Lorry','Evrémonde','Marquis','Gaspard','Carton','Darnay','Solomon','Defarge','Jerry','Manette',\n",
    "    'Lucie','Defarge','Darnay','Carlyle','Simon','Törnqvist','Nora','Kristine','Krogstad','Torvald','Rank',\n",
    "    'Nora','Kristine','Mencken','Stoddart','Dorial', 'Basil','Alan','James','Ishmael','Ahab','Queequeg','Stubb','Pip',\n",
    "    'Dick','Bryant','Bezanson','Wright','Arvin','Matthiessen','Melville','Bryant','Milder','Gilman','Lanser','Treichler',\n",
    "    'Horowitz','Edelstein','Harker','Lucy','Mina','Helsing','Showalter','Redmond','Enfield','Jekyll','Lanyon','Poole',\n",
    "    'Utterson','Hyde','Wright','Havisham','Joe','Biddy','Herbert','Molly','Drummle','Jaggers','Magwitch','Jane','Reed',\n",
    "    'Brocklehurst','Temple','Helen','Rochester','Rivers','John','Hester','Chillingworth','Pearl','Dimmesdale','Conrad',\n",
    "    'Hochschild','Marlow','Nylander','Samsa','Sudau','Rubio','Drüke','Nabokov','Frank','Snitkina','Raskolnikov',\n",
    "    'Marmeladov','Sonya','Razumikhin','Porfiry','Dunya','Mikolka','Luzhin','Lebezyatnikov','Svidrigailov','Dostoevsky',\n",
    "    'Huck','Jim','Loftus','Polly','Twain','Hearn','Alberti','Finn','Eltis','Ellmann','Aynesworth', 'Wilde','Jack',\n",
    "    'Bracknell','Gwendolen','Algernon','Gwendolen','Bracknell','Earnest','Foster','Edwards','Carby','Anderson',\n",
    "    'Sanders','Machiavelli','Gilbert','Blake','Ulysses','Joyce','Stephen','Bloom','Mulligan','Gerty','Tolstoy','Pierre',\n",
    "    'Boris','Rostov','Drubetskoy','Andrei','Denisov','Nikolai','Hélène','Pierre','Natasha','Rostov','Bolkonsky','Annenkov',\n",
    "    'Strakhov','Dunnigan','Thoreau','Bagnall','Moore','Walden','Agamemnon','Chryses','Odysseus','Thetis','Aphrodite',\n",
    "    'Athena','Diomedes','Zeus','Nestor','Poseidon','Polydamas','Hera','Achilles','Patroclus','Hephaestus','Hector','Priam',\n",
    "    'Homer','Arnold','Pan','Barrie','Peter','Wendy','Robertson','Maimie','Darling','Lily','Bell','Hook','Smee','Faria',\n",
    "    'Dantès','Mondego','Bertuccio','Carderousse','Andrea','Dorothy','Glinda','Henry','Oz','Beth','Jo','Meg','Laurence',\n",
    "    'Brooke','Laurie', 'Meg', 'Beth','Amy','Lizzie','Saxton','Alcott','Carol','Scrooge','Dickens','Irving','Kelly','Jim',\n",
    "    'Potter','Joe','Becky','Douglas','Hugo','Myriel','Valjean','Fantine','Javert','Thénardier','Marius','Cosette',\n",
    "    'Gavroche','Enjolras','Perry','Karamazov','Pavlovich','Fyodorovich','Alyosha','Snegiryov','Smerdyakov','Grushenka',\n",
    "    'Katerina','Zosima','Dmitri','Ilyusha','Alyosha','Snegiryov','Ivan','Kolya','Quixote','Fernando','Sancho','Anne',\n",
    "    'Cervantes','Athena','Telemachus','Odysseus','Penelope','Hobbes','Doyle','Edna','Robert','Socrates','Mary','Locke',\n",
    "    'Tully','Zuckert','Kenny','Emma','Knightley','Byrne','Henry','Karenin','Levin','Vronsky','Stiva','Bartlett',\n",
    "    'Heathcliff','Dean','Earnshaw','Hindley','Catherine','Edgar','Cathy','Lockwood','Wiltshire','Scott','Alejandro',\n",
    "    'Stewart','Alejandro','Eliza','Clare','Eva','Legree','Shelby','Dámaso','Crisóstomo','Guevarra','Salví','Tiago','Elías',\n",
    "    'Guevarra','María','Twist','Oliver','Brownlow','Fagin','Nancy','Sikes','Bumble','Brownlow','Nancy','Rose','Bumble',\n",
    "    'Bates','Buck','Mercedes','Thornton','Pizer','Gianquitto','Higgins','Eliza','Doolittle','Higgins','Socrates',\n",
    "    'Polemarchus','Glaucon','Adeimantus','Plato','Poe','Gulliver','Mendez','Pedro','Jacobs','Brent','Martha','Jacobs',\n",
    "    'Benjamin','William','Benny','Ellen','Flint','Bruce','John','Faustus','Lucifer','Marianne','Brandon','Steele',\n",
    "    'Edward','Pollock','Favret','Holmes','Drebber','Crane','Rudkus','Jonas','Jurgis','Gradgrind','Bounderby','Stephen',\n",
    "    'Sparsit','Tom','Blackpool','Louisa','Gradgrind','Harthouse','Cecilia','Bitzer','Rachael','Bazalgette','Mills','Pooh',\n",
    "    'Hanyu','Charlie','Ashbee','Marcus','Mary','Weatherstaff','Fauntleroy','Gerzina','Masson','Burnett','Virgil','Dante',\n",
    "    'Beatrice','David','Peggotty','Dora','Agnes','Hollington','Leavis','Needham','Bottiglia','Dexter',\n",
    "    'Anne','Henrietta','Benwick','Clay','Russell','Croft','Isagani','Basilio','Simoun']\n",
    "\n",
    "maybe_useful_nouns_df_subject=['Frankenstein','Mouse','Rabbit','Cat','Hatter','Queen','Turtle','Gardner','Duck',\n",
    "    'Dormouse','Turtle','Pequod','Dracula','Witch','Lion','Ghost']\n",
    "\n",
    "\n",
    "#some names are precedeed by miss & co - change this if the gender changes\n",
    "#in Alice in wonderland's story there are several characters that are named after animals, maybe these will be useful\n",
    "# because the phrases will work exchanging these names for human names - same for the wizard of oz"
   ]
  },
  {
   "cell_type": "markdown",
   "metadata": {},
   "source": [
    "## Remove subjects that only appear once"
   ]
  },
  {
   "cell_type": "markdown",
   "metadata": {},
   "source": [
    "I also concluded that if a name only appears one time probably is not related to the plot of the story but it is probably just a comment of someone that studied the text which is not what we want to a removed those names from the list."
   ]
  },
  {
   "cell_type": "code",
   "execution_count": 18,
   "metadata": {},
   "outputs": [],
   "source": [
    "def single_subj(list_of_subjects,original_dataframe):\n",
    "    single=[]\n",
    "    list_subj=list(original_dataframe['root subject'])\n",
    "    for nn in list_of_subjects:\n",
    "        n=0\n",
    "        for i in range(len(list_subj)):\n",
    "            if list_subj[i].text==nn:\n",
    "                n+=1\n",
    "        if n==1:\n",
    "            single.append(nn)\n",
    "    return single"
   ]
  },
  {
   "cell_type": "markdown",
   "metadata": {},
   "source": [
    "Then I recovered the dataframe that had the subjects contained in the list of subjects."
   ]
  },
  {
   "cell_type": "code",
   "execution_count": 19,
   "metadata": {},
   "outputs": [],
   "source": [
    "idx_nouns=[]\n",
    "\n",
    "for i in useful_nouns_df_subject:\n",
    "    if i in single_subj(useful_nouns_df_subject,PROPN_df):\n",
    "        useful_nouns_df_subject.remove(i)\n",
    "\n",
    "for i in useful_nouns_df_subject:\n",
    "    for idx in PROPN_df['root subject'].index:\n",
    "        if PROPN_df['root subject'][idx].text==i:\n",
    "            idx_nouns.append(idx)\n",
    "\n",
    "\n",
    "\n",
    "propn_df_after=PROPN_df.loc[idx_nouns]\n"
   ]
  },
  {
   "cell_type": "code",
   "execution_count": 20,
   "metadata": {},
   "outputs": [],
   "source": [
    "propn_df_after_keep=propn_df_after.copy() #this is in case something gets broken in propn_df_after we dont need to re-run the previous cell"
   ]
  },
  {
   "cell_type": "markdown",
   "metadata": {},
   "source": [
    "## Remove duplicates"
   ]
  },
  {
   "cell_type": "markdown",
   "metadata": {},
   "source": [
    "The following three dataframes are the ones that can be used to choose the phrases by hand:\n",
    "+ noun_df_after - has 220 rows (some of which are prop nouns that were wrongly selected as common nouns by spacy)\n",
    "+ propn_df_after - has 1144 rows (some don't correspond to the plot but to researchers commenting on the meaning of the plots)\n",
    "+ pron_df - has 762 rows and are all the phrases that have \"he/she\" as the subject"
   ]
  },
  {
   "cell_type": "code",
   "execution_count": 21,
   "metadata": {},
   "outputs": [
    {
     "data": {
      "text/html": [
       "<div>\n",
       "<style scoped>\n",
       "    .dataframe tbody tr th:only-of-type {\n",
       "        vertical-align: middle;\n",
       "    }\n",
       "\n",
       "    .dataframe tbody tr th {\n",
       "        vertical-align: top;\n",
       "    }\n",
       "\n",
       "    .dataframe thead th {\n",
       "        text-align: right;\n",
       "    }\n",
       "</style>\n",
       "<table border=\"1\" class=\"dataframe\">\n",
       "  <thead>\n",
       "    <tr style=\"text-align: right;\">\n",
       "      <th></th>\n",
       "      <th>phrases</th>\n",
       "      <th>root verb</th>\n",
       "      <th>root subject</th>\n",
       "    </tr>\n",
       "  </thead>\n",
       "  <tbody>\n",
       "    <tr>\n",
       "      <th>3</th>\n",
       "      <td>(Victor, begins, by, telling, of, his, childho...</td>\n",
       "      <td>begins</td>\n",
       "      <td>Victor</td>\n",
       "    </tr>\n",
       "    <tr>\n",
       "      <th>9</th>\n",
       "      <td>(Victor, suspects, that, the, Creature, is, fo...</td>\n",
       "      <td>suspects</td>\n",
       "      <td>Victor</td>\n",
       "    </tr>\n",
       "    <tr>\n",
       "      <th>12</th>\n",
       "      <td>(Victor, dies, shortly, thereafter, ,, telling...</td>\n",
       "      <td>dies</td>\n",
       "      <td>Victor</td>\n",
       "    </tr>\n",
       "    <tr>\n",
       "      <th>25</th>\n",
       "      <td>(Victor, begins, by, telling, of, his, childho...</td>\n",
       "      <td>begins</td>\n",
       "      <td>Victor</td>\n",
       "    </tr>\n",
       "    <tr>\n",
       "      <th>31</th>\n",
       "      <td>(Victor, suspects, that, the, Creature, is, fo...</td>\n",
       "      <td>suspects</td>\n",
       "      <td>Victor</td>\n",
       "    </tr>\n",
       "    <tr>\n",
       "      <th>...</th>\n",
       "      <td>...</td>\n",
       "      <td>...</td>\n",
       "      <td>...</td>\n",
       "    </tr>\n",
       "    <tr>\n",
       "      <th>1311</th>\n",
       "      <td>(Her, uncle, ,, Mr, Peggotty, ,, finds, her, i...</td>\n",
       "      <td>finds</td>\n",
       "      <td>uncle</td>\n",
       "    </tr>\n",
       "    <tr>\n",
       "      <th>1448</th>\n",
       "      <td>(The, overman, is, the, meaning, of, the, eart...</td>\n",
       "      <td>is</td>\n",
       "      <td>overman</td>\n",
       "    </tr>\n",
       "    <tr>\n",
       "      <th>1449</th>\n",
       "      <td>(The, overman, is, the, meaning, of, the, eart...</td>\n",
       "      <td>is</td>\n",
       "      <td>overman</td>\n",
       "    </tr>\n",
       "    <tr>\n",
       "      <th>1324</th>\n",
       "      <td>(Voltaire, ridicules, religion, ,, theologians...</td>\n",
       "      <td>ridicules</td>\n",
       "      <td>Voltaire</td>\n",
       "    </tr>\n",
       "    <tr>\n",
       "      <th>1339</th>\n",
       "      <td>(Voltaire, depicts, the, Jesuits, holding, the...</td>\n",
       "      <td>depicts</td>\n",
       "      <td>Voltaire</td>\n",
       "    </tr>\n",
       "  </tbody>\n",
       "</table>\n",
       "<p>220 rows × 3 columns</p>\n",
       "</div>"
      ],
      "text/plain": [
       "                                                phrases  root verb  \\\n",
       "3     (Victor, begins, by, telling, of, his, childho...     begins   \n",
       "9     (Victor, suspects, that, the, Creature, is, fo...   suspects   \n",
       "12    (Victor, dies, shortly, thereafter, ,, telling...       dies   \n",
       "25    (Victor, begins, by, telling, of, his, childho...     begins   \n",
       "31    (Victor, suspects, that, the, Creature, is, fo...   suspects   \n",
       "...                                                 ...        ...   \n",
       "1311  (Her, uncle, ,, Mr, Peggotty, ,, finds, her, i...      finds   \n",
       "1448  (The, overman, is, the, meaning, of, the, eart...         is   \n",
       "1449  (The, overman, is, the, meaning, of, the, eart...         is   \n",
       "1324  (Voltaire, ridicules, religion, ,, theologians...  ridicules   \n",
       "1339  (Voltaire, depicts, the, Jesuits, holding, the...    depicts   \n",
       "\n",
       "     root subject  \n",
       "3          Victor  \n",
       "9          Victor  \n",
       "12         Victor  \n",
       "25         Victor  \n",
       "31         Victor  \n",
       "...           ...  \n",
       "1311        uncle  \n",
       "1448      overman  \n",
       "1449      overman  \n",
       "1324     Voltaire  \n",
       "1339     Voltaire  \n",
       "\n",
       "[220 rows x 3 columns]"
      ]
     },
     "execution_count": 21,
     "metadata": {},
     "output_type": "execute_result"
    }
   ],
   "source": [
    "noun_df_after=noun_df_after.drop_duplicates()\n",
    "noun_df_after"
   ]
  },
  {
   "cell_type": "code",
   "execution_count": 22,
   "metadata": {},
   "outputs": [
    {
     "name": "stdout",
     "output_type": "stream",
     "text": [
      "1459\n"
     ]
    },
    {
     "data": {
      "text/html": [
       "<div>\n",
       "<style scoped>\n",
       "    .dataframe tbody tr th:only-of-type {\n",
       "        vertical-align: middle;\n",
       "    }\n",
       "\n",
       "    .dataframe tbody tr th {\n",
       "        vertical-align: top;\n",
       "    }\n",
       "\n",
       "    .dataframe thead th {\n",
       "        text-align: right;\n",
       "    }\n",
       "</style>\n",
       "<table border=\"1\" class=\"dataframe\">\n",
       "  <thead>\n",
       "    <tr style=\"text-align: right;\">\n",
       "      <th></th>\n",
       "      <th>phrases</th>\n",
       "      <th>root verb</th>\n",
       "      <th>root subject</th>\n",
       "    </tr>\n",
       "  </thead>\n",
       "  <tbody>\n",
       "    <tr>\n",
       "      <th>2</th>\n",
       "      <td>(Robert, Walton, is, a, failed, writer, who, s...</td>\n",
       "      <td>is</td>\n",
       "      <td>Walton</td>\n",
       "    </tr>\n",
       "    <tr>\n",
       "      <th>16</th>\n",
       "      <td>(At, the, end, of, Victor, 's, narrative, ,, C...</td>\n",
       "      <td>resumes</td>\n",
       "      <td>Walton</td>\n",
       "    </tr>\n",
       "    <tr>\n",
       "      <th>18</th>\n",
       "      <td>(Walton, discovers, the, Creature, on, his, sh...</td>\n",
       "      <td>discovers</td>\n",
       "      <td>Walton</td>\n",
       "    </tr>\n",
       "    <tr>\n",
       "      <th>27</th>\n",
       "      <td>(Robert, Walton, is, a, failed, writer, who, s...</td>\n",
       "      <td>is</td>\n",
       "      <td>Walton</td>\n",
       "    </tr>\n",
       "    <tr>\n",
       "      <th>41</th>\n",
       "      <td>(At, the, end, of, Victor, 's, narrative, ,, C...</td>\n",
       "      <td>resumes</td>\n",
       "      <td>Walton</td>\n",
       "    </tr>\n",
       "    <tr>\n",
       "      <th>...</th>\n",
       "      <td>...</td>\n",
       "      <td>...</td>\n",
       "      <td>...</td>\n",
       "    </tr>\n",
       "    <tr>\n",
       "      <th>1883</th>\n",
       "      <td>(Later, on, ,, Simoun, goes, to, Manila, and, ...</td>\n",
       "      <td>goes</td>\n",
       "      <td>Simoun</td>\n",
       "    </tr>\n",
       "    <tr>\n",
       "      <th>1886</th>\n",
       "      <td>(Simoun, ,, driven, by, grief, ,, aborts, the,...</td>\n",
       "      <td>aborts</td>\n",
       "      <td>Simoun</td>\n",
       "    </tr>\n",
       "    <tr>\n",
       "      <th>1888</th>\n",
       "      <td>(The, plan, thus, finalized, ,, Simoun, gives,...</td>\n",
       "      <td>gives</td>\n",
       "      <td>Simoun</td>\n",
       "    </tr>\n",
       "    <tr>\n",
       "      <th>1894</th>\n",
       "      <td>(In, response, ,, Simoun, drinks, the, slow, -...</td>\n",
       "      <td>drinks</td>\n",
       "      <td>Simoun</td>\n",
       "    </tr>\n",
       "    <tr>\n",
       "      <th>1895</th>\n",
       "      <td>(Simoun, then, makes, his, final, confession, ...</td>\n",
       "      <td>makes</td>\n",
       "      <td>Simoun</td>\n",
       "    </tr>\n",
       "  </tbody>\n",
       "</table>\n",
       "<p>1193 rows × 3 columns</p>\n",
       "</div>"
      ],
      "text/plain": [
       "                                                phrases  root verb  \\\n",
       "2     (Robert, Walton, is, a, failed, writer, who, s...         is   \n",
       "16    (At, the, end, of, Victor, 's, narrative, ,, C...    resumes   \n",
       "18    (Walton, discovers, the, Creature, on, his, sh...  discovers   \n",
       "27    (Robert, Walton, is, a, failed, writer, who, s...         is   \n",
       "41    (At, the, end, of, Victor, 's, narrative, ,, C...    resumes   \n",
       "...                                                 ...        ...   \n",
       "1883  (Later, on, ,, Simoun, goes, to, Manila, and, ...       goes   \n",
       "1886  (Simoun, ,, driven, by, grief, ,, aborts, the,...     aborts   \n",
       "1888  (The, plan, thus, finalized, ,, Simoun, gives,...      gives   \n",
       "1894  (In, response, ,, Simoun, drinks, the, slow, -...     drinks   \n",
       "1895  (Simoun, then, makes, his, final, confession, ...      makes   \n",
       "\n",
       "     root subject  \n",
       "2          Walton  \n",
       "16         Walton  \n",
       "18         Walton  \n",
       "27         Walton  \n",
       "41         Walton  \n",
       "...           ...  \n",
       "1883       Simoun  \n",
       "1886       Simoun  \n",
       "1888       Simoun  \n",
       "1894       Simoun  \n",
       "1895       Simoun  \n",
       "\n",
       "[1193 rows x 3 columns]"
      ]
     },
     "execution_count": 22,
     "metadata": {},
     "output_type": "execute_result"
    }
   ],
   "source": [
    "print(len(propn_df_after))\n",
    "propn_df_after=propn_df_after.drop_duplicates()\n",
    "propn_df_after"
   ]
  },
  {
   "cell_type": "markdown",
   "metadata": {},
   "source": [
    "For some reason some rows are duplicates but something in the doc/tokens is different and the .drop_duplicates() doesn't work:"
   ]
  },
  {
   "cell_type": "code",
   "execution_count": 23,
   "metadata": {},
   "outputs": [
    {
     "name": "stdout",
     "output_type": "stream",
     "text": [
      "He argues that as a living being, he has a right to happiness.\n",
      "He argues that as a living being, he has a right to happiness.\n",
      "<class 'spacy.tokens.doc.Doc'> <class 'spacy.tokens.doc.Doc'>\n",
      "False\n",
      "True\n"
     ]
    }
   ],
   "source": [
    "print(pron_df['phrases'].loc[10])\n",
    "print(pron_df['phrases'].loc[2])\n",
    "print(type(pron_df['phrases'].loc[10]),type(pron_df['phrases'].loc[2]))\n",
    "print(pron_df['phrases'].loc[10]==pron_df['phrases'].loc[2])\n",
    "print(pron_df['phrases'].loc[10].text==pron_df['phrases'].loc[2].text)"
   ]
  },
  {
   "cell_type": "markdown",
   "metadata": {},
   "source": [
    "Because of this, I deleted them with the following function:"
   ]
  },
  {
   "cell_type": "code",
   "execution_count": 24,
   "metadata": {},
   "outputs": [],
   "source": [
    "def equal_phrases(dataframe):\n",
    "\n",
    "    same_index_2=[] #list of the duplicate phrase that appears in 2nd place\n",
    "\n",
    "    for phrase1_idx in dataframe['phrases'].index:\n",
    "        for phrase2_idx in dataframe['phrases'].index:\n",
    "            if dataframe['phrases'].loc[phrase1_idx].text==dataframe['phrases'].loc[phrase2_idx].text and phrase2_idx!=phrase1_idx:\n",
    "                same_index_2.append(max([phrase1_idx,phrase2_idx]))\n",
    "\n",
    "    same_index_2=list(set(same_index_2))\n",
    "    same_index_2.sort()\n",
    "    \n",
    "    return same_index_2\n"
   ]
  },
  {
   "cell_type": "code",
   "execution_count": 25,
   "metadata": {},
   "outputs": [
    {
     "name": "stdout",
     "output_type": "stream",
     "text": [
      "initial length:  1193\n",
      "after removing length:  1173\n"
     ]
    }
   ],
   "source": [
    "print('initial length: ', len(propn_df_after))\n",
    "same_index_2=equal_phrases(propn_df_after)\n",
    "propn_df_after.drop(index=same_index_2,axis=1,inplace=True)\n",
    "print('after removing length: ', len(propn_df_after))"
   ]
  },
  {
   "cell_type": "code",
   "execution_count": 26,
   "metadata": {},
   "outputs": [
    {
     "name": "stdout",
     "output_type": "stream",
     "text": [
      "initial length:  220\n",
      "after removing length:  213\n"
     ]
    }
   ],
   "source": [
    "print('initial length: ', len(noun_df_after))\n",
    "same_index_2=equal_phrases(noun_df_after)\n",
    "noun_df_after.drop(index=same_index_2,axis=1,inplace=True)\n",
    "print('after removing length: ', len(noun_df_after))"
   ]
  },
  {
   "cell_type": "code",
   "execution_count": 27,
   "metadata": {},
   "outputs": [
    {
     "name": "stdout",
     "output_type": "stream",
     "text": [
      "initial length:  762\n",
      "after removing length:  754\n"
     ]
    }
   ],
   "source": [
    "print('initial length: ', len(pron_df))\n",
    "same_index_2=equal_phrases(pron_df)\n",
    "pron_df.drop(index=same_index_2,axis=1,inplace=True)\n",
    "print('after removing length: ', len(pron_df))"
   ]
  },
  {
   "cell_type": "markdown",
   "metadata": {},
   "source": [
    "## Colouring the subject and verb"
   ]
  },
  {
   "cell_type": "markdown",
   "metadata": {},
   "source": [
    "To make the identification of the subjects easier the following function gives a version of a row with the subject and verb highlighted."
   ]
  },
  {
   "cell_type": "code",
   "execution_count": 28,
   "metadata": {},
   "outputs": [],
   "source": [
    "import re\n",
    "def highlight_word(phrase,colour_verb,colour_subj):\n",
    "    # phrase is a doc string\n",
    "    # colour is a string with rgb values (ex. 'rgb(155,217,230)')\n",
    "\n",
    "    sent=[]\n",
    "    root_verb=[root for root in phrase if root.dep_=='ROOT'][0]\n",
    "\n",
    "    for token in phrase:\n",
    "        if token.dep_=='ROOT':\n",
    "            sent.append(\" <span style='background: {}'>{}</span> \".format(colour_verb,token.text))\n",
    "        elif 'nsubj' in token.dep_ and token in root_verb.children:\n",
    "            sent.append(\" <span style='background: {}'>{}</span> \".format(colour_subj,token.text))\n",
    "        else:\n",
    "            sent.append(token.text)\n",
    "\n",
    "    \n",
    "    return ' '.join(sent)\n",
    "\n",
    "\n",
    "def paint_words(dataframe_row):\n",
    "    #receives a row of a dataframe (with ['phrases], ['root verb'] and ['root subject'] or just['phrases'] )\n",
    "    txt=dataframe_row['phrases']\n",
    "\n",
    "    colour_verb='rgb(25, 108, 56)'\n",
    "    colour_subj='rgb(188, 108, 37)'\n",
    "\n",
    "    sentence=highlight_word(txt,colour_verb,colour_subj)\n",
    "\n",
    "    return sentence"
   ]
  },
  {
   "cell_type": "markdown",
   "metadata": {},
   "source": [
    "Example of the result of the function"
   ]
  },
  {
   "cell_type": "code",
   "execution_count": 107,
   "metadata": {},
   "outputs": [
    {
     "data": {
      "text/html": [
       "At the university ,  <span style='background: rgb(188, 108, 37)'>he</span>   <span style='background: rgb(25, 108, 56)'>excels</span>  at chemistry and other sciences , soon developing a secret technique to impart life to non - living matter ."
      ],
      "text/plain": [
       "<IPython.core.display.HTML object>"
      ]
     },
     "metadata": {},
     "output_type": "display_data"
    }
   ],
   "source": [
    "# new_prop_df \n",
    "# new_pronoun_df \n",
    "# new_noun_df \n",
    "\n",
    "\n",
    "from IPython.display import HTML\n",
    "p=pron_df.loc[0]\n",
    "display(HTML(paint_words(p)))\n"
   ]
  },
  {
   "cell_type": "markdown",
   "metadata": {},
   "source": [
    "This function can be used to iterate over a dataframe and presents the highlighted phrase and a input where the user can say if the phrase is or not useful."
   ]
  },
  {
   "cell_type": "code",
   "execution_count": 108,
   "metadata": {},
   "outputs": [],
   "source": [
    "def select_useful(phrase):\n",
    "    #receives a phrase (spacy doc) and returns if it is useful or not\n",
    "    display(HTML(paint_words(phrase)))\n",
    "    print('is it useful?[y/n \\n /m - to see later \\n /s - to stop]')\n",
    "    ans=input()\n",
    "    if ans.lower()!='y' and ans.lower()!='n' and ans.lower()!='m' and ans.lower()!='s':  \n",
    "        print('Error: not allowed answer. Try again:')\n",
    "        ans=input()\n",
    "\n",
    "    return ans.lower()"
   ]
  },
  {
   "cell_type": "code",
   "execution_count": 161,
   "metadata": {},
   "outputs": [
    {
     "data": {
      "text/plain": [
       "263"
      ]
     },
     "execution_count": 161,
     "metadata": {},
     "output_type": "execute_result"
    }
   ],
   "source": [
    "list(propn_df_after.index).index(382)"
   ]
  },
  {
   "cell_type": "code",
   "execution_count": 172,
   "metadata": {},
   "outputs": [
    {
     "data": {
      "text/plain": [
       "996"
      ]
     },
     "execution_count": 172,
     "metadata": {},
     "output_type": "execute_result"
    }
   ],
   "source": [
    "list_indexes_ordered.index(1577)"
   ]
  },
  {
   "cell_type": "code",
   "execution_count": 173,
   "metadata": {},
   "outputs": [
    {
     "name": "stdout",
     "output_type": "stream",
     "text": [
      "1577\n"
     ]
    },
    {
     "data": {
      "text/html": [
       "After Elinor reads the letter ,  <span style='background: rgb(188, 108, 37)'>Marianne</span>   <span style='background: rgb(25, 108, 56)'>admits</span>  to Elinor that she and Willoughby were never engaged ."
      ],
      "text/plain": [
       "<IPython.core.display.HTML object>"
      ]
     },
     "metadata": {},
     "output_type": "display_data"
    },
    {
     "name": "stdout",
     "output_type": "stream",
     "text": [
      "1578\n"
     ]
    },
    {
     "data": {
      "text/html": [
       " <span style='background: rgb(188, 108, 37)'>Brandon</span>   <span style='background: rgb(25, 108, 56)'>tells</span>  Elinor that Marianne strongly reminds him of the elder Eliza for her sincerity and sweet impulsiveness ."
      ],
      "text/plain": [
       "<IPython.core.display.HTML object>"
      ]
     },
     "metadata": {},
     "output_type": "display_data"
    },
    {
     "name": "stdout",
     "output_type": "stream",
     "text": [
      "1580\n"
     ]
    },
    {
     "data": {
      "text/html": [
       " <span style='background: rgb(188, 108, 37)'>Edward</span>  , still sensitive of the dishonour of a broken engagement and how it would reflect poorly on Lucy Steele ,  <span style='background: rgb(25, 108, 56)'>refuses</span>  to comply ."
      ],
      "text/plain": [
       "<IPython.core.display.HTML object>"
      ]
     },
     "metadata": {},
     "output_type": "display_data"
    },
    {
     "name": "stdout",
     "output_type": "stream",
     "text": [
      "1581\n"
     ]
    },
    {
     "data": {
      "text/html": [
       "Colonel  <span style='background: rgb(188, 108, 37)'>Brandon</span>   <span style='background: rgb(25, 108, 56)'>shows</span>  his admiration by offering Edward the clerical living of the Delaford parsonage , so to enable him to marry Lucy after he is ordained ."
      ],
      "text/plain": [
       "<IPython.core.display.HTML object>"
      ]
     },
     "metadata": {},
     "output_type": "display_data"
    },
    {
     "name": "stdout",
     "output_type": "stream",
     "text": [
      "1582\n"
     ]
    },
    {
     "data": {
      "text/html": [
       " <span style='background: rgb(188, 108, 37)'>Marianne</span>  , still in misery over Willoughby 's marriage ,  <span style='background: rgb(25, 108, 56)'>goes</span>  walking in the rain and becomes dangerously ill ."
      ],
      "text/plain": [
       "<IPython.core.display.HTML object>"
      ]
     },
     "metadata": {},
     "output_type": "display_data"
    },
    {
     "name": "stdout",
     "output_type": "stream",
     "text": [
      "1584\n"
     ]
    },
    {
     "data": {
      "text/html": [
       " <span style='background: rgb(188, 108, 37)'>Marianne</span>   <span style='background: rgb(25, 108, 56)'>recovers</span>  from her illness , and Elinor tells her of Willoughby 's visit ."
      ],
      "text/plain": [
       "<IPython.core.display.HTML object>"
      ]
     },
     "metadata": {},
     "output_type": "display_data"
    },
    {
     "name": "stdout",
     "output_type": "stream",
     "text": [
      "1585\n"
     ]
    },
    {
     "data": {
      "text/html": [
       " <span style='background: rgb(188, 108, 37)'>Marianne</span>   <span style='background: rgb(25, 108, 56)'>realizes</span>  she could never have been happy with Willoughby 's immoral , erratic , and inconsiderate ways ."
      ],
      "text/plain": [
       "<IPython.core.display.HTML object>"
      ]
     },
     "metadata": {},
     "output_type": "display_data"
    },
    {
     "name": "stdout",
     "output_type": "stream",
     "text": [
      "1586\n"
     ]
    },
    {
     "data": {
      "text/html": [
       " <span style='background: rgb(188, 108, 37)'>Edward</span>  later  <span style='background: rgb(25, 108, 56)'>arrives</span>  and reveals that , after his disinheritance , Lucy jilted him in favour of his now wealthy younger brother , Robert ."
      ],
      "text/plain": [
       "<IPython.core.display.HTML object>"
      ]
     },
     "metadata": {},
     "output_type": "display_data"
    },
    {
     "name": "stdout",
     "output_type": "stream",
     "text": [
      "1589\n"
     ]
    },
    {
     "data": {
      "text/html": [
       " <span style='background: rgb(188, 108, 37)'>Pollock</span>  even  <span style='background: rgb(25, 108, 56)'>praises</span>  Sir John Middleton and Mrs. Jennings , and comments on the humour of Mr. Palmer and his \" silly wife . \""
      ],
      "text/plain": [
       "<IPython.core.display.HTML object>"
      ]
     },
     "metadata": {},
     "output_type": "display_data"
    },
    {
     "name": "stdout",
     "output_type": "stream",
     "text": [
      "1590\n"
     ]
    },
    {
     "data": {
      "text/html": [
       " <span style='background: rgb(188, 108, 37)'>Pollock</span>   <span style='background: rgb(25, 108, 56)'>criticizes</span>  Sir John Dashwood 's selfishness without mentioning Fanny 's influence upon them ."
      ],
      "text/plain": [
       "<IPython.core.display.HTML object>"
      ]
     },
     "metadata": {},
     "output_type": "display_data"
    },
    {
     "name": "stdout",
     "output_type": "stream",
     "text": [
      "1592\n"
     ]
    },
    {
     "data": {
      "text/html": [
       " <span style='background: rgb(188, 108, 37)'>Austen</span>   <span style='background: rgb(25, 108, 56)'>characterises</span>  Marianne as a sweet person with attractive qualities : intelligence , musical talent , frankness , and the capacity to love deeply ."
      ],
      "text/plain": [
       "<IPython.core.display.HTML object>"
      ]
     },
     "metadata": {},
     "output_type": "display_data"
    },
    {
     "name": "stdout",
     "output_type": "stream",
     "text": [
      "1593\n"
     ]
    },
    {
     "data": {
      "text/html": [
       " <span style='background: rgb(188, 108, 37)'>Favret</span>   <span style='background: rgb(25, 108, 56)'>claims</span>  that in Sense and Sensibility , Austen wants to \" recontextualize \" the letter and bring it into a \" new realism . \""
      ],
      "text/plain": [
       "<IPython.core.display.HTML object>"
      ]
     },
     "metadata": {},
     "output_type": "display_data"
    },
    {
     "name": "stdout",
     "output_type": "stream",
     "text": [
      "1594\n"
     ]
    },
    {
     "data": {
      "text/html": [
       "Additionally ,  <span style='background: rgb(188, 108, 37)'>Favret</span>   <span style='background: rgb(25, 108, 56)'>claims</span>  that Austen uses both of the sisters ' letter writing to emphasize the contrasts in their personalities ."
      ],
      "text/plain": [
       "<IPython.core.display.HTML object>"
      ]
     },
     "metadata": {},
     "output_type": "display_data"
    },
    {
     "name": "stdout",
     "output_type": "stream",
     "text": [
      "1595\n"
     ]
    },
    {
     "data": {
      "text/html": [
       "What is perhaps most striking about Favret 's analysis  <span style='background: rgb(25, 108, 56)'>is</span>  that she notes that the lovers who write to one another never unite with each other ."
      ],
      "text/plain": [
       "<IPython.core.display.HTML object>"
      ]
     },
     "metadata": {},
     "output_type": "display_data"
    },
    {
     "name": "stdout",
     "output_type": "stream",
     "text": [
      "1601\n"
     ]
    },
    {
     "data": {
      "text/html": [
       " <span style='background: rgb(188, 108, 37)'>Marianne</span>  also  <span style='background: rgb(25, 108, 56)'>suffers</span>  from this estrangement of nature as she is ripped from her childhood home where she enjoyed walking the grounds and looking at trees ."
      ],
      "text/plain": [
       "<IPython.core.display.HTML object>"
      ]
     },
     "metadata": {},
     "output_type": "display_data"
    },
    {
     "name": "stdout",
     "output_type": "stream",
     "text": [
      "1603\n"
     ]
    },
    {
     "data": {
      "text/html": [
       " <span style='background: rgb(188, 108, 37)'>Austen</span>   <span style='background: rgb(25, 108, 56)'>has</span>  the marriage of Robert Ferrars and Lucy Steele end"
      ],
      "text/plain": [
       "<IPython.core.display.HTML object>"
      ]
     },
     "metadata": {},
     "output_type": "display_data"
    },
    {
     "name": "stdout",
     "output_type": "stream",
     "text": [
      "1605\n"
     ]
    },
    {
     "data": {
      "text/html": [
       " <span style='background: rgb(188, 108, 37)'>Holmes</span>   <span style='background: rgb(25, 108, 56)'>reveals</span>  that he is a \" consulting detective \" and that his frequent guests are clients ."
      ],
      "text/plain": [
       "<IPython.core.display.HTML object>"
      ]
     },
     "metadata": {},
     "output_type": "display_data"
    },
    {
     "name": "stdout",
     "output_type": "stream",
     "text": [
      "1606\n"
     ]
    },
    {
     "data": {
      "text/html": [
       " <span style='background: rgb(188, 108, 37)'>Holmes</span>   <span style='background: rgb(25, 108, 56)'>gives</span>  her the duplicate and follows her , but she evades him ."
      ],
      "text/plain": [
       "<IPython.core.display.HTML object>"
      ]
     },
     "metadata": {},
     "output_type": "display_data"
    },
    {
     "name": "stdout",
     "output_type": "stream",
     "text": [
      "1609\n"
     ]
    },
    {
     "data": {
      "text/html": [
       " <span style='background: rgb(188, 108, 37)'>Holmes</span>   <span style='background: rgb(25, 108, 56)'>tests</span>  the pills on an old and sickly Scottish terrier in residence at Baker Street ."
      ],
      "text/plain": [
       "<IPython.core.display.HTML object>"
      ]
     },
     "metadata": {},
     "output_type": "display_data"
    },
    {
     "name": "stdout",
     "output_type": "stream",
     "text": [
      "1610\n"
     ]
    },
    {
     "data": {
      "text/html": [
       " <span style='background: rgb(188, 108, 37)'>Holmes</span>   <span style='background: rgb(25, 108, 56)'>sends</span>  him down to fetch the cabby , claiming to need help with his luggage ."
      ],
      "text/plain": [
       "<IPython.core.display.HTML object>"
      ]
     },
     "metadata": {},
     "output_type": "display_data"
    },
    {
     "name": "stdout",
     "output_type": "stream",
     "text": [
      "1611\n"
     ]
    },
    {
     "data": {
      "text/html": [
       "When the cabby comes upstairs and bends for the trunk ,  <span style='background: rgb(188, 108, 37)'>Holmes</span>   <span style='background: rgb(25, 108, 56)'>handcuffs</span>  and restrains him ."
      ],
      "text/plain": [
       "<IPython.core.display.HTML object>"
      ]
     },
     "metadata": {},
     "output_type": "display_data"
    },
    {
     "name": "stdout",
     "output_type": "stream",
     "text": [
      "1614\n"
     ]
    },
    {
     "data": {
      "text/html": [
       "After the altercation with Madame Charpentier 's son ,  <span style='background: rgb(188, 108, 37)'>Drebber</span>   <span style='background: rgb(25, 108, 56)'>gets</span>  into Hope 's cab and spends several hours drinking ."
      ],
      "text/plain": [
       "<IPython.core.display.HTML object>"
      ]
     },
     "metadata": {},
     "output_type": "display_data"
    },
    {
     "name": "stdout",
     "output_type": "stream",
     "text": [
      "1615\n"
     ]
    },
    {
     "data": {
      "text/html": [
       " <span style='background: rgb(188, 108, 37)'>Drebber</span>   <span style='background: rgb(25, 108, 56)'>takes</span>  the poisoned pill , and as he dies , Hope shows him Lucy 's wedding ring ."
      ],
      "text/plain": [
       "<IPython.core.display.HTML object>"
      ]
     },
     "metadata": {},
     "output_type": "display_data"
    },
    {
     "name": "stdout",
     "output_type": "stream",
     "text": [
      "1624\n"
     ]
    },
    {
     "data": {
      "text/html": [
       "Throughout his stay at Sleepy Hollow ,  <span style='background: rgb(188, 108, 37)'>Crane</span>   <span style='background: rgb(25, 108, 56)'>is</span>  able to make himself both \" useful and agreeable \" to the families that he lodges with ."
      ],
      "text/plain": [
       "<IPython.core.display.HTML object>"
      ]
     },
     "metadata": {},
     "output_type": "display_data"
    },
    {
     "name": "stdout",
     "output_type": "stream",
     "text": [
      "1626\n"
     ]
    },
    {
     "data": {
      "text/html": [
       "On a placid autumn night , the ambitious  <span style='background: rgb(188, 108, 37)'>Crane</span>   <span style='background: rgb(25, 108, 56)'>attends</span>  a harvest party at the Van Tassels ' homestead ."
      ],
      "text/plain": [
       "<IPython.core.display.HTML object>"
      ]
     },
     "metadata": {},
     "output_type": "display_data"
    },
    {
     "name": "stdout",
     "output_type": "stream",
     "text": [
      "1629\n"
     ]
    },
    {
     "data": {
      "text/html": [
       "Amid this hardship ,  <span style='background: rgb(188, 108, 37)'>Jonas</span>   <span style='background: rgb(25, 108, 56)'>deserts</span>  the family , leaving them no choice but to send two children to work as newspaper boys ."
      ],
      "text/plain": [
       "<IPython.core.display.HTML object>"
      ]
     },
     "metadata": {},
     "output_type": "display_data"
    },
    {
     "name": "stdout",
     "output_type": "stream",
     "text": [
      "1631\n"
     ]
    },
    {
     "data": {
      "text/html": [
       " <span style='background: rgb(188, 108, 37)'>Jurgis</span>  furiously  <span style='background: rgb(25, 108, 56)'>attacks</span>  Connor at his factory , but half a dozen men tear him away ."
      ],
      "text/plain": [
       "<IPython.core.display.HTML object>"
      ]
     },
     "metadata": {},
     "output_type": "display_data"
    },
    {
     "name": "stdout",
     "output_type": "stream",
     "text": [
      "1632\n"
     ]
    },
    {
     "data": {
      "text/html": [
       "Upon arriving at the boarding house ,  <span style='background: rgb(188, 108, 37)'>Jurgis</span>   <span style='background: rgb(25, 108, 56)'>hears</span>  Ona screaming ."
      ],
      "text/plain": [
       "<IPython.core.display.HTML object>"
      ]
     },
     "metadata": {},
     "output_type": "display_data"
    },
    {
     "name": "stdout",
     "output_type": "stream",
     "text": [
      "1633\n"
     ]
    },
    {
     "data": {
      "text/html": [
       "The children return with a day 's wages ;  <span style='background: rgb(188, 108, 37)'>Jurgis</span>   <span style='background: rgb(25, 108, 56)'>spends</span>  all of it to get drunk for the night ."
      ],
      "text/plain": [
       "<IPython.core.display.HTML object>"
      ]
     },
     "metadata": {},
     "output_type": "display_data"
    },
    {
     "name": "stdout",
     "output_type": "stream",
     "text": [
      "1634\n"
     ]
    },
    {
     "data": {
      "text/html": [
       "One day ,  <span style='background: rgb(188, 108, 37)'>Jurgis</span>   <span style='background: rgb(25, 108, 56)'>arrives</span>  home to discover that his son had drowned after falling off a rotting boardwalk into the muddy streets ."
      ],
      "text/plain": [
       "<IPython.core.display.HTML object>"
      ]
     },
     "metadata": {},
     "output_type": "display_data"
    },
    {
     "name": "stdout",
     "output_type": "stream",
     "text": [
      "1635\n"
     ]
    },
    {
     "data": {
      "text/html": [
       " <span style='background: rgb(188, 108, 37)'>Jurgis</span>   <span style='background: rgb(25, 108, 56)'>wanders</span>  the countryside while the weather is warm , working , foraging , and stealing for food , shelter , and drink ."
      ],
      "text/plain": [
       "<IPython.core.display.HTML object>"
      ]
     },
     "metadata": {},
     "output_type": "display_data"
    },
    {
     "name": "stdout",
     "output_type": "stream",
     "text": [
      "1636\n"
     ]
    },
    {
     "data": {
      "text/html": [
       " <span style='background: rgb(188, 108, 37)'>Jurgis</span>   <span style='background: rgb(25, 108, 56)'>attacks</span>  the bartender and is sentenced to prison again , where he once again meets Jack Duane ."
      ],
      "text/plain": [
       "<IPython.core.display.HTML object>"
      ]
     },
     "metadata": {},
     "output_type": "display_data"
    },
    {
     "name": "stdout",
     "output_type": "stream",
     "text": [
      "1637\n"
     ]
    },
    {
     "data": {
      "text/html": [
       "This time , without a family to anchor him ,  <span style='background: rgb(188, 108, 37)'>Jurgis</span>   <span style='background: rgb(25, 108, 56)'>decides</span>  to fall in with him ."
      ],
      "text/plain": [
       "<IPython.core.display.HTML object>"
      ]
     },
     "metadata": {},
     "output_type": "display_data"
    },
    {
     "name": "stdout",
     "output_type": "stream",
     "text": [
      "1638\n"
     ]
    },
    {
     "data": {
      "text/html": [
       "With no other options ,  <span style='background: rgb(188, 108, 37)'>Jurgis</span>   <span style='background: rgb(25, 108, 56)'>returns</span>  to begging and chances upon a woman who had been a guest to his wedding ."
      ],
      "text/plain": [
       "<IPython.core.display.HTML object>"
      ]
     },
     "metadata": {},
     "output_type": "display_data"
    },
    {
     "name": "stdout",
     "output_type": "stream",
     "text": [
      "1639\n"
     ]
    },
    {
     "data": {
      "text/html": [
       "Marija has a customer , so  <span style='background: rgb(188, 108, 37)'>Jurgis</span>   <span style='background: rgb(25, 108, 56)'>leaves</span>  and finds a political meeting for a warm place to stay ."
      ],
      "text/plain": [
       "<IPython.core.display.HTML object>"
      ]
     },
     "metadata": {},
     "output_type": "display_data"
    },
    {
     "name": "stdout",
     "output_type": "stream",
     "text": [
      "1640\n"
     ]
    },
    {
     "data": {
      "text/html": [
       "Enraptured by his speech ,  <span style='background: rgb(188, 108, 37)'>Jurgis</span>   <span style='background: rgb(25, 108, 56)'>seeks</span>  out the orator afterward ."
      ],
      "text/plain": [
       "<IPython.core.display.HTML object>"
      ]
     },
     "metadata": {},
     "output_type": "display_data"
    },
    {
     "name": "stdout",
     "output_type": "stream",
     "text": [
      "1641\n"
     ]
    },
    {
     "data": {
      "text/html": [
       " <span style='background: rgb(188, 108, 37)'>Jurgis</span>  passionately  <span style='background: rgb(25, 108, 56)'>dedicates</span>  his life to the cause of socialism ."
      ],
      "text/plain": [
       "<IPython.core.display.HTML object>"
      ]
     },
     "metadata": {},
     "output_type": "display_data"
    },
    {
     "name": "stdout",
     "output_type": "stream",
     "text": [
      "1644\n"
     ]
    },
    {
     "data": {
      "text/html": [
       "Superintendent Mr.  <span style='background: rgb(188, 108, 37)'>Gradgrind</span>   <span style='background: rgb(25, 108, 56)'>opens</span>  the novel at his school in Coketown stating , \" Now , what I want is Facts ."
      ],
      "text/plain": [
       "<IPython.core.display.HTML object>"
      ]
     },
     "metadata": {},
     "output_type": "display_data"
    },
    {
     "name": "stdout",
     "output_type": "stream",
     "text": [
      "1645\n"
     ]
    },
    {
     "data": {
      "text/html": [
       "Because her father works with horses ,  <span style='background: rgb(188, 108, 37)'>Gradgrind</span>   <span style='background: rgb(25, 108, 56)'>demands</span>  the definition of a horse ."
      ],
      "text/plain": [
       "<IPython.core.display.HTML object>"
      ]
     },
     "metadata": {},
     "output_type": "display_data"
    },
    {
     "name": "stdout",
     "output_type": "stream",
     "text": [
      "1646\n"
     ]
    },
    {
     "data": {
      "text/html": [
       " <span style='background: rgb(188, 108, 37)'>Bounderby</span>   <span style='background: rgb(25, 108, 56)'>is</span>  a manufacturer and mill owner who is affluent as a result of his enterprise and capital ."
      ],
      "text/plain": [
       "<IPython.core.display.HTML object>"
      ]
     },
     "metadata": {},
     "output_type": "display_data"
    },
    {
     "name": "stdout",
     "output_type": "stream",
     "text": [
      "1647\n"
     ]
    },
    {
     "data": {
      "text/html": [
       "Mrs.  <span style='background: rgb(188, 108, 37)'>Sparsit</span>  , Mr. Bounderby 's housekeeper , disapproves of Stephen 's query and Bounderby  <span style='background: rgb(25, 108, 56)'>explains</span>  that ending a marriage would be complex and prohibitively costly ."
      ],
      "text/plain": [
       "<IPython.core.display.HTML object>"
      ]
     },
     "metadata": {},
     "output_type": "display_data"
    },
    {
     "name": "stdout",
     "output_type": "stream",
     "text": [
      "1648\n"
     ]
    },
    {
     "data": {
      "text/html": [
       "When Stephen points out the injustice of this ,  <span style='background: rgb(188, 108, 37)'>Bounderby</span>   <span style='background: rgb(25, 108, 56)'>accuses</span>  him of having ideas above his station ."
      ],
      "text/plain": [
       "<IPython.core.display.HTML object>"
      ]
     },
     "metadata": {},
     "output_type": "display_data"
    },
    {
     "name": "stdout",
     "output_type": "stream",
     "text": [
      "1649\n"
     ]
    },
    {
     "data": {
      "text/html": [
       "When Rachael falls asleep , Mrs.  <span style='background: rgb(188, 108, 37)'>Blackpool</span>   <span style='background: rgb(25, 108, 56)'>wakes</span>  up and mistakes a bottle of medicine for alcohol ."
      ],
      "text/plain": [
       "<IPython.core.display.HTML object>"
      ]
     },
     "metadata": {},
     "output_type": "display_data"
    },
    {
     "name": "stdout",
     "output_type": "stream",
     "text": [
      "1650\n"
     ]
    },
    {
     "data": {
      "text/html": [
       " <span style='background: rgb(188, 108, 37)'>Tom</span>  , her brother , elatedly  <span style='background: rgb(25, 108, 56)'>bids</span>  her farewell ."
      ],
      "text/plain": [
       "<IPython.core.display.HTML object>"
      ]
     },
     "metadata": {},
     "output_type": "display_data"
    },
    {
     "name": "stdout",
     "output_type": "stream",
     "text": [
      "1651\n"
     ]
    },
    {
     "data": {
      "text/html": [
       "Mrs.  <span style='background: rgb(188, 108, 37)'>Sparsit</span>   <span style='background: rgb(25, 108, 56)'>observes</span>  the advancing relationship between James Harthouse and Louisa , and suspects an adulterous liaison ."
      ],
      "text/plain": [
       "<IPython.core.display.HTML object>"
      ]
     },
     "metadata": {},
     "output_type": "display_data"
    },
    {
     "name": "stdout",
     "output_type": "stream",
     "text": [
      "1652\n"
     ]
    },
    {
     "data": {
      "text/html": [
       "When Harthouse confesses his love for Louisa ,  <span style='background: rgb(188, 108, 37)'>Louisa</span>   <span style='background: rgb(25, 108, 56)'>refuses</span>  him ."
      ],
      "text/plain": [
       "<IPython.core.display.HTML object>"
      ]
     },
     "metadata": {},
     "output_type": "display_data"
    },
    {
     "name": "stdout",
     "output_type": "stream",
     "text": [
      "1654\n"
     ]
    },
    {
     "data": {
      "text/html": [
       "They leave separately , and Mrs. Sparsit follows Louisa to the station , where Louisa boards a train to her father 's house ; Mrs  <span style='background: rgb(188, 108, 37)'>Sparsit</span>   <span style='background: rgb(25, 108, 56)'>loses</span>  her ."
      ],
      "text/plain": [
       "<IPython.core.display.HTML object>"
      ]
     },
     "metadata": {},
     "output_type": "display_data"
    },
    {
     "name": "stdout",
     "output_type": "stream",
     "text": [
      "1655\n"
     ]
    },
    {
     "data": {
      "text/html": [
       "Having argued that her rigorous education has stifled her ability to express her emotions ,  <span style='background: rgb(188, 108, 37)'>Louisa</span>   <span style='background: rgb(25, 108, 56)'>collapses</span>  at her father 's feet in a dead faint ."
      ],
      "text/plain": [
       "<IPython.core.display.HTML object>"
      ]
     },
     "metadata": {},
     "output_type": "display_data"
    },
    {
     "name": "stdout",
     "output_type": "stream",
     "text": [
      "1656\n"
     ]
    },
    {
     "data": {
      "text/html": [
       "At Bounderby 's London hotel , Mrs.  <span style='background: rgb(188, 108, 37)'>Sparsit</span>   <span style='background: rgb(25, 108, 56)'>gives</span>  him the news her surveillance has brought ."
      ],
      "text/plain": [
       "<IPython.core.display.HTML object>"
      ]
     },
     "metadata": {},
     "output_type": "display_data"
    },
    {
     "name": "stdout",
     "output_type": "stream",
     "text": [
      "1657\n"
     ]
    },
    {
     "data": {
      "text/html": [
       " <span style='background: rgb(188, 108, 37)'>Bounderby</span>   <span style='background: rgb(25, 108, 56)'>takes</span>  her back to Coketown and to Stone Lodge , where Louisa is resting ."
      ],
      "text/plain": [
       "<IPython.core.display.HTML object>"
      ]
     },
     "metadata": {},
     "output_type": "display_data"
    },
    {
     "name": "stdout",
     "output_type": "stream",
     "text": [
      "1658\n"
     ]
    },
    {
     "data": {
      "text/html": [
       " <span style='background: rgb(188, 108, 37)'>Gradgrind</span>   <span style='background: rgb(25, 108, 56)'>tells</span>  Bounderby that Louisa resisted Harthouse 's advances , but has experienced a crisis and needs time to recover ."
      ],
      "text/plain": [
       "<IPython.core.display.HTML object>"
      ]
     },
     "metadata": {},
     "output_type": "display_data"
    },
    {
     "name": "stdout",
     "output_type": "stream",
     "text": [
      "1659\n"
     ]
    },
    {
     "data": {
      "text/html": [
       " <span style='background: rgb(188, 108, 37)'>Bounderby</span>   <span style='background: rgb(25, 108, 56)'>is</span>  immensely indignant and ill - mannered , especially towards Mrs. Sparsit for misleading him ."
      ],
      "text/plain": [
       "<IPython.core.display.HTML object>"
      ]
     },
     "metadata": {},
     "output_type": "display_data"
    },
    {
     "name": "stdout",
     "output_type": "stream",
     "text": [
      "1660\n"
     ]
    },
    {
     "data": {
      "text/html": [
       "Ignoring Gradgrind 's  <span style='background: rgb(25, 108, 56)'>pleas</span>  , he  <span style='background: rgb(25, 108, 56)'>announces</span>  that unless Louisa returns to him the next day , the marriage will end ."
      ],
      "text/plain": [
       "<IPython.core.display.HTML object>"
      ]
     },
     "metadata": {},
     "output_type": "display_data"
    },
    {
     "name": "stdout",
     "output_type": "stream",
     "text": [
      "1661\n"
     ]
    },
    {
     "data": {
      "text/html": [
       " <span style='background: rgb(188, 108, 37)'>Harthouse</span>   <span style='background: rgb(25, 108, 56)'>leaves</span>  Coketown after Sissy tells him never to return ."
      ],
      "text/plain": [
       "<IPython.core.display.HTML object>"
      ]
     },
     "metadata": {},
     "output_type": "display_data"
    },
    {
     "name": "stdout",
     "output_type": "stream",
     "text": [
      "1662\n"
     ]
    },
    {
     "data": {
      "text/html": [
       " <span style='background: rgb(188, 108, 37)'>Gradgrind</span>   <span style='background: rgb(25, 108, 56)'>arrives</span>  and despairs , and a plan is hatched with Sleary 's co - operation to get Tom to Liverpool , where he can escape abroad ."
      ],
      "text/plain": [
       "<IPython.core.display.HTML object>"
      ]
     },
     "metadata": {},
     "output_type": "display_data"
    },
    {
     "name": "stdout",
     "output_type": "stream",
     "text": [
      "1663\n"
     ]
    },
    {
     "data": {
      "text/html": [
       "Thomas  <span style='background: rgb(188, 108, 37)'>Gradgrind</span>   <span style='background: rgb(25, 108, 56)'>is</span>  the notorious school board Superintendent , who is dedicated to the pursuit of profitable enterprise ."
      ],
      "text/plain": [
       "<IPython.core.display.HTML object>"
      ]
     },
     "metadata": {},
     "output_type": "display_data"
    },
    {
     "name": "stdout",
     "output_type": "stream",
     "text": [
      "1664\n"
     ]
    },
    {
     "data": {
      "text/html": [
       "Josiah  <span style='background: rgb(188, 108, 37)'>Bounderby</span>   <span style='background: rgb(25, 108, 56)'>is</span>  a business associate of Mr. Gradgrind ."
      ],
      "text/plain": [
       "<IPython.core.display.HTML object>"
      ]
     },
     "metadata": {},
     "output_type": "display_data"
    },
    {
     "name": "stdout",
     "output_type": "stream",
     "text": [
      "1665\n"
     ]
    },
    {
     "data": {
      "text/html": [
       " <span style='background: rgb(188, 108, 37)'>Bounderby</span>   <span style='background: rgb(25, 108, 56)'>is</span>  callous , self - centred and ultimately revealed to be a liar and fraud ."
      ],
      "text/plain": [
       "<IPython.core.display.HTML object>"
      ]
     },
     "metadata": {},
     "output_type": "display_data"
    },
    {
     "name": "stdout",
     "output_type": "stream",
     "text": [
      "1666\n"
     ]
    },
    {
     "data": {
      "text/html": [
       "Louisa ( Loo )  <span style='background: rgb(188, 108, 37)'>Gradgrind</span>  , ( later Louisa Bounderby ) ,  <span style='background: rgb(25, 108, 56)'>is</span>  the eldest child of the Gradgrind family ."
      ],
      "text/plain": [
       "<IPython.core.display.HTML object>"
      ]
     },
     "metadata": {},
     "output_type": "display_data"
    },
    {
     "name": "stdout",
     "output_type": "stream",
     "text": [
      "1667\n"
     ]
    },
    {
     "data": {
      "text/html": [
       "With the urging of Josiah Bounderby , Mr.  <span style='background: rgb(188, 108, 37)'>Gradgrind</span>   <span style='background: rgb(25, 108, 56)'>goes</span>  to inform Sissy 's father that she can no longer attend his school ."
      ],
      "text/plain": [
       "<IPython.core.display.HTML object>"
      ]
     },
     "metadata": {},
     "output_type": "display_data"
    },
    {
     "name": "stdout",
     "output_type": "stream",
     "text": [
      "1668\n"
     ]
    },
    {
     "data": {
      "text/html": [
       "In a moment of compassion , Mr.  <span style='background: rgb(188, 108, 37)'>Gradgrind</span>   <span style='background: rgb(25, 108, 56)'>takes</span>  Sissy into his home and gives her a second chance at the school ."
      ],
      "text/plain": [
       "<IPython.core.display.HTML object>"
      ]
     },
     "metadata": {},
     "output_type": "display_data"
    },
    {
     "name": "stdout",
     "output_type": "stream",
     "text": [
      "1669\n"
     ]
    },
    {
     "data": {
      "text/html": [
       "Sissy continues to fall behind in the school , so Mr.  <span style='background: rgb(188, 108, 37)'>Gradgrind</span>   <span style='background: rgb(25, 108, 56)'>keeps</span>  her at home to tend to his invalid wife ."
      ],
      "text/plain": [
       "<IPython.core.display.HTML object>"
      ]
     },
     "metadata": {},
     "output_type": "display_data"
    },
    {
     "name": "stdout",
     "output_type": "stream",
     "text": [
      "1671\n"
     ]
    },
    {
     "data": {
      "text/html": [
       "Initially sullen and resentful of his father 's Utilitarian education ,  <span style='background: rgb(188, 108, 37)'>Tom</span>   <span style='background: rgb(25, 108, 56)'>has</span>  a strong relationship with his sister Louisa ."
      ],
      "text/plain": [
       "<IPython.core.display.HTML object>"
      ]
     },
     "metadata": {},
     "output_type": "display_data"
    },
    {
     "name": "stdout",
     "output_type": "stream",
     "text": [
      "1672\n"
     ]
    },
    {
     "data": {
      "text/html": [
       " <span style='background: rgb(188, 108, 37)'>Louisa</span>  never  <span style='background: rgb(25, 108, 56)'>ceases</span>  to adore Tom , and she aids Sissy and Mr. Gradgrind in saving her brother from arrest ."
      ],
      "text/plain": [
       "<IPython.core.display.HTML object>"
      ]
     },
     "metadata": {},
     "output_type": "display_data"
    },
    {
     "name": "stdout",
     "output_type": "stream",
     "text": [
      "1673\n"
     ]
    },
    {
     "data": {
      "text/html": [
       "Stephen  <span style='background: rgb(188, 108, 37)'>Blackpool</span>   <span style='background: rgb(25, 108, 56)'>is</span>  a worker at one of Bounderby 's mills ."
      ],
      "text/plain": [
       "<IPython.core.display.HTML object>"
      ]
     },
     "metadata": {},
     "output_type": "display_data"
    },
    {
     "name": "stdout",
     "output_type": "stream",
     "text": [
      "1674\n"
     ]
    },
    {
     "data": {
      "text/html": [
       " <span style='background: rgb(188, 108, 37)'>Bitzer</span>  –  <span style='background: rgb(25, 108, 56)'>is</span>  a very pale classmate of Sissy 's who is brought up on facts and taught to operate according to self - interest ."
      ],
      "text/plain": [
       "<IPython.core.display.HTML object>"
      ]
     },
     "metadata": {},
     "output_type": "display_data"
    },
    {
     "name": "stdout",
     "output_type": "stream",
     "text": [
      "1676\n"
     ]
    },
    {
     "data": {
      "text/html": [
       "Mrs.  <span style='background: rgb(188, 108, 37)'>Sparsit</span>  –  <span style='background: rgb(25, 108, 56)'>is</span>  a widow who has fallen on hard times ."
      ],
      "text/plain": [
       "<IPython.core.display.HTML object>"
      ]
     },
     "metadata": {},
     "output_type": "display_data"
    },
    {
     "name": "stdout",
     "output_type": "stream",
     "text": [
      "1677\n"
     ]
    },
    {
     "data": {
      "text/html": [
       "James  <span style='background: rgb(188, 108, 37)'>Harthouse</span>  –  <span style='background: rgb(25, 108, 56)'>is</span>  an indolent , languid , upper - class gentleman , who attempts to woo Louisa ."
      ],
      "text/plain": [
       "<IPython.core.display.HTML object>"
      ]
     },
     "metadata": {},
     "output_type": "display_data"
    },
    {
     "name": "stdout",
     "output_type": "stream",
     "text": [
      "1678\n"
     ]
    },
    {
     "data": {
      "text/html": [
       "Mrs.  <span style='background: rgb(188, 108, 37)'>Gradgrind</span>  – the wife of Mr. Gradgrind ,  <span style='background: rgb(25, 108, 56)'>is</span>  an invalid who constantly complains ."
      ],
      "text/plain": [
       "<IPython.core.display.HTML object>"
      ]
     },
     "metadata": {},
     "output_type": "display_data"
    },
    {
     "name": "stdout",
     "output_type": "stream",
     "text": [
      "1679\n"
     ]
    },
    {
     "data": {
      "text/html": [
       " <span style='background: rgb(188, 108, 37)'>Bitzer</span>  , who adheres to Gradgrind 's teachings ,  <span style='background: rgb(25, 108, 56)'>becomes</span>  an uncompassionate egotist ."
      ],
      "text/plain": [
       "<IPython.core.display.HTML object>"
      ]
     },
     "metadata": {},
     "output_type": "display_data"
    },
    {
     "name": "stdout",
     "output_type": "stream",
     "text": [
      "1680\n"
     ]
    },
    {
     "data": {
      "text/html": [
       "Mr.  <span style='background: rgb(188, 108, 37)'>Bounderby</span>  himself  <span style='background: rgb(25, 108, 56)'>superintends</span>  through calculating tabular statements and statistics , and is always secretly rebuking the people of Coketown for indulging in conceitful activities ."
      ],
      "text/plain": [
       "<IPython.core.display.HTML object>"
      ]
     },
     "metadata": {},
     "output_type": "display_data"
    },
    {
     "name": "stdout",
     "output_type": "stream",
     "text": [
      "1681\n"
     ]
    },
    {
     "data": {
      "text/html": [
       " <span style='background: rgb(188, 108, 37)'>Dickens</span>   <span style='background: rgb(25, 108, 56)'>portrays</span>  the wealthy in this novel as being morally corrupt ."
      ],
      "text/plain": [
       "<IPython.core.display.HTML object>"
      ]
     },
     "metadata": {},
     "output_type": "display_data"
    },
    {
     "name": "stdout",
     "output_type": "stream",
     "text": [
      "1682\n"
     ]
    },
    {
     "data": {
      "text/html": [
       " <span style='background: rgb(188, 108, 37)'>Bounderby</span>   <span style='background: rgb(25, 108, 56)'>has</span>  no moral scruples , and , for example , fires Blackpool \" for a novelty \" ."
      ],
      "text/plain": [
       "<IPython.core.display.HTML object>"
      ]
     },
     "metadata": {},
     "output_type": "display_data"
    },
    {
     "name": "stdout",
     "output_type": "stream",
     "text": [
      "1683\n"
     ]
    },
    {
     "data": {
      "text/html": [
       " <span style='background: rgb(188, 108, 37)'>Dickens</span>   <span style='background: rgb(25, 108, 56)'>is</span>  also concerned , throughout Hard Times , with the effects of social class on the morality of individuals ."
      ],
      "text/plain": [
       "<IPython.core.display.HTML object>"
      ]
     },
     "metadata": {},
     "output_type": "display_data"
    },
    {
     "name": "stdout",
     "output_type": "stream",
     "text": [
      "1684\n"
     ]
    },
    {
     "data": {
      "text/html": [
       " <span style='background: rgb(188, 108, 37)'>Bazalgette</span>   <span style='background: rgb(25, 108, 56)'>was</span>  a proponent of the use of Portland cement , a material stronger than standard cement , but with a weakness when over - heated ."
      ],
      "text/plain": [
       "<IPython.core.display.HTML object>"
      ]
     },
     "metadata": {},
     "output_type": "display_data"
    },
    {
     "name": "stdout",
     "output_type": "stream",
     "text": [
      "1685\n"
     ]
    },
    {
     "data": {
      "text/html": [
       " <span style='background: rgb(188, 108, 37)'>Pooh</span>  the swan  <span style='background: rgb(25, 108, 56)'>appears</span>  as a character in its own right in When We Were Very Young ."
      ],
      "text/plain": [
       "<IPython.core.display.HTML object>"
      ]
     },
     "metadata": {},
     "output_type": "display_data"
    },
    {
     "name": "stdout",
     "output_type": "stream",
     "text": [
      "1686\n"
     ]
    },
    {
     "data": {
      "text/html": [
       "In the centre of this hilltop  <span style='background: rgb(25, 108, 56)'>was</span>  a clump of pines . \""
      ],
      "text/plain": [
       "<IPython.core.display.HTML object>"
      ]
     },
     "metadata": {},
     "output_type": "display_data"
    },
    {
     "name": "stdout",
     "output_type": "stream",
     "text": [
      "1687\n"
     ]
    },
    {
     "data": {
      "text/html": [
       "In the Milne books ,  <span style='background: rgb(188, 108, 37)'>Pooh</span>   <span style='background: rgb(25, 108, 56)'>is</span>  naive and slow - witted , but he is also friendly , thoughtful , and steadfast ."
      ],
      "text/plain": [
       "<IPython.core.display.HTML object>"
      ]
     },
     "metadata": {},
     "output_type": "display_data"
    },
    {
     "name": "stdout",
     "output_type": "stream",
     "text": [
      "1688\n"
     ]
    },
    {
     "data": {
      "text/html": [
       " <span style='background: rgb(188, 108, 37)'>Pooh</span>   <span style='background: rgb(25, 108, 56)'>is</span>  also a talented poet and the stories are frequently punctuated by his poems and \" hums \" ."
      ],
      "text/plain": [
       "<IPython.core.display.HTML object>"
      ]
     },
     "metadata": {},
     "output_type": "display_data"
    },
    {
     "name": "stdout",
     "output_type": "stream",
     "text": [
      "1689\n"
     ]
    },
    {
     "data": {
      "text/html": [
       " <span style='background: rgb(188, 108, 37)'>Pooh</span>   <span style='background: rgb(25, 108, 56)'>is</span>  very fond of food , particularly \" hunny \" , but also condensed milk and other items ."
      ],
      "text/plain": [
       "<IPython.core.display.HTML object>"
      ]
     },
     "metadata": {},
     "output_type": "display_data"
    },
    {
     "name": "stdout",
     "output_type": "stream",
     "text": [
      "1690\n"
     ]
    },
    {
     "data": {
      "text/html": [
       " <span style='background: rgb(188, 108, 37)'>Pooh</span>   <span style='background: rgb(25, 108, 56)'>makes</span>  it a habit to have \" a little something \" around 11:00 in the morning ."
      ],
      "text/plain": [
       "<IPython.core.display.HTML object>"
      ]
     },
     "metadata": {},
     "output_type": "display_data"
    },
    {
     "name": "stdout",
     "output_type": "stream",
     "text": [
      "1691\n"
     ]
    },
    {
     "data": {
      "text/html": [
       "By November 1931 ,  <span style='background: rgb(188, 108, 37)'>Pooh</span>   <span style='background: rgb(25, 108, 56)'>was</span>  a $ 50 million - a - year business ."
      ],
      "text/plain": [
       "<IPython.core.display.HTML object>"
      ]
     },
     "metadata": {},
     "output_type": "display_data"
    },
    {
     "name": "stdout",
     "output_type": "stream",
     "text": [
      "1698\n"
     ]
    },
    {
     "data": {
      "text/html": [
       "Henry Spencer  <span style='background: rgb(188, 108, 37)'>Ashbee</span>   <span style='background: rgb(25, 108, 56)'>discusses</span>  this novel in one of his bibliographies of erotic literature ."
      ],
      "text/plain": [
       "<IPython.core.display.HTML object>"
      ]
     },
     "metadata": {},
     "output_type": "display_data"
    },
    {
     "name": "stdout",
     "output_type": "stream",
     "text": [
      "1699\n"
     ]
    },
    {
     "data": {
      "text/html": [
       " <span style='background: rgb(188, 108, 37)'>Charlie</span>   <span style='background: rgb(25, 108, 56)'>possesses</span>  a large penis , much virility , and a seemingly insatiable sexual appetite ."
      ],
      "text/plain": [
       "<IPython.core.display.HTML object>"
      ]
     },
     "metadata": {},
     "output_type": "display_data"
    },
    {
     "name": "stdout",
     "output_type": "stream",
     "text": [
      "1700\n"
     ]
    },
    {
     "data": {
      "text/html": [
       " <span style='background: rgb(188, 108, 37)'>Charlie</span>   <span style='background: rgb(25, 108, 56)'>describes</span>  his sexual initiation as an adolescent — as he is \" approaching fifteen \" ."
      ],
      "text/plain": [
       "<IPython.core.display.HTML object>"
      ]
     },
     "metadata": {},
     "output_type": "display_data"
    },
    {
     "name": "stdout",
     "output_type": "stream",
     "text": [
      "1701\n"
     ]
    },
    {
     "data": {
      "text/html": [
       " <span style='background: rgb(188, 108, 37)'>Ashbee</span>   <span style='background: rgb(25, 108, 56)'>asserts</span>  that Potter acted as editor to contributions by a number of aficionados ."
      ],
      "text/plain": [
       "<IPython.core.display.HTML object>"
      ]
     },
     "metadata": {},
     "output_type": "display_data"
    },
    {
     "name": "stdout",
     "output_type": "stream",
     "text": [
      "1703\n"
     ]
    },
    {
     "data": {
      "text/html": [
       "At first ,  <span style='background: rgb(188, 108, 37)'>Mary</span>   <span style='background: rgb(25, 108, 56)'>is</span>  as sour and rude as ever ."
      ],
      "text/plain": [
       "<IPython.core.display.HTML object>"
      ]
     },
     "metadata": {},
     "output_type": "display_data"
    },
    {
     "name": "stdout",
     "output_type": "stream",
     "text": [
      "1704\n"
     ]
    },
    {
     "data": {
      "text/html": [
       " <span style='background: rgb(188, 108, 37)'>Mary</span>   <span style='background: rgb(25, 108, 56)'>becomes</span>  interested in finding the secret garden herself , and her ill manners begin to soften as a result ."
      ],
      "text/plain": [
       "<IPython.core.display.HTML object>"
      ]
     },
     "metadata": {},
     "output_type": "display_data"
    },
    {
     "name": "stdout",
     "output_type": "stream",
     "text": [
      "1706\n"
     ]
    },
    {
     "data": {
      "text/html": [
       " <span style='background: rgb(188, 108, 37)'>Mary</span>   <span style='background: rgb(25, 108, 56)'>wonders</span>  about the secret garden and about mysterious cries that echo through the house at night ."
      ],
      "text/plain": [
       "<IPython.core.display.HTML object>"
      ]
     },
     "metadata": {},
     "output_type": "display_data"
    },
    {
     "name": "stdout",
     "output_type": "stream",
     "text": [
      "1708\n"
     ]
    },
    {
     "data": {
      "text/html": [
       "Here ,  <span style='background: rgb(188, 108, 37)'>Mary</span>   <span style='background: rgb(25, 108, 56)'>finds</span>  the key to the locked garden , and eventually she discovers the door to the garden ."
      ],
      "text/plain": [
       "<IPython.core.display.HTML object>"
      ]
     },
     "metadata": {},
     "output_type": "display_data"
    },
    {
     "name": "stdout",
     "output_type": "stream",
     "text": [
      "1709\n"
     ]
    },
    {
     "data": {
      "text/html": [
       "Eager to absorb his gardening knowledge ,  <span style='background: rgb(188, 108, 37)'>Mary</span>   <span style='background: rgb(25, 108, 56)'>tells</span>  him about the secret garden ."
      ],
      "text/plain": [
       "<IPython.core.display.HTML object>"
      ]
     },
     "metadata": {},
     "output_type": "display_data"
    },
    {
     "name": "stdout",
     "output_type": "stream",
     "text": [
      "1711\n"
     ]
    },
    {
     "data": {
      "text/html": [
       "One night ,  <span style='background: rgb(188, 108, 37)'>Mary</span>   <span style='background: rgb(25, 108, 56)'>hears</span>  the cries once more and decides to follow them through the house ."
      ],
      "text/plain": [
       "<IPython.core.display.HTML object>"
      ]
     },
     "metadata": {},
     "output_type": "display_data"
    },
    {
     "name": "stdout",
     "output_type": "stream",
     "text": [
      "1712\n"
     ]
    },
    {
     "data": {
      "text/html": [
       " <span style='background: rgb(188, 108, 37)'>Mary</span>   <span style='background: rgb(25, 108, 56)'>visits</span>  him every day that week , distracting him from his troubles with stories of the moor , Dickon and his animals and the secret garden ."
      ],
      "text/plain": [
       "<IPython.core.display.HTML object>"
      ]
     },
     "metadata": {},
     "output_type": "display_data"
    },
    {
     "name": "stdout",
     "output_type": "stream",
     "text": [
      "1713\n"
     ]
    },
    {
     "data": {
      "text/html": [
       " <span style='background: rgb(188, 108, 37)'>Mary</span>  finally  <span style='background: rgb(25, 108, 56)'>confides</span>  that she has access to the secret garden , and Colin asks to see it ."
      ],
      "text/plain": [
       "<IPython.core.display.HTML object>"
      ]
     },
     "metadata": {},
     "output_type": "display_data"
    },
    {
     "name": "stdout",
     "output_type": "stream",
     "text": [
      "1715\n"
     ]
    },
    {
     "data": {
      "text/html": [
       "Little Lord  <span style='background: rgb(188, 108, 37)'>Fauntleroy</span>   <span style='background: rgb(25, 108, 56)'>was</span>  a \" literary sensation \" in both the United States and Europe , and sold \" hundreds of thousands of copies . \""
      ],
      "text/plain": [
       "<IPython.core.display.HTML object>"
      ]
     },
     "metadata": {},
     "output_type": "display_data"
    },
    {
     "name": "stdout",
     "output_type": "stream",
     "text": [
      "1718\n"
     ]
    },
    {
     "data": {
      "text/html": [
       "Jeffrey  <span style='background: rgb(188, 108, 37)'>Masson</span>   <span style='background: rgb(25, 108, 56)'>considers</span>  The Secret Garden \" one of the greatest books ever written for children \" ."
      ],
      "text/plain": [
       "<IPython.core.display.HTML object>"
      ]
     },
     "metadata": {},
     "output_type": "display_data"
    },
    {
     "name": "stdout",
     "output_type": "stream",
     "text": [
      "1726\n"
     ]
    },
    {
     "data": {
      "text/html": [
       " <span style='background: rgb(188, 108, 37)'>Dante</span>   <span style='background: rgb(25, 108, 56)'>draws</span>  on medieval Roman Catholic theology and philosophy , especially Thomistic philosophy derived from the Summa Theologica of Thomas Aquinas ."
      ],
      "text/plain": [
       "<IPython.core.display.HTML object>"
      ]
     },
     "metadata": {},
     "output_type": "display_data"
    },
    {
     "name": "stdout",
     "output_type": "stream",
     "text": [
      "1727\n"
     ]
    },
    {
     "data": {
      "text/html": [
       "The Roman  <span style='background: rgb(188, 108, 37)'>poet</span>   <span style='background: rgb(188, 108, 37)'>Virgil</span>   <span style='background: rgb(25, 108, 56)'>guides</span>  him through Hell and Purgatory ; Beatrice , Dante 's ideal woman , guides him through Heaven ."
      ],
      "text/plain": [
       "<IPython.core.display.HTML object>"
      ]
     },
     "metadata": {},
     "output_type": "display_data"
    },
    {
     "name": "stdout",
     "output_type": "stream",
     "text": [
      "1729\n"
     ]
    },
    {
     "data": {
      "text/html": [
       "After an initial ascension ,  <span style='background: rgb(188, 108, 37)'>Beatrice</span>   <span style='background: rgb(25, 108, 56)'>guides</span>  Dante through the nine celestial spheres of Heaven ."
      ],
      "text/plain": [
       "<IPython.core.display.HTML object>"
      ]
     },
     "metadata": {},
     "output_type": "display_data"
    },
    {
     "name": "stdout",
     "output_type": "stream",
     "text": [
      "1730\n"
     ]
    },
    {
     "data": {
      "text/html": [
       "Topping them all  <span style='background: rgb(25, 108, 56)'>is</span>  the Empyrean , which contains the essence of God , completing the 9 - fold division to 10 ."
      ],
      "text/plain": [
       "<IPython.core.display.HTML object>"
      ]
     },
     "metadata": {},
     "output_type": "display_data"
    },
    {
     "name": "stdout",
     "output_type": "stream",
     "text": [
      "1734\n"
     ]
    },
    {
     "data": {
      "text/html": [
       " <span style='background: rgb(188, 108, 37)'>Dante</span>  even  <span style='background: rgb(25, 108, 56)'>acknowledges</span>  Aristotle 's influence explicitly in the poem , specifically when Virgil justifies the Inferno 's structure by citing the Nicomachean Ethics ."
      ],
      "text/plain": [
       "<IPython.core.display.HTML object>"
      ]
     },
     "metadata": {},
     "output_type": "display_data"
    },
    {
     "name": "stdout",
     "output_type": "stream",
     "text": [
      "1735\n"
     ]
    },
    {
     "data": {
      "text/html": [
       " <span style='background: rgb(188, 108, 37)'>Dante</span>  also  <span style='background: rgb(25, 108, 56)'>treats</span>  the Bible as a final authority on any matter , including on subjects scripture only approaches allegorically ."
      ],
      "text/plain": [
       "<IPython.core.display.HTML object>"
      ]
     },
     "metadata": {},
     "output_type": "display_data"
    },
    {
     "name": "stdout",
     "output_type": "stream",
     "text": [
      "1742\n"
     ]
    },
    {
     "data": {
      "text/html": [
       " <span style='background: rgb(188, 108, 37)'>David</span>   <span style='background: rgb(25, 108, 56)'>spends</span>  his early years in relative happiness with his loving , childish mother and their kindly housekeeper , Clara Peggotty ."
      ],
      "text/plain": [
       "<IPython.core.display.HTML object>"
      ]
     },
     "metadata": {},
     "output_type": "display_data"
    },
    {
     "name": "stdout",
     "output_type": "stream",
     "text": [
      "1743\n"
     ]
    },
    {
     "data": {
      "text/html": [
       " <span style='background: rgb(188, 108, 37)'>David</span>   <span style='background: rgb(25, 108, 56)'>has</span>  similar feelings for Murdstone 's sister Jane , who moves into the house soon afterwards ."
      ],
      "text/plain": [
       "<IPython.core.display.HTML object>"
      ]
     },
     "metadata": {},
     "output_type": "display_data"
    },
    {
     "name": "stdout",
     "output_type": "stream",
     "text": [
      "1744\n"
     ]
    },
    {
     "data": {
      "text/html": [
       " <span style='background: rgb(188, 108, 37)'>David</span>   <span style='background: rgb(25, 108, 56)'>bites</span>  him and soon afterwards is sent away to Salem House , a boarding school , under a ruthless headmaster named Mr Creakle ."
      ],
      "text/plain": [
       "<IPython.core.display.HTML object>"
      ]
     },
     "metadata": {},
     "output_type": "display_data"
    },
    {
     "name": "stdout",
     "output_type": "stream",
     "text": [
      "1745\n"
     ]
    },
    {
     "data": {
      "text/html": [
       " <span style='background: rgb(188, 108, 37)'>David</span>   <span style='background: rgb(25, 108, 56)'>goes</span>  home for the holidays to learn that his mother has given birth to a baby boy ."
      ],
      "text/plain": [
       "<IPython.core.display.HTML object>"
      ]
     },
     "metadata": {},
     "output_type": "display_data"
    },
    {
     "name": "stdout",
     "output_type": "stream",
     "text": [
      "1746\n"
     ]
    },
    {
     "data": {
      "text/html": [
       "Shortly after  <span style='background: rgb(188, 108, 37)'>David</span>   <span style='background: rgb(25, 108, 56)'>returns</span>  to Salem House , his mother and her baby die , and David returns home immediately ."
      ],
      "text/plain": [
       "<IPython.core.display.HTML object>"
      ]
     },
     "metadata": {},
     "output_type": "display_data"
    },
    {
     "name": "stdout",
     "output_type": "stream",
     "text": [
      "1747\n"
     ]
    },
    {
     "data": {
      "text/html": [
       "During term ,  <span style='background: rgb(188, 108, 37)'>David</span>   <span style='background: rgb(25, 108, 56)'>lodges</span>  with the lawyer Mr Wickfield and his daughter Agnes , who becomes David 's friend and confidante ."
      ],
      "text/plain": [
       "<IPython.core.display.HTML object>"
      ]
     },
     "metadata": {},
     "output_type": "display_data"
    },
    {
     "name": "stdout",
     "output_type": "stream",
     "text": [
      "1749\n"
     ]
    },
    {
     "data": {
      "text/html": [
       "( At the end of the book ,  <span style='background: rgb(188, 108, 37)'>David</span>   <span style='background: rgb(25, 108, 56)'>encounters</span>  him in prison , convicted of attempting to defraud the Bank of England . )"
      ],
      "text/plain": [
       "<IPython.core.display.HTML object>"
      ]
     },
     "metadata": {},
     "output_type": "display_data"
    },
    {
     "name": "stdout",
     "output_type": "stream",
     "text": [
      "1750\n"
     ]
    },
    {
     "data": {
      "text/html": [
       "After completing school ,  <span style='background: rgb(188, 108, 37)'>David</span>   <span style='background: rgb(25, 108, 56)'>apprentices</span>  to be a proctor ."
      ],
      "text/plain": [
       "<IPython.core.display.HTML object>"
      ]
     },
     "metadata": {},
     "output_type": "display_data"
    },
    {
     "name": "stdout",
     "output_type": "stream",
     "text": [
      "1751\n"
     ]
    },
    {
     "data": {
      "text/html": [
       " <span style='background: rgb(188, 108, 37)'>David</span>   <span style='background: rgb(25, 108, 56)'>toils</span>  to make a living ."
      ],
      "text/plain": [
       "<IPython.core.display.HTML object>"
      ]
     },
     "metadata": {},
     "output_type": "display_data"
    },
    {
     "name": "stdout",
     "output_type": "stream",
     "text": [
      "1752\n"
     ]
    },
    {
     "data": {
      "text/html": [
       "With considerable moral support from Agnes and his own great diligence and hard work ,  <span style='background: rgb(188, 108, 37)'>David</span>  ultimately  <span style='background: rgb(25, 108, 56)'>finds</span>  fame and fortune as an author , writing fiction ."
      ],
      "text/plain": [
       "<IPython.core.display.HTML object>"
      ]
     },
     "metadata": {},
     "output_type": "display_data"
    },
    {
     "name": "stdout",
     "output_type": "stream",
     "text": [
      "1753\n"
     ]
    },
    {
     "data": {
      "text/html": [
       "Her uncle Mr  <span style='background: rgb(188, 108, 37)'>Peggotty</span>   <span style='background: rgb(25, 108, 56)'>manages</span>  to find her with the help of Martha , who had grown up in their part of England and then settled in London ."
      ],
      "text/plain": [
       "<IPython.core.display.HTML object>"
      ]
     },
     "metadata": {},
     "output_type": "display_data"
    },
    {
     "name": "stdout",
     "output_type": "stream",
     "text": [
      "1754\n"
     ]
    },
    {
     "data": {
      "text/html": [
       "Mr  <span style='background: rgb(188, 108, 37)'>Peggotty</span>   <span style='background: rgb(25, 108, 56)'>takes</span>  Emily to a new life in Australia , accompanied by Mrs Gummidge and the Micawbers , where all eventually find security and happiness ."
      ],
      "text/plain": [
       "<IPython.core.display.HTML object>"
      ]
     },
     "metadata": {},
     "output_type": "display_data"
    },
    {
     "name": "stdout",
     "output_type": "stream",
     "text": [
      "1756\n"
     ]
    },
    {
     "data": {
      "text/html": [
       "After Dora 's death ,  <span style='background: rgb(188, 108, 37)'>Agnes</span>   <span style='background: rgb(25, 108, 56)'>encourages</span>  David to return to normal life and his profession of writing ."
      ],
      "text/plain": [
       "<IPython.core.display.HTML object>"
      ]
     },
     "metadata": {},
     "output_type": "display_data"
    },
    {
     "name": "stdout",
     "output_type": "stream",
     "text": [
      "1757\n"
     ]
    },
    {
     "data": {
      "text/html": [
       "While living in Switzerland to dispel his grief over so many losses ,  <span style='background: rgb(188, 108, 37)'>David</span>   <span style='background: rgb(25, 108, 56)'>realises</span>  that he loves Agnes ."
      ],
      "text/plain": [
       "<IPython.core.display.HTML object>"
      ]
     },
     "metadata": {},
     "output_type": "display_data"
    },
    {
     "name": "stdout",
     "output_type": "stream",
     "text": [
      "1759\n"
     ]
    },
    {
     "data": {
      "text/html": [
       "Unlike Thackeray , who adored it ,  <span style='background: rgb(188, 108, 37)'>Dickens</span>   <span style='background: rgb(25, 108, 56)'>claims</span>  years later never to have read it ."
      ],
      "text/plain": [
       "<IPython.core.display.HTML object>"
      ]
     },
     "metadata": {},
     "output_type": "display_data"
    },
    {
     "name": "stdout",
     "output_type": "stream",
     "text": [
      "1761\n"
     ]
    },
    {
     "data": {
      "text/html": [
       "Per Forster ,  <span style='background: rgb(188, 108, 37)'>Dickens</span>   <span style='background: rgb(25, 108, 56)'>refers</span>  to Fielding \" as a kind of homage to the novel he was about to write \" ."
      ],
      "text/plain": [
       "<IPython.core.display.HTML object>"
      ]
     },
     "metadata": {},
     "output_type": "display_data"
    },
    {
     "name": "stdout",
     "output_type": "stream",
     "text": [
      "1762\n"
     ]
    },
    {
     "data": {
      "text/html": [
       "Once launched ,  <span style='background: rgb(188, 108, 37)'>Dickens</span>   <span style='background: rgb(25, 108, 56)'>becomes</span>  \" quite confident \" ."
      ],
      "text/plain": [
       "<IPython.core.display.HTML object>"
      ]
     },
     "metadata": {},
     "output_type": "display_data"
    },
    {
     "name": "stdout",
     "output_type": "stream",
     "text": [
      "1765\n"
     ]
    },
    {
     "data": {
      "text/html": [
       " <span style='background: rgb(188, 108, 37)'>David</span>   <span style='background: rgb(25, 108, 56)'>opens</span>  his story with a question : Will I be the hero of my own life ?"
      ],
      "text/plain": [
       "<IPython.core.display.HTML object>"
      ]
     },
     "metadata": {},
     "output_type": "display_data"
    },
    {
     "name": "stdout",
     "output_type": "stream",
     "text": [
      "1768\n"
     ]
    },
    {
     "data": {
      "text/html": [
       " <span style='background: rgb(188, 108, 37)'>Dickens</span>   <span style='background: rgb(25, 108, 56)'>describes</span>  children working in factories or other workplaces in several novels , notably in Oliver Twist , and in David Copperfield ."
      ],
      "text/plain": [
       "<IPython.core.display.HTML object>"
      ]
     },
     "metadata": {},
     "output_type": "display_data"
    },
    {
     "name": "stdout",
     "output_type": "stream",
     "text": [
      "1772\n"
     ]
    },
    {
     "data": {
      "text/html": [
       " <span style='background: rgb(188, 108, 37)'>Dickens</span>   <span style='background: rgb(25, 108, 56)'>cares</span>  about material and psychological happiness , and is convinced that physical well - being is a comfort for life 's wounds ."
      ],
      "text/plain": [
       "<IPython.core.display.HTML object>"
      ]
     },
     "metadata": {},
     "output_type": "display_data"
    },
    {
     "name": "stdout",
     "output_type": "stream",
     "text": [
      "1776\n"
     ]
    },
    {
     "data": {
      "text/html": [
       "Morally ,  <span style='background: rgb(188, 108, 37)'>Dickens</span>  here  <span style='background: rgb(25, 108, 56)'>conforms</span>  to the dominant middle - class opinion ."
      ],
      "text/plain": [
       "<IPython.core.display.HTML object>"
      ]
     },
     "metadata": {},
     "output_type": "display_data"
    },
    {
     "name": "stdout",
     "output_type": "stream",
     "text": [
      "1777\n"
     ]
    },
    {
     "data": {
      "text/html": [
       "John O.  <span style='background: rgb(188, 108, 37)'>Jordan</span>   <span style='background: rgb(25, 108, 56)'>devotes</span>  two pages to this woman , also \" lost , \" though never having sinned ."
      ],
      "text/plain": [
       "<IPython.core.display.HTML object>"
      ]
     },
     "metadata": {},
     "output_type": "display_data"
    },
    {
     "name": "stdout",
     "output_type": "stream",
     "text": [
      "1783\n"
     ]
    },
    {
     "data": {
      "text/html": [
       "Michael  <span style='background: rgb(188, 108, 37)'>Hollington</span>   <span style='background: rgb(25, 108, 56)'>analyses</span>  a scene in chapter 11 that seems emblematic of the situation and how humour and sentimentality are employed by Dickens ."
      ],
      "text/plain": [
       "<IPython.core.display.HTML object>"
      ]
     },
     "metadata": {},
     "output_type": "display_data"
    },
    {
     "name": "stdout",
     "output_type": "stream",
     "text": [
      "1784\n"
     ]
    },
    {
     "data": {
      "text/html": [
       "This episode release David 's emotional pain ,  <span style='background: rgb(25, 108, 56)'>writes</span>  Michael  <span style='background: rgb(188, 108, 37)'>Hollington</span>  , obliterating the infected part of the wound ."
      ],
      "text/plain": [
       "<IPython.core.display.HTML object>"
      ]
     },
     "metadata": {},
     "output_type": "display_data"
    },
    {
     "name": "stdout",
     "output_type": "stream",
     "text": [
      "1786\n"
     ]
    },
    {
     "data": {
      "text/html": [
       "Gwendolyn  <span style='background: rgb(188, 108, 37)'>Needham</span>  in an essay , published in 1954 ,  <span style='background: rgb(25, 108, 56)'>analyzes</span>  the novel as a bildungsroman , as did Jerome H. Buckley twenty years later ."
      ],
      "text/plain": [
       "<IPython.core.display.HTML object>"
      ]
     },
     "metadata": {},
     "output_type": "display_data"
    },
    {
     "name": "stdout",
     "output_type": "stream",
     "text": [
      "1802\n"
     ]
    },
    {
     "data": {
      "text/html": [
       " <span style='background: rgb(188, 108, 37)'>Bottiglia</span>   <span style='background: rgb(25, 108, 56)'>notes</span>  Voltaire is \" comprehensive \" in his enumeration of the world 's evils ."
      ],
      "text/plain": [
       "<IPython.core.display.HTML object>"
      ]
     },
     "metadata": {},
     "output_type": "display_data"
    },
    {
     "name": "stdout",
     "output_type": "stream",
     "text": [
      "1810\n"
     ]
    },
    {
     "data": {
      "text/html": [
       " <span style='background: rgb(188, 108, 37)'>Bottiglia</span>  instead  <span style='background: rgb(25, 108, 56)'>calls</span>  it a miniature classic , though others are more forgiving of its size ."
      ],
      "text/plain": [
       "<IPython.core.display.HTML object>"
      ]
     },
     "metadata": {},
     "output_type": "display_data"
    },
    {
     "name": "stdout",
     "output_type": "stream",
     "text": [
      "1829\n"
     ]
    },
    {
     "data": {
      "text/html": [
       " <span style='background: rgb(188, 108, 37)'>Stephen</span>   <span style='background: rgb(25, 108, 56)'>squanders</span>  a large cash prize from school , and begins to see prostitutes , as distance grows between him and his drunken father ."
      ],
      "text/plain": [
       "<IPython.core.display.HTML object>"
      ]
     },
     "metadata": {},
     "output_type": "display_data"
    },
    {
     "name": "stdout",
     "output_type": "stream",
     "text": [
      "1830\n"
     ]
    },
    {
     "data": {
      "text/html": [
       " <span style='background: rgb(188, 108, 37)'>Stephen</span>   <span style='background: rgb(25, 108, 56)'>pays</span>  special attention to those on pride , guilt , punishment and the Four Last Things ( death , judgement , Hell , and Heaven ) ."
      ],
      "text/plain": [
       "<IPython.core.display.HTML object>"
      ]
     },
     "metadata": {},
     "output_type": "display_data"
    },
    {
     "name": "stdout",
     "output_type": "stream",
     "text": [
      "1831\n"
     ]
    },
    {
     "data": {
      "text/html": [
       " <span style='background: rgb(188, 108, 37)'>Stephen</span>   <span style='background: rgb(25, 108, 56)'>takes</span>  time to consider , but has a crisis of faith because of the conflict between his spiritual beliefs and his aesthetic ambitions ."
      ],
      "text/plain": [
       "<IPython.core.display.HTML object>"
      ]
     },
     "metadata": {},
     "output_type": "display_data"
    },
    {
     "name": "stdout",
     "output_type": "stream",
     "text": [
      "1832\n"
     ]
    },
    {
     "data": {
      "text/html": [
       "As a student at University College , Dublin ,  <span style='background: rgb(188, 108, 37)'>Stephen</span>   <span style='background: rgb(25, 108, 56)'>grows</span>  increasingly wary of the institutions around him : Church , school , politics and family ."
      ],
      "text/plain": [
       "<IPython.core.display.HTML object>"
      ]
     },
     "metadata": {},
     "output_type": "display_data"
    },
    {
     "name": "stdout",
     "output_type": "stream",
     "text": [
      "1844\n"
     ]
    },
    {
     "data": {
      "text/html": [
       " <span style='background: rgb(188, 108, 37)'>Anne</span>   <span style='background: rgb(25, 108, 56)'>is</span>  less sure she will enjoy Bath , but can not go against her family ."
      ],
      "text/plain": [
       "<IPython.core.display.HTML object>"
      ]
     },
     "metadata": {},
     "output_type": "display_data"
    },
    {
     "name": "stdout",
     "output_type": "stream",
     "text": [
      "1845\n"
     ]
    },
    {
     "data": {
      "text/html": [
       " <span style='background: rgb(188, 108, 37)'>Mary</span>   <span style='background: rgb(25, 108, 56)'>is</span>  now married to Charles Musgrove of Uppercross Hall , the heir to a respected local squire ."
      ],
      "text/plain": [
       "<IPython.core.display.HTML object>"
      ]
     },
     "metadata": {},
     "output_type": "display_data"
    },
    {
     "name": "stdout",
     "output_type": "stream",
     "text": [
      "1846\n"
     ]
    },
    {
     "data": {
      "text/html": [
       " <span style='background: rgb(188, 108, 37)'>Anne</span>   <span style='background: rgb(25, 108, 56)'>visits</span>  Mary and her family , where she is well - loved ."
      ],
      "text/plain": [
       "<IPython.core.display.HTML object>"
      ]
     },
     "metadata": {},
     "output_type": "display_data"
    },
    {
     "name": "stdout",
     "output_type": "stream",
     "text": [
      "1847\n"
     ]
    },
    {
     "data": {
      "text/html": [
       " <span style='background: rgb(188, 108, 37)'>Henrietta</span>   <span style='background: rgb(25, 108, 56)'>is</span>  engaged to her cousin , clergyman Charles Hayter , who is absent when Wentworth is introduced to their social circle ."
      ],
      "text/plain": [
       "<IPython.core.display.HTML object>"
      ]
     },
     "metadata": {},
     "output_type": "display_data"
    },
    {
     "name": "stdout",
     "output_type": "stream",
     "text": [
      "1848\n"
     ]
    },
    {
     "data": {
      "text/html": [
       "Once Hayter returns ,  <span style='background: rgb(188, 108, 37)'>Henrietta</span>   <span style='background: rgb(25, 108, 56)'>turns</span>  her affections to him again ."
      ],
      "text/plain": [
       "<IPython.core.display.HTML object>"
      ]
     },
     "metadata": {},
     "output_type": "display_data"
    },
    {
     "name": "stdout",
     "output_type": "stream",
     "text": [
      "1849\n"
     ]
    },
    {
     "data": {
      "text/html": [
       " <span style='background: rgb(188, 108, 37)'>Anne</span>  still  <span style='background: rgb(25, 108, 56)'>loves</span>  Wentworth , so each meeting with him requires preparation for her own strong emotions ."
      ],
      "text/plain": [
       "<IPython.core.display.HTML object>"
      ]
     },
     "metadata": {},
     "output_type": "display_data"
    },
    {
     "name": "stdout",
     "output_type": "stream",
     "text": [
      "1850\n"
     ]
    },
    {
     "data": {
      "text/html": [
       "On the last morning of the visit , the youthful  <span style='background: rgb(188, 108, 37)'>Louisa</span>   <span style='background: rgb(25, 108, 56)'>sustains</span>  a serious concussion at the sea wall while under Captain Wentworth 's supervision ."
      ],
      "text/plain": [
       "<IPython.core.display.HTML object>"
      ]
     },
     "metadata": {},
     "output_type": "display_data"
    },
    {
     "name": "stdout",
     "output_type": "stream",
     "text": [
      "1851\n"
     ]
    },
    {
     "data": {
      "text/html": [
       " <span style='background: rgb(188, 108, 37)'>Anne</span>  coolly  <span style='background: rgb(25, 108, 56)'>organizes</span>  the others to summon assistance ."
      ],
      "text/plain": [
       "<IPython.core.display.HTML object>"
      ]
     },
     "metadata": {},
     "output_type": "display_data"
    },
    {
     "name": "stdout",
     "output_type": "stream",
     "text": [
      "1852\n"
     ]
    },
    {
     "data": {
      "text/html": [
       "Captain  <span style='background: rgb(188, 108, 37)'>Benwick</span>  , who was a guest as well ,  <span style='background: rgb(25, 108, 56)'>helps</span>  in Louisa 's recovery by attending and reading to her ."
      ],
      "text/plain": [
       "<IPython.core.display.HTML object>"
      ]
     },
     "metadata": {},
     "output_type": "display_data"
    },
    {
     "name": "stdout",
     "output_type": "stream",
     "text": [
      "1854\n"
     ]
    },
    {
     "data": {
      "text/html": [
       " <span style='background: rgb(188, 108, 37)'>Anne</span>   <span style='background: rgb(25, 108, 56)'>visits</span>  Mrs Smith , an old school friend , who is now a widow living in Bath under strained circumstances ."
      ],
      "text/plain": [
       "<IPython.core.display.HTML object>"
      ]
     },
     "metadata": {},
     "output_type": "display_data"
    },
    {
     "name": "stdout",
     "output_type": "stream",
     "text": [
      "1855\n"
     ]
    },
    {
     "data": {
      "text/html": [
       "From her ,  <span style='background: rgb(188, 108, 37)'>Anne</span>   <span style='background: rgb(25, 108, 56)'>discovers</span>  that beneath William 's charming veneer , he is a cold , calculating opportunist who led Mrs Smith 's late husband into debt ."
      ],
      "text/plain": [
       "<IPython.core.display.HTML object>"
      ]
     },
     "metadata": {},
     "output_type": "display_data"
    },
    {
     "name": "stdout",
     "output_type": "stream",
     "text": [
      "1858\n"
     ]
    },
    {
     "data": {
      "text/html": [
       " <span style='background: rgb(188, 108, 37)'>Anne</span>   <span style='background: rgb(25, 108, 56)'>settles</span>  into her new life as the wife of a Navy captain ."
      ],
      "text/plain": [
       "<IPython.core.display.HTML object>"
      ]
     },
     "metadata": {},
     "output_type": "display_data"
    },
    {
     "name": "stdout",
     "output_type": "stream",
     "text": [
      "1859\n"
     ]
    },
    {
     "data": {
      "text/html": [
       " <span style='background: rgb(188, 108, 37)'>Mary</span>   <span style='background: rgb(25, 108, 56)'>is</span>  attention - seeking , always looking for ways she might have been slighted , and often claims illness when she is upset ."
      ],
      "text/plain": [
       "<IPython.core.display.HTML object>"
      ]
     },
     "metadata": {},
     "output_type": "display_data"
    },
    {
     "name": "stdout",
     "output_type": "stream",
     "text": [
      "1860\n"
     ]
    },
    {
     "data": {
      "text/html": [
       " <span style='background: rgb(188, 108, 37)'>Louisa</span>   <span style='background: rgb(25, 108, 56)'>is</span>  a high - spirited young lady who has returned with her sister from school ."
      ],
      "text/plain": [
       "<IPython.core.display.HTML object>"
      ]
     },
     "metadata": {},
     "output_type": "display_data"
    },
    {
     "name": "stdout",
     "output_type": "stream",
     "text": [
      "1861\n"
     ]
    },
    {
     "data": {
      "text/html": [
       " <span style='background: rgb(188, 108, 37)'>Benwick</span>   <span style='background: rgb(25, 108, 56)'>was</span>  engaged to marry Captain Harville 's sister Fanny , but she died while Benwick was at sea ."
      ],
      "text/plain": [
       "<IPython.core.display.HTML object>"
      ]
     },
     "metadata": {},
     "output_type": "display_data"
    },
    {
     "name": "stdout",
     "output_type": "stream",
     "text": [
      "1862\n"
     ]
    },
    {
     "data": {
      "text/html": [
       " <span style='background: rgb(188, 108, 37)'>Benwick</span>   <span style='background: rgb(25, 108, 56)'>was</span>  with Louisa Musgrove during her recovery , at the end of which they become engaged to marry ."
      ],
      "text/plain": [
       "<IPython.core.display.HTML object>"
      ]
     },
     "metadata": {},
     "output_type": "display_data"
    },
    {
     "name": "stdout",
     "output_type": "stream",
     "text": [
      "1865\n"
     ]
    },
    {
     "data": {
      "text/html": [
       " <span style='background: rgb(188, 108, 37)'>Elizabeth</span>  , who is more socially motivated ,  <span style='background: rgb(25, 108, 56)'>tolerates</span>  her company ."
      ],
      "text/plain": [
       "<IPython.core.display.HTML object>"
      ]
     },
     "metadata": {},
     "output_type": "display_data"
    },
    {
     "name": "stdout",
     "output_type": "stream",
     "text": [
      "1866\n"
     ]
    },
    {
     "data": {
      "text/html": [
       "Jane  <span style='background: rgb(188, 108, 37)'>Austen</span>   <span style='background: rgb(25, 108, 56)'>was</span>  impressed with her devotion according to Kindred , seeing Fanny 's desire to be with her husband no matter the danger as an attractive trait ."
      ],
      "text/plain": [
       "<IPython.core.display.HTML object>"
      ]
     },
     "metadata": {},
     "output_type": "display_data"
    },
    {
     "name": "stdout",
     "output_type": "stream",
     "text": [
      "1868\n"
     ]
    },
    {
     "data": {
      "text/html": [
       " <span style='background: rgb(188, 108, 37)'>Wiltshire</span>   <span style='background: rgb(25, 108, 56)'>considers</span>  that the narrowness of vision and taste from both the Musgroves and Sir Walter highlight the heightened state of Anne 's consciousnesses ."
      ],
      "text/plain": [
       "<IPython.core.display.HTML object>"
      ]
     },
     "metadata": {},
     "output_type": "display_data"
    },
    {
     "name": "stdout",
     "output_type": "stream",
     "text": [
      "1870\n"
     ]
    },
    {
     "data": {
      "text/html": [
       "Lady  <span style='background: rgb(188, 108, 37)'>Russell</span>   <span style='background: rgb(25, 108, 56)'>persuades</span>  Anne to reject Captain Wentworth 's first offer of marriage when Anne was younger ."
      ],
      "text/plain": [
       "<IPython.core.display.HTML object>"
      ]
     },
     "metadata": {},
     "output_type": "display_data"
    },
    {
     "name": "stdout",
     "output_type": "stream",
     "text": [
      "1871\n"
     ]
    },
    {
     "data": {
      "text/html": [
       "John  <span style='background: rgb(188, 108, 37)'>Wiltshire</span>   <span style='background: rgb(25, 108, 56)'>notes</span>  that Wentworth is a man of action as opposed to words , which makes Anne the only self - reflective character in the novel ."
      ],
      "text/plain": [
       "<IPython.core.display.HTML object>"
      ]
     },
     "metadata": {},
     "output_type": "display_data"
    },
    {
     "name": "stdout",
     "output_type": "stream",
     "text": [
      "1878\n"
     ]
    },
    {
     "data": {
      "text/html": [
       " <span style='background: rgb(188, 108, 37)'>Simoun</span>   <span style='background: rgb(25, 108, 56)'>reveals</span>  his motives to Basilio and offers him a place in his plans ."
      ],
      "text/plain": [
       "<IPython.core.display.HTML object>"
      ]
     },
     "metadata": {},
     "output_type": "display_data"
    },
    {
     "name": "stdout",
     "output_type": "stream",
     "text": [
      "1879\n"
     ]
    },
    {
     "data": {
      "text/html": [
       "Too secure of his place in the world ,  <span style='background: rgb(188, 108, 37)'>Basilio</span>   <span style='background: rgb(25, 108, 56)'>declines</span>  ."
      ],
      "text/plain": [
       "<IPython.core.display.HTML object>"
      ]
     },
     "metadata": {},
     "output_type": "display_data"
    },
    {
     "name": "stdout",
     "output_type": "stream",
     "text": [
      "1880\n"
     ]
    },
    {
     "data": {
      "text/html": [
       "At Barrio Sagpang in the town of Tiani ,  <span style='background: rgb(188, 108, 37)'>Simoun</span>   <span style='background: rgb(25, 108, 56)'>stays</span>  at the house of the village 's cabeza de barangay , Tales ."
      ],
      "text/plain": [
       "<IPython.core.display.HTML object>"
      ]
     },
     "metadata": {},
     "output_type": "display_data"
    },
    {
     "name": "stdout",
     "output_type": "stream",
     "text": [
      "1882\n"
     ]
    },
    {
     "data": {
      "text/html": [
       "In Los Baños ,  <span style='background: rgb(188, 108, 37)'>Simoun</span>   <span style='background: rgb(25, 108, 56)'>joins</span>  his friend , the Captain - General , who is then taking a break from a hunting excursion ."
      ],
      "text/plain": [
       "<IPython.core.display.HTML object>"
      ]
     },
     "metadata": {},
     "output_type": "display_data"
    },
    {
     "name": "stdout",
     "output_type": "stream",
     "text": [
      "1883\n"
     ]
    },
    {
     "data": {
      "text/html": [
       "Later on ,  <span style='background: rgb(188, 108, 37)'>Simoun</span>   <span style='background: rgb(25, 108, 56)'>goes</span>  to Manila and meets Quiroga , a wealthy Chinese businessman and aspiring consul - general for the Chinese empire ."
      ],
      "text/plain": [
       "<IPython.core.display.HTML object>"
      ]
     },
     "metadata": {},
     "output_type": "display_data"
    },
    {
     "name": "stdout",
     "output_type": "stream",
     "text": [
      "1885\n"
     ]
    },
    {
     "data": {
      "text/html": [
       "Deeply overcome with guilt and fear ,  <span style='background: rgb(188, 108, 37)'>Salví</span>   <span style='background: rgb(25, 108, 56)'>recommends</span>  the show be banned , but not before Mr. Leeds sailed for Hong Kong ."
      ],
      "text/plain": [
       "<IPython.core.display.HTML object>"
      ]
     },
     "metadata": {},
     "output_type": "display_data"
    },
    {
     "name": "stdout",
     "output_type": "stream",
     "text": [
      "1886\n"
     ]
    },
    {
     "data": {
      "text/html": [
       " <span style='background: rgb(188, 108, 37)'>Simoun</span>  , driven by grief ,  <span style='background: rgb(25, 108, 56)'>aborts</span>  the attack and becomes crestfallen throughout the night ."
      ],
      "text/plain": [
       "<IPython.core.display.HTML object>"
      ]
     },
     "metadata": {},
     "output_type": "display_data"
    },
    {
     "name": "stdout",
     "output_type": "stream",
     "text": [
      "1887\n"
     ]
    },
    {
     "data": {
      "text/html": [
       "Released through the intercession of Simoun , a darkened , disillusioned  <span style='background: rgb(188, 108, 37)'>Basilio</span>   <span style='background: rgb(25, 108, 56)'>joins</span>  Simoun 's cause wholeheartedly ."
      ],
      "text/plain": [
       "<IPython.core.display.HTML object>"
      ]
     },
     "metadata": {},
     "output_type": "display_data"
    },
    {
     "name": "stdout",
     "output_type": "stream",
     "text": [
      "1888\n"
     ]
    },
    {
     "data": {
      "text/html": [
       "The plan thus finalized ,  <span style='background: rgb(188, 108, 37)'>Simoun</span>   <span style='background: rgb(25, 108, 56)'>gives</span>  Basilio a loaded revolver and sends him away to await further instructions ."
      ],
      "text/plain": [
       "<IPython.core.display.HTML object>"
      ]
     },
     "metadata": {},
     "output_type": "display_data"
    },
    {
     "name": "stdout",
     "output_type": "stream",
     "text": [
      "1889\n"
     ]
    },
    {
     "data": {
      "text/html": [
       " <span style='background: rgb(188, 108, 37)'>Basilio</span>   <span style='background: rgb(25, 108, 56)'>walks</span>  the streets for hours and passes by his old home , Capitán Tiago 's riverside house on Anloague Street ."
      ],
      "text/plain": [
       "<IPython.core.display.HTML object>"
      ]
     },
     "metadata": {},
     "output_type": "display_data"
    },
    {
     "name": "stdout",
     "output_type": "stream",
     "text": [
      "1890\n"
     ]
    },
    {
     "data": {
      "text/html": [
       "Noting how close they were to the condemned house ,  <span style='background: rgb(188, 108, 37)'>Basilio</span>   <span style='background: rgb(25, 108, 56)'>tries</span>  to head Isagani off , but Isagani was too dazed with grief to listen to him ."
      ],
      "text/plain": [
       "<IPython.core.display.HTML object>"
      ]
     },
     "metadata": {},
     "output_type": "display_data"
    },
    {
     "name": "stdout",
     "output_type": "stream",
     "text": [
      "1891\n"
     ]
    },
    {
     "data": {
      "text/html": [
       "In desperation ,  <span style='background: rgb(188, 108, 37)'>Basilio</span>   <span style='background: rgb(25, 108, 56)'>reveals</span>  to Isagani how the house is set to explode at any time then ."
      ],
      "text/plain": [
       "<IPython.core.display.HTML object>"
      ]
     },
     "metadata": {},
     "output_type": "display_data"
    },
    {
     "name": "stdout",
     "output_type": "stream",
     "text": [
      "1892\n"
     ]
    },
    {
     "data": {
      "text/html": [
       "Seeing Basilio 's demeanor ,  <span style='background: rgb(188, 108, 37)'>Isagani</span>   <span style='background: rgb(25, 108, 56)'>is</span>  temporarily , rather belatedly unnerved by the revelation ."
      ],
      "text/plain": [
       "<IPython.core.display.HTML object>"
      ]
     },
     "metadata": {},
     "output_type": "display_data"
    },
    {
     "name": "stdout",
     "output_type": "stream",
     "text": [
      "1893\n"
     ]
    },
    {
     "data": {
      "text/html": [
       " <span style='background: rgb(188, 108, 37)'>Isagani</span>   <span style='background: rgb(25, 108, 56)'>rushes</span>  into the house , seizes the lamp leaving the hall in darkness , and throws it into the river ."
      ],
      "text/plain": [
       "<IPython.core.display.HTML object>"
      ]
     },
     "metadata": {},
     "output_type": "display_data"
    },
    {
     "name": "stdout",
     "output_type": "stream",
     "text": [
      "1894\n"
     ]
    },
    {
     "data": {
      "text/html": [
       "In response ,  <span style='background: rgb(188, 108, 37)'>Simoun</span>   <span style='background: rgb(25, 108, 56)'>drinks</span>  the slow - acting poison which he always kept in a compartment on his treasure chest ."
      ],
      "text/plain": [
       "<IPython.core.display.HTML object>"
      ]
     },
     "metadata": {},
     "output_type": "display_data"
    },
    {
     "name": "stdout",
     "output_type": "stream",
     "text": [
      "1895\n"
     ]
    },
    {
     "data": {
      "text/html": [
       " <span style='background: rgb(188, 108, 37)'>Simoun</span>  then  <span style='background: rgb(25, 108, 56)'>makes</span>  his final confession to Florentino , first revealing his true name , to Florentino 's shock ."
      ],
      "text/plain": [
       "<IPython.core.display.HTML object>"
      ]
     },
     "metadata": {},
     "output_type": "display_data"
    },
    {
     "name": "stdout",
     "output_type": "stream",
     "text": [
      "1896\n"
     ]
    },
    {
     "data": {
      "text/html": [
       " <span style='background: rgb(188, 108, 37)'>Crisóstomo</span>  bitterly  <span style='background: rgb(25, 108, 56)'>accepts</span>  the explanation and dies ."
      ],
      "text/plain": [
       "<IPython.core.display.HTML object>"
      ]
     },
     "metadata": {},
     "output_type": "display_data"
    },
    {
     "name": "stdout",
     "output_type": "stream",
     "text": [
      "1897\n"
     ]
    },
    {
     "data": {
      "text/html": [
       " <span style='background: rgb(188, 108, 37)'>Alice</span>  again  <span style='background: rgb(25, 108, 56)'>enters</span>  a fantastical world , this time by climbing through a mirror into the world that she can see beyond it ."
      ],
      "text/plain": [
       "<IPython.core.display.HTML object>"
      ]
     },
     "metadata": {},
     "output_type": "display_data"
    },
    {
     "name": "stdout",
     "output_type": "stream",
     "text": [
      "1898\n"
     ]
    },
    {
     "data": {
      "text/html": [
       "Through the Looking - Glass  <span style='background: rgb(25, 108, 56)'>includes</span>  such verses as \" Jabberwocky \" and \" The Walrus and the Carpenter \" , and the episode involving Tweedledum and Tweedledee ."
      ],
      "text/plain": [
       "<IPython.core.display.HTML object>"
      ]
     },
     "metadata": {},
     "output_type": "display_data"
    },
    {
     "name": "stdout",
     "output_type": "stream",
     "text": [
      "1899\n"
     ]
    },
    {
     "data": {
      "text/html": [
       " <span style='background: rgb(188, 108, 37)'>Alice</span>   <span style='background: rgb(25, 108, 56)'>continues</span>  her journey and along the way , crosses the \" wood where things have no names \" ."
      ],
      "text/plain": [
       "<IPython.core.display.HTML object>"
      ]
     },
     "metadata": {},
     "output_type": "display_data"
    },
    {
     "name": "stdout",
     "output_type": "stream",
     "text": [
      "1900\n"
     ]
    },
    {
     "data": {
      "text/html": [
       "Chapter Ten – Shaking :  <span style='background: rgb(188, 108, 37)'>Alice</span>   <span style='background: rgb(25, 108, 56)'>arrives</span>  and seats herself at her own party , which quickly turns into chaos ."
      ],
      "text/plain": [
       "<IPython.core.display.HTML object>"
      ]
     },
     "metadata": {},
     "output_type": "display_data"
    },
    {
     "name": "stdout",
     "output_type": "stream",
     "text": [
      "1901\n"
     ]
    },
    {
     "data": {
      "text/html": [
       " <span style='background: rgb(188, 108, 37)'>Alice</span>  finally  <span style='background: rgb(25, 108, 56)'>grabs</span>  the Red Queen , believing her to be responsible for all the day 's nonsense , and begins shaking her ."
      ],
      "text/plain": [
       "<IPython.core.display.HTML object>"
      ]
     },
     "metadata": {},
     "output_type": "display_data"
    },
    {
     "name": "stdout",
     "output_type": "stream",
     "text": [
      "1903\n"
     ]
    },
    {
     "data": {
      "text/html": [
       " <span style='background: rgb(188, 108, 37)'>Alice</span>   <span style='background: rgb(25, 108, 56)'>says</span>  that she does n't want any jam today , to which the Queen replies , \" you could n't have it if you did want it ."
      ],
      "text/plain": [
       "<IPython.core.display.HTML object>"
      ]
     },
     "metadata": {},
     "output_type": "display_data"
    }
   ],
   "source": [
    "\n",
    "v\n",
    "\n",
    "dataF=propn_df_after\n",
    "list_indexes_ordered=list(dataF.index)\n",
    "list_indexes_ordered.sort()\n",
    "\n",
    "for i in list_indexes_ordered[996:]:\n",
    "    print(i)\n",
    "    display(HTML(paint_words(dataF.loc[i])))\n",
    "   "
   ]
  },
  {
   "cell_type": "code",
   "execution_count": 31,
   "metadata": {},
   "outputs": [
    {
     "data": {
      "text/plain": [
       "Mary was just eighteen years old when she won the contest with her creation of Frankenstein."
      ]
     },
     "execution_count": 31,
     "metadata": {},
     "output_type": "execute_result"
    }
   ],
   "source": [
    "propn_df_after['phrases'][19]"
   ]
  },
  {
   "cell_type": "code",
   "execution_count": 29,
   "metadata": {},
   "outputs": [],
   "source": [
    "indexes_propn_df_del=[19,21,24,79,80,81,88,93,110,111,112,114,115,116,117,118,119,144,145,149,170,171,173,174,175,177,\n",
    "    207,217,250,251,252,253,254,255,256,258,261,262,263,264,267,268,270,273,275,343,349,361,384,387,400,401,404,406,407,\n",
    "    410,411,459,478,480,500,514,515,522,525,531,532,534,537,539,563,566,568,571,572,574,575,576,577,578,579,\n",
    "    580,581,582,583,585,586,589,590,591,592,593,595,597,601,604,605,606,609,614,615,616,621,622,629,630,631,643,651,653,\n",
    "    654,655,656,695,700,702,703,704,711,713,718,732,738,745,747,754,755,759,778,779,780,781,782,783,786,791,799,800,804,\n",
    "    811,895,900,906,909,1059,1073,1092,1093,1098,1100,1106,1111,1112,1113,1114,1117,1136,1154,1155,1156,1157,1161,1175,\n",
    "    1195,1197,1198,1200,1211,1226,1230,1231,1272,1278,1297,1328,1347,1357,1373,1402,1405,1407,1425,1427,1428,1430,1466,\n",
    "    1476,1480,1481,1483,1484,1485,1486,1488,1489,1492,1499,1503,1504,1520,1527,1529,1530,1532,1533,1535,1536,1537,1539,\n",
    "    1542,1546,1547,1550,1560,1563,1564,1595,1666,1674,1676,1677,1678,1681,1683,1684,1686,1687,1691,1698,1699,1700,1701,\n",
    "    1730,1734,1735,1749,1759,1762,1765,1768,1772,1776,1777,1783,1784,1786,1802,1866,1871,1898,1900]\n",
    "#ver 475/6,"
   ]
  },
  {
   "cell_type": "code",
   "execution_count": 35,
   "metadata": {},
   "outputs": [],
   "source": [
    "sentences_removed_propn=[]\n",
    "sentences_removed_pron=[]\n",
    "sentences_removed_noun=[]\n",
    "\n",
    "for i in indexes_propn_df_del:\n",
    "    sentences_removed_propn.append(propn_df_after['phrases'][i])\n",
    "\n",
    "for i in indexes_pron_df_del:\n",
    "    sentences_removed_pron.append(pron_df['phrases'][i])\n",
    "\n",
    "for i in indexes_noun_df_del:\n",
    "    sentences_removed_noun.append(noun_df_after['phrases'][i])\n",
    "\n",
    "\n"
   ]
  },
  {
   "cell_type": "code",
   "execution_count": 39,
   "metadata": {},
   "outputs": [],
   "source": [
    "import pickle\n",
    "with open('sentences_removed_before_pronoun.pkl', 'wb') as f:\n",
    "    pickle.dump(sentences_removed_pron,f)\n",
    "\n",
    "with open('sentences_removed_before_noun.pkl', 'wb') as f:\n",
    "    pickle.dump(sentences_removed_noun,f)\n",
    "\n",
    "with open('sentences_removed_before_propN.pkl', 'wb') as f:\n",
    "    pickle.dump(sentences_removed_propn,f)"
   ]
  },
  {
   "cell_type": "code",
   "execution_count": 178,
   "metadata": {},
   "outputs": [],
   "source": [
    "propn_df_after.drop(index=indexes_propn_df_del,axis=1,inplace=True)"
   ]
  },
  {
   "cell_type": "code",
   "execution_count": 179,
   "metadata": {},
   "outputs": [
    {
     "data": {
      "text/html": [
       "<div>\n",
       "<style scoped>\n",
       "    .dataframe tbody tr th:only-of-type {\n",
       "        vertical-align: middle;\n",
       "    }\n",
       "\n",
       "    .dataframe tbody tr th {\n",
       "        vertical-align: top;\n",
       "    }\n",
       "\n",
       "    .dataframe thead th {\n",
       "        text-align: right;\n",
       "    }\n",
       "</style>\n",
       "<table border=\"1\" class=\"dataframe\">\n",
       "  <thead>\n",
       "    <tr style=\"text-align: right;\">\n",
       "      <th></th>\n",
       "      <th>phrases</th>\n",
       "      <th>root verb</th>\n",
       "      <th>root subject</th>\n",
       "    </tr>\n",
       "  </thead>\n",
       "  <tbody>\n",
       "    <tr>\n",
       "      <th>2</th>\n",
       "      <td>(Robert, Walton, is, a, failed, writer, who, s...</td>\n",
       "      <td>is</td>\n",
       "      <td>Walton</td>\n",
       "    </tr>\n",
       "    <tr>\n",
       "      <th>16</th>\n",
       "      <td>(At, the, end, of, Victor, 's, narrative, ,, C...</td>\n",
       "      <td>resumes</td>\n",
       "      <td>Walton</td>\n",
       "    </tr>\n",
       "    <tr>\n",
       "      <th>18</th>\n",
       "      <td>(Walton, discovers, the, Creature, on, his, sh...</td>\n",
       "      <td>discovers</td>\n",
       "      <td>Walton</td>\n",
       "    </tr>\n",
       "    <tr>\n",
       "      <th>3</th>\n",
       "      <td>(From, a, young, age, ,, Victor, has, a, stron...</td>\n",
       "      <td>has</td>\n",
       "      <td>Victor</td>\n",
       "    </tr>\n",
       "    <tr>\n",
       "      <th>4</th>\n",
       "      <td>(Victor, falls, ill, from, the, experience, an...</td>\n",
       "      <td>falls</td>\n",
       "      <td>Victor</td>\n",
       "    </tr>\n",
       "    <tr>\n",
       "      <th>...</th>\n",
       "      <td>...</td>\n",
       "      <td>...</td>\n",
       "      <td>...</td>\n",
       "    </tr>\n",
       "    <tr>\n",
       "      <th>1883</th>\n",
       "      <td>(Later, on, ,, Simoun, goes, to, Manila, and, ...</td>\n",
       "      <td>goes</td>\n",
       "      <td>Simoun</td>\n",
       "    </tr>\n",
       "    <tr>\n",
       "      <th>1886</th>\n",
       "      <td>(Simoun, ,, driven, by, grief, ,, aborts, the,...</td>\n",
       "      <td>aborts</td>\n",
       "      <td>Simoun</td>\n",
       "    </tr>\n",
       "    <tr>\n",
       "      <th>1888</th>\n",
       "      <td>(The, plan, thus, finalized, ,, Simoun, gives,...</td>\n",
       "      <td>gives</td>\n",
       "      <td>Simoun</td>\n",
       "    </tr>\n",
       "    <tr>\n",
       "      <th>1894</th>\n",
       "      <td>(In, response, ,, Simoun, drinks, the, slow, -...</td>\n",
       "      <td>drinks</td>\n",
       "      <td>Simoun</td>\n",
       "    </tr>\n",
       "    <tr>\n",
       "      <th>1895</th>\n",
       "      <td>(Simoun, then, makes, his, final, confession, ...</td>\n",
       "      <td>makes</td>\n",
       "      <td>Simoun</td>\n",
       "    </tr>\n",
       "  </tbody>\n",
       "</table>\n",
       "<p>922 rows × 3 columns</p>\n",
       "</div>"
      ],
      "text/plain": [
       "                                                phrases  root verb  \\\n",
       "2     (Robert, Walton, is, a, failed, writer, who, s...         is   \n",
       "16    (At, the, end, of, Victor, 's, narrative, ,, C...    resumes   \n",
       "18    (Walton, discovers, the, Creature, on, his, sh...  discovers   \n",
       "3     (From, a, young, age, ,, Victor, has, a, stron...        has   \n",
       "4     (Victor, falls, ill, from, the, experience, an...      falls   \n",
       "...                                                 ...        ...   \n",
       "1883  (Later, on, ,, Simoun, goes, to, Manila, and, ...       goes   \n",
       "1886  (Simoun, ,, driven, by, grief, ,, aborts, the,...     aborts   \n",
       "1888  (The, plan, thus, finalized, ,, Simoun, gives,...      gives   \n",
       "1894  (In, response, ,, Simoun, drinks, the, slow, -...     drinks   \n",
       "1895  (Simoun, then, makes, his, final, confession, ...      makes   \n",
       "\n",
       "     root subject  \n",
       "2          Walton  \n",
       "16         Walton  \n",
       "18         Walton  \n",
       "3          Victor  \n",
       "4          Victor  \n",
       "...           ...  \n",
       "1883       Simoun  \n",
       "1886       Simoun  \n",
       "1888       Simoun  \n",
       "1894       Simoun  \n",
       "1895       Simoun  \n",
       "\n",
       "[922 rows x 3 columns]"
      ]
     },
     "execution_count": 179,
     "metadata": {},
     "output_type": "execute_result"
    }
   ],
   "source": [
    "propn_df_after"
   ]
  },
  {
   "cell_type": "code",
   "execution_count": 33,
   "metadata": {},
   "outputs": [],
   "source": [
    "indexes_pron_df_del=[7, 60, 62,63,66,67,68,77,81,89,90,91,92,110,111,113,127,128,141,157,158,159,160,162,207,224,227,228,\n",
    "229,230,232,233,235,236,242,246,252,262,269,275,281,292,293,294,299,304,305,306,307,315,316,319,321,334,358,361,368,374,\n",
    "376,380,381,410,425,436,442,443,444,446,469,471,473,478,480,481,482,483,484,485,486,487,488,489,492,493,494,495,496,497,\n",
    "510,517,518,519,520,533,541,543,568,584,485,591,593,595,497,598,599,600,601,602,603,606,607,609,608,610,611,613,624,625,\n",
    "626,628,629,630,632,664,663,674,696,698,699,700,701,702,713,714,732,754,755,756,764,765,767]"
   ]
  },
  {
   "cell_type": "code",
   "execution_count": 140,
   "metadata": {},
   "outputs": [],
   "source": [
    "pron_df.drop(index=indexes_pron_df_del,axis=1,inplace=True)"
   ]
  },
  {
   "cell_type": "code",
   "execution_count": 142,
   "metadata": {},
   "outputs": [
    {
     "data": {
      "text/html": [
       "<div>\n",
       "<style scoped>\n",
       "    .dataframe tbody tr th:only-of-type {\n",
       "        vertical-align: middle;\n",
       "    }\n",
       "\n",
       "    .dataframe tbody tr th {\n",
       "        vertical-align: top;\n",
       "    }\n",
       "\n",
       "    .dataframe thead th {\n",
       "        text-align: right;\n",
       "    }\n",
       "</style>\n",
       "<table border=\"1\" class=\"dataframe\">\n",
       "  <thead>\n",
       "    <tr style=\"text-align: right;\">\n",
       "      <th></th>\n",
       "      <th>phrases</th>\n",
       "      <th>root verb</th>\n",
       "      <th>root subject</th>\n",
       "    </tr>\n",
       "  </thead>\n",
       "  <tbody>\n",
       "    <tr>\n",
       "      <th>0</th>\n",
       "      <td>(At, the, university, ,, he, excels, at, chemi...</td>\n",
       "      <td>excels</td>\n",
       "      <td>he</td>\n",
       "    </tr>\n",
       "    <tr>\n",
       "      <th>1</th>\n",
       "      <td>(After, a, four, -, month, recovery, ,, he, re...</td>\n",
       "      <td>receives</td>\n",
       "      <td>he</td>\n",
       "    </tr>\n",
       "    <tr>\n",
       "      <th>2</th>\n",
       "      <td>(He, argues, that, as, a, living, being, ,, he...</td>\n",
       "      <td>argues</td>\n",
       "      <td>He</td>\n",
       "    </tr>\n",
       "    <tr>\n",
       "      <th>3</th>\n",
       "      <td>(He, fears, that, the, female, will, hate, the...</td>\n",
       "      <td>fears</td>\n",
       "      <td>He</td>\n",
       "    </tr>\n",
       "    <tr>\n",
       "      <th>4</th>\n",
       "      <td>(He, tears, apart, the, unfinished, female, cr...</td>\n",
       "      <td>tears</td>\n",
       "      <td>He</td>\n",
       "    </tr>\n",
       "    <tr>\n",
       "      <th>...</th>\n",
       "      <td>...</td>\n",
       "      <td>...</td>\n",
       "      <td>...</td>\n",
       "    </tr>\n",
       "    <tr>\n",
       "      <th>760</th>\n",
       "      <td>(He, then, spends, the, rest, of, his, days, h...</td>\n",
       "      <td>spends</td>\n",
       "      <td>He</td>\n",
       "    </tr>\n",
       "    <tr>\n",
       "      <th>761</th>\n",
       "      <td>(She, also, observes, that, the, chess, pieces...</td>\n",
       "      <td>observes</td>\n",
       "      <td>She</td>\n",
       "    </tr>\n",
       "    <tr>\n",
       "      <th>762</th>\n",
       "      <td>(There, she, forgets, all, nouns, ,, including...</td>\n",
       "      <td>forgets</td>\n",
       "      <td>she</td>\n",
       "    </tr>\n",
       "    <tr>\n",
       "      <th>763</th>\n",
       "      <td>(With, the, help, of, a, fawn, who, has, also,...</td>\n",
       "      <td>makes</td>\n",
       "      <td>she</td>\n",
       "    </tr>\n",
       "    <tr>\n",
       "      <th>766</th>\n",
       "      <td>(In, the, process, ,, he, introduces, Alice, t...</td>\n",
       "      <td>introduces</td>\n",
       "      <td>he</td>\n",
       "    </tr>\n",
       "  </tbody>\n",
       "</table>\n",
       "<p>615 rows × 3 columns</p>\n",
       "</div>"
      ],
      "text/plain": [
       "                                               phrases   root verb  \\\n",
       "0    (At, the, university, ,, he, excels, at, chemi...      excels   \n",
       "1    (After, a, four, -, month, recovery, ,, he, re...    receives   \n",
       "2    (He, argues, that, as, a, living, being, ,, he...      argues   \n",
       "3    (He, fears, that, the, female, will, hate, the...       fears   \n",
       "4    (He, tears, apart, the, unfinished, female, cr...       tears   \n",
       "..                                                 ...         ...   \n",
       "760  (He, then, spends, the, rest, of, his, days, h...      spends   \n",
       "761  (She, also, observes, that, the, chess, pieces...    observes   \n",
       "762  (There, she, forgets, all, nouns, ,, including...     forgets   \n",
       "763  (With, the, help, of, a, fawn, who, has, also,...       makes   \n",
       "766  (In, the, process, ,, he, introduces, Alice, t...  introduces   \n",
       "\n",
       "    root subject  \n",
       "0             he  \n",
       "1             he  \n",
       "2             He  \n",
       "3             He  \n",
       "4             He  \n",
       "..           ...  \n",
       "760           He  \n",
       "761          She  \n",
       "762          she  \n",
       "763          she  \n",
       "766           he  \n",
       "\n",
       "[615 rows x 3 columns]"
      ]
     },
     "execution_count": 142,
     "metadata": {},
     "output_type": "execute_result"
    }
   ],
   "source": [
    "pron_df"
   ]
  },
  {
   "cell_type": "code",
   "execution_count": 34,
   "metadata": {},
   "outputs": [],
   "source": [
    "indexes_noun_df_del=[13,14,676,92,947,244,794,795,279,297,310,311,312,368,364,372,366,407,444,532,520,521,527,544,713,717,781,799,884,885,860,\n",
    "1080,1082,1084,1085,1095,1081,1077,1078,277,278,1176,1185,1233,1448,1324,1339]\n",
    "\n"
   ]
  },
  {
   "cell_type": "code",
   "execution_count": null,
   "metadata": {},
   "outputs": [],
   "source": [
    "noun_df_after.drop(index=indexes_noun_df_del,axis=1,inplace=True)\n",
    "\n",
    "noun_df_after"
   ]
  },
  {
   "cell_type": "markdown",
   "metadata": {},
   "source": [
    "After the deletion of the unuseful phrases\n",
    "\n",
    "pron_df - 615 rows (he/she)\n",
    "\n",
    "noun_df_after - 166 rows (some are PROPN other are father/sister/etc)\n",
    "\n",
    "propn_df_after - 922 rows \n",
    "\n",
    "Dracula and Frankenstein (and Alice's cat, rabbit etc may also have useful phrases)"
   ]
  },
  {
   "cell_type": "markdown",
   "metadata": {},
   "source": [
    "## Select useful for loop (painted)"
   ]
  },
  {
   "cell_type": "markdown",
   "metadata": {},
   "source": [
    "Using the previous functions it is possible to select which are the phrases that are useful for the dataset by hand"
   ]
  },
  {
   "cell_type": "code",
   "execution_count": 56,
   "metadata": {},
   "outputs": [],
   "source": [
    "#here the indexes will be saved to be used to select the rows from the dataframes using .loc[].\n",
    "useful_phrases_idx=[]\n",
    "not_useful_phrases_idx=[]\n",
    "see_later_idx=[]"
   ]
  },
  {
   "cell_type": "code",
   "execution_count": 57,
   "metadata": {},
   "outputs": [
    {
     "data": {
      "text/html": [
       "At the university ,  <span style='background: rgb(188, 108, 37)'>he</span>   <span style='background: rgb(25, 108, 56)'>excels</span>  at chemistry and other sciences , soon developing a secret technique to impart life to non - living matter ."
      ],
      "text/plain": [
       "<IPython.core.display.HTML object>"
      ]
     },
     "metadata": {},
     "output_type": "display_data"
    },
    {
     "name": "stdout",
     "output_type": "stream",
     "text": [
      "is it useful?[y/n \n",
      " /m - to see later \n",
      " /s - to stop]\n",
      "last index: 0\n"
     ]
    }
   ],
   "source": [
    "\n",
    "#change here the dataframe to use:\n",
    "#  + pron_df\n",
    "#  + propn_df_after\n",
    "#  + noun_df_after\n",
    "\n",
    "df=pron_df \n",
    "\n",
    "#here the indexes to use can be selected\n",
    "phrases_from_df=df[:]\n",
    "\n",
    "\n",
    "for i in list(phrases_from_df.index):\n",
    "    ans=select_useful(phrases_from_df.loc[i])\n",
    "    if ans=='y':\n",
    "        useful_phrases_idx.append(i)\n",
    "    if ans=='n':\n",
    "        not_useful_phrases_idx.append(i)\n",
    "    if ans=='m':\n",
    "        see_later_idx.append(i)\n",
    "    if ans=='s':\n",
    "        break\n",
    "\n",
    "\n",
    "print('last index:', i)\n",
    "    #these indexes are used to recover the rows from the df with locs[useful_idx]"
   ]
  },
  {
   "cell_type": "code",
   "execution_count": 251,
   "metadata": {},
   "outputs": [
    {
     "name": "stdout",
     "output_type": "stream",
     "text": [
      "[]\n",
      "\n",
      "[]\n",
      "\n",
      "[]\n"
     ]
    }
   ],
   "source": [
    "print(useful_phrases_idx)\n",
    "print()\n",
    "print(not_useful_phrases_idx)\n",
    "print()\n",
    "print(see_later_idx)"
   ]
  },
  {
   "cell_type": "markdown",
   "metadata": {},
   "source": []
  },
  {
   "cell_type": "code",
   "execution_count": null,
   "metadata": {},
   "outputs": [],
   "source": []
  }
 ],
 "metadata": {
  "interpreter": {
   "hash": "c0568189e475ff095f8d58e708f11d5183d1019c3e0d991b7e7d0732f0bba373"
  },
  "kernelspec": {
   "display_name": "Python 3.9.6 ('mycodes-FWgFXy1r')",
   "language": "python",
   "name": "python3"
  },
  "language_info": {
   "codemirror_mode": {
    "name": "ipython",
    "version": 3
   },
   "file_extension": ".py",
   "mimetype": "text/x-python",
   "name": "python",
   "nbconvert_exporter": "python",
   "pygments_lexer": "ipython3",
   "version": "3.9.6"
  },
  "orig_nbformat": 4
 },
 "nbformat": 4,
 "nbformat_minor": 2
}
